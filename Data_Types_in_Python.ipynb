{
  "nbformat": 4,
  "nbformat_minor": 0,
  "metadata": {
    "colab": {
      "name": "Data Types in Python",
      "provenance": []
    },
    "kernelspec": {
      "name": "python3",
      "display_name": "Python 3"
    },
    "language_info": {
      "name": "python"
    }
  },
  "cells": [
    {
      "cell_type": "code",
      "metadata": {
        "id": "udJncoLkcu2i"
      },
      "source": [
        "### Unpack tuples ###\n",
        "\n",
        "girl_names = ['JADA', 'Emily', 'Ava', 'SERENITY', 'Claire', 'SOPHIA', 'Sarah', 'ASHLEY', 'CHAYA', 'ABIGAIL', 'Zoe', 'LEAH', 'HAILEY', 'AVA', 'Olivia', 'EMMA', 'CHLOE', 'Sophia', 'AALIYAH', 'Angela', 'Camila', 'Savannah', 'Serenity', 'Chloe', 'Fatoumata', 'ISABELLA', 'MIA', 'FIONA', 'Skylar', 'Ashley', 'Rachel', 'Sofia', 'Alina', 'MADISON', 'RACHEL', 'CAMILA', 'CHANA', 'TAYLOR', 'Kayla', 'Miriam', 'Leah', 'Grace', 'ANGELA', 'Isabella', 'Emma', 'KAYLA', 'SOFIA', 'Madison','Aaliyah', 'Taylor', 'GENESIS', 'Esther', 'MAKAYLA', 'Victoria', 'Chaya', 'Brielle', 'Anna', 'Samantha', 'ESTHER', 'GRACE', 'Mariam', 'Mia', 'NEVAEH', 'GABRIELLE', 'EMILY', 'London', 'TIFFANY', 'Chana', 'Valentina', 'OLIVIA', 'LONDON', 'MIRIAM', 'SARAH', 'ELLA']\n",
        "boy_names = ['JOSIAH', 'ETHAN', 'David', 'Jayden', 'MASON', 'RYAN', 'CHRISTIAN', 'ISAIAH', 'JAYDEN', 'Michael', 'NOAH', 'SAMUEL', 'SEBASTIAN', 'Noah', 'Dylan', 'LUCAS', 'JOSHUA', 'ANGEL', 'Jacob', 'Matthew', 'Josiah', 'JACOB', 'Muhammad', 'ALEXANDER', 'Jason', 'Ethan', 'DANIEL', 'Joseph', 'AIDEN', 'Moshe', 'Jeremiah', 'William', 'Alexander', 'Sebastian', 'ERIC', 'MOSHE', 'Jack', 'Eric', 'MUHAMMAD', 'Lucas', 'BENJAMIN', 'Aiden', 'Ryan', 'Liam', 'JASON', 'KEVIN', 'Elijah', 'Angel', 'JAMES', 'Daniel', 'Samuel', 'Amir', 'Mason', 'Joshua', 'ANTHONY', 'JOSEPH', 'Benjamin', 'JUSTIN', 'JEREMIAH','MATTHEW', 'Carter', 'James', 'TYLER', 'DAVID', 'JACK', 'ELIJAH', 'MICHAEL', 'CHRISTOPHER']\n",
        "\n",
        "# Pair up the girl and boy names: pairs\n",
        "pairs = zip(girl_names, boy_names)\n",
        "\n",
        "# Iterate over pairs\n",
        "for idx, pair in enumerate(pairs):\n",
        "    # Unpack pair: girl_name, boy_name\n",
        "    girl_name, boy_name = pair\n",
        "    # Print the rank and names associated with each rank\n",
        "    print('Rank {}: {} and {}'.format(idx, girl_name, boy_name))\n",
        "\n"
      ],
      "execution_count": 1,
      "outputs": []
    },
    {
      "cell_type": "code",
      "metadata": {
        "colab": {
          "base_uri": "https://localhost:8080/"
        },
        "id": "uep9SzQIeBCl",
        "outputId": "cbb12b48-1f64-4c72-bced-fc1501d665fd"
      },
      "source": [
        "female_baby_names_2012 = {1: 'EMMA',  2: 'LEAH',  3: 'SARAH',  4: 'SOPHIA',  5: 'ESTHER',  6: 'RACHEL',  7: 'CHAYA',  8: 'AVA',  9: 'CHANA',  10: 'MIRIAM',  11: 'ELLA',  12: 'EMILY',  13: 'MIA',  14: 'SARA',  15: 'CHARLOTTE',  16: 'ISABELLA',  17: 'MAYA',  18: 'ELIZABETH',  19: 'ABIGAIL',  20: 'ALEXANDRA',  21: 'VICTORIA',  22: 'LILY',  23: 'SOFIA',  24: 'RIVKA',  25: 'ZOE',  26: 'JULIA',  27: 'SOPHIE',  28: 'GABRIELLA',  29: 'HANNAH',  30: 'GRACE',  31: 'AVERY',  32: 'STELLA', 33: 'SHAINDY', 34: 'FAIGY', 35: 'GITTY', 36: 'MADISON', 37: 'MALKY', 38: 'EVA', 39: 'MALKA', 40: 'ALEXA', 41: 'MADELINE', 42: 'PENELOPE', 43: 'TOBY', 44: 'RIVKY', 45: 'NICOLE', 46: 'VIOLET', 47: 'NATALIE', 48: 'REBECCA', 49: 'MARIA', 50: 'YITTY', 51: 'NINA', 52: 'KATHERINE', 53: 'RILEY', 54: 'SIENNA', 55: 'SYDNEY', 56: 'VIVIENNE', 57: 'VALENTINA', 58: 'TALIA', 59: 'JOSEPHINE', 60: 'FRANCESCA', 61: 'ZISSY', 62: 'SURY', 63: 'NAOMI', 64: 'YIDES', 65: 'SKYLAR', 66: 'VERONICA', 67: 'TAYLOR', 68: 'ZOEY', 69: 'LILIANA', 70: 'YAEL', 71: 'SAVANNAH', 72: 'VANESSA', 73: 'SIMONE', 74: 'SLOANE', 75: 'VERA', 76: 'YEHUDIS', 77: 'SYLVIA', 78: 'SIMA', 79: 'SHAINA', 80: 'TZIPORA', 81: 'YITTA', 82: 'TZIVIA', 83: 'YARA'}\n",
        "# Create an empty dictionary: names_by_rank\n",
        "names_by_rank = {}\n",
        "\n",
        "# Loop over the girl names\n",
        "for rank, name in female_baby_names_2012.items():\n",
        "    # Add each name to the names_by_rank dictionary using rank as the key\n",
        "    names_by_rank[rank] = name\n",
        "    \n",
        "# Sort the names_by_rank dict by rank in descending order and slice the first 10 items\n",
        "for rank in sorted(names_by_rank, reverse=True)[:10]:\n",
        "    # Print each item\n",
        "    print(names_by_rank[rank])"
      ],
      "execution_count": 7,
      "outputs": [
        {
          "output_type": "stream",
          "text": [
            "YARA\n",
            "TZIVIA\n",
            "YITTA\n",
            "TZIPORA\n",
            "SHAINA\n",
            "SIMA\n",
            "SYLVIA\n",
            "YEHUDIS\n",
            "VERA\n",
            "SLOANE\n"
          ],
          "name": "stdout"
        }
      ]
    },
    {
      "cell_type": "code",
      "metadata": {
        "colab": {
          "base_uri": "https://localhost:8080/"
        },
        "id": "QKOMkr3dE-Ve",
        "outputId": "ccdc5fea-acb1-4427-934e-2b85a10e23e7"
      },
      "source": [
        "names = {1: 'EMMA',  2: 'LEAH',  3: 'SARAH',  4: 'SOPHIA',  5: 'ESTHER',  6: 'RACHEL',  7: 'CHAYA',  8: 'AVA',  9: 'CHANA',  10: 'MIRIAM',  11: 'ELLA',  12: 'EMILY',  13: 'MIA',  14: 'SARA',  15: 'CHARLOTTE',  16: 'ISABELLA',  17: 'MAYA',  18: 'ELIZABETH',  19: 'ABIGAIL',  20: 'ALEXANDRA',  21: 'VICTORIA',  22: 'LILY',  23: 'SOFIA',  24: 'RIVKA',  25: 'ZOE',  26: 'JULIA',  27: 'SOPHIE',  28: 'GABRIELLA',  29: 'HANNAH',  30: 'GRACE',  31: 'AVERY',  32: 'STELLA', 33: 'SHAINDY', 34: 'FAIGY', 35: 'GITTY', 36: 'MADISON', 37: 'MALKY', 38: 'EVA', 39: 'MALKA', 40: 'ALEXA', 41: 'MADELINE', 42: 'PENELOPE', 43: 'TOBY', 44: 'RIVKY', 45: 'NICOLE', 46: 'VIOLET', 47: 'NATALIE', 48: 'REBECCA', 49: 'MARIA', 50: 'YITTY', 51: 'NINA', 52: 'KATHERINE', 53: 'RILEY', 54: 'SIENNA', 55: 'SYDNEY', 56: 'VIVIENNE', 57: 'VALENTINA', 58: 'TALIA', 59: 'JOSEPHINE', 60: 'FRANCESCA', 61: 'ZISSY', 62: 'SURY', 63: 'NAOMI', 64: 'YIDES', 65: 'SKYLAR', 66: 'VERONICA', 67: 'TAYLOR', 68: 'ZOEY', 69: 'LILIANA', 70: 'YAEL', 71: 'SAVANNAH', 72: 'VANESSA', 73: 'SIMONE', 74: 'SLOANE', 75: 'VERA', 76: 'YEHUDIS', 77: 'SYLVIA', 78: 'SIMA', 79: 'SHAINA', 80: 'TZIPORA', 81: 'YITTA', 82: 'TZIVIA', 83: 'YARA'}\n",
        "# Safely print rank 7 from the names dictionary\n",
        "print(names.get(7, \"Not Found\"))\n",
        "\n",
        "# Safely print the type of rank 100 from the names dictionary\n",
        "print(type(names.get(100, None)))\n",
        "\n",
        "# Safely print rank 105 from the names dictionary or 'Not Found'\n",
        "print(names.get(105, \"Not Found\"))\n"
      ],
      "execution_count": 8,
      "outputs": [
        {
          "output_type": "stream",
          "text": [
            "CHAYA\n",
            "<class 'NoneType'>\n",
            "Not Found\n"
          ],
          "name": "stdout"
        }
      ]
    },
    {
      "cell_type": "code",
      "metadata": {
        "colab": {
          "base_uri": "https://localhost:8080/"
        },
        "id": "pTXwedV9SyZW",
        "outputId": "ac121c38-6997-4ad9-ea78-7bedfdc87216"
      },
      "source": [
        "boy_names = {2012: {}, 2013: {1: 'David',  2: 'Joseph',  3: 'Michael',  4: 'Moshe',  5: 'Daniel',  6: 'Benjamin',  7: 'James',  8: 'Jacob',  9: 'Jack',  10: 'Alexander',  11: 'William',  12: 'John',  13: 'Henry',  14: 'Noah',  15: 'Samuel',  16: 'Nicholas',  17: 'Matthew',  18: 'Adam',  19: 'Chaim',  20: 'Abraham',  21: 'Liam',  22: 'Ryan',  23: 'Lucas',  24: 'Anthony',  25: 'Isaac',  26: 'Oliver',  27: 'Andrew',  28: 'Gabriel',  29: 'Yosef',  30: 'Leo',  31: 'Thomas',  32: 'Luke',  33: 'Jackson',  34: 'Shimon',  35: 'Theodore',  36: 'Joshua',  37: 'Christopher',  38: 'Sebastian',  39: 'Mason',  40: 'Eli',  41: 'Nathan',  42: 'Aaron',  43: 'Zachary',  44: 'Aron',  45: 'Luca',  46: 'Yehuda',  47: 'Yitzchok',  48: 'Owen',  49: 'Menachem',  50: 'Logan',  51: 'Aiden',  52: 'Yisroel',  53: 'Peter',  54: 'Yaakov',  55: 'Yakov',  56: 'Omar',  57: 'Levi',  58: 'Simon',  59: 'Shmuel',  60: 'Patrick',  61: 'Connor',  62: 'Jonah',  63: 'Zev',  64: 'Tzvi',  65: 'Nathaniel',  66: 'Harrison',  67: 'Tyler',  68: 'Mark',  69: 'Hunter',  70: 'Mohamed',  71: 'Lipa',  72: 'Mendel',  73: 'Sean',  74: 'Sam',  75: 'Solomon',  76: 'Martin',  77: 'Edward',  78: 'Wyatt',  79: 'Parker',  80: 'Steven',  81: 'Yechiel',  82: 'Nicolas',  83: 'Timothy',  84: 'Spencer', 85: 'Usher',  86: 'Rafael',  87: 'Yusuf',  88: 'Yehoshua',  89: 'Shaya',  90: 'Rayan',  91: 'Tristan',  92: 'Yossi',  93: 'Wesley',  94: 'Yoel',  95: 'Sawyer',  96: 'Yousef',  97: 'Walter',  98: 'Zalmen',  99: 'Yeshaya',  100: 'Yitzchak'}, 2014: {1: 'Joseph',  2: 'David',  3: 'Michael',  4: 'Moshe',  5: 'Jacob',  6: 'Benjamin',  7: 'Alexander',  8: 'Daniel',  9: 'Samuel',  10: 'Jack',  11: 'James',  12: 'Adam',  13: 'William',  14: 'Henry',  15: 'Abraham',  16: 'Nicholas',  17: 'John',  18: 'Ethan',  19: 'Liam',  20: 'Ryan',  21: 'Noah',  22: 'Matthew',  23: 'Chaim',  24: 'Theodore',  25: 'Isaac',  26: 'Lucas',  27: 'Thomas',  28: 'Yosef',  29: 'Anthony',  30: 'Oliver',  31: 'Max',  32: 'Gabriel',  33: 'Eli',  34: 'Shimon',  35: 'Luke',  36: 'Mason',  37: 'Mordechai',  38: 'Andrew',  39: 'Zachary',  40: 'Owen',  41: 'Yehuda',  42: 'Jackson',  43: 'Yisroel',  44: 'Nathan',  45: 'Aiden',  46: 'Christopher',  47: 'Jonathan',  48: 'Asher',  49: 'Logan',  50: 'Robert',  51: 'Yitzchok', 52: 'George',  53: 'Christian',  54: 'Aron',  55: 'Mark',  56: 'Levi',  57: 'Shmuel',  58: 'Miles',  59: 'Shlomo',  60: 'Peter',  61: 'Sean',  62: 'Eliezer',  63: 'Solomon',  64: 'Gavin',  65: 'Zev',  66: 'Nathaniel',  67: 'Yaakov',  68: 'Yakov',  69: 'Hunter',  70: 'Vincent',  71: 'Ari',  72: 'Edward',  73: 'Yechiel',  74: 'Oscar',  75: 'Shia',  76: 'Leonardo',  77: 'Victor',  78: 'Tyler',  79: 'Wyatt',  80: 'Sam',  81: 'Shaya',  82: 'Ian',  83: 'Raphael',  84: 'Philip',  85: 'Timothy',  86: 'Yehoshua',  87: 'Xavier',  88: 'Youssef',  89: 'Simcha',  90: 'Naftali',  91: 'Ronan',  92: 'Usher',  93: 'Shmiel',  94: 'Yousef',  95: 'Naftuli',  96: 'Yusuf',  97: 'Yossi',  98: 'Yisrael',  99: 'Shea',  100: 'Yoel',  101: 'Yahya',  102: 'Yidel'}}\n",
        "# Print a list of keys from the boy_names dictionary\n",
        "print(boy_names.keys())\n",
        "\n",
        "# Print a list of keys from the boy_names dictionary for the year 2013\n",
        "print(boy_names[2013].keys())\n",
        "\n",
        "# Loop over the dictionary\n",
        "for year in boy_names:\n",
        "    # Safely print the year and the third ranked name or 'Unknown'\n",
        "    print(year, boy_names[year].get(3, \"Unknown\"))"
      ],
      "execution_count": 11,
      "outputs": [
        {
          "output_type": "stream",
          "text": [
            "dict_keys([2012, 2013, 2014])\n",
            "dict_keys([1, 2, 3, 4, 5, 6, 7, 8, 9, 10, 11, 12, 13, 14, 15, 16, 17, 18, 19, 20, 21, 22, 23, 24, 25, 26, 27, 28, 29, 30, 31, 32, 33, 34, 35, 36, 37, 38, 39, 40, 41, 42, 43, 44, 45, 46, 47, 48, 49, 50, 51, 52, 53, 54, 55, 56, 57, 58, 59, 60, 61, 62, 63, 64, 65, 66, 67, 68, 69, 70, 71, 72, 73, 74, 75, 76, 77, 78, 79, 80, 81, 82, 83, 84, 85, 86, 87, 88, 89, 90, 91, 92, 93, 94, 95, 96, 97, 98, 99, 100])\n",
            "2012 Unknown\n",
            "2013 Michael\n",
            "2014 Michael\n"
          ],
          "name": "stdout"
        }
      ]
    },
    {
      "cell_type": "code",
      "metadata": {
        "colab": {
          "base_uri": "https://localhost:8080/"
        },
        "id": "G0lA5QcWTlLF",
        "outputId": "ac692f1d-4013-4909-f241-1152e5f9cf00"
      },
      "source": [
        "names_2011 = {1: 'Michael', 2: 'Joseph', 3: 'Jacob', 4: 'David', 5: 'Benjamin', 6: 'Moshe', 7: 'Daniel', 8: 'Alexander', 9: 'Matthew', 10: 'Jack', 11: 'Samuel', 12: 'James', 13: 'William', 14: 'John', 15: 'Nicholas', 16: 'Henry', 17: 'Chaim', 18: 'Anthony', 19: 'Andrew', 20: 'Liam', 21: 'Charles', 22: 'Lucas', 23: 'Dylan', 24: 'Ryan', 25: 'Thomas', 26: 'Ethan', 27: 'Menachem', 28: 'Yosef', 29: 'Luke', 30: 'Oliver', 31: 'Noah', 32: 'Eli', 33: 'Gabriel', 34: 'Max', 35: 'Shimon', 36: 'Isaac', 37: 'Joshua', 38: 'Zachary', 39: 'Leo', 40: 'Julian', 41: 'Aiden', 42: 'Jake', 43: 'Mordechai', 44: 'Yisroel', 45: 'Yehuda', 46: 'Sebastian', 47: 'Mark', 48: 'Robert', 49: 'Logan', 50: 'George', 51: 'Owen', 52: 'Vincent', 53: 'Tyler', 54: 'Yakov', 55: 'Aidan', 56: 'Yitzchok', 57: 'Asher', 58: 'Theodore', 59: 'Peter', 60: 'Solomon', 61: 'Zev', 62: 'Nathaniel', 63: 'Yaakov', 64: 'Shmuel',65: 'Shulem', 66: 'Tzvi', 67: 'Levi', 68: 'Jayden', 69: 'Mohamed', 70: 'Cole', 71: 'Sean', 72: 'Sam',73: 'Victor', 74: 'Omar', 75: 'Steven', 76: 'Moses', 77: 'Shia', 78: 'Usher', 79: 'Nicolas', 80: 'Yechiel', 81: 'Shaya', 82: 'Wyatt', 83: 'Tristan', 84: 'Louis', 85: 'Yehoshua', 86: 'Sholom', 87: 'Yoel', 88: 'Rocco', 89: 'Xavier', 90: 'Yitzchak', 91: 'Shea', 92: 'Spencer', 93: 'Zalmen', 94: 'Yida', 95: 'Yousef', 96: 'Youssef', 97: 'Yonah'}\n",
        "# Assign the names_2011 dictionary as the value to the 2011 key of boy_names\n",
        "boy_names[2011] = names_2011\n",
        "\n",
        "# Update the 2012 key in the boy_names dictionary (โจทย์ให้ค่ามาแล้ว)\n",
        "boy_names[2012].update([(1, 'Casey'), (2, 'Aiden')])\n",
        "\n",
        "# Loop over the years in the boy_names dictionary \n",
        "for year in boy_names:\n",
        "    # Sort the data for each year by descending rank and get the lowest one\n",
        "    lowest_ranked =  sorted(boy_names[year], reverse=True)[0]\n",
        "    # Safely print the year and the least popular name or 'Not Available'\n",
        "    print(year, boy_names[year].get(lowest_ranked, \"Not Available\"))"
      ],
      "execution_count": 10,
      "outputs": [
        {
          "output_type": "stream",
          "text": [
            "2012 Aiden\n",
            "2013 Yitzchak\n",
            "2014 Yidel\n",
            "2011 Yonah\n"
          ],
          "name": "stdout"
        }
      ]
    },
    {
      "cell_type": "code",
      "metadata": {
        "colab": {
          "base_uri": "https://localhost:8080/"
        },
        "id": "gyBKVIaoZY9A",
        "outputId": "3045c16e-5d27-43d2-fb75-06012d532850"
      },
      "source": [
        "female_names = {2011: {1: 'Olivia',  2: 'Esther',  3: 'Rachel',  4: 'Leah',  5: 'Emma',  6: 'Chaya',  7: 'Sarah',  8: 'Sophia',  9: 'Ava',  10: 'Miriam'}, 2012: {}, 2013: {1: 'Olivia',  2: 'Emma',  3: 'Esther',  4: 'Sophia',  5: 'Sarah',  6: 'Leah',  7: 'Rachel',  8: 'Chaya',  9: 'Miriam',  10: 'Chana'}, 2014: {1: 'Olivia',  2: 'Esther',  3: 'Rachel',  4: 'Leah',  5: 'Emma',  6: 'Chaya',  7: 'Sarah',  8: 'Sophia',  9: 'Ava',  10: 'Miriam'}}\n",
        "# Remove 2011 from female_names and store it: female_names_2011\n",
        "female_names_2011 = female_names.pop(2011)\n",
        "\n",
        "# Safely remove 2015 from female_names with an empty dictionary as the default: female_names_2015\n",
        "female_names_2015 = female_names.pop(2015, {})\n",
        "\n",
        "# Delete 2012 from female_names\n",
        "del female_names[2012]\n",
        "\n",
        "# Print female_names\n",
        "print(female_names)\n",
        "\n",
        "### As expected, only the data from the years 2013 and 2014 is retained.###"
      ],
      "execution_count": 13,
      "outputs": [
        {
          "output_type": "stream",
          "text": [
            "{2013: {1: 'Olivia', 2: 'Emma', 3: 'Esther', 4: 'Sophia', 5: 'Sarah', 6: 'Leah', 7: 'Rachel', 8: 'Chaya', 9: 'Miriam', 10: 'Chana'}, 2014: {1: 'Olivia', 2: 'Esther', 3: 'Rachel', 4: 'Leah', 5: 'Emma', 6: 'Chaya', 7: 'Sarah', 8: 'Sophia', 9: 'Ava', 10: 'Miriam'}}\n"
          ],
          "name": "stdout"
        }
      ]
    },
    {
      "cell_type": "code",
      "metadata": {
        "colab": {
          "base_uri": "https://localhost:8080/"
        },
        "id": "C93c3-bpar7V",
        "outputId": "d12c9a2c-0ce1-4709-c60e-28539d0ae012"
      },
      "source": [
        "baby_names = {2012: {},  2013: {1: 'David',  2: 'Joseph',  3: 'Michael',  4: 'Moshe',  5: 'Daniel',  6: 'Benjamin',  7: 'James',  8: 'Jacob',  9: 'Jack',  10: 'Alexander'}, 2014: {1: 'Joseph',  2: 'David',  3: 'Michael',  4: 'Moshe',  5: 'Jacob',  6: 'Benjamin',  7: 'Alexander',  8: 'Daniel',  9: 'Samuel',  10: 'Jack'}}\n",
        "# Iterate over the 2014 nested dictionary\n",
        "for rank, name in baby_names[2014].items():\n",
        "    # Print rank and name\n",
        "    print(rank, name)\n",
        "    \n",
        "# Iterate over the 2012 nested dictionary\n",
        "for rank, name in baby_names[2012].items():\n",
        "    # Print rank and name\n",
        "    print(rank, name)\n",
        "\n",
        "# Check to see if 2011 is in baby_names\n",
        "if 2011 in baby_names:\n",
        "    # Print 'Found 2011'\n",
        "    print('Found 2011')\n",
        "    \n",
        "# Check to see if rank 1 is in 2012\n",
        "if 1 in baby_names[2012]:\n",
        "    # Print 'Found Rank 1 in 2012' if found\n",
        "    print('Found Rank 1 in 2012')\n",
        "else:\n",
        "    # Print 'Rank 1 missing from 2012' if not found\n",
        "    print('Rank 1 missing from 2012')\n",
        "    \n",
        "# Check to see if Rank 5 is in 2013\n",
        "if 5 in baby_names[2013]:\n",
        "   # Print 'Found Rank 5'\n",
        "   print('Found Rank 5')"
      ],
      "execution_count": 1,
      "outputs": [
        {
          "output_type": "stream",
          "text": [
            "1 Joseph\n",
            "2 David\n",
            "3 Michael\n",
            "4 Moshe\n",
            "5 Jacob\n",
            "6 Benjamin\n",
            "7 Alexander\n",
            "8 Daniel\n",
            "9 Samuel\n",
            "10 Jack\n",
            "Rank 1 missing from 2012\n",
            "Found Rank 5\n"
          ],
          "name": "stdout"
        }
      ]
    },
    {
      "cell_type": "code",
      "metadata": {
        "colab": {
          "base_uri": "https://localhost:8080/"
        },
        "id": "EbqIHBZcoI2-",
        "outputId": "f10c88ed-d26b-4a2b-d30d-061932788a91"
      },
      "source": [
        "import csv\n",
        "\n",
        "baby_names = {}\n",
        "\n",
        "# Create a python file object in read mode for the baby_names.csv file: csvfile\n",
        "csvfile = open(\"baby_names.csv\", \"r\")\n",
        "print(baby_names)\n",
        "count = 0\n",
        "# Loop over a csv reader on the file object\n",
        "for row in csv.reader(csvfile):\n",
        "    count += 1\n",
        "    # Print each row of the CSV เพื่อแสดงให้เห็นข้อมูลในไฟล์\n",
        "    if count <= 5: \n",
        "        print(row)\n",
        "    # Add the rank and name to the dictionary เพิ่ม if เข้าไปเพื่อข้าม header\n",
        "    if count > 1:\n",
        "        baby_names[row[5]] = row[3]\n",
        "      \n",
        "\n",
        "# Print the dictionary keys\n",
        "print(baby_names)"
      ],
      "execution_count": 29,
      "outputs": [
        {
          "output_type": "stream",
          "text": [
            "{}\n",
            "['BRITH_YEAR', 'GENDER', 'ETHNICTY', 'NAME', 'COUNT', 'RANK']\n",
            "['2011', 'FEMALE', 'HISPANIC', 'GERALDINE', '13', '75']\n",
            "['2011', 'FEMALE', 'HISPANIC', 'GIA', '21', '67']\n",
            "['2011', 'FEMALE', 'HISPANIC', 'GIANNA', '49', '42']\n",
            "['2011', 'FEMALE', 'HISPANIC', 'GISELLE', '38', '51']\n",
            "{'75': 'Shia', '67': 'Yaakov', '42': 'Jackson', '51': 'Yitzchok', '53': 'Christian', '62': 'Eliezer', '8': 'Daniel', '74': 'Oscar', '71': 'Ari', '78': 'Tyler', '73': 'Yechiel', '72': 'Edward', '77': 'Victor', '60': 'Peter', '1': 'Joseph', '70': 'Vincent', '61': 'Sean', '65': 'Zev', '58': 'Miles', '41': 'Yehuda', '76': 'Leonardo', '68': 'Yakov', '48': 'Asher', '55': 'Mark', '40': 'Owen', '66': 'Nathaniel', '64': 'Gavin', '34': 'Shimon', '44': 'Nathan', '57': 'Shmuel', '63': 'Solomon', '33': 'Eli', '31': 'Max', '20': 'Ryan', '69': 'Hunter', '35': 'Luke', '13': 'William', '52': 'George', '59': 'Shlomo', '39': 'Zachary', '9': 'Samuel', '27': 'Thomas', '10': 'Jack', '56': 'Levi', '12': 'Adam', '2': 'David', '25': 'Isaac', '18': 'Ethan', '14': 'Henry', '38': 'Andrew', '28': 'Yosef', '6': 'Benjamin', '3': 'Michael', '19': 'Liam', '45': 'Aiden', '47': 'Jonathan', '11': 'James', '79': 'Wyatt', '17': 'John', '43': 'Yisroel', '80': 'Sam', '37': 'Mordechai', '81': 'Shaya', '46': 'Christopher', '5': 'Jacob', '22': 'Matthew', '50': 'Robert', '21': 'Noah', '30': 'Oliver', '24': 'Theodore', '54': 'Aron', '15': 'Abraham', '36': 'Mason', '23': 'Chaim', '7': 'Alexander', '16': 'Nicholas', '49': 'Logan', '29': 'Anthony', '4': 'Moshe', '32': 'Gabriel', '26': 'Lucas', '92': 'Usher', '90': 'Naftali', '82': 'Ian', '91': 'Ronan', '88': 'Youssef', '89': 'Simcha', '94': 'Yousef', '83': 'Raphael', '93': 'Shmiel', '84': 'Philip', '87': 'Xavier', '85': 'Timothy', '86': 'Yehoshua', '96': 'Yusuf', '97': 'Yossi', '95': 'Naftuli', '99': 'Shea', '98': 'Yisrael', '100': 'Yoel', '101': 'Yahya', '102': 'Yidel'}\n"
          ],
          "name": "stdout"
        }
      ]
    },
    {
      "cell_type": "code",
      "metadata": {
        "colab": {
          "base_uri": "https://localhost:8080/"
        },
        "id": "1VB4LrBrsKDQ",
        "outputId": "14eb03eb-5005-481c-f72d-902ef35eb230"
      },
      "source": [
        "baby_names = {}\n",
        "# Import the python CSV module\n",
        "import csv\n",
        "\n",
        "# Create a python file object in read mode for the `baby_names.csv` file: csvfile\n",
        "csvfile = open(\"baby_names.csv\", \"r\")\n",
        "count=0\n",
        "# Loop over a DictReader on the file\n",
        "for row in csv.DictReader(csvfile):\n",
        "    count += 1\n",
        "    # Print each row \n",
        "    if count < 5:\n",
        "        print(type(row))\n",
        "        print(row)\n",
        "    # Add the rank and name to the dictionary: baby_names\n",
        "    baby_names[row[\"RANK\"]] = row[\"NAME\"]\n",
        "\n",
        "# Print the dictionary keys\n",
        "print(baby_names)"
      ],
      "execution_count": 33,
      "outputs": [
        {
          "output_type": "stream",
          "text": [
            "<class 'collections.OrderedDict'>\n",
            "OrderedDict([('BRITH_YEAR', '2011'), ('GENDER', 'FEMALE'), ('ETHNICTY', 'HISPANIC'), ('NAME', 'GERALDINE'), ('COUNT', '13'), ('RANK', '75')])\n",
            "<class 'collections.OrderedDict'>\n",
            "OrderedDict([('BRITH_YEAR', '2011'), ('GENDER', 'FEMALE'), ('ETHNICTY', 'HISPANIC'), ('NAME', 'GIA'), ('COUNT', '21'), ('RANK', '67')])\n",
            "<class 'collections.OrderedDict'>\n",
            "OrderedDict([('BRITH_YEAR', '2011'), ('GENDER', 'FEMALE'), ('ETHNICTY', 'HISPANIC'), ('NAME', 'GIANNA'), ('COUNT', '49'), ('RANK', '42')])\n",
            "<class 'collections.OrderedDict'>\n",
            "OrderedDict([('BRITH_YEAR', '2011'), ('GENDER', 'FEMALE'), ('ETHNICTY', 'HISPANIC'), ('NAME', 'GISELLE'), ('COUNT', '38'), ('RANK', '51')])\n",
            "{'75': 'Shia', '67': 'Yaakov', '42': 'Jackson', '51': 'Yitzchok', '53': 'Christian', '62': 'Eliezer', '8': 'Daniel', '74': 'Oscar', '71': 'Ari', '78': 'Tyler', '73': 'Yechiel', '72': 'Edward', '77': 'Victor', '60': 'Peter', '1': 'Joseph', '70': 'Vincent', '61': 'Sean', '65': 'Zev', '58': 'Miles', '41': 'Yehuda', '76': 'Leonardo', '68': 'Yakov', '48': 'Asher', '55': 'Mark', '40': 'Owen', '66': 'Nathaniel', '64': 'Gavin', '34': 'Shimon', '44': 'Nathan', '57': 'Shmuel', '63': 'Solomon', '33': 'Eli', '31': 'Max', '20': 'Ryan', '69': 'Hunter', '35': 'Luke', '13': 'William', '52': 'George', '59': 'Shlomo', '39': 'Zachary', '9': 'Samuel', '27': 'Thomas', '10': 'Jack', '56': 'Levi', '12': 'Adam', '2': 'David', '25': 'Isaac', '18': 'Ethan', '14': 'Henry', '38': 'Andrew', '28': 'Yosef', '6': 'Benjamin', '3': 'Michael', '19': 'Liam', '45': 'Aiden', '47': 'Jonathan', '11': 'James', '79': 'Wyatt', '17': 'John', '43': 'Yisroel', '80': 'Sam', '37': 'Mordechai', '81': 'Shaya', '46': 'Christopher', '5': 'Jacob', '22': 'Matthew', '50': 'Robert', '21': 'Noah', '30': 'Oliver', '24': 'Theodore', '54': 'Aron', '15': 'Abraham', '36': 'Mason', '23': 'Chaim', '7': 'Alexander', '16': 'Nicholas', '49': 'Logan', '29': 'Anthony', '4': 'Moshe', '32': 'Gabriel', '26': 'Lucas', '92': 'Usher', '90': 'Naftali', '82': 'Ian', '91': 'Ronan', '88': 'Youssef', '89': 'Simcha', '94': 'Yousef', '83': 'Raphael', '93': 'Shmiel', '84': 'Philip', '87': 'Xavier', '85': 'Timothy', '86': 'Yehoshua', '96': 'Yusuf', '97': 'Yossi', '95': 'Naftuli', '99': 'Shea', '98': 'Yisrael', '100': 'Yoel', '101': 'Yahya', '102': 'Yidel'}\n"
          ],
          "name": "stdout"
        }
      ]
    },
    {
      "cell_type": "code",
      "metadata": {
        "colab": {
          "base_uri": "https://localhost:8080/"
        },
        "id": "VfO5wL5mtB_v",
        "outputId": "0c0b63e0-11ba-4315-8c59-cfc1d2fe7fec"
      },
      "source": [
        "import pandas as pd\n",
        "stations = pd.read_csv(\"cta_daily_station_totals.csv\")[\"stationname\"].to_list()\n",
        "# Import the Counter object\n",
        "from collections import Counter\n",
        "\n",
        "# Print the first ten items from the stations list\n",
        "print(stations[:10])\n",
        "\n",
        "# Create a Counter of the stations list: station_count\n",
        "station_count = Counter(stations)\n",
        "\n",
        "# Print the station_count\n",
        "print(station_count)"
      ],
      "execution_count": 39,
      "outputs": [
        {
          "output_type": "stream",
          "text": [
            "['Austin-Forest Park', 'Austin-Forest Park', 'Austin-Forest Park', 'Austin-Forest Park', 'Austin-Forest Park', 'Austin-Forest Park', 'Austin-Forest Park', 'Austin-Forest Park', 'Austin-Forest Park', 'Austin-Forest Park']\n",
            "Counter({'Austin-Forest Park': 700, 'Harlem-Lake': 700, 'Pulaski-Lake': 700, 'Quincy/Wells': 700, 'Davis': 700, \"Belmont-O'Hare\": 700, 'Jackson/Dearborn': 700, 'Sheridan': 700, 'Damen-Brown': 700, 'Morse': 700, '35th/Archer': 700, '51st': 700, 'Dempster-Skokie': 700, 'Pulaski-Cermak': 700, 'LaSalle/Van Buren': 700, 'Ashland-Lake': 700, 'Oak Park-Forest Park': 700, 'Sox-35th-Dan Ryan': 700, 'Randolph/Wabash': 700, 'Damen-Cermak': 700, 'Western-Forest Park': 700, 'Cumberland': 700, '79th': 700, 'Kedzie-Homan-Forest Park': 700, 'State/Lake': 700, 'Main': 700, 'Central-Lake': 700, 'Ashland/63rd': 700, 'Indiana': 700, 'Western-Orange': 700, 'Division/Milwaukee': 700, 'Grand/State': 700, 'Berwyn': 700, 'UIC-Halsted': 700, 'Southport': 700, 'Washington/Dearborn': 700, 'Clark/Lake': 700, 'Forest Park': 700, 'Noyes': 700, 'Cicero-Cermak': 700, 'Clinton-Forest Park': 700, 'California-Cermak': 700, '95th/Dan Ryan': 700, 'Merchandise Mart': 700, 'Racine': 700, 'Cicero-Lake': 700, 'Grand/Milwaukee': 700, 'Garfield-South Elevated': 700, 'Foster': 700, 'Diversey': 700, 'Wilson': 700, \"Irving Park-O'Hare\": 700, 'Jackson/State': 700, 'California/Milwaukee': 700, '54th/Cermak': 700, 'Damen/Milwaukee': 700, 'Kostner': 700, 'Ridgeland': 700, 'Clark/Division': 700, 'Madison/Wabash': 700, 'North/Clybourn': 700, 'Armitage': 700, 'Western/Milwaukee': 700, 'Adams/Wabash': 700, 'Dempster': 700, 'Laramie': 700, 'Chicago/Franklin': 700, 'East 63rd-Cottage Grove': 700, 'Washington/Wells': 700, 'Western-Cermak': 700, \"Harlem-O'Hare\": 700, 'Granville': 700, 'Lawrence': 700, 'Central Park': 700, 'Monroe/Dearborn': 700, 'Sedgwick': 700, 'Medical Center': 700, 'Rosemont': 700, '18th': 700, 'South Boulevard': 700, 'Library': 700, 'Francisco': 700, 'Thorndale': 700, \"O'Hare Airport\": 700, 'Howard': 700, '63rd-Dan Ryan': 700, 'Pulaski-Forest Park': 700, 'Midway Airport': 700, 'Halsted/63rd': 700, 'Pulaski-Orange': 700, 'Cicero-Forest Park': 700, 'Harlem-Forest Park': 700, '69th': 700, 'Cermak-Chinatown': 700, 'Rockwell': 700, 'Logan Square': 700, 'Polk': 700, 'Kedzie-Cermak': 700, 'Linden': 700, 'Ashland-Orange': 700, 'Kedzie-Lake': 700, '47th-South Elevated': 700, 'Monroe/State': 700, '35-Bronzeville-IIT': 700, 'Halsted-Orange': 700, 'King Drive': 700, 'Kedzie-Midway': 700, 'Clinton-Lake': 700, 'Garfield-Dan Ryan': 700, 'Kedzie-Brown': 700, 'Jarvis': 700, 'Argyle': 700, 'Wellington': 700, 'Fullerton': 700, '47th-Dan Ryan': 700, \"Addison-O'Hare\": 700, 'Central-Evanston': 700, 'Austin-Lake': 700, '43rd': 700, 'Jefferson Park': 700, 'Kimball': 700, 'Loyola': 700, 'Paulina': 700, 'Belmont-North Main': 700, \"Montrose-O'Hare\": 700, 'LaSalle': 700, 'Oak Park-Lake': 700, 'California-Lake': 700, 'Bryn Mawr': 700, 'Roosevelt': 700, 'Chicago/Milwaukee': 700, 'Addison-North Main': 700, '87th': 700, 'Addison-Brown': 700, 'Chicago/State': 700, 'Irving Park-Brown': 700, 'Western-Brown': 700, 'Harrison': 700, 'Montrose-Brown': 700, 'Morgan-Lake': 700, 'Lake/State': 700, 'Conservatory': 700, 'Oakton-Skokie': 700, 'Cermak-McCormick Place': 700})\n"
          ],
          "name": "stdout"
        }
      ]
    },
    {
      "cell_type": "code",
      "metadata": {
        "colab": {
          "base_uri": "https://localhost:8080/"
        },
        "id": "BO5gT6tO0imB",
        "outputId": "2791dd00-8741-4377-c996-1bc396f88be9"
      },
      "source": [
        "### ถ้าไม่ใช้ DefaultDict ต้องทำแบบนี้\n",
        "\n",
        "import pandas as pd\n",
        "\n",
        "# เตรียมข้อมูลให้เหมือนกับในโจทย์\n",
        "stations = pd.read_csv(\"cta_daily_station_totals.csv\")[[\"date\", \"stationname\",\"rides\"]]\n",
        "entries = []\n",
        "for i in range(0,len(stations)):\n",
        "    entries.append(tuple(stations.iloc[i]))\n",
        "\n",
        "# Create an empty dictionary: ridership\n",
        "ridership = {}\n",
        "\n",
        "# Iterate over the entries\n",
        "for date, stop, riders in entries:\n",
        "    # Check to see if date is already in the ridership dictionary\n",
        "    if date not in ridership:\n",
        "        # Create an empty list for any missing date\n",
        "        ridership[date] = []\n",
        "    # Append the stop and riders as a tuple to the date keys list\n",
        "    ridership[date].append((stop, riders))\n",
        "    \n",
        "# Print the ridership for '03/09/2016'\n",
        "print(ridership['03/09/2016'])\n",
        "\n",
        "# ใช้ Default Dictionary จะสั้นลง\n",
        "ridership = defaultdict(list)\n",
        "\n",
        "# Iterate over the entries\n",
        "for date, stop, riders in entries:\n",
        "    # Append the stop and riders as a tuple to the date keys list\n",
        "    ridership[date].append((stop, riders))\n",
        "print(ridership['03/09/2016'])"
      ],
      "execution_count": 61,
      "outputs": [
        {
          "output_type": "stream",
          "text": [
            "[('Austin-Forest Park', 2128), ('Harlem-Lake', 3769), ('Pulaski-Lake', 1502), ('Quincy/Wells', 8139), ('Davis', 3656), (\"Belmont-O'Hare\", 5294), ('Jackson/Dearborn', 8369), ('Sheridan', 5823), ('Damen-Brown', 3048), ('Morse', 4826), ('35th/Archer', 3450), ('51st', 1033), ('Dempster-Skokie', 1697), ('Pulaski-Cermak', 1259), ('LaSalle/Van Buren', 3104), ('Ashland-Lake', 2486), ('Oak Park-Forest Park', 1882), ('Sox-35th-Dan Ryan', 4967), ('Randolph/Wabash', 9659), ('Damen-Cermak', 1572), ('Western-Forest Park', 1819), ('Cumberland', 4589), ('79th', 7476), ('Kedzie-Homan-Forest Park', 2256), ('State/Lake', 10594), ('Main', 1129), ('Central-Lake', 2145), ('Ashland/63rd', 1302), ('Indiana', 919), ('Western-Orange', 3958), ('Division/Milwaukee', 6580), ('Grand/State', 10949), ('Berwyn', 3539), ('UIC-Halsted', 7523), ('Southport', 3467), ('Washington/Dearborn', 12365), ('Clark/Lake', 21640), ('Forest Park', 3636), ('Noyes', 941), ('Cicero-Cermak', 1271), ('Clinton-Forest Park', 4016), ('California-Cermak', 1627), ('95th/Dan Ryan', 11509), ('Merchandise Mart', 8345), ('Racine', 2598), ('Cicero-Lake', 1485), ('Grand/Milwaukee', 2851), ('Garfield-South Elevated', 1413), ('Foster', 963), ('Diversey', 5771), ('Wilson', 6470), (\"Irving Park-O'Hare\", 4808), ('Jackson/State', 12445), ('California/Milwaukee', 5413), ('54th/Cermak', 2170), ('Damen/Milwaukee', 7022), ('Kostner', 556), ('Ridgeland', 1353), ('Clark/Division', 8216), ('Madison/Wabash', 0), ('North/Clybourn', 6360), ('Armitage', 4575), ('Western/Milwaukee', 5511), ('Adams/Wabash', 9666), ('Dempster', 788), ('Laramie', 1328), ('Chicago/Franklin', 6868), ('East 63rd-Cottage Grove', 1135), ('Washington/Wells', 8267), ('Western-Cermak', 1182), (\"Harlem-O'Hare\", 3202), ('Granville', 3762), ('Lawrence', 3355), ('Central Park', 1342), ('Monroe/Dearborn', 7972), ('Sedgwick', 4004), ('Medical Center', 3581), ('Rosemont', 6101), ('18th', 2028), ('South Boulevard', 813), ('Library', 4127), ('Francisco', 1617), ('Thorndale', 3355), (\"O'Hare Airport\", 9742), ('Howard', 5935), ('63rd-Dan Ryan', 3500), ('Pulaski-Forest Park', 2110), ('Midway Airport', 8698), ('Halsted/63rd', 839), ('Pulaski-Orange', 5663), ('Cicero-Forest Park', 1475), ('Harlem-Forest Park', 1185), ('69th', 5790), ('Cermak-Chinatown', 4312), ('Rockwell', 1996), ('Logan Square', 7536), ('Polk', 3750), ('Kedzie-Cermak', 1181), ('Linden', 817), ('Ashland-Orange', 1637), ('Kedzie-Lake', 1753), ('47th-South Elevated', 1347), ('Monroe/State', 11264), ('35-Bronzeville-IIT', 1901), ('Halsted-Orange', 3162), ('King Drive', 651), ('Kedzie-Midway', 3552), ('Clinton-Lake', 4278), ('Garfield-Dan Ryan', 3676), ('Kedzie-Brown', 2039), ('Jarvis', 1817), ('Argyle', 3152), ('Wellington', 3242), ('Fullerton', 15150), ('47th-Dan Ryan', 3331), (\"Addison-O'Hare\", 3563), ('Central-Evanston', 802), ('Austin-Lake', 1994), ('43rd', 1090), ('Jefferson Park', 7112), ('Kimball', 4236), ('Loyola', 4712), ('Paulina', 2895), ('Belmont-North Main', 12936), (\"Montrose-O'Hare\", 2529), ('LaSalle', 3556), ('Oak Park-Lake', 1561), ('California-Lake', 1125), ('Bryn Mawr', 4888), ('Roosevelt', 11055), ('Chicago/Milwaukee', 4605), ('Addison-North Main', 6719), ('87th', 4473), ('Addison-Brown', 2754), ('Chicago/State', 13946), ('Irving Park-Brown', 3268), ('Western-Brown', 4273), ('Harrison', 4750), ('Montrose-Brown', 2875), ('Morgan-Lake', 2700), ('Lake/State', 21708), ('Conservatory', 999), ('Oakton-Skokie', 839), ('Cermak-McCormick Place', 1208)]\n",
            "[('Austin-Forest Park', 2128), ('Harlem-Lake', 3769), ('Pulaski-Lake', 1502), ('Quincy/Wells', 8139), ('Davis', 3656), (\"Belmont-O'Hare\", 5294), ('Jackson/Dearborn', 8369), ('Sheridan', 5823), ('Damen-Brown', 3048), ('Morse', 4826), ('35th/Archer', 3450), ('51st', 1033), ('Dempster-Skokie', 1697), ('Pulaski-Cermak', 1259), ('LaSalle/Van Buren', 3104), ('Ashland-Lake', 2486), ('Oak Park-Forest Park', 1882), ('Sox-35th-Dan Ryan', 4967), ('Randolph/Wabash', 9659), ('Damen-Cermak', 1572), ('Western-Forest Park', 1819), ('Cumberland', 4589), ('79th', 7476), ('Kedzie-Homan-Forest Park', 2256), ('State/Lake', 10594), ('Main', 1129), ('Central-Lake', 2145), ('Ashland/63rd', 1302), ('Indiana', 919), ('Western-Orange', 3958), ('Division/Milwaukee', 6580), ('Grand/State', 10949), ('Berwyn', 3539), ('UIC-Halsted', 7523), ('Southport', 3467), ('Washington/Dearborn', 12365), ('Clark/Lake', 21640), ('Forest Park', 3636), ('Noyes', 941), ('Cicero-Cermak', 1271), ('Clinton-Forest Park', 4016), ('California-Cermak', 1627), ('95th/Dan Ryan', 11509), ('Merchandise Mart', 8345), ('Racine', 2598), ('Cicero-Lake', 1485), ('Grand/Milwaukee', 2851), ('Garfield-South Elevated', 1413), ('Foster', 963), ('Diversey', 5771), ('Wilson', 6470), (\"Irving Park-O'Hare\", 4808), ('Jackson/State', 12445), ('California/Milwaukee', 5413), ('54th/Cermak', 2170), ('Damen/Milwaukee', 7022), ('Kostner', 556), ('Ridgeland', 1353), ('Clark/Division', 8216), ('Madison/Wabash', 0), ('North/Clybourn', 6360), ('Armitage', 4575), ('Western/Milwaukee', 5511), ('Adams/Wabash', 9666), ('Dempster', 788), ('Laramie', 1328), ('Chicago/Franklin', 6868), ('East 63rd-Cottage Grove', 1135), ('Washington/Wells', 8267), ('Western-Cermak', 1182), (\"Harlem-O'Hare\", 3202), ('Granville', 3762), ('Lawrence', 3355), ('Central Park', 1342), ('Monroe/Dearborn', 7972), ('Sedgwick', 4004), ('Medical Center', 3581), ('Rosemont', 6101), ('18th', 2028), ('South Boulevard', 813), ('Library', 4127), ('Francisco', 1617), ('Thorndale', 3355), (\"O'Hare Airport\", 9742), ('Howard', 5935), ('63rd-Dan Ryan', 3500), ('Pulaski-Forest Park', 2110), ('Midway Airport', 8698), ('Halsted/63rd', 839), ('Pulaski-Orange', 5663), ('Cicero-Forest Park', 1475), ('Harlem-Forest Park', 1185), ('69th', 5790), ('Cermak-Chinatown', 4312), ('Rockwell', 1996), ('Logan Square', 7536), ('Polk', 3750), ('Kedzie-Cermak', 1181), ('Linden', 817), ('Ashland-Orange', 1637), ('Kedzie-Lake', 1753), ('47th-South Elevated', 1347), ('Monroe/State', 11264), ('35-Bronzeville-IIT', 1901), ('Halsted-Orange', 3162), ('King Drive', 651), ('Kedzie-Midway', 3552), ('Clinton-Lake', 4278), ('Garfield-Dan Ryan', 3676), ('Kedzie-Brown', 2039), ('Jarvis', 1817), ('Argyle', 3152), ('Wellington', 3242), ('Fullerton', 15150), ('47th-Dan Ryan', 3331), (\"Addison-O'Hare\", 3563), ('Central-Evanston', 802), ('Austin-Lake', 1994), ('43rd', 1090), ('Jefferson Park', 7112), ('Kimball', 4236), ('Loyola', 4712), ('Paulina', 2895), ('Belmont-North Main', 12936), (\"Montrose-O'Hare\", 2529), ('LaSalle', 3556), ('Oak Park-Lake', 1561), ('California-Lake', 1125), ('Bryn Mawr', 4888), ('Roosevelt', 11055), ('Chicago/Milwaukee', 4605), ('Addison-North Main', 6719), ('87th', 4473), ('Addison-Brown', 2754), ('Chicago/State', 13946), ('Irving Park-Brown', 3268), ('Western-Brown', 4273), ('Harrison', 4750), ('Montrose-Brown', 2875), ('Morgan-Lake', 2700), ('Lake/State', 21708), ('Conservatory', 999), ('Oakton-Skokie', 839), ('Cermak-McCormick Place', 1208)]\n"
          ],
          "name": "stdout"
        }
      ]
    },
    {
      "cell_type": "code",
      "metadata": {
        "colab": {
          "base_uri": "https://localhost:8080/"
        },
        "id": "myEioZew2JDC",
        "outputId": "bac701d5-34fd-4f43-81f0-3cc5b8936e17"
      },
      "source": [
        "# Import defaultdict (โจทย์)\n",
        "from collections import defaultdict\n",
        "\n",
        "# Create a defaultdict with a default type of list: ridership\n",
        "ridership = defaultdict(list)\n",
        "\n",
        "# Iterate over the entries\n",
        "for date, stop, riders in entries:\n",
        "    # Use the stop as the key of ridership and append the riders to its value\n",
        "    ridership[stop].append(riders)\n",
        "    \n",
        "# Print the first 10 items of the ridership dictionary\n",
        "print(list(ridership.items())[:10])"
      ],
      "execution_count": 60,
      "outputs": [
        {
          "output_type": "stream",
          "text": [
            "[('Austin-Forest Park', [587, 1386, 785, 625, 1752, 1777, 1269, 1435, 1631, 771, 588, 2065, 2108, 2012, 2069, 2003, 953, 706, 1216, 2115, 2132, 2185, 2072, 854, 585, 2095, 2251, 2133, 2083, 2074, 953, 596, 1583, 2263, 2179, 2105, 2076, 1049, 612, 2095, 2191, 2117, 1931, 1943, 800, 584, 1434, 2078, 1869, 1455, 1830, 841, 621, 1884, 2100, 2046, 2066, 2016, 875, 615, 1975, 2391, 2058, 2035, 2008, 989, 635, 2105, 2148, 2152, 2155, 2182, 1340, 718, 2191, 2220, 2154, 2248, 2183, 1073, 664, 1924, 2060, 2049, 2138, 1930, 972, 693, 2059, 2060, 2120, 2062, 1751, 928, 664, 2047, 2032, 2030, 1899, 2096, 1012, 688, 2090, 2160, 2182, 2184, 2235, 1060, 732, 2090, 2161, 2115, 2203, 2180, 885, 738, 2152, 2175, 2230, 2218, 2320, 1207, 773, 2171, 2090, 2225, 2333, 2098, 1042, 678, 2048, 2097, 2118, 2198, 2273, 1095, 779, 2103, 2119, 2090, 2206, 2081, 1095, 767, 795, 2025, 2171, 2271, 2175, 910, 668, 2148, 2110, 2198, 2152, 2138, 1129, 773, 2041, 2156, 2172, 2093, 2010, 1225, 843, 2006, 2126, 2062, 2341, 2022, 1134, 832, 1938, 2142, 2117, 2076, 1932, 1155, 1172, 2022, 2097, 2152, 2093, 1445, 1205, 884, 1946, 2044, 2146, 2247, 2226, 1162, 1039, 1983, 2094, 2175, 2037, 2106, 1086, 877, 2031, 2141, 2125, 2190, 2192, 1207, 757, 2038, 2164, 2177, 2066, 2181, 1247, 974, 1997, 2118, 2102, 2119, 2072, 1082, 752, 1926, 2152, 2075, 2086, 2086, 1129, 850, 2026, 2021, 2055, 2120, 2099, 1162, 813, 2195, 2333, 2267, 2253, 2148, 976, 836, 2221, 2401, 2177, 2356, 2160, 1043, 897, 787, 2197, 2366, 2335, 2215, 1055, 787, 2296, 2391, 2359, 2367, 2187, 1103, 837, 2286, 2424, 2321, 2333, 2231, 1164, 773, 2393, 2391, 2435, 2489, 2305, 1031, 757, 2366, 2457, 2435, 2400, 2458, 1083, 890, 2038, 2438, 2386, 2467, 2245, 1078, 752, 2237, 2437, 2461, 2345, 2336, 1035, 735, 2299, 2351, 2349, 2344, 2264, 937, 788, 2284, 2256, 2426, 2383, 2245, 1086, 799, 2227, 2399, 2038, 2363, 2156, 1005, 709, 2229, 2233, 2319, 2207, 2103, 947, 631, 2142, 2229, 1887, 642, 971, 852, 666, 2098, 2192, 2237, 2200, 2168, 1059, 820, 1992, 2130, 2172, 2192, 2213, 1261, 715, 1904, 2049, 2056, 2082, 1944, 834, 715, 1664, 1820, 1585, 1022, 523, 774, 650, 1300, 1512, 1534, 1418, 586, 799, 599, 1835, 1891, 1974, 1983, 1938, 823, 502, 1865, 1939, 1907, 2095, 1979, 855, 493, 883, 1968, 2044, 2078, 2021, 804, 609, 2053, 2065, 2145, 2118, 1993, 879, 664, 2128, 2013, 2158, 2167, 1970, 950, 643, 1988, 2023, 2038, 2041, 1766, 782, 601, 1384, 1995, 2080, 2098, 2172, 1051, 671, 1995, 2111, 2084, 2107, 2002, 940, 749, 1941, 2056, 2061, 2048, 1950, 895, 649, 2004, 2148, 2128, 2079, 2097, 1129, 634, 2056, 2001, 2104, 2193, 2104, 929, 707, 1869, 2000, 1927, 1826, 1586, 881, 590, 1899, 2037, 2071, 2061, 1992, 1014, 884, 2005, 2126, 2055, 2114, 1990, 927, 669, 2072, 2131, 2235, 2184, 2126, 1193, 918, 2063, 2088, 2105, 2126, 1978, 1054, 861, 2066, 2152, 2056, 2154, 2173, 956, 748, 2017, 2129, 2066, 2276, 2151, 1142, 797, 1897, 1912, 2054, 2000, 1993, 1035, 847, 2020, 2099, 2113, 2110, 2048, 1234, 881, 2038, 2122, 2078, 2172, 1977, 1069, 895, 878, 2030, 2136, 2211, 2222, 1041, 925, 2036, 2189, 2190, 2065, 2239, 1130, 837, 2063, 2153, 2119, 2184, 2050, 1097, 774, 2043, 2162, 1946, 2074, 2127, 1101, 903, 1955, 2153, 2116, 2190, 2005, 1013, 810, 894, 1910, 2038, 2171, 2047, 1180, 887, 2009, 2084, 2090, 2101, 2137, 1101, 835, 2015, 2256, 2152, 2102, 2061, 1054, 775, 1913, 2104, 2160, 2159, 2223, 1080, 847, 1969, 2070, 2084, 2148, 2076, 1093, 803, 1919, 2108, 2107, 2094, 1836, 1099, 846, 1916, 2134, 2107, 2002, 2091, 1055, 909, 2067, 2243, 2102, 2081, 2128, 1000, 743, 2217, 2225, 2261, 2322, 2245, 1079, 872, 833, 2313, 2307, 2318, 2267, 1036, 778, 2294, 2356, 2387, 2411, 2279, 1077, 774, 2299, 2420, 2266, 2359, 2302, 1086, 815, 2278, 2398, 2209, 2218, 2186, 943, 715, 2222, 2415, 2402, 2219, 2310, 1068, 930, 1860, 2309, 2346, 2295, 2321, 1101, 770, 2285, 2353, 2389, 2238, 2143, 1101, 704, 2215, 2267, 2227, 2315, 2218, 1033, 733, 2136, 2326, 2338, 2286, 3226, 1040, 729, 2200, 2231, 2311, 2230, 1896, 991, 705, 2257, 2330, 2353, 2324, 2152, 1031, 640, 2179, 2195, 1763, 564, 1002, 847, 630, 2015, 2224, 2197]), ('Harlem-Lake', [1106, 3113, 1818, 1339, 3287, 3446, 2580, 2998, 3252, 1849, 1403, 3648, 3672, 3724, 3797, 3843, 2392, 1514, 2737, 3800, 3940, 3912, 3833, 2261, 1402, 3673, 3885, 3944, 3872, 4010, 2311, 1144, 2808, 4161, 4152, 3963, 3979, 2406, 1441, 3758, 4040, 3938, 3696, 3905, 2212, 1346, 2998, 3784, 3591, 3053, 3621, 2215, 1451, 3467, 3714, 3860, 3918, 3806, 2117, 1363, 3735, 3112, 3777, 4056, 3842, 2461, 1578, 3868, 3869, 4016, 4070, 4181, 4069, 1805, 3998, 3908, 4008, 4113, 4111, 2696, 1534, 3575, 3844, 3871, 3980, 3996, 2444, 1570, 3758, 3899, 4173, 3861, 3588, 2409, 1724, 3529, 3791, 3912, 3717, 4185, 2647, 1716, 3856, 4077, 4061, 4072, 4445, 2674, 1739, 3847, 4030, 3979, 4259, 4185, 2293, 1773, 3960, 4053, 4110, 4220, 4441, 3065, 1891, 3963, 3914, 4113, 4325, 3976, 2392, 1615, 3839, 3993, 4232, 4200, 4320, 2698, 1693, 4029, 4038, 4059, 4221, 4101, 2703, 1885, 1515, 3768, 4173, 4296, 4223, 2284, 1641, 4023, 4144, 4254, 4170, 4001, 2768, 1607, 3982, 4110, 4291, 4211, 4208, 2928, 1930, 4040, 4237, 4008, 5152, 4391, 2635, 2061, 3954, 4499, 4306, 4187, 4087, 2940, 2487, 3793, 4156, 4136, 4165, 3276, 2737, 2030, 3912, 4022, 4297, 4549, 4645, 3066, 2383, 4024, 4080, 4344, 4216, 4473, 2956, 2346, 4012, 4330, 4280, 4254, 4464, 2708, 1900, 4135, 4155, 4344, 4477, 5005, 3317, 2401, 4093, 4138, 4366, 4292, 4340, 2798, 1776, 3819, 4130, 4269, 4396, 4314, 3245, 2376, 3950, 3934, 4226, 4243, 4441, 2916, 1980, 4080, 4123, 4315, 4254, 4331, 2404, 1895, 4098, 4225, 4243, 4430, 4370, 2936, 2443, 1689, 3838, 4225, 4189, 4469, 2750, 2193, 4124, 4265, 4466, 4351, 4246, 3025, 2012, 4196, 4224, 4253, 4281, 4414, 2857, 1911, 4191, 4044, 4359, 4291, 4433, 2489, 1764, 4102, 4281, 4415, 4269, 4391, 2708, 2282, 3865, 4331, 4442, 4390, 4591, 2640, 1755, 4139, 4293, 4485, 4392, 4377, 2445, 1732, 4069, 4142, 4237, 4299, 4414, 2120, 1875, 4113, 4318, 4415, 4436, 4411, 2663, 1868, 4118, 4267, 3953, 3998, 4229, 2499, 1765, 4015, 4050, 4185, 4238, 4318, 2420, 1702, 3901, 4114, 3604, 1184, 2515, 2613, 1607, 3871, 4140, 4207, 4175, 4404, 2680, 1741, 3982, 3994, 4103, 4209, 4239, 2612, 1804, 3812, 4002, 3961, 4107, 3963, 2400, 1820, 3546, 3778, 3260, 2282, 940, 1890, 1546, 2805, 3177, 3332, 3339, 1255, 2094, 1517, 3590, 3747, 3771, 3802, 3771, 2036, 1247, 3415, 3509, 3695, 3866, 3835, 2123, 1257, 2163, 3569, 3848, 3886, 3880, 2201, 1522, 3700, 3762, 3889, 3938, 3914, 2382, 1475, 3810, 3645, 3912, 3908, 3823, 2233, 1572, 3772, 4222, 3794, 3803, 3674, 2054, 1651, 2995, 3711, 3853, 3967, 2854, 2316, 1576, 3726, 3905, 3619, 3763, 3929, 2526, 1780, 3691, 3569, 3760, 3792, 3834, 2300, 1681, 3598, 3823, 3769, 3844, 3943, 3200, 1464, 3774, 3701, 3883, 3953, 3968, 2487, 1783, 3752, 3839, 3724, 3469, 3496, 2183, 1397, 3479, 3748, 3701, 3644, 3583, 173, 84, 3532, 3690, 3634, 3779, 3701, 2211, 1482, 3772, 3830, 3970, 4086, 3951, 113, 80, 3810, 3727, 3815, 3769, 3651, 78, 82, 3715, 3783, 3792, 3940, 3870, 66, 92, 3634, 3832, 3729, 3985, 3851, 75, 89, 3511, 3516, 3981, 3776, 3637, 83, 81, 3527, 3640, 3847, 3944, 3888, 97, 89, 3833, 3874, 3758, 3870, 3775, 2546, 1948, 1749, 3546, 3733, 4079, 4167, 2079, 1890, 3736, 4005, 3967, 3735, 4115, 2535, 1949, 3728, 3801, 3913, 3967, 4098, 2639, 1788, 3656, 4038, 3749, 3994, 4168, 2638, 1873, 3735, 3922, 3939, 3912, 3892, 2404, 1948, 1814, 3540, 3812, 3951, 4140, 2691, 1964, 3733, 3866, 3821, 4059, 4268, 2828, 1984, 3902, 3957, 4010, 3851, 3984, 2120, 1561, 3879, 3894, 4106, 4388, 4366, 2883, 2305, 3870, 3867, 4002, 3930, 3819, 2377, 1805, 3686, 3935, 3912, 3861, 3564, 2440, 1788, 3591, 3995, 4061, 3973, 3819, 2399, 2106, 3986, 4023, 3785, 3952, 3960, 2331, 1835, 3824, 3900, 4023, 3938, 4094, 2674, 2182, 1855, 3700, 3848, 4036, 4056, 2221, 1774, 3844, 4013, 4268, 4298, 4194, 2826, 2011, 3889, 4045, 3896, 4062, 4064, 2595, 1868, 3822, 4057, 3969, 3871, 3955, 2106, 1740, 3939, 3937, 3986, 3940, 4142, 2434, 1968, 3539, 3972, 3861, 4148, 4044, 2480, 1884, 3863, 4135, 4088, 4024, 4098, 2593, 1659, 3951, 3970, 3901, 4046, 4371, 2754, 1796, 3806, 3987, 4227, 4050, 6446, 2721, 1837, 3918, 3984, 4129, 4109, 3778, 2344, 1621, 3777, 3946, 4061, 4125, 3989, 2508, 1475, 3664, 3769, 3291, 1179, 2594, 2467, 1627, 3463, 3887, 3806]), ('Pulaski-Lake', [811, 1529, 1096, 801, 1490, 1566, 1085, 1205, 1506, 1031, 830, 1726, 1694, 1703, 1770, 1839, 1171, 858, 1276, 1884, 1806, 1786, 1828, 1335, 814, 1705, 1730, 1763, 1710, 1909, 1187, 618, 1170, 1780, 1801, 1694, 1826, 1287, 858, 1637, 1782, 1837, 1605, 1800, 1077, 709, 1228, 1704, 1503, 1128, 1589, 1122, 854, 1518, 1620, 1679, 1580, 1775, 1112, 810, 1658, 1400, 1675, 1618, 1617, 1184, 889, 1853, 1886, 1857, 1813, 1965, 1328, 936, 1794, 1800, 1783, 1774, 1830, 1245, 855, 1487, 1777, 1711, 1725, 1727, 1139, 776, 1642, 1700, 1950, 1702, 1543, 1295, 987, 1602, 1607, 1633, 1493, 1759, 1224, 944, 1773, 1880, 1820, 1816, 1946, 1262, 849, 1694, 1754, 1717, 1732, 1859, 1115, 819, 1758, 1889, 1888, 1821, 2052, 1435, 926, 1776, 1798, 1811, 1935, 1847, 1177, 955, 1747, 1795, 1861, 1791, 1880, 1264, 975, 1868, 1820, 1799, 1784, 1900, 1304, 866, 857, 1685, 1959, 1904, 1926, 1133, 938, 1917, 1893, 1940, 1987, 1886, 1383, 930, 1826, 1952, 1971, 1868, 1811, 1359, 966, 1645, 1774, 1820, 1861, 1939, 1350, 1054, 1624, 1807, 1721, 1722, 1723, 1310, 1138, 1703, 1742, 1863, 1811, 1497, 1317, 1044, 1740, 1730, 1793, 1858, 1911, 1386, 1088, 1620, 1758, 1835, 1735, 1784, 1301, 1040, 1766, 1904, 1802, 1767, 1857, 1302, 947, 1727, 1789, 1705, 1713, 1933, 1427, 1094, 1823, 1869, 1847, 1816, 1836, 1411, 989, 1644, 1812, 1765, 1685, 1771, 1308, 1037, 1689, 1683, 1664, 1744, 1782, 1276, 934, 1695, 1731, 1819, 1702, 1757, 1225, 998, 1710, 1869, 1706, 1750, 1780, 1306, 1039, 1056, 1687, 2091, 1823, 1885, 1269, 1036, 1961, 2018, 1979, 1864, 1924, 1333, 1071, 1926, 1923, 1961, 1933, 1971, 1423, 1073, 1857, 1864, 1887, 1977, 1871, 1259, 944, 1882, 1969, 1986, 1901, 1888, 1297, 967, 1460, 1949, 1957, 1846, 1907, 1301, 938, 1839, 1942, 1912, 1901, 1876, 1217, 941, 1811, 1810, 1809, 1785, 2016, 1076, 926, 1823, 2037, 1943, 1906, 1900, 1290, 939, 1851, 1918, 1526, 1734, 1677, 1196, 919, 1806, 1724, 1723, 1763, 1809, 1066, 792, 1641, 1841, 1584, 762, 1082, 1033, 803, 1656, 1899, 1724, 1851, 1910, 1224, 842, 1707, 1782, 1816, 1763, 1774, 1214, 890, 1747, 1733, 1708, 1670, 1664, 1135, 856, 1468, 1490, 1401, 1207, 704, 923, 768, 1092, 1287, 1284, 1339, 741, 969, 721, 1544, 1609, 1577, 1599, 1653, 1018, 670, 1365, 1354, 1360, 1575, 1569, 1068, 616, 828, 1478, 1539, 1495, 1563, 1061, 761, 1545, 1604, 1555, 1533, 1607, 1104, 727, 1595, 1494, 1614, 1584, 1511, 1142, 743, 1476, 1412, 1412, 1538, 1470, 923, 709, 1070, 1580, 1528, 1616, 1158, 980, 729, 1542, 1556, 1357, 1445, 1543, 1224, 807, 1455, 1454, 1429, 1444, 1503, 930, 790, 1566, 1653, 1502, 1544, 1617, 1086, 693, 1536, 1559, 1475, 1607, 1553, 1013, 716, 1472, 1524, 1459, 1398, 1293, 1032, 705, 1513, 1597, 1550, 1629, 1514, 816, 711, 1476, 1535, 1357, 1528, 1383, 1012, 663, 1585, 1643, 1466, 1524, 1594, 1153, 834, 1451, 1321, 1358, 1376, 1307, 949, 733, 1545, 1516, 1426, 1558, 1568, 923, 687, 1529, 1559, 1502, 1638, 1671, 1023, 805, 1394, 1541, 1549, 1591, 1562, 1059, 695, 1481, 1492, 1536, 1536, 1525, 1113, 786, 1565, 1631, 1476, 1527, 1589, 1063, 844, 884, 1515, 1605, 1691, 1701, 1011, 842, 1544, 1482, 1597, 1600, 1725, 1021, 839, 1512, 1562, 1623, 1558, 1606, 1069, 812, 1374, 1473, 1280, 1460, 1485, 1031, 807, 1513, 1447, 1484, 1431, 1546, 1047, 871, 891, 1385, 1389, 1515, 1477, 1076, 841, 1399, 1518, 1421, 1507, 1537, 1094, 745, 1406, 1515, 1470, 1393, 1528, 898, 633, 1465, 1490, 1517, 1454, 1473, 1094, 807, 1571, 1484, 1544, 1418, 1451, 964, 756, 1395, 1450, 1544, 1407, 1360, 1054, 747, 1282, 1367, 1282, 1409, 1436, 913, 741, 1334, 1398, 1304, 1269, 1535, 995, 763, 1349, 1411, 1345, 1522, 1538, 1058, 806, 832, 1487, 1487, 1491, 1581, 1037, 733, 1445, 1558, 1526, 1581, 1584, 1043, 756, 1462, 1519, 1393, 1512, 1520, 982, 769, 1548, 1508, 1516, 1476, 1609, 1006, 737, 1490, 1591, 1583, 1549, 1619, 1075, 840, 1223, 1575, 1441, 1618, 1632, 1070, 832, 1588, 1615, 1546, 1640, 1705, 1075, 864, 1447, 1477, 1470, 1608, 1653, 1083, 763, 1448, 1658, 1519, 1681, 1747, 1127, 819, 1575, 1588, 1579, 1712, 1393, 1094, 808, 1538, 1720, 1719, 1713, 1692, 1070, 803, 1484, 1460, 1374, 723, 1036, 1006, 800, 1449, 1609, 1574]), ('Quincy/Wells', [1117, 4645, 1217, 1009, 8626, 8642, 6678, 7906, 7828, 1236, 910, 8707, 8388, 8368, 8267, 7683, 1597, 1172, 4788, 8219, 8192, 8033, 7680, 1391, 1138, 7906, 8278, 8185, 7916, 7593, 1390, 1234, 6428, 9023, 8698, 8398, 7728, 1606, 1108, 8331, 8276, 8024, 7945, 7532, 1583, 1319, 5349, 8172, 7874, 6750, 7389, 1717, 1257, 8112, 8015, 8357, 8280, 7648, 1604, 939, 8264, 8094, 8176, 7961, 7596, 1642, 1334, 8134, 8201, 8155, 8168, 7652, 2676, 1210, 8137, 8496, 8199, 8026, 7461, 1927, 1392, 8046, 8368, 8174, 7858, 7494, 1852, 1505, 8270, 8123, 8176, 7699, 6109, 1878, 1681, 8037, 7935, 7932, 7770, 7258, 1416, 873, 7911, 8063, 8114, 7892, 7102, 1498, 934, 8040, 7951, 8025, 8108, 7550, 1527, 1497, 8257, 8102, 7954, 7916, 7325, 1391, 1074, 7964, 7925, 7898, 7783, 7645, 1244, 873, 8388, 8221, 8358, 8081, 7206, 1299, 931, 8108, 8201, 8337, 7625, 6704, 2185, 1677, 1852, 8283, 8175, 8035, 7448, 1203, 949, 8229, 8165, 8114, 7997, 7276, 1608, 842, 8413, 8514, 8213, 8080, 7531, 2277, 1516, 9389, 8549, 8364, 9687, 7636, 1791, 1510, 8469, 8490, 8349, 8305, 7905, 2061, 2806, 8371, 8341, 8334, 7266, 2880, 1711, 1936, 8325, 8544, 8419, 8448, 7814, 2069, 1779, 8405, 8403, 8308, 8319, 7611, 1724, 1569, 8502, 8438, 8300, 8279, 7638, 1615, 1282, 8651, 8446, 8336, 8493, 7574, 2204, 1732, 8520, 8369, 8338, 8123, 7210, 1633, 1098, 8388, 8628, 8401, 8152, 7492, 2023, 1773, 8296, 8384, 8278, 8223, 7033, 1519, 1153, 8476, 8274, 8197, 7989, 6936, 1109, 1141, 8081, 8307, 8159, 7979, 6537, 1968, 2083, 1799, 8367, 8276, 8196, 8102, 1561, 1190, 8228, 8415, 8239, 8642, 7832, 1732, 1257, 8599, 8454, 8211, 8193, 7511, 1494, 1124, 8429, 8561, 8331, 8315, 7749, 1596, 1469, 8348, 8792, 8584, 8296, 7832, 2270, 3030, 7851, 8700, 8479, 8598, 8079, 2290, 1709, 8677, 8825, 8665, 8411, 7778, 1805, 1564, 8463, 8818, 8483, 8445, 7901, 1241, 1406, 8644, 8376, 8398, 8271, 7926, 1966, 1652, 8697, 8520, 7342, 8274, 7872, 1799, 1417, 8463, 8606, 8339, 8418, 7770, 1471, 1331, 8424, 8048, 5581, 945, 2414, 1873, 1599, 8422, 8380, 8247, 8205, 7492, 1689, 1146, 8011, 8079, 8080, 7881, 7127, 1357, 1071, 8065, 8078, 7889, 7654, 7121, 1411, 1097, 6831, 6606, 4945, 2206, 700, 1225, 1326, 6007, 6268, 6082, 4744, 1225, 1644, 1072, 8662, 8734, 8423, 8391, 7969, 1337, 1019, 8559, 8543, 8845, 8241, 7562, 1481, 936, 4074, 8520, 8480, 8063, 7794, 1406, 953, 8492, 8431, 8359, 8148, 7607, 1365, 863, 8512, 8642, 8401, 8229, 7468, 1436, 941, 8192, 8280, 8239, 7860, 7341, 1560, 1183, 5188, 8396, 8394, 8153, 7731, 1478, 1241, 8150, 8179, 8110, 7885, 7555, 1417, 1173, 8322, 8255, 8239, 8080, 7562, 1452, 1311, 8343, 8161, 8139, 8160, 7821, 2256, 1070, 8620, 8425, 8430, 8317, 7596, 1849, 1518, 8619, 8286, 8374, 7906, 6251, 1897, 1387, 8705, 8173, 8102, 7672, 7495, 1400, 1434, 8674, 8550, 8454, 8295, 7616, 1959, 1207, 8414, 8406, 8119, 8266, 7507, 1805, 1561, 7999, 8185, 7997, 7748, 7426, 1775, 1370, 8279, 8528, 8907, 8264, 7701, 1615, 1245, 8630, 8166, 8262, 8229, 7222, 1598, 1459, 8680, 8579, 8515, 8117, 7425, 1723, 1664, 8308, 8383, 8487, 8083, 7386, 1824, 1355, 8340, 8401, 8773, 7757, 6815, 2277, 2138, 1893, 9333, 8580, 8489, 7899, 1565, 1662, 8727, 8552, 8540, 8439, 7711, 2103, 1694, 8741, 9019, 8662, 8274, 7509, 2237, 1858, 9029, 8624, 8590, 8475, 7664, 2211, 2418, 8528, 8670, 8438, 8364, 6210, 1709, 1859, 1641, 8375, 8706, 8816, 7807, 1902, 1531, 8934, 8760, 8864, 8486, 7784, 2249, 1763, 8882, 8825, 8890, 8436, 7604, 2041, 1453, 9034, 8823, 9420, 9348, 7997, 2163, 1840, 8921, 9079, 8768, 8481, 7347, 2114, 1711, 8713, 8592, 8811, 8685, 7758, 2178, 1646, 8819, 8879, 8799, 8172, 7385, 1675, 1615, 8635, 8396, 8309, 8054, 7444, 1642, 1302, 8589, 8427, 8284, 8188, 6285, 1961, 1848, 1787, 8405, 8473, 8430, 7866, 1628, 1380, 8448, 8446, 8161, 8427, 7730, 1941, 1621, 8773, 8625, 8495, 8275, 7493, 2162, 1636, 8459, 8431, 8584, 8252, 7484, 1508, 1413, 8330, 8385, 8366, 8608, 8071, 2304, 2571, 7506, 8523, 8627, 8402, 7678, 1886, 1565, 8458, 8314, 8242, 8141, 7706, 1765, 1356, 8162, 8565, 8690, 8074, 8700, 2087, 1573, 8245, 8388, 9462, 8033, 9625, 1825, 1478, 8402, 8419, 8231, 8206, 6636, 1792, 1318, 8252, 8334, 8220, 7990, 7441, 1388, 1137, 8334, 7820, 5272, 915, 2167, 1681, 1372, 8399, 8251, 8158]), ('Davis', [1400, 2997, 2079, 1667, 3524, 3551, 2768, 3202, 3548, 2334, 1708, 3724, 3781, 3761, 3870, 4150, 3024, 2099, 3101, 3704, 3790, 3730, 4107, 2768, 1769, 3535, 3761, 3685, 3769, 4099, 2766, 1591, 3468, 4190, 4055, 4079, 4381, 2887, 1899, 3746, 3914, 3789, 3622, 4050, 2634, 1797, 3215, 3760, 3451, 3010, 3830, 2816, 1718, 3444, 3579, 3641, 3767, 3877, 2620, 1777, 3689, 3791, 3727, 3647, 4059, 2759, 1806, 3793, 3810, 3896, 4030, 4141, 3305, 1971, 3760, 3771, 3716, 3897, 3975, 2727, 1814, 3455, 3426, 3537, 3701, 3509, 2464, 1758, 3767, 3769, 3784, 3969, 3766, 2839, 1869, 3593, 3681, 3855, 3675, 4100, 2863, 1991, 3691, 4044, 3828, 4051, 4168, 3117, 2045, 3650, 3801, 3737, 3954, 4069, 2613, 2073, 3793, 4115, 3819, 4073, 4234, 3284, 2232, 3716, 3820, 3978, 3973, 3917, 2552, 1819, 3646, 4071, 3870, 3950, 4253, 2878, 2079, 3823, 4027, 3770, 3996, 4029, 2908, 2080, 1938, 3912, 4052, 4191, 4343, 2763, 2342, 3880, 4094, 4088, 4170, 4048, 2756, 1748, 3732, 3911, 3979, 4180, 4073, 3239, 2295, 4001, 4511, 4197, 4285, 4329, 3072, 2107, 3944, 4347, 4148, 4297, 3876, 3185, 2753, 3718, 3954, 3903, 4025, 3365, 2961, 2313, 3925, 4368, 4231, 4138, 4510, 3355, 2297, 3853, 4028, 4133, 3956, 4063, 2799, 2223, 3829, 4037, 4094, 4172, 4349, 3011, 2340, 3972, 4149, 4210, 4142, 4193, 3039, 2152, 3817, 3996, 3980, 4117, 4172, 2949, 2116, 3613, 4045, 3983, 4193, 3827, 2872, 2078, 3627, 4025, 4050, 4044, 4086, 2790, 1988, 3768, 3829, 3851, 4048, 3833, 2432, 1865, 3745, 3803, 3844, 3839, 3821, 2911, 2235, 1730, 3684, 3718, 3960, 4196, 2843, 1979, 3696, 4208, 4019, 3983, 4330, 3145, 2568, 4110, 4034, 4034, 4095, 4474, 3409, 2063, 3978, 3943, 3947, 4119, 4298, 2931, 2043, 3950, 3969, 4016, 4050, 4592, 3043, 2363, 3844, 4252, 3915, 4179, 4510, 3922, 2221, 3885, 4370, 4246, 4164, 4255, 3087, 2067, 3784, 3930, 3888, 4125, 4046, 2243, 1927, 3721, 3933, 3889, 4052, 4321, 3328, 2022, 3768, 3989, 3712, 3868, 4134, 2927, 1908, 3736, 3697, 3791, 3954, 4167, 2482, 1892, 3789, 3825, 3283, 1130, 2095, 2231, 1665, 3620, 3877, 3746, 3900, 4127, 2687, 1763, 3686, 3816, 3825, 4091, 4093, 2485, 1612, 3506, 3671, 3650, 3654, 3836, 2391, 1631, 3238, 3285, 2680, 1701, 801, 1554, 1396, 2405, 3007, 2913, 2661, 1415, 2110, 1562, 3505, 3675, 3686, 3710, 3916, 2515, 1546, 3486, 3387, 3479, 3824, 3956, 2532, 1326, 2319, 3531, 3764, 3683, 3947, 2609, 1684, 3592, 3641, 3682, 3740, 3863, 2518, 1745, 3684, 3515, 3695, 3801, 3800, 2679, 1682, 3488, 3660, 3549, 3860, 3851, 2494, 1990, 3064, 3823, 3692, 3798, 3834, 2772, 1774, 3633, 3697, 3497, 3706, 3963, 2784, 1785, 3470, 3582, 3706, 3681, 3924, 2612, 1787, 3637, 3730, 3656, 3785, 3969, 2857, 1579, 3597, 3703, 3699, 3809, 3831, 2351, 1735, 3486, 3572, 3340, 3284, 3373, 2356, 1482, 3519, 3885, 3676, 3739, 4011, 2710, 1984, 3604, 3644, 3531, 3721, 3920, 2654, 1650, 3738, 3732, 3837, 4044, 3978, 3057, 2028, 3715, 3797, 3746, 3738, 3786, 2605, 1785, 3506, 3847, 3614, 3823, 4002, 2413, 1835, 3650, 3706, 3661, 4134, 4228, 2893, 1983, 3694, 3878, 3829, 3816, 4132, 2670, 2003, 3567, 3737, 3678, 3898, 3882, 2690, 2049, 3633, 3843, 3535, 3816, 3947, 2802, 2316, 1927, 3809, 3866, 4197, 4228, 2718, 2084, 3735, 3924, 3800, 3871, 4033, 2619, 2002, 3772, 3975, 3951, 4000, 4360, 2974, 2019, 3807, 4071, 3808, 3848, 3975, 2863, 2170, 3730, 3847, 3691, 3953, 3682, 2527, 1989, 2234, 3833, 4001, 3947, 4024, 2741, 1907, 3589, 3899, 3729, 3818, 4142, 3193, 2172, 3819, 4159, 4003, 3797, 3813, 2557, 1968, 3707, 3991, 4131, 4138, 4253, 3153, 2327, 3756, 3945, 3893, 3942, 3989, 2645, 1902, 3566, 3972, 3917, 3865, 3577, 2705, 1932, 3361, 3983, 3723, 3908, 3647, 2488, 1951, 3631, 3605, 3400, 3601, 3694, 2411, 1799, 3551, 3636, 3684, 3694, 3696, 2806, 2130, 1711, 3607, 3555, 3874, 3712, 2641, 1933, 3672, 3850, 3808, 4173, 4070, 2850, 2227, 3872, 3973, 3840, 4028, 4439, 3442, 2023, 3719, 3751, 3653, 3846, 3951, 2693, 1963, 3610, 3993, 3866, 3971, 4519, 3220, 2134, 3557, 3958, 3641, 4029, 4109, 3042, 2187, 3694, 3882, 3884, 3883, 4145, 3842, 2055, 3560, 3780, 3599, 3847, 4583, 3413, 2218, 3587, 3979, 4201, 4067, 5288, 3780, 2162, 3811, 3877, 3866, 4023, 4002, 3003, 1933, 3640, 3961, 3772, 3929, 4074, 2888, 1896, 3668, 3717, 3186, 957, 2274, 2133, 1535, 3405, 3789, 3749]), (\"Belmont-O'Hare\", [2023, 3969, 2652, 2205, 4994, 5030, 3953, 4515, 4996, 2805, 2265, 5465, 5523, 5548, 5640, 5636, 3253, 2423, 4052, 5517, 5610, 5594, 5652, 3296, 2361, 5579, 5694, 5654, 5709, 5644, 3197, 2279, 4701, 6171, 6016, 5906, 5858, 3377, 2367, 5483, 5725, 5857, 5427, 5685, 3100, 2233, 4448, 5690, 5430, 4464, 5461, 3172, 2322, 5361, 5555, 5729, 5925, 5652, 3285, 2295, 5493, 5697, 5862, 5730, 5704, 3307, 2402, 5708, 5726, 5842, 5960, 5798, 4113, 2659, 5633, 5625, 5728, 5801, 5739, 3454, 2429, 5375, 5485, 5503, 5519, 5537, 3181, 2279, 5456, 5582, 5786, 5811, 5244, 3212, 2344, 5308, 5339, 5639, 5374, 5637, 3433, 2673, 5724, 5795, 5797, 5886, 5799, 3522, 2496, 5739, 5638, 5861, 5851, 5795, 3320, 2705, 5575, 5651, 5776, 6011, 5920, 3804, 2640, 5576, 5698, 5742, 5890, 5814, 3452, 2466, 5380, 5553, 5681, 5732, 5989, 3567, 2743, 5580, 5672, 5662, 5820, 5835, 3534, 2550, 2536, 5431, 5644, 5817, 5808, 3282, 2651, 5765, 5689, 5808, 5964, 5802, 3480, 2637, 5536, 5757, 5862, 5780, 5834, 3662, 2866, 5543, 5771, 5747, 6330, 5954, 3536, 2795, 5367, 5692, 5628, 5686, 5546, 3742, 2998, 5483, 5588, 5688, 5891, 4142, 3304, 2752, 5222, 5612, 5789, 6226, 5871, 3679, 3091, 5417, 5672, 5790, 5800, 5831, 3451, 2948, 5522, 5697, 5716, 5783, 5681, 3878, 3025, 5740, 5551, 5765, 5869, 6075, 3988, 3085, 5517, 5629, 5753, 5671, 5715, 3420, 2615, 5370, 5533, 5497, 5751, 5577, 3408, 2727, 5296, 5414, 5471, 5802, 5683, 3469, 2657, 5652, 5783, 5892, 6118, 5826, 3233, 2743, 5754, 5950, 6006, 6209, 6147, 3487, 2898, 2620, 5651, 6012, 6127, 6123, 3461, 2695, 5905, 6014, 6094, 6016, 6030, 3653, 3043, 5983, 5978, 6020, 6180, 6142, 3655, 2797, 5967, 5931, 6088, 6155, 6231, 3441, 2740, 5914, 5955, 5973, 6098, 6215, 3648, 3037, 5394, 6053, 6046, 6117, 6210, 3676, 2745, 5960, 6067, 6072, 6154, 6040, 3455, 2719, 5895, 6021, 6010, 6124, 6127, 3110, 2841, 5897, 5626, 5995, 6163, 6078, 3592, 2674, 5959, 6042, 5453, 6102, 5987, 3385, 2615, 5914, 5852, 6005, 6137, 5910, 3448, 2502, 5742, 6210, 5845, 2073, 3111, 3050, 2466, 5764, 5948, 5951, 6079, 6118, 3532, 2677, 5658, 5775, 5797, 6008, 6037, 3709, 2646, 5448, 5636, 5704, 5841, 5658, 3382, 2675, 4957, 5366, 4890, 3330, 1414, 2428, 2232, 3999, 4567, 4690, 4349, 2267, 2804, 2249, 5090, 5262, 5402, 5308, 5456, 3108, 2164, 5284, 5321, 5435, 5873, 5702, 3139, 2014, 3431, 5421, 5655, 5817, 5587, 3205, 2324, 5506, 5627, 5755, 5769, 5600, 3310, 2223, 5524, 5517, 5800, 5925, 5606, 3373, 2363, 5477, 5683, 5549, 5825, 5472, 3020, 2317, 4435, 5781, 5817, 5887, 5765, 3439, 2436, 5625, 5763, 5603, 5876, 5738, 3539, 2570, 5640, 5638, 5868, 5890, 5814, 4177, 2994, 5407, 5358, 5294, 5421, 5864, 3979, 2493, 5664, 5792, 6172, 6416, 6312, 4307, 3102, 5484, 5912, 5801, 5693, 5255, 3327, 2294, 5796, 6015, 6093, 6218, 6206, 3377, 2786, 5908, 6216, 6048, 6152, 6005, 3570, 2590, 5874, 5889, 5947, 6085, 6124, 3746, 2886, 4263, 5833, 5813, 5975, 5769, 3502, 2692, 5766, 5783, 5942, 6092, 5993, 3210, 2452, 5657, 5672, 5833, 5974, 6076, 3586, 2630, 5436, 5643, 5744, 5892, 5805, 3329, 2662, 5616, 5622, 5680, 5877, 5758, 3522, 2759, 5503, 5604, 5632, 5844, 5667, 3574, 2834, 2683, 5583, 5743, 6060, 6062, 3359, 2964, 5702, 5872, 5901, 5898, 6111, 4825, 3691, 5746, 5863, 5809, 5872, 5908, 4611, 3628, 5413, 5908, 5729, 5941, 5735, 3632, 2873, 5403, 5641, 5672, 5721, 5724, 3391, 2761, 2674, 5335, 5817, 5781, 6105, 3797, 2969, 5555, 5693, 5699, 6045, 5832, 3740, 2870, 5508, 5691, 5751, 5720, 5711, 3379, 2822, 5430, 5652, 5896, 6048, 6022, 3785, 3100, 5560, 5747, 5792, 5883, 5700, 4569, 3266, 5362, 5634, 5608, 5683, 5341, 3328, 2743, 5361, 5661, 5494, 5448, 5551, 3211, 2941, 5515, 5810, 5695, 5883, 5745, 3108, 2598, 5628, 5771, 5975, 6020, 6012, 3510, 2757, 2494, 5611, 5879, 6024, 5925, 3306, 2684, 5877, 5984, 6077, 6245, 6122, 3515, 2737, 5879, 5956, 5981, 6117, 6134, 3506, 2619, 5973, 5897, 5916, 6001, 6094, 3357, 2636, 5785, 6019, 6151, 6182, 6181, 3529, 2869, 5266, 5962, 5992, 6195, 6112, 3531, 2741, 5837, 6023, 5998, 6118, 5872, 3537, 2715, 5872, 5849, 5831, 6162, 6169, 3631, 2876, 5902, 5996, 5934, 6248, 7548, 3679, 2741, 6113, 5787, 5999, 6158, 5566, 3382, 2605, 5864, 5861, 5979, 6064, 6009, 3677, 2487, 5690, 5930, 5548, 2088, 3221, 2998, 2360, 5479, 5955, 5784]), ('Jackson/Dearborn', [1730, 4471, 2191, 1594, 6929, 7286, 5569, 6531, 6325, 2231, 1594, 7842, 8368, 8230, 8267, 7463, 2944, 2124, 4541, 8292, 8488, 8525, 7573, 3056, 1839, 8211, 8788, 8586, 8400, 7450, 2738, 1605, 5214, 8563, 8685, 8581, 7809, 3349, 1907, 8313, 8580, 8653, 8085, 7346, 2859, 1854, 5414, 8218, 7858, 6704, 7052, 3089, 1987, 7801, 8154, 8439, 8354, 7413, 2766, 1903, 7896, 8474, 8468, 8612, 7461, 3024, 2191, 8279, 8383, 8607, 8615, 7629, 5021, 2397, 8617, 8598, 8758, 8570, 7480, 2987, 2042, 7269, 7818, 7725, 7698, 7068, 2876, 3136, 8148, 8379, 8631, 8359, 6356, 2830, 2198, 7896, 8173, 8121, 8107, 7382, 3267, 2279, 8382, 8688, 8968, 8818, 7913, 3451, 2390, 8600, 8641, 8788, 8992, 7666, 3133, 2647, 8412, 8727, 8525, 9842, 9229, 5752, 2516, 8422, 8387, 8421, 8732, 7778, 3287, 2267, 7959, 8419, 8342, 8486, 7888, 3396, 2415, 8147, 8434, 8341, 9041, 7385, 3807, 2624, 2519, 7944, 8210, 8413, 7871, 2994, 2387, 8138, 8257, 8178, 8559, 7494, 3839, 2603, 7896, 8321, 8256, 8382, 8000, 5217, 3514, 7916, 8131, 7806, 10351, 7505, 3693, 2956, 7256, 7830, 7900, 7880, 7451, 3504, 3438, 7564, 7714, 7661, 7754, 4449, 4636, 3705, 8594, 7758, 9382, 9953, 9772, 5858, 5586, 7425, 7955, 7956, 8281, 7583, 3273, 3378, 7936, 7807, 7910, 7959, 7548, 3670, 2848, 7612, 7708, 8405, 8323, 11394, 7654, 7515, 7870, 7819, 7830, 7930, 7461, 3328, 2514, 7242, 7768, 7514, 7863, 7190, 3588, 2799, 7433, 7567, 7523, 8140, 7559, 3487, 2838, 8212, 8286, 8166, 8238, 7744, 2918, 2729, 7976, 8282, 8216, 8688, 7705, 3458, 3074, 2562, 8215, 8959, 9196, 8084, 3303, 2679, 9037, 9136, 9533, 9532, 8241, 3882, 3109, 9047, 9005, 8819, 9314, 8457, 3893, 2647, 9178, 9473, 9434, 9691, 8276, 3360, 2741, 9083, 9529, 9370, 9596, 8513, 3718, 6768, 8284, 9470, 9640, 9590, 8747, 3816, 2887, 9173, 9320, 9625, 9654, 8281, 3975, 2634, 8858, 9277, 9280, 9260, 8328, 2657, 2809, 9030, 8581, 9235, 9453, 8264, 3515, 3324, 8974, 9178, 7873, 9203, 8156, 3192, 2580, 8867, 8969, 9019, 8853, 7992, 2941, 2496, 8715, 8332, 6528, 1766, 2812, 2625, 2067, 7830, 8290, 8246, 8404, 7893, 3105, 2481, 7907, 8088, 7933, 8229, 7658, 3239, 2452, 7463, 7606, 7602, 7338, 6730, 2670, 2044, 6031, 6409, 5272, 2930, 1162, 1808, 1758, 4481, 5109, 5198, 4206, 1908, 2123, 1830, 7220, 7630, 7597, 7682, 6865, 2429, 1613, 7566, 7626, 7793, 8224, 7009, 2538, 1640, 3119, 7950, 8236, 8405, 7325, 2749, 1782, 8138, 8446, 8392, 8508, 7215, 2738, 1722, 8248, 8116, 8342, 8586, 7295, 2788, 1756, 7983, 8264, 7998, 8255, 6878, 2500, 1984, 5460, 8337, 8331, 8504, 7765, 3275, 2686, 8187, 8481, 8133, 8398, 7329, 3064, 2107, 8114, 8261, 8306, 8481, 7392, 2916, 2059, 7869, 8408, 8369, 8398, 7810, 4519, 2085, 8514, 8497, 8352, 8465, 7343, 3124, 2124, 7067, 7516, 7335, 7079, 5689, 2628, 1872, 8044, 8989, 8983, 8999, 8021, 2978, 3329, 8311, 8506, 8411, 8427, 7203, 2938, 2050, 8251, 8540, 8577, 8622, 7432, 3528, 2430, 7705, 8162, 8202, 8296, 7088, 2957, 2268, 7978, 8283, 8498, 9500, 8837, 3395, 2102, 8048, 8032, 8165, 8301, 7482, 3503, 2436, 7723, 8109, 8252, 8244, 7200, 3087, 2805, 7677, 7895, 7879, 8112, 7105, 3160, 2392, 7741, 7991, 7986, 8571, 6815, 3621, 2798, 2418, 7481, 7781, 8349, 7651, 3081, 3416, 7907, 8513, 8235, 8342, 8805, 4907, 3967, 7710, 7963, 7695, 7827, 7283, 4376, 3327, 7294, 7957, 7513, 8074, 7017, 4412, 3502, 7116, 7590, 7262, 7516, 6479, 3206, 2596, 2634, 6831, 8991, 8384, 8386, 5365, 4204, 7422, 7689, 7534, 7782, 7238, 3230, 2938, 7384, 7882, 7646, 7664, 7057, 3457, 2544, 7333, 7735, 7937, 11111, 10893, 6782, 6742, 7472, 7468, 7499, 7443, 6969, 4271, 3206, 7171, 7353, 7274, 7510, 6612, 3027, 2614, 6919, 7126, 7249, 7215, 6602, 2892, 2783, 7345, 7701, 7437, 7464, 7162, 3121, 2615, 7479, 7748, 7677, 7780, 6943, 3185, 2495, 2338, 7810, 8275, 8581, 7427, 3218, 2322, 8400, 8609, 8714, 8994, 7581, 3312, 2525, 8533, 8635, 8737, 8599, 7847, 5100, 3725, 8346, 8707, 8626, 8720, 7405, 2836, 2486, 8201, 8568, 8677, 8950, 7945, 3588, 6312, 7447, 8946, 8574, 9223, 7959, 3597, 2986, 8540, 9092, 8721, 8840, 7778, 3580, 2394, 8507, 8724, 8605, 8971, 8076, 3619, 3236, 8455, 8479, 8554, 8906, 16898, 4378, 2647, 8703, 8548, 8543, 8551, 6464, 3126, 2718, 8264, 8776, 8720, 8554, 7580, 2863, 2109, 7852, 7892, 6080, 1676, 2692, 2311, 2029, 7249, 7870, 7842]), ('Sheridan', [2616, 4065, 2874, 2347, 5064, 5198, 4024, 4513, 5023, 3267, 2526, 5439, 5554, 5611, 5798, 5679, 3695, 2699, 3885, 5542, 5597, 5711, 5823, 3687, 2485, 5668, 5646, 5634, 5702, 5765, 3563, 2853, 4710, 6141, 6070, 6045, 6014, 4150, 2761, 5631, 5810, 5737, 5469, 5653, 3169, 2433, 4222, 5483, 5209, 4293, 5300, 3722, 2651, 5103, 5449, 5594, 5816, 5551, 3631, 2588, 5213, 5639, 5729, 5503, 5481, 3510, 2598, 5557, 5631, 5644, 5838, 6102, 5969, 3105, 5626, 5708, 5625, 5726, 5728, 3813, 2517, 5230, 5346, 5310, 5398, 5472, 3709, 2693, 5471, 5655, 5802, 5717, 5188, 3557, 2588, 5182, 5381, 5463, 5391, 5713, 4279, 2901, 5492, 5782, 5682, 5850, 6217, 4174, 2789, 5604, 5733, 5727, 5765, 5665, 3733, 2878, 5578, 5799, 5789, 6054, 6265, 4824, 3223, 5692, 5768, 5873, 6035, 5833, 3883, 2658, 5457, 5741, 5657, 6110, 6101, 4318, 3172, 5494, 5530, 5551, 5900, 5765, 4151, 3052, 2848, 5459, 5754, 5757, 6203, 3527, 2920, 5530, 5694, 5879, 5903, 5909, 4369, 2810, 5536, 5814, 5920, 5933, 6233, 4664, 3250, 5640, 5875, 5750, 6452, 7133, 4291, 3347, 5212, 5932, 5673, 5906, 5489, 4283, 10587, 5284, 5436, 5483, 5659, 4794, 4099, 3270, 5178, 5705, 5799, 5787, 6208, 4562, 3779, 5198, 5450, 5565, 5444, 5911, 4434, 3477, 5251, 5554, 5498, 5538, 6011, 4593, 3254, 5371, 5446, 6005, 5878, 6412, 4934, 3490, 5313, 5483, 5480, 5860, 6057, 4407, 3206, 5070, 5546, 5595, 5841, 5559, 4390, 3208, 5046, 5450, 5566, 5696, 6007, 4608, 3179, 5498, 5492, 5646, 5969, 5703, 4297, 3162, 5538, 5796, 5880, 5900, 5941, 4317, 3670, 2824, 5464, 6267, 6204, 6539, 4540, 3460, 5878, 6389, 6216, 6366, 6409, 4793, 4020, 5942, 6375, 6273, 6151, 6701, 4771, 3556, 6214, 5979, 6235, 6394, 6357, 4117, 3142, 5828, 6098, 6365, 6380, 6254, 4438, 4281, 6277, 6836, 6429, 6558, 6397, 4686, 3472, 5925, 7222, 6860, 6492, 6475, 4170, 3066, 5982, 6139, 6344, 6700, 6761, 2603, 3294, 6114, 6436, 6390, 6578, 6494, 4553, 3152, 6145, 6300, 5876, 6374, 6308, 4092, 2886, 5962, 5980, 6157, 6740, 6383, 4042, 2932, 5841, 5908, 4619, 1776, 2538, 2789, 2307, 5276, 5933, 6041, 6009, 6196, 4357, 3056, 5655, 5771, 5910, 6068, 6131, 4436, 2923, 5407, 5676, 5672, 5823, 5685, 3716, 2680, 4595, 4496, 3739, 2299, 1017, 1816, 1708, 3321, 3976, 4238, 4825, 2897, 3214, 2404, 5378, 5577, 5573, 5757, 5733, 3823, 2284, 5272, 5348, 5492, 5812, 5697, 3620, 2064, 3245, 5444, 5789, 5877, 5831, 3769, 2637, 5599, 5713, 5760, 5908, 5915, 3930, 2822, 5718, 5516, 5942, 6030, 5798, 3877, 2874, 5435, 5750, 5659, 5801, 5612, 3507, 2751, 4383, 5720, 5865, 5905, 6119, 4123, 2683, 5522, 5796, 5517, 5829, 5873, 4024, 2937, 5657, 5617, 5798, 5809, 5797, 3864, 2894, 5574, 5877, 5823, 5920, 6221, 5585, 2640, 5655, 5688, 5690, 5970, 5929, 3814, 2713, 5166, 5423, 5289, 5088, 4957, 3359, 2221, 5413, 5809, 5659, 5867, 5797, 3783, 3036, 5596, 5895, 5769, 6000, 5829, 4015, 2649, 6121, 5915, 6115, 6200, 6291, 4336, 3372, 5577, 5549, 5632, 5845, 5370, 3972, 2889, 5667, 5931, 5902, 5967, 6022, 3553, 2768, 5646, 5734, 5811, 6223, 6401, 4062, 2947, 5490, 5722, 6172, 5999, 5963, 4102, 3148, 5460, 5696, 5754, 5902, 5820, 3970, 2929, 5544, 5756, 5636, 5960, 5913, 4520, 3724, 3206, 5565, 6080, 6314, 6264, 4124, 3492, 5521, 5977, 5901, 5926, 6330, 4582, 3217, 5498, 5809, 5829, 5710, 6517, 4907, 3531, 5981, 6436, 5817, 5681, 6113, 4647, 6452, 5274, 5622, 5655, 5966, 5374, 3656, 3147, 3175, 5447, 6216, 5592, 5970, 4113, 3002, 5247, 5706, 5444, 5624, 6160, 4529, 3355, 5783, 6317, 5905, 5498, 5540, 3642, 2718, 5293, 5605, 6096, 6547, 6490, 5205, 3969, 5868, 6089, 5975, 5513, 5639, 3838, 2812, 5091, 5940, 5963, 5960, 5332, 4147, 3249, 4982, 5802, 5699, 5531, 5384, 3916, 3077, 5645, 5359, 5383, 5332, 5982, 3921, 2858, 5278, 5920, 5756, 5971, 5900, 4136, 3423, 2483, 5651, 5859, 6109, 5978, 3910, 3001, 5946, 6079, 6057, 6910, 6596, 4443, 3301, 5904, 6296, 6300, 6184, 6565, 4795, 3402, 5886, 6032, 5867, 6163, 6059, 3877, 3155, 5821, 5988, 6244, 6104, 7326, 5169, 4051, 5445, 6146, 5888, 6276, 6250, 4991, 4176, 5974, 6135, 5920, 6224, 6149, 6641, 3577, 5734, 5957, 5703, 6303, 9381, 8571, 5978, 6390, 6132, 6857, 10590, 10086, 4456, 3199, 5976, 6149, 6097, 6047, 5723, 3831, 2966, 5784, 5964, 5925, 6053, 5839, 4102, 2716, 5633, 5497, 4122, 1654, 2568, 2630, 2231, 5130, 5554, 5651]), ('Damen-Brown', [751, 1843, 1087, 893, 2386, 2591, 1870, 2192, 2369, 1303, 869, 2578, 2646, 2597, 2738, 2675, 1553, 980, 1757, 2657, 2639, 2655, 2669, 1515, 868, 2536, 2716, 2641, 2687, 2712, 1399, 1198, 2351, 3060, 3033, 2900, 2828, 1725, 960, 2718, 2757, 2807, 2662, 2657, 1243, 951, 1900, 2602, 2542, 2111, 2608, 1479, 912, 2454, 2647, 2668, 2803, 2623, 1443, 895, 2607, 2621, 2615, 2697, 2671, 1471, 924, 2660, 2683, 2797, 2781, 2895, 2254, 1100, 2625, 2792, 2762, 2768, 2743, 1493, 926, 2548, 2696, 2664, 2638, 2638, 1481, 942, 2641, 2708, 2669, 2759, 2256, 1417, 871, 2342, 2430, 2512, 2450, 2564, 1486, 882, 2645, 2794, 2676, 2703, 2806, 1612, 974, 2517, 2695, 2801, 2909, 2727, 1439, 1136, 2574, 2719, 2797, 2857, 2679, 1659, 1032, 2584, 2710, 2791, 2861, 2650, 1391, 845, 2598, 2710, 2827, 2813, 2805, 1592, 1073, 2627, 2758, 2768, 2817, 2593, 1558, 1032, 940, 2643, 2883, 2806, 2714, 1448, 986, 2631, 2726, 2837, 2836, 2727, 1646, 945, 2701, 2814, 2824, 2831, 2716, 1889, 1134, 2727, 2834, 2746, 3058, 2776, 1634, 1082, 2377, 2628, 2607, 2644, 2547, 1670, 1470, 2480, 2645, 2608, 2534, 1689, 1549, 1108, 2429, 2646, 2749, 2832, 2765, 1660, 1168, 2682, 2713, 2770, 2749, 2681, 1562, 1172, 2518, 2626, 2693, 2707, 2604, 1644, 1124, 2484, 2695, 2791, 2769, 2873, 1751, 1241, 2479, 2622, 2729, 2768, 2607, 1785, 1024, 2353, 2653, 2714, 2626, 2593, 1587, 1086, 2431, 2578, 2649, 2639, 2646, 1610, 1058, 2447, 2602, 2626, 2760, 2615, 1423, 1017, 2572, 2755, 2824, 2917, 2688, 1425, 1203, 954, 2748, 2878, 2985, 2996, 1763, 1161, 2840, 2985, 3000, 3063, 2976, 1659, 1149, 2856, 2968, 3009, 3013, 2983, 1719, 1095, 2904, 2947, 2989, 3069, 2990, 1452, 1031, 2860, 2987, 3137, 3063, 3413, 1686, 1397, 2612, 3123, 3062, 3135, 3093, 1576, 1137, 2953, 3115, 3184, 3131, 2984, 1636, 1036, 2822, 2955, 2932, 3017, 3069, 1568, 1210, 3005, 3137, 3137, 3279, 3112, 1745, 1308, 2976, 3091, 2750, 3035, 2920, 1693, 1125, 2992, 2986, 3078, 2662, 3039, 1645, 1069, 2977, 3002, 2200, 552, 1186, 1207, 950, 2754, 3006, 3079, 3212, 3241, 2010, 1182, 2920, 3021, 3077, 3064, 3163, 1902, 1191, 2794, 2972, 2953, 3005, 2970, 1622, 1172, 2435, 2339, 1939, 1075, 321, 806, 783, 1667, 2002, 2184, 2144, 960, 1330, 970, 2778, 2893, 2920, 2907, 2995, 1558, 897, 2972, 2795, 2858, 2988, 2901, 1517, 768, 1558, 2809, 2934, 2892, 2890, 1504, 1060, 2842, 2975, 2902, 2925, 2892, 1557, 902, 2832, 2866, 2950, 3011, 2889, 1572, 1067, 2798, 2994, 2900, 3041, 2655, 1364, 1044, 1949, 2824, 2887, 2937, 2852, 1740, 1069, 2886, 3065, 2903, 3057, 2973, 1653, 1113, 2864, 2964, 3172, 3005, 2962, 1533, 1112, 2834, 2986, 3048, 3057, 3036, 2180, 912, 2888, 2931, 3095, 3135, 3062, 1633, 1058, 2821, 2987, 2903, 2824, 2619, 1496, 768, 2899, 3008, 2972, 3056, 2931, 1385, 1121, 2772, 3046, 2986, 3069, 2859, 1590, 940, 2843, 2967, 2939, 2890, 2906, 1719, 1148, 2577, 2700, 2687, 2665, 2639, 1577, 1134, 2821, 3020, 3033, 3035, 3056, 1510, 1063, 2914, 2894, 3006, 3059, 3099, 1646, 1098, 2869, 2979, 3046, 3035, 3078, 1687, 1233, 2874, 3054, 3146, 3075, 3056, 1732, 1229, 2957, 3053, 3036, 2907, 2879, 1761, 1357, 1000, 2917, 3068, 3169, 3291, 1650, 1270, 3062, 3111, 3147, 3181, 3245, 2017, 1388, 3022, 3049, 3090, 3004, 3017, 1861, 1239, 2901, 2929, 2767, 2913, 2982, 1851, 1340, 2658, 2785, 2789, 2851, 2597, 1561, 1250, 1291, 2559, 2831, 2885, 2842, 1699, 1217, 2746, 2871, 2894, 2841, 2898, 1862, 1193, 2737, 2849, 2899, 2783, 2850, 1503, 1085, 2742, 2805, 2893, 2985, 2996, 1862, 1355, 2668, 2761, 2859, 2854, 2867, 1663, 1198, 2697, 2890, 2868, 2976, 2545, 1708, 1162, 2518, 2791, 2788, 2754, 2679, 1639, 1292, 2682, 2781, 2819, 2883, 2787, 1506, 1023, 2727, 2990, 2954, 2865, 2737, 1623, 1212, 940, 2894, 3230, 3307, 3191, 1554, 1246, 3059, 3096, 3267, 3349, 3110, 1806, 1281, 3190, 3165, 3167, 3206, 3152, 1778, 1289, 3000, 3164, 3090, 3114, 3041, 1587, 1067, 3027, 3135, 3234, 3190, 3236, 1802, 1561, 2702, 3158, 3163, 3279, 3221, 1836, 1201, 2993, 3024, 2999, 3108, 3088, 2011, 1143, 3000, 3142, 3081, 3241, 3627, 2148, 1362, 3001, 3221, 3490, 3345, 4011, 1892, 1254, 3235, 3057, 3110, 3122, 2693, 1645, 1134, 3046, 3117, 3202, 3214, 3104, 1709, 1064, 2989, 2950, 2213, 537, 1261, 1269, 899, 2875, 3116, 3181]), ('Morse', [2433, 3917, 2875, 2607, 4298, 4507, 3501, 3991, 4621, 3368, 2952, 4905, 4963, 5016, 5104, 5167, 3663, 2995, 3709, 5038, 4929, 5086, 5053, 3727, 2673, 4777, 4928, 4906, 4752, 5096, 3559, 2687, 4392, 5507, 5326, 5260, 5467, 3817, 2805, 4893, 5097, 5099, 4964, 5227, 3434, 2711, 3950, 4889, 4789, 4040, 4850, 3798, 2806, 4591, 4910, 5041, 5128, 5084, 3568, 2786, 4729, 4945, 4957, 4944, 5007, 3164, 2627, 5010, 4987, 5095, 5242, 5368, 4475, 3055, 4995, 5036, 5143, 5092, 5209, 3852, 2805, 4700, 4866, 4942, 4980, 5021, 3822, 2873, 4856, 4983, 5079, 4994, 4708, 3636, 2839, 4581, 4804, 4778, 4728, 5037, 3809, 3003, 5011, 5025, 5108, 5080, 5384, 4019, 2970, 4875, 5066, 4970, 5071, 5047, 3635, 3085, 4848, 4970, 4975, 5076, 5434, 4130, 3070, 4937, 5012, 5028, 5000, 5157, 3803, 2779, 4677, 4916, 4869, 4956, 5189, 3896, 3253, 4775, 4840, 4778, 4986, 5143, 3766, 3084, 2756, 4703, 5071, 4950, 5174, 3646, 3096, 4784, 4841, 5060, 5069, 5176, 3966, 3007, 4685, 4972, 5013, 5104, 5205, 4058, 3191, 4725, 5040, 5016, 5257, 5155, 4084, 3339, 4519, 4894, 4869, 5036, 4990, 3943, 5191, 4575, 4786, 4934, 5009, 4237, 3996, 3049, 4603, 4922, 5011, 5041, 5095, 3880, 3492, 4779, 4845, 4935, 5026, 5168, 4071, 3405, 4843, 4916, 4945, 5012, 5115, 4022, 3147, 4796, 4841, 5106, 5050, 5128, 4112, 2746, 4716, 4846, 4913, 4845, 5051, 4127, 3377, 4595, 4826, 4784, 4850, 5064, 5036, 4327, 4428, 4703, 4721, 4897, 5058, 3935, 3215, 4809, 4828, 4953, 5156, 5179, 4041, 3257, 4857, 5062, 5002, 5154, 5176, 4073, 3670, 2844, 4955, 5312, 5339, 5628, 3992, 3464, 5012, 5281, 5406, 5407, 5380, 4173, 3415, 5317, 5417, 5343, 5487, 5514, 4145, 3416, 5230, 5214, 5365, 5430, 5409, 3940, 3189, 4982, 5188, 5402, 5340, 5570, 4144, 3505, 4941, 5300, 5376, 5438, 5444, 4211, 3319, 5124, 5322, 5539, 5401, 5378, 3033, 2493, 5152, 5149, 5362, 5367, 5613, 3055, 2601, 5016, 5359, 5293, 5376, 5399, 3309, 2681, 5131, 5116, 4922, 5289, 5212, 3421, 2538, 4901, 5049, 5090, 5201, 5370, 3752, 3052, 4959, 5098, 4654, 2038, 3104, 3050, 2645, 4710, 5096, 5050, 5178, 5354, 3860, 3095, 4811, 5013, 4980, 5139, 5284, 3910, 2954, 4684, 4828, 4794, 4958, 4942, 3103, 2310, 4199, 4220, 3923, 2956, 1436, 2273, 2150, 3292, 3806, 4018, 4859, 2692, 2992, 2565, 4686, 4667, 4623, 4658, 4828, 3384, 2516, 4414, 4497, 4552, 4766, 4976, 3474, 2369, 3022, 4710, 4835, 5029, 5058, 3556, 2729, 4855, 4926, 4877, 5142, 5098, 3660, 2828, 5004, 4744, 5087, 5007, 4947, 3743, 2900, 4718, 4930, 4866, 5034, 4736, 3389, 2812, 3808, 5002, 5013, 5103, 5162, 3798, 2746, 4714, 5009, 4867, 5096, 5113, 3753, 2935, 4723, 4813, 4971, 5036, 5112, 3520, 2969, 4710, 4852, 4826, 4901, 5223, 4336, 2798, 4932, 5074, 4938, 5243, 5078, 3151, 2425, 4484, 4673, 4647, 4654, 4521, 3388, 2562, 4793, 4868, 4851, 5099, 5136, 3465, 2949, 4894, 4969, 4928, 5098, 5086, 3663, 2849, 4926, 4896, 4983, 5106, 5104, 3845, 2946, 4674, 4729, 4820, 4910, 4744, 3676, 2907, 4715, 4871, 4935, 5181, 5185, 3400, 2864, 4827, 4803, 5105, 5177, 5216, 3814, 2995, 4722, 4805, 4974, 4923, 4964, 3656, 2991, 4603, 4728, 4779, 4857, 4835, 3708, 2906, 4678, 4828, 4769, 4952, 4896, 3873, 3313, 2736, 4527, 4890, 4913, 5261, 3607, 3271, 4716, 4836, 4919, 4908, 5340, 4120, 3291, 4805, 4802, 4927, 4949, 5148, 4069, 3271, 4652, 4891, 4760, 4856, 5050, 4122, 5063, 4577, 4734, 4717, 4839, 4930, 3600, 3153, 2994, 4574, 4771, 4884, 4951, 3951, 3162, 4623, 4824, 4803, 4748, 4866, 3406, 2606, 4632, 4644, 4913, 4712, 4950, 3413, 2989, 4557, 4788, 4944, 5135, 5172, 3985, 3184, 4769, 4758, 4813, 4729, 4780, 3779, 3075, 4411, 4663, 4592, 4740, 4563, 3947, 3227, 4305, 4568, 4724, 4600, 4829, 4138, 3982, 4590, 4585, 4629, 4845, 4831, 3104, 2466, 4608, 4857, 4839, 4911, 4863, 3736, 3376, 2684, 4683, 5009, 5161, 5123, 3802, 3112, 4968, 5068, 5072, 5267, 5397, 4112, 3216, 5042, 5132, 5118, 5266, 5287, 3954, 3051, 5016, 5018, 4964, 5193, 5174, 3080, 2693, 4880, 5051, 5044, 5197, 5369, 3858, 3261, 4508, 4942, 5007, 5274, 5220, 3154, 2463, 4826, 5068, 5101, 5181, 5150, 4085, 3083, 4753, 4969, 4902, 5096, 5472, 4178, 3363, 4948, 5154, 5241, 5338, 5992, 3995, 3278, 5038, 5112, 4952, 5287, 4984, 3722, 2897, 4815, 5070, 5079, 5262, 5124, 3805, 2907, 4897, 4827, 4387, 1935, 2963, 2964, 2474, 4651, 4869, 4927])]\n"
          ],
          "name": "stdout"
        }
      ]
    },
    {
      "cell_type": "code",
      "metadata": {
        "colab": {
          "base_uri": "https://localhost:8080/"
        },
        "id": "5GLXtwc17QhP",
        "outputId": "5ba093ee-b378-4bc2-cde1-5b8f8d0efb05"
      },
      "source": [
        "### Ordered Dictionary\n",
        "import pandas as pd\n",
        "\n",
        "# เตรียมข้อมูลให้เหมือนกับในโจทย์\n",
        "stations = pd.read_csv(\"cta_daily_station_totals.csv\")[[\"date\", \"rides\"]]\n",
        "entries = []\n",
        "for i in range(0,len(stations)):\n",
        "    entries.append(tuple(stations.iloc[i]))\n",
        "\n",
        "# Import OrderedDict from collections\n",
        "from collections import OrderedDict\n",
        "\n",
        "# Create an OrderedDict called: ridership_date\n",
        "ridership_date = OrderedDict()\n",
        "\n",
        "# Iterate over the entries\n",
        "for date, riders in entries:\n",
        "    # If a key does not exist in ridership_date, set it to 0\n",
        "    if  date not in ridership_date:\n",
        "        ridership_date[date] = 0\n",
        "        \n",
        "    # Add riders to the date key in ridership_date\n",
        "    ridership_date[date] += riders\n",
        "    \n",
        "# Print the first 31 records\n",
        "print(list(ridership_date.items())[:31])\n",
        "\n",
        "# Print the first key in ridership_date\n",
        "print(list(ridership_date.keys())[0])\n",
        "\n",
        "# Pop the first item from ridership_date and print it\n",
        "print(ridership_date.popitem(0))\n",
        "\n",
        "# Print the last key in ridership_date\n",
        "print(list(ridership_date.keys())[-1])\n",
        "\n",
        "# Pop the last item from ridership_date and print it\n",
        "print(ridership_date.popitem())"
      ],
      "execution_count": 2,
      "outputs": [
        {
          "output_type": "stream",
          "text": [
            "[('01/01/2015', 233956), ('01/02/2015', 432144), ('01/03/2015', 273207), ('01/04/2015', 217632), ('01/05/2015', 538868), ('01/06/2015', 556918), ('01/07/2015', 416984), ('01/08/2015', 475074), ('01/09/2015', 524144), ('01/10/2015', 282850), ('01/11/2015', 227240), ('01/12/2015', 605068), ('01/13/2015', 609226), ('01/14/2015', 608109), ('01/15/2015', 622792), ('01/16/2015', 612833), ('01/17/2015', 335555), ('01/18/2015', 244490), ('01/19/2015', 411497), ('01/20/2015', 618377), ('01/21/2015', 619945), ('01/22/2015', 623914), ('01/23/2015', 612177), ('01/24/2015', 333440), ('01/25/2015', 226964), ('01/26/2015', 605287), ('01/27/2015', 626168), ('01/28/2015', 625531), ('01/29/2015', 622695), ('01/30/2015', 618395), ('01/31/2015', 337018)]\n",
            "01/01/2015\n",
            "('01/01/2015', 233956)\n",
            "11/30/2016\n",
            "('11/30/2016', 631904)\n"
          ],
          "name": "stdout"
        }
      ]
    },
    {
      "cell_type": "code",
      "metadata": {
        "colab": {
          "base_uri": "https://localhost:8080/"
        },
        "id": "rzxuwwSbCiGd",
        "outputId": "9ef61753-b45e-4d10-f57e-44fa9d16bd8c"
      },
      "source": [
        "### Named Tuples\n",
        "import pandas as pd\n",
        "\n",
        "# เตรียมข้อมูลให้เหมือนกับในโจทย์\n",
        "stations = pd.read_csv(\"cta_daily_station_totals.csv\")[[\"date\", \"stationname\",\"rides\"]]\n",
        "entries = []\n",
        "for i in range(0,len(stations)):\n",
        "    entries.append(tuple(stations.iloc[i]))\n",
        "\n",
        "# Import namedtuple from collections\n",
        "from collections import namedtuple\n",
        "\n",
        "# Create the namedtuple: DateDetails\n",
        "DateDetails = namedtuple('DateDetails', ['date', 'stop', 'riders'])\n",
        "\n",
        "# Create the empty list: labeled_entries\n",
        "labeled_entries = []\n",
        "\n",
        "# Iterate over the entries list\n",
        "for date, stop, riders in entries:\n",
        "    # Append a new DateDetails namedtuple instance for each entry to labeled_entries\n",
        "    labeled_entries.append(DateDetails(date, stop, riders))\n",
        "    \n",
        "# Print the first 5 items in labeled_entries\n",
        "print(labeled_entries[:5])\n",
        "\n",
        "# Iterate over the first 3 items in labeled_entries\n",
        "for item in labeled_entries[:3]:\n",
        "    # Print each item's stop\n",
        "    print(item.stop)\n",
        "\n",
        "    # Print each item's date\n",
        "    print(item.date)\n",
        "\n",
        "    # Print each item's riders\n",
        "    print(item.riders)\n"
      ],
      "execution_count": 5,
      "outputs": [
        {
          "output_type": "stream",
          "text": [
            "[DateDetails(date='01/01/2015', stop='Austin-Forest Park', riders=587), DateDetails(date='01/02/2015', stop='Austin-Forest Park', riders=1386), DateDetails(date='01/03/2015', stop='Austin-Forest Park', riders=785), DateDetails(date='01/04/2015', stop='Austin-Forest Park', riders=625), DateDetails(date='01/05/2015', stop='Austin-Forest Park', riders=1752)]\n",
            "Austin-Forest Park\n",
            "01/01/2015\n",
            "587\n",
            "Austin-Forest Park\n",
            "01/02/2015\n",
            "1386\n",
            "Austin-Forest Park\n",
            "01/03/2015\n",
            "785\n"
          ],
          "name": "stdout"
        }
      ]
    },
    {
      "cell_type": "code",
      "metadata": {
        "colab": {
          "base_uri": "https://localhost:8080/"
        },
        "id": "NosplNpdJslb",
        "outputId": "e8b2eeb0-1a14-4da4-da26-5178ea281030"
      },
      "source": [
        "### Datetime 1\n",
        "\n",
        "dates_list = ['02/19/2001', '04/10/2001', '05/30/2001', '07/19/2001', '09/07/2001', '10/27/2001', '12/16/2001', '02/04/2002', '03/26/2002', '05/15/2002', '07/04/2002', '08/23/2002','10/12/2002', '12/01/2002', '01/20/2003', '03/11/2003', '04/30/2003', '06/19/2003', '08/08/2003', '09/27/2003', '11/16/2003', '01/05/2004', '02/24/2004', '04/14/2004', '06/03/2004', '07/23/2004', '09/11/2004', '10/31/2004', '12/20/2004', '02/08/2005', '03/30/2005', '05/19/2005', '07/08/2005', '08/27/2005', '10/16/2005', '12/05/2005', '01/24/2006', '03/15/2006', '05/04/2006', '06/23/2006', '08/12/2006', '10/01/2006', '11/20/2006', '01/09/2007', '02/28/2007', '04/19/2007', '06/08/2007', '07/28/2007', '09/16/2007', '11/05/2007', '12/25/2007', '02/13/2008', '04/03/2008', '05/23/2008', '07/12/2008', '08/31/2008', '10/20/2008', '12/09/2008', '01/28/2009', '03/19/2009', '05/08/2009', '06/27/2009', '08/16/2009', '10/05/2009', '11/24/2009', '01/13/2010', '03/04/2010', '04/23/2010', '06/12/2010', '08/01/2010', '09/20/2010', '11/09/2010', '12/29/2010', '02/17/2011', '04/08/2011', '05/28/2011', '07/17/2011', '09/05/2011', '10/24/2011', '11/12/2011', '01/01/2012', '02/20/2012', '04/10/2012', '05/30/2012', '07/19/2012', '09/07/2012', '10/27/2012', '12/16/2012', '02/04/2013', '03/26/2013', '05/15/2013', '07/04/2013', '08/23/2013', '10/12/2013', '12/01/2013', '01/20/2014', '03/11/2014', '04/30/2014', '06/19/2014', '08/08/2014', '09/27/2014', '11/16/2014', '07/05/2014', '01/24/2015', '03/15/2015', '05/04/2015', '06/23/2015', '08/12/2015', '10/01/2015', '11/20/2015', '01/09/2016', '02/28/2016', '04/18/2016', '06/07/2016', '07/27/2016', '09/15/2016', '11/04/2016']\n",
        "# Import the datetime object from datetime\n",
        "from datetime import datetime\n",
        "\n",
        "# Iterate over the dates_list \n",
        "datetimes_list = []\n",
        "for date_str in dates_list:\n",
        "    # Convert each date to a datetime object: date_dt\n",
        "    date_dt = datetime.strptime(date_str, \"%m/%d/%Y\") # ใส่เพิ่มเข้ามาเพื่อโจทย์ด้านล่าง\n",
        "    datetimes_list.append(date_dt)\n",
        "    # Print each date_dt\n",
        "    print(date_dt)\n",
        "\n",
        "# Loop over the first 3 items of the datetimes_list\n",
        "for item in datetimes_list[:3]:\n",
        "    # Print out the record as a string in the format of 'MM/DD/YYYY'\n",
        "    print(item.strftime(\"%m/%d/%Y\"))\n",
        "    \n",
        "    # Print out the record as an ISO standard string\n",
        "    print(item.isoformat())\n",
        "\n",
        "\n",
        "\n"
      ],
      "execution_count": 8,
      "outputs": [
        {
          "output_type": "stream",
          "text": [
            "2001-02-19 00:00:00\n",
            "2001-04-10 00:00:00\n",
            "2001-05-30 00:00:00\n",
            "2001-07-19 00:00:00\n",
            "2001-09-07 00:00:00\n",
            "2001-10-27 00:00:00\n",
            "2001-12-16 00:00:00\n",
            "2002-02-04 00:00:00\n",
            "2002-03-26 00:00:00\n",
            "2002-05-15 00:00:00\n",
            "2002-07-04 00:00:00\n",
            "2002-08-23 00:00:00\n",
            "2002-10-12 00:00:00\n",
            "2002-12-01 00:00:00\n",
            "2003-01-20 00:00:00\n",
            "2003-03-11 00:00:00\n",
            "2003-04-30 00:00:00\n",
            "2003-06-19 00:00:00\n",
            "2003-08-08 00:00:00\n",
            "2003-09-27 00:00:00\n",
            "2003-11-16 00:00:00\n",
            "2004-01-05 00:00:00\n",
            "2004-02-24 00:00:00\n",
            "2004-04-14 00:00:00\n",
            "2004-06-03 00:00:00\n",
            "2004-07-23 00:00:00\n",
            "2004-09-11 00:00:00\n",
            "2004-10-31 00:00:00\n",
            "2004-12-20 00:00:00\n",
            "2005-02-08 00:00:00\n",
            "2005-03-30 00:00:00\n",
            "2005-05-19 00:00:00\n",
            "2005-07-08 00:00:00\n",
            "2005-08-27 00:00:00\n",
            "2005-10-16 00:00:00\n",
            "2005-12-05 00:00:00\n",
            "2006-01-24 00:00:00\n",
            "2006-03-15 00:00:00\n",
            "2006-05-04 00:00:00\n",
            "2006-06-23 00:00:00\n",
            "2006-08-12 00:00:00\n",
            "2006-10-01 00:00:00\n",
            "2006-11-20 00:00:00\n",
            "2007-01-09 00:00:00\n",
            "2007-02-28 00:00:00\n",
            "2007-04-19 00:00:00\n",
            "2007-06-08 00:00:00\n",
            "2007-07-28 00:00:00\n",
            "2007-09-16 00:00:00\n",
            "2007-11-05 00:00:00\n",
            "2007-12-25 00:00:00\n",
            "2008-02-13 00:00:00\n",
            "2008-04-03 00:00:00\n",
            "2008-05-23 00:00:00\n",
            "2008-07-12 00:00:00\n",
            "2008-08-31 00:00:00\n",
            "2008-10-20 00:00:00\n",
            "2008-12-09 00:00:00\n",
            "2009-01-28 00:00:00\n",
            "2009-03-19 00:00:00\n",
            "2009-05-08 00:00:00\n",
            "2009-06-27 00:00:00\n",
            "2009-08-16 00:00:00\n",
            "2009-10-05 00:00:00\n",
            "2009-11-24 00:00:00\n",
            "2010-01-13 00:00:00\n",
            "2010-03-04 00:00:00\n",
            "2010-04-23 00:00:00\n",
            "2010-06-12 00:00:00\n",
            "2010-08-01 00:00:00\n",
            "2010-09-20 00:00:00\n",
            "2010-11-09 00:00:00\n",
            "2010-12-29 00:00:00\n",
            "2011-02-17 00:00:00\n",
            "2011-04-08 00:00:00\n",
            "2011-05-28 00:00:00\n",
            "2011-07-17 00:00:00\n",
            "2011-09-05 00:00:00\n",
            "2011-10-24 00:00:00\n",
            "2011-11-12 00:00:00\n",
            "2012-01-01 00:00:00\n",
            "2012-02-20 00:00:00\n",
            "2012-04-10 00:00:00\n",
            "2012-05-30 00:00:00\n",
            "2012-07-19 00:00:00\n",
            "2012-09-07 00:00:00\n",
            "2012-10-27 00:00:00\n",
            "2012-12-16 00:00:00\n",
            "2013-02-04 00:00:00\n",
            "2013-03-26 00:00:00\n",
            "2013-05-15 00:00:00\n",
            "2013-07-04 00:00:00\n",
            "2013-08-23 00:00:00\n",
            "2013-10-12 00:00:00\n",
            "2013-12-01 00:00:00\n",
            "2014-01-20 00:00:00\n",
            "2014-03-11 00:00:00\n",
            "2014-04-30 00:00:00\n",
            "2014-06-19 00:00:00\n",
            "2014-08-08 00:00:00\n",
            "2014-09-27 00:00:00\n",
            "2014-11-16 00:00:00\n",
            "2014-07-05 00:00:00\n",
            "2015-01-24 00:00:00\n",
            "2015-03-15 00:00:00\n",
            "2015-05-04 00:00:00\n",
            "2015-06-23 00:00:00\n",
            "2015-08-12 00:00:00\n",
            "2015-10-01 00:00:00\n",
            "2015-11-20 00:00:00\n",
            "2016-01-09 00:00:00\n",
            "2016-02-28 00:00:00\n",
            "2016-04-18 00:00:00\n",
            "2016-06-07 00:00:00\n",
            "2016-07-27 00:00:00\n",
            "2016-09-15 00:00:00\n",
            "2016-11-04 00:00:00\n",
            "02/19/2001\n",
            "2001-02-19T00:00:00\n",
            "04/10/2001\n",
            "2001-04-10T00:00:00\n",
            "05/30/2001\n",
            "2001-05-30T00:00:00\n"
          ],
          "name": "stdout"
        }
      ]
    },
    {
      "cell_type": "code",
      "metadata": {
        "colab": {
          "base_uri": "https://localhost:8080/"
        },
        "id": "00RqfcJfOlYK",
        "outputId": "a2f22f02-300f-4511-dc11-b531534425af"
      },
      "source": [
        "from collections import defaultdict\n",
        "from datetime import datetime\n",
        "\n",
        "# เตรียมข้อมูลให้เหมือนกับในโจทย์\n",
        "df = pd.read_csv(\"cta_daily_summary_totals.csv\")\n",
        "daily_summaries = []\n",
        "for i in range(0,len(df)):\n",
        "    daily_summaries.append(tuple(df.iloc[i]))\n",
        "\n",
        "# Create a defaultdict of an integer: monthly_total_rides\n",
        "monthly_total_rides = defaultdict(int)\n",
        "\n",
        "# Loop over the list daily_summaries\n",
        "for daily_summary in daily_summaries:\n",
        "    # Convert the service_date to a datetime object\n",
        "    service_datetime = datetime.strptime(daily_summary[0], \"%m/%d/%Y\")\n",
        "\n",
        "    # Add the total rides to the current amount for the month\n",
        "    monthly_total_rides[service_datetime.month] += int(daily_summary[4]) # 4 หมายถึง element ที่ 5 ซึ่งมาจาก จำนวนคนขึ้น (riders)\n",
        "    \n",
        "# Print monthly_total_rides\n",
        "print(monthly_total_rides)"
      ],
      "execution_count": 12,
      "outputs": [
        {
          "output_type": "stream",
          "text": [
            "defaultdict(<class 'int'>, {1: 515062454, 2: 500276873, 3: 557894281, 4: 544878980, 5: 564403630, 6: 553707053, 7: 552970459, 8: 558434623, 9: 574770898, 10: 652199892, 11: 538491629, 12: 500560093})\n"
          ],
          "name": "stdout"
        }
      ]
    },
    {
      "cell_type": "code",
      "metadata": {
        "colab": {
          "base_uri": "https://localhost:8080/"
        },
        "id": "d1IQfhKeWJgy",
        "outputId": "813c6acc-b3d9-43be-c8d5-8d2a8734f3bb"
      },
      "source": [
        "# Import datetime from the datetime module\n",
        "from datetime import datetime\n",
        "\n",
        "# Compute the local datetime: local_dt\n",
        "local_dt = datetime.now()\n",
        "\n",
        "# Print the local datetime\n",
        "print(local_dt)\n",
        "\n",
        "# Compute the UTC datetime: utc_dt\n",
        "utc_dt = datetime.utcnow()\n",
        "\n",
        "# Print the UTC datetime\n",
        "print(utc_dt)"
      ],
      "execution_count": 13,
      "outputs": [
        {
          "output_type": "stream",
          "text": [
            "2021-05-07 19:45:15.907402\n",
            "2021-05-07 19:45:15.907591\n"
          ],
          "name": "stdout"
        }
      ]
    },
    {
      "cell_type": "code",
      "metadata": {
        "id": "m3M8-2xsWS82"
      },
      "source": [
        "from pytz import timezone\n",
        "from datetime import datetime\n",
        "daily_summaries = [(datetime.datetime(2001, 1, 1, 17, 12), '126455'), (datetime.datetime(2001, 1, 2, 11, 51), '501952'), (datetime.datetime(2001, 1, 3, 10, 1), '536432'), (datetime.datetime(2001, 1, 4, 0, 55), '550011'), (datetime.datetime(2001, 1, 5, 17, 56), '557917'), (datetime.datetime(2001, 1, 6, 9, 41), '255356'), (datetime.datetime(2001, 1, 7, 13, 18), '169825'), (datetime.datetime(2001, 1, 8, 2, 21), '590706'), (datetime.datetime(2001, 1, 9, 1, 42), '599905')]\n",
        "\n",
        "# Create a Timezone object for Chicago\n",
        "chicago_usa_tz = timezone(\"US/Central\")\n",
        "# Create a Timezone object for New York\n",
        "ny_usa_tz = timezone(\"US/Eastern\")\n",
        "\n",
        "# Iterate over the daily_summaries list\n",
        "for orig_dt, ridership in daily_summaries:\n",
        "\n",
        "    # Make the orig_dt timezone \"aware\" for Chicago\n",
        "    chicago_dt = orig_dt.replace(tzinfo=chicago_usa_tz)\n",
        "    \n",
        "    # Convert chicago_dt to the New York Timezone\n",
        "    ny_dt = chicago_dt.astimezone(ny_usa_tz)\n",
        "    \n",
        "    # Print the chicago_dt, ny_dt, and ridership\n",
        "    print('Chicago: %s, NY: %s, Ridership: %s' % (chicago_dt, ny_dt, ridership))"
      ],
      "execution_count": 14,
      "outputs": []
    },
    {
      "cell_type": "code",
      "metadata": {
        "colab": {
          "base_uri": "https://localhost:8080/"
        },
        "id": "0XIzXM-YX0tl",
        "outputId": "cc159036-ffdc-4198-96fb-c833fdf4e492"
      },
      "source": [
        "import pandas as pd\n",
        "from datetime import timedelta, datetime\n",
        "\n",
        "# เตรียมข้อมูล\n",
        "df = pd.read_csv(\"cta_daily_summary_totals.csv\")\n",
        "daily_summaries = dict()\n",
        "for i in range(0, len(df)):\n",
        "    daily_summaries[datetime.strptime(df.iloc[i][\"service_date\"], \"%m/%d/%Y\")] = {'total_ridership': df.iloc[i][\"total_rides\"], 'day_type': df.iloc[i][\"day_type\"]}\n",
        "\n",
        "review_dates = [datetime(2013, 12, 22, 0, 0), datetime(2013, 12, 23, 0, 0), datetime(2013, 12, 24, 0, 0), datetime(2013, 12, 25, 0, 0), datetime(2013, 12, 26, 0, 0), datetime(2013, 12, 27, 0, 0), datetime(2013, 12, 28, 0, 0), datetime(2013, 12, 29, 0, 0), datetime(2013, 12, 30, 0, 0), datetime(2013, 12, 31, 0, 0)]\n",
        "\n",
        "# Build a timedelta of 30 days: glanceback\n",
        "glanceback = timedelta(days=30)\n",
        "\n",
        "# Iterate over the review_dates as date\n",
        "for date in review_dates:\n",
        "    # Calculate the date 30 days back: prior_period_dt\n",
        "    prior_period_dt = date - glanceback\n",
        "    \n",
        "    # Print the review_date, day_type and total_ridership\n",
        "    print('Date: %s, Type: %s, Total Ridership: %s' %\n",
        "         (date, \n",
        "          daily_summaries[date]['day_type'], \n",
        "          daily_summaries[date]['total_ridership']))\n",
        "\n",
        "    # Print the prior_period_dt, day_type and total_ridership\n",
        "    print('Date: %s, Type: %s, Total Ridership: %s' %\n",
        "         (prior_period_dt, \n",
        "          daily_summaries[prior_period_dt]['day_type'], \n",
        "          daily_summaries[prior_period_dt]['total_ridership']))\n"
      ],
      "execution_count": 38,
      "outputs": [
        {
          "output_type": "stream",
          "text": [
            "Date: 2013-12-22 00:00:00, Type: U, Total Ridership: 685457\n",
            "Date: 2013-11-22 00:00:00, Type: W, Total Ridership: 1752614\n",
            "Date: 2013-12-23 00:00:00, Type: W, Total Ridership: 1236510\n",
            "Date: 2013-11-23 00:00:00, Type: A, Total Ridership: 1048943\n",
            "Date: 2013-12-24 00:00:00, Type: W, Total Ridership: 815873\n",
            "Date: 2013-11-24 00:00:00, Type: U, Total Ridership: 674817\n",
            "Date: 2013-12-25 00:00:00, Type: U, Total Ridership: 363078\n",
            "Date: 2013-11-25 00:00:00, Type: W, Total Ridership: 1641025\n",
            "Date: 2013-12-26 00:00:00, Type: W, Total Ridership: 995622\n",
            "Date: 2013-11-26 00:00:00, Type: W, Total Ridership: 1681213\n",
            "Date: 2013-12-27 00:00:00, Type: W, Total Ridership: 1191650\n",
            "Date: 2013-11-27 00:00:00, Type: W, Total Ridership: 1441786\n",
            "Date: 2013-12-28 00:00:00, Type: A, Total Ridership: 911223\n",
            "Date: 2013-11-28 00:00:00, Type: U, Total Ridership: 554312\n",
            "Date: 2013-12-29 00:00:00, Type: U, Total Ridership: 627779\n",
            "Date: 2013-11-29 00:00:00, Type: W, Total Ridership: 1074544\n",
            "Date: 2013-12-30 00:00:00, Type: W, Total Ridership: 1142767\n",
            "Date: 2013-11-30 00:00:00, Type: A, Total Ridership: 1013178\n",
            "Date: 2013-12-31 00:00:00, Type: W, Total Ridership: 116130\n",
            "Date: 2013-12-01 00:00:00, Type: U, Total Ridership: 704442\n"
          ],
          "name": "stdout"
        }
      ]
    },
    {
      "cell_type": "code",
      "metadata": {
        "colab": {
          "base_uri": "https://localhost:8080/"
        },
        "id": "ABG-HN1rX3Sd",
        "outputId": "6725d74f-afb2-4168-858f-6eff02b3a4b7"
      },
      "source": [
        "from datetime import datetime\n",
        "\n",
        "d1 = [datetime.strptime(\"2001-01-30\", \"%Y-%m-%d\"), datetime.strptime(\"2001-03-31\", \"%Y-%m-%d\"), datetime.strptime(\"2001-05-30\", \"%Y-%m-%d\") , datetime.strptime(\"2001-07-29\", \"%Y-%m-%d\") ,datetime.strptime(\"2001-09-27\", \"%Y-%m-%d\") ,datetime.strptime(\"2001-11-26\", \"%Y-%m-%d\") ,datetime.strptime(\"2002-01-25\", \"%Y-%m-%d\") ,datetime.strptime(\"2002-03-26\", \"%Y-%m-%d\") ,datetime.strptime(\"2002-05-25\", \"%Y-%m-%d\") ,datetime.strptime(\"2002-07-24\", \"%Y-%m-%d\") ,datetime.strptime(\"2002-09-22\", \"%Y-%m-%d\") ,datetime.strptime(\"2002-11-21\", \"%Y-%m-%d\") ,datetime.strptime(\"2003-01-20\", \"%Y-%m-%d\") ,datetime.strptime(\"2003-03-21\", \"%Y-%m-%d\") ,datetime.strptime(\"2003-05-20\", \"%Y-%m-%d\") ,datetime.strptime(\"2003-07-19\", \"%Y-%m-%d\") ,datetime.strptime(\"2003-09-17\", \"%Y-%m-%d\") ,datetime.strptime(\"2003-11-16\", \"%Y-%m-%d\") ,datetime.strptime(\"2004-01-15\", \"%Y-%m-%d\") ,datetime.strptime(\"2004-03-15\", \"%Y-%m-%d\") ,datetime.strptime(\"2004-05-14\", \"%Y-%m-%d\") ,datetime.strptime(\"2004-07-13\", \"%Y-%m-%d\") ,datetime.strptime(\"2004-09-11\", \"%Y-%m-%d\") ,datetime.strptime(\"2004-11-10\", \"%Y-%m-%d\") ,datetime.strptime(\"2005-01-09\", \"%Y-%m-%d\") ,datetime.strptime(\"2005-03-10\", \"%Y-%m-%d\") ,datetime.strptime(\"2005-05-09\", \"%Y-%m-%d\") ,datetime.strptime(\"2005-07-08\", \"%Y-%m-%d\") ,datetime.strptime(\"2005-09-06\", \"%Y-%m-%d\") ,datetime.strptime(\"2005-11-05\", \"%Y-%m-%d\") ,datetime.strptime(\"2006-01-04\", \"%Y-%m-%d\") ,datetime.strptime(\"2006-03-05\", \"%Y-%m-%d\") ,datetime.strptime(\"2006-05-04\", \"%Y-%m-%d\") ,datetime.strptime(\"2006-07-03\", \"%Y-%m-%d\") ,datetime.strptime(\"2006-09-01\", \"%Y-%m-%d\") ,datetime.strptime(\"2006-10-31\", \"%Y-%m-%d\") ,datetime.strptime(\"2006-12-30\", \"%Y-%m-%d\") ,datetime.strptime(\"2007-02-28\", \"%Y-%m-%d\") ,datetime.strptime(\"2007-04-29\", \"%Y-%m-%d\") ,datetime.strptime(\"2007-06-28\", \"%Y-%m-%d\") ,datetime.strptime(\"2007-08-27\", \"%Y-%m-%d\") ,datetime.strptime(\"2007-10-26\", \"%Y-%m-%d\") ,datetime.strptime(\"2007-12-25\", \"%Y-%m-%d\") ,datetime.strptime(\"2008-02-23\", \"%Y-%m-%d\") ,datetime.strptime(\"2008-04-23\", \"%Y-%m-%d\") ,datetime.strptime(\"2008-06-22\", \"%Y-%m-%d\") ,datetime.strptime(\"2008-08-21\", \"%Y-%m-%d\") ,datetime.strptime(\"2008-10-20\", \"%Y-%m-%d\") ,datetime.strptime(\"2008-12-19\", \"%Y-%m-%d\") ,datetime.strptime(\"2009-02-17\", \"%Y-%m-%d\") ,datetime.strptime(\"2009-04-18\", \"%Y-%m-%d\") ,datetime.strptime(\"2009-06-17\", \"%Y-%m-%d\") ,datetime.strptime(\"2009-08-16\", \"%Y-%m-%d\") ,datetime.strptime(\"2009-10-15\", \"%Y-%m-%d\") ,datetime.strptime(\"2009-12-14\", \"%Y-%m-%d\") ,datetime.strptime(\"2010-02-12\", \"%Y-%m-%d\") ,datetime.strptime(\"2010-04-13\", \"%Y-%m-%d\") ,datetime.strptime(\"2010-06-12\", \"%Y-%m-%d\") ,datetime.strptime(\"2010-08-11\", \"%Y-%m-%d\") ,datetime.strptime(\"2010-10-10\", \"%Y-%m-%d\") ,datetime.strptime(\"2010-12-09\", \"%Y-%m-%d\") ,datetime.strptime(\"2011-02-07\", \"%Y-%m-%d\") ,datetime.strptime(\"2011-04-08\", \"%Y-%m-%d\") ,datetime.strptime(\"2011-06-07\", \"%Y-%m-%d\") ,datetime.strptime(\"2011-08-06\", \"%Y-%m-%d\") ,datetime.strptime(\"2011-10-05\", \"%Y-%m-%d\") ,datetime.strptime(\"2011-11-03\", \"%Y-%m-%d\") ,datetime.strptime(\"2012-01-02\", \"%Y-%m-%d\") ,datetime.strptime(\"2012-03-02\", \"%Y-%m-%d\"),datetime.strptime(\"2012-05-01\", \"%Y-%m-%d\") ,datetime.strptime(\"2012-06-30\", \"%Y-%m-%d\") ,datetime.strptime(\"2012-08-29\", \"%Y-%m-%d\") ,datetime.strptime(\"2012-10-28\", \"%Y-%m-%d\") ,datetime.strptime(\"2012-12-27\", \"%Y-%m-%d\") ,datetime.strptime(\"2013-02-25\", \"%Y-%m-%d\") ,datetime.strptime(\"2013-04-26\", \"%Y-%m-%d\") ,datetime.strptime(\"2013-06-25\", \"%Y-%m-%d\") ,datetime.strptime(\"2013-08-24\", \"%Y-%m-%d\") ,datetime.strptime(\"2013-10-23\", \"%Y-%m-%d\") ]\n",
        "d2 = [datetime.strptime(\"2001-03-01\", \"%Y-%m-%d\"), datetime.strptime(\"2001-04-30\", \"%Y-%m-%d\") ,datetime.strptime(\"2001-06-29\", \"%Y-%m-%d\") ,datetime.strptime(\"2001-08-28\", \"%Y-%m-%d\") ,datetime.strptime(\"2001-10-27\", \"%Y-%m-%d\") ,datetime.strptime(\"2001-12-26\", \"%Y-%m-%d\") ,datetime.strptime(\"2002-02-24\", \"%Y-%m-%d\") ,datetime.strptime(\"2002-04-25\", \"%Y-%m-%d\") ,datetime.strptime(\"2002-06-24\", \"%Y-%m-%d\") ,datetime.strptime(\"2002-08-23\", \"%Y-%m-%d\") ,datetime.strptime(\"2002-10-22\", \"%Y-%m-%d\") ,datetime.strptime(\"2002-12-21\", \"%Y-%m-%d\") ,datetime.strptime(\"2003-02-19\", \"%Y-%m-%d\") ,datetime.strptime(\"2003-04-20\", \"%Y-%m-%d\") ,datetime.strptime(\"2003-06-19\", \"%Y-%m-%d\") ,datetime.strptime(\"2003-08-18\", \"%Y-%m-%d\") ,datetime.strptime(\"2003-10-17\", \"%Y-%m-%d\") ,datetime.strptime(\"2003-12-16\", \"%Y-%m-%d\") ,datetime.strptime(\"2004-02-14\", \"%Y-%m-%d\") ,datetime.strptime(\"2004-04-14\", \"%Y-%m-%d\") ,datetime.strptime(\"2004-06-13\", \"%Y-%m-%d\") ,datetime.strptime(\"2004-08-12\", \"%Y-%m-%d\") ,datetime.strptime(\"2004-10-11\", \"%Y-%m-%d\") ,datetime.strptime(\"2004-12-10\", \"%Y-%m-%d\") ,datetime.strptime(\"2005-02-08\", \"%Y-%m-%d\") ,datetime.strptime(\"2005-04-09\", \"%Y-%m-%d\") ,datetime.strptime(\"2005-06-08\", \"%Y-%m-%d\") ,datetime.strptime(\"2005-08-07\", \"%Y-%m-%d\") ,datetime.strptime(\"2005-10-06\", \"%Y-%m-%d\") ,datetime.strptime(\"2005-12-05\", \"%Y-%m-%d\") ,datetime.strptime(\"2006-02-03\", \"%Y-%m-%d\") ,datetime.strptime(\"2006-04-04\", \"%Y-%m-%d\") ,datetime.strptime(\"2006-06-03\", \"%Y-%m-%d\") ,datetime.strptime(\"2006-08-02\", \"%Y-%m-%d\") ,datetime.strptime(\"2006-10-01\", \"%Y-%m-%d\") ,datetime.strptime(\"2006-11-30\", \"%Y-%m-%d\") ,datetime.strptime(\"2007-01-29\", \"%Y-%m-%d\") ,datetime.strptime(\"2007-03-30\", \"%Y-%m-%d\") ,datetime.strptime(\"2007-05-29\", \"%Y-%m-%d\") ,datetime.strptime(\"2007-07-28\", \"%Y-%m-%d\") ,datetime.strptime(\"2007-09-26\", \"%Y-%m-%d\") ,datetime.strptime(\"2007-11-25\", \"%Y-%m-%d\") ,datetime.strptime(\"2008-01-24\", \"%Y-%m-%d\") ,datetime.strptime(\"2008-03-24\", \"%Y-%m-%d\") ,datetime.strptime(\"2008-05-23\", \"%Y-%m-%d\") ,datetime.strptime(\"2008-07-22\", \"%Y-%m-%d\") ,datetime.strptime(\"2008-09-20\", \"%Y-%m-%d\") ,datetime.strptime(\"2008-11-19\", \"%Y-%m-%d\") ,datetime.strptime(\"2009-01-18\", \"%Y-%m-%d\") ,datetime.strptime(\"2009-03-19\", \"%Y-%m-%d\") ,datetime.strptime(\"2009-05-18\", \"%Y-%m-%d\") ,datetime.strptime(\"2009-07-17\", \"%Y-%m-%d\") ,datetime.strptime(\"2009-09-15\", \"%Y-%m-%d\") ,datetime.strptime(\"2009-11-14\", \"%Y-%m-%d\") ,datetime.strptime(\"2010-01-13\", \"%Y-%m-%d\") ,datetime.strptime(\"2010-03-14\", \"%Y-%m-%d\") ,datetime.strptime(\"2010-05-13\", \"%Y-%m-%d\") ,datetime.strptime(\"2010-07-12\", \"%Y-%m-%d\") ,datetime.strptime(\"2010-09-10\", \"%Y-%m-%d\") ,datetime.strptime(\"2010-11-09\", \"%Y-%m-%d\") ,datetime.strptime(\"2011-01-08\", \"%Y-%m-%d\") ,datetime.strptime(\"2011-03-09\", \"%Y-%m-%d\") ,datetime.strptime(\"2011-05-08\", \"%Y-%m-%d\") ,datetime.strptime(\"2011-07-07\", \"%Y-%m-%d\") ,datetime.strptime(\"2011-09-05\", \"%Y-%m-%d\") ,datetime.strptime(\"2011-10-04\", \"%Y-%m-%d\") ,datetime.strptime(\"2011-12-03\", \"%Y-%m-%d\") ,datetime.strptime(\"2012-02-01\", \"%Y-%m-%d\") ,datetime.strptime(\"2012-04-01\", \"%Y-%m-%d\") ,datetime.strptime(\"2012-05-31\", \"%Y-%m-%d\") ,datetime.strptime(\"2012-07-30\", \"%Y-%m-%d\") ,datetime.strptime(\"2012-09-28\", \"%Y-%m-%d\") ,datetime.strptime(\"2012-11-27\", \"%Y-%m-%d\") ,datetime.strptime(\"2013-01-26\", \"%Y-%m-%d\") ,datetime.strptime(\"2013-03-27\", \"%Y-%m-%d\") ,datetime.strptime(\"2013-05-26\", \"%Y-%m-%d\") ,datetime.strptime(\"2013-07-25\", \"%Y-%m-%d\") ,datetime.strptime(\"2013-09-23\", \"%Y-%m-%d\") ,datetime.strptime(\"2013-11-22\", \"%Y-%m-%d\") ]\n"
      ],
      "execution_count": 9,
      "outputs": [
        {
          "output_type": "execute_result",
          "data": {
            "text/plain": [
              "79"
            ]
          },
          "metadata": {
            "tags": []
          },
          "execution_count": 9
        }
      ]
    },
    {
      "cell_type": "code",
      "metadata": {
        "colab": {
          "base_uri": "https://localhost:8080/"
        },
        "id": "SpSdCpxnB0R3",
        "outputId": "2c3ca5b4-d046-493d-a3c4-5fbbd1e30ae7"
      },
      "source": [
        "from datetime import datetime\n",
        "\n",
        "d1 = [datetime.strptime(\"2001-01-30\", \"%Y-%m-%d\"), datetime.strptime(\"2001-03-31\", \"%Y-%m-%d\"), datetime.strptime(\"2001-05-30\", \"%Y-%m-%d\") , datetime.strptime(\"2001-07-29\", \"%Y-%m-%d\") ,datetime.strptime(\"2001-09-27\", \"%Y-%m-%d\") ,datetime.strptime(\"2001-11-26\", \"%Y-%m-%d\") ,datetime.strptime(\"2002-01-25\", \"%Y-%m-%d\") ,datetime.strptime(\"2002-03-26\", \"%Y-%m-%d\") ,datetime.strptime(\"2002-05-25\", \"%Y-%m-%d\") ,datetime.strptime(\"2002-07-24\", \"%Y-%m-%d\") ,datetime.strptime(\"2002-09-22\", \"%Y-%m-%d\") ,datetime.strptime(\"2002-11-21\", \"%Y-%m-%d\") ,datetime.strptime(\"2003-01-20\", \"%Y-%m-%d\") ,datetime.strptime(\"2003-03-21\", \"%Y-%m-%d\") ,datetime.strptime(\"2003-05-20\", \"%Y-%m-%d\") ,datetime.strptime(\"2003-07-19\", \"%Y-%m-%d\") ,datetime.strptime(\"2003-09-17\", \"%Y-%m-%d\") ,datetime.strptime(\"2003-11-16\", \"%Y-%m-%d\") ,datetime.strptime(\"2004-01-15\", \"%Y-%m-%d\") ,datetime.strptime(\"2004-03-15\", \"%Y-%m-%d\") ,datetime.strptime(\"2004-05-14\", \"%Y-%m-%d\") ,datetime.strptime(\"2004-07-13\", \"%Y-%m-%d\") ,datetime.strptime(\"2004-09-11\", \"%Y-%m-%d\") ,datetime.strptime(\"2004-11-10\", \"%Y-%m-%d\") ,datetime.strptime(\"2005-01-09\", \"%Y-%m-%d\") ,datetime.strptime(\"2005-03-10\", \"%Y-%m-%d\") ,datetime.strptime(\"2005-05-09\", \"%Y-%m-%d\") ,datetime.strptime(\"2005-07-08\", \"%Y-%m-%d\") ,datetime.strptime(\"2005-09-06\", \"%Y-%m-%d\") ,datetime.strptime(\"2005-11-05\", \"%Y-%m-%d\") ,datetime.strptime(\"2006-01-04\", \"%Y-%m-%d\") ,datetime.strptime(\"2006-03-05\", \"%Y-%m-%d\") ,datetime.strptime(\"2006-05-04\", \"%Y-%m-%d\") ,datetime.strptime(\"2006-07-03\", \"%Y-%m-%d\") ,datetime.strptime(\"2006-09-01\", \"%Y-%m-%d\") ,datetime.strptime(\"2006-10-31\", \"%Y-%m-%d\") ,datetime.strptime(\"2006-12-30\", \"%Y-%m-%d\") ,datetime.strptime(\"2007-02-28\", \"%Y-%m-%d\") ,datetime.strptime(\"2007-04-29\", \"%Y-%m-%d\") ,datetime.strptime(\"2007-06-28\", \"%Y-%m-%d\") ,datetime.strptime(\"2007-08-27\", \"%Y-%m-%d\") ,datetime.strptime(\"2007-10-26\", \"%Y-%m-%d\") ,datetime.strptime(\"2007-12-25\", \"%Y-%m-%d\") ,datetime.strptime(\"2008-02-23\", \"%Y-%m-%d\") ,datetime.strptime(\"2008-04-23\", \"%Y-%m-%d\") ,datetime.strptime(\"2008-06-22\", \"%Y-%m-%d\") ,datetime.strptime(\"2008-08-21\", \"%Y-%m-%d\") ,datetime.strptime(\"2008-10-20\", \"%Y-%m-%d\") ,datetime.strptime(\"2008-12-19\", \"%Y-%m-%d\") ,datetime.strptime(\"2009-02-17\", \"%Y-%m-%d\") ,datetime.strptime(\"2009-04-18\", \"%Y-%m-%d\") ,datetime.strptime(\"2009-06-17\", \"%Y-%m-%d\") ,datetime.strptime(\"2009-08-16\", \"%Y-%m-%d\") ,datetime.strptime(\"2009-10-15\", \"%Y-%m-%d\") ,datetime.strptime(\"2009-12-14\", \"%Y-%m-%d\") ,datetime.strptime(\"2010-02-12\", \"%Y-%m-%d\") ,datetime.strptime(\"2010-04-13\", \"%Y-%m-%d\") ,datetime.strptime(\"2010-06-12\", \"%Y-%m-%d\") ,datetime.strptime(\"2010-08-11\", \"%Y-%m-%d\") ,datetime.strptime(\"2010-10-10\", \"%Y-%m-%d\") ,datetime.strptime(\"2010-12-09\", \"%Y-%m-%d\") ,datetime.strptime(\"2011-02-07\", \"%Y-%m-%d\") ,datetime.strptime(\"2011-04-08\", \"%Y-%m-%d\") ,datetime.strptime(\"2011-06-07\", \"%Y-%m-%d\") ,datetime.strptime(\"2011-08-06\", \"%Y-%m-%d\") ,datetime.strptime(\"2011-10-05\", \"%Y-%m-%d\") ,datetime.strptime(\"2011-11-03\", \"%Y-%m-%d\") ,datetime.strptime(\"2012-01-02\", \"%Y-%m-%d\") ,datetime.strptime(\"2012-03-02\", \"%Y-%m-%d\"),datetime.strptime(\"2012-05-01\", \"%Y-%m-%d\") ,datetime.strptime(\"2012-06-30\", \"%Y-%m-%d\") ,datetime.strptime(\"2012-08-29\", \"%Y-%m-%d\") ,datetime.strptime(\"2012-10-28\", \"%Y-%m-%d\") ,datetime.strptime(\"2012-12-27\", \"%Y-%m-%d\") ,datetime.strptime(\"2013-02-25\", \"%Y-%m-%d\") ,datetime.strptime(\"2013-04-26\", \"%Y-%m-%d\") ,datetime.strptime(\"2013-06-25\", \"%Y-%m-%d\") ,datetime.strptime(\"2013-08-24\", \"%Y-%m-%d\") ,datetime.strptime(\"2013-10-23\", \"%Y-%m-%d\") ]\n",
        "d2 = [datetime.strptime(\"2001-03-01\", \"%Y-%m-%d\"), datetime.strptime(\"2001-04-30\", \"%Y-%m-%d\") ,datetime.strptime(\"2001-06-29\", \"%Y-%m-%d\") ,datetime.strptime(\"2001-08-28\", \"%Y-%m-%d\") ,datetime.strptime(\"2001-10-27\", \"%Y-%m-%d\") ,datetime.strptime(\"2001-12-26\", \"%Y-%m-%d\") ,datetime.strptime(\"2002-02-24\", \"%Y-%m-%d\") ,datetime.strptime(\"2002-04-25\", \"%Y-%m-%d\") ,datetime.strptime(\"2002-06-24\", \"%Y-%m-%d\") ,datetime.strptime(\"2002-08-23\", \"%Y-%m-%d\") ,datetime.strptime(\"2002-10-22\", \"%Y-%m-%d\") ,datetime.strptime(\"2002-12-21\", \"%Y-%m-%d\") ,datetime.strptime(\"2003-02-19\", \"%Y-%m-%d\") ,datetime.strptime(\"2003-04-20\", \"%Y-%m-%d\") ,datetime.strptime(\"2003-06-19\", \"%Y-%m-%d\") ,datetime.strptime(\"2003-08-18\", \"%Y-%m-%d\") ,datetime.strptime(\"2003-10-17\", \"%Y-%m-%d\") ,datetime.strptime(\"2003-12-16\", \"%Y-%m-%d\") ,datetime.strptime(\"2004-02-14\", \"%Y-%m-%d\") ,datetime.strptime(\"2004-04-14\", \"%Y-%m-%d\") ,datetime.strptime(\"2004-06-13\", \"%Y-%m-%d\") ,datetime.strptime(\"2004-08-12\", \"%Y-%m-%d\") ,datetime.strptime(\"2004-10-11\", \"%Y-%m-%d\") ,datetime.strptime(\"2004-12-10\", \"%Y-%m-%d\") ,datetime.strptime(\"2005-02-08\", \"%Y-%m-%d\") ,datetime.strptime(\"2005-04-09\", \"%Y-%m-%d\") ,datetime.strptime(\"2005-06-08\", \"%Y-%m-%d\") ,datetime.strptime(\"2005-08-07\", \"%Y-%m-%d\") ,datetime.strptime(\"2005-10-06\", \"%Y-%m-%d\") ,datetime.strptime(\"2005-12-05\", \"%Y-%m-%d\") ,datetime.strptime(\"2006-02-03\", \"%Y-%m-%d\") ,datetime.strptime(\"2006-04-04\", \"%Y-%m-%d\") ,datetime.strptime(\"2006-06-03\", \"%Y-%m-%d\") ,datetime.strptime(\"2006-08-02\", \"%Y-%m-%d\") ,datetime.strptime(\"2006-10-01\", \"%Y-%m-%d\") ,datetime.strptime(\"2006-11-30\", \"%Y-%m-%d\") ,datetime.strptime(\"2007-01-29\", \"%Y-%m-%d\") ,datetime.strptime(\"2007-03-30\", \"%Y-%m-%d\") ,datetime.strptime(\"2007-05-29\", \"%Y-%m-%d\") ,datetime.strptime(\"2007-07-28\", \"%Y-%m-%d\") ,datetime.strptime(\"2007-09-26\", \"%Y-%m-%d\") ,datetime.strptime(\"2007-11-25\", \"%Y-%m-%d\") ,datetime.strptime(\"2008-01-24\", \"%Y-%m-%d\") ,datetime.strptime(\"2008-03-24\", \"%Y-%m-%d\") ,datetime.strptime(\"2008-05-23\", \"%Y-%m-%d\") ,datetime.strptime(\"2008-07-22\", \"%Y-%m-%d\") ,datetime.strptime(\"2008-09-20\", \"%Y-%m-%d\") ,datetime.strptime(\"2008-11-19\", \"%Y-%m-%d\") ,datetime.strptime(\"2009-01-18\", \"%Y-%m-%d\") ,datetime.strptime(\"2009-03-19\", \"%Y-%m-%d\") ,datetime.strptime(\"2009-05-18\", \"%Y-%m-%d\") ,datetime.strptime(\"2009-07-17\", \"%Y-%m-%d\") ,datetime.strptime(\"2009-09-15\", \"%Y-%m-%d\") ,datetime.strptime(\"2009-11-14\", \"%Y-%m-%d\") ,datetime.strptime(\"2010-01-13\", \"%Y-%m-%d\") ,datetime.strptime(\"2010-03-14\", \"%Y-%m-%d\") ,datetime.strptime(\"2010-05-13\", \"%Y-%m-%d\") ,datetime.strptime(\"2010-07-12\", \"%Y-%m-%d\") ,datetime.strptime(\"2010-09-10\", \"%Y-%m-%d\") ,datetime.strptime(\"2010-11-09\", \"%Y-%m-%d\") ,datetime.strptime(\"2011-01-08\", \"%Y-%m-%d\") ,datetime.strptime(\"2011-03-09\", \"%Y-%m-%d\") ,datetime.strptime(\"2011-05-08\", \"%Y-%m-%d\") ,datetime.strptime(\"2011-07-07\", \"%Y-%m-%d\") ,datetime.strptime(\"2011-09-05\", \"%Y-%m-%d\") ,datetime.strptime(\"2011-10-04\", \"%Y-%m-%d\") ,datetime.strptime(\"2011-12-03\", \"%Y-%m-%d\") ,datetime.strptime(\"2012-02-01\", \"%Y-%m-%d\") ,datetime.strptime(\"2012-04-01\", \"%Y-%m-%d\") ,datetime.strptime(\"2012-05-31\", \"%Y-%m-%d\") ,datetime.strptime(\"2012-07-30\", \"%Y-%m-%d\") ,datetime.strptime(\"2012-09-28\", \"%Y-%m-%d\") ,datetime.strptime(\"2012-11-27\", \"%Y-%m-%d\") ,datetime.strptime(\"2013-01-26\", \"%Y-%m-%d\") ,datetime.strptime(\"2013-03-27\", \"%Y-%m-%d\") ,datetime.strptime(\"2013-05-26\", \"%Y-%m-%d\") ,datetime.strptime(\"2013-07-25\", \"%Y-%m-%d\") ,datetime.strptime(\"2013-09-23\", \"%Y-%m-%d\") ,datetime.strptime(\"2013-11-22\", \"%Y-%m-%d\") ]\n",
        "date_ranges=zip(d1, d2)\n",
        "# Iterate over the date_ranges\n",
        "for start_date, end_date in date_ranges:\n",
        "    # Print the End and Start Date\n",
        "    print(end_date, start_date)\n",
        "    # Print the difference between each end and start date\n",
        "    print(end_date-start_date)"
      ],
      "execution_count": 44,
      "outputs": [
        {
          "output_type": "stream",
          "text": [
            "2001-03-01 00:00:00 2001-01-30 00:00:00\n",
            "30 days, 0:00:00\n",
            "2001-04-30 00:00:00 2001-03-31 00:00:00\n",
            "30 days, 0:00:00\n",
            "2001-06-29 00:00:00 2001-05-30 00:00:00\n",
            "30 days, 0:00:00\n",
            "2001-08-28 00:00:00 2001-07-29 00:00:00\n",
            "30 days, 0:00:00\n",
            "2001-10-27 00:00:00 2001-09-27 00:00:00\n",
            "30 days, 0:00:00\n",
            "2001-12-26 00:00:00 2001-11-26 00:00:00\n",
            "30 days, 0:00:00\n",
            "2002-02-24 00:00:00 2002-01-25 00:00:00\n",
            "30 days, 0:00:00\n",
            "2002-04-25 00:00:00 2002-03-26 00:00:00\n",
            "30 days, 0:00:00\n",
            "2002-06-24 00:00:00 2002-05-25 00:00:00\n",
            "30 days, 0:00:00\n",
            "2002-08-23 00:00:00 2002-07-24 00:00:00\n",
            "30 days, 0:00:00\n",
            "2002-10-22 00:00:00 2002-09-22 00:00:00\n",
            "30 days, 0:00:00\n",
            "2002-12-21 00:00:00 2002-11-21 00:00:00\n",
            "30 days, 0:00:00\n",
            "2003-02-19 00:00:00 2003-01-20 00:00:00\n",
            "30 days, 0:00:00\n",
            "2003-04-20 00:00:00 2003-03-21 00:00:00\n",
            "30 days, 0:00:00\n",
            "2003-06-19 00:00:00 2003-05-20 00:00:00\n",
            "30 days, 0:00:00\n",
            "2003-08-18 00:00:00 2003-07-19 00:00:00\n",
            "30 days, 0:00:00\n",
            "2003-10-17 00:00:00 2003-09-17 00:00:00\n",
            "30 days, 0:00:00\n",
            "2003-12-16 00:00:00 2003-11-16 00:00:00\n",
            "30 days, 0:00:00\n",
            "2004-02-14 00:00:00 2004-01-15 00:00:00\n",
            "30 days, 0:00:00\n",
            "2004-04-14 00:00:00 2004-03-15 00:00:00\n",
            "30 days, 0:00:00\n",
            "2004-06-13 00:00:00 2004-05-14 00:00:00\n",
            "30 days, 0:00:00\n",
            "2004-08-12 00:00:00 2004-07-13 00:00:00\n",
            "30 days, 0:00:00\n",
            "2004-10-11 00:00:00 2004-09-11 00:00:00\n",
            "30 days, 0:00:00\n",
            "2004-12-10 00:00:00 2004-11-10 00:00:00\n",
            "30 days, 0:00:00\n",
            "2005-02-08 00:00:00 2005-01-09 00:00:00\n",
            "30 days, 0:00:00\n",
            "2005-04-09 00:00:00 2005-03-10 00:00:00\n",
            "30 days, 0:00:00\n",
            "2005-06-08 00:00:00 2005-05-09 00:00:00\n",
            "30 days, 0:00:00\n",
            "2005-08-07 00:00:00 2005-07-08 00:00:00\n",
            "30 days, 0:00:00\n",
            "2005-10-06 00:00:00 2005-09-06 00:00:00\n",
            "30 days, 0:00:00\n",
            "2005-12-05 00:00:00 2005-11-05 00:00:00\n",
            "30 days, 0:00:00\n",
            "2006-02-03 00:00:00 2006-01-04 00:00:00\n",
            "30 days, 0:00:00\n",
            "2006-04-04 00:00:00 2006-03-05 00:00:00\n",
            "30 days, 0:00:00\n",
            "2006-06-03 00:00:00 2006-05-04 00:00:00\n",
            "30 days, 0:00:00\n",
            "2006-08-02 00:00:00 2006-07-03 00:00:00\n",
            "30 days, 0:00:00\n",
            "2006-10-01 00:00:00 2006-09-01 00:00:00\n",
            "30 days, 0:00:00\n",
            "2006-11-30 00:00:00 2006-10-31 00:00:00\n",
            "30 days, 0:00:00\n",
            "2007-01-29 00:00:00 2006-12-30 00:00:00\n",
            "30 days, 0:00:00\n",
            "2007-03-30 00:00:00 2007-02-28 00:00:00\n",
            "30 days, 0:00:00\n",
            "2007-05-29 00:00:00 2007-04-29 00:00:00\n",
            "30 days, 0:00:00\n",
            "2007-07-28 00:00:00 2007-06-28 00:00:00\n",
            "30 days, 0:00:00\n",
            "2007-09-26 00:00:00 2007-08-27 00:00:00\n",
            "30 days, 0:00:00\n",
            "2007-11-25 00:00:00 2007-10-26 00:00:00\n",
            "30 days, 0:00:00\n",
            "2008-01-24 00:00:00 2007-12-25 00:00:00\n",
            "30 days, 0:00:00\n",
            "2008-03-24 00:00:00 2008-02-23 00:00:00\n",
            "30 days, 0:00:00\n",
            "2008-05-23 00:00:00 2008-04-23 00:00:00\n",
            "30 days, 0:00:00\n",
            "2008-07-22 00:00:00 2008-06-22 00:00:00\n",
            "30 days, 0:00:00\n",
            "2008-09-20 00:00:00 2008-08-21 00:00:00\n",
            "30 days, 0:00:00\n",
            "2008-11-19 00:00:00 2008-10-20 00:00:00\n",
            "30 days, 0:00:00\n",
            "2009-01-18 00:00:00 2008-12-19 00:00:00\n",
            "30 days, 0:00:00\n",
            "2009-03-19 00:00:00 2009-02-17 00:00:00\n",
            "30 days, 0:00:00\n",
            "2009-05-18 00:00:00 2009-04-18 00:00:00\n",
            "30 days, 0:00:00\n",
            "2009-07-17 00:00:00 2009-06-17 00:00:00\n",
            "30 days, 0:00:00\n",
            "2009-09-15 00:00:00 2009-08-16 00:00:00\n",
            "30 days, 0:00:00\n",
            "2009-11-14 00:00:00 2009-10-15 00:00:00\n",
            "30 days, 0:00:00\n",
            "2010-01-13 00:00:00 2009-12-14 00:00:00\n",
            "30 days, 0:00:00\n",
            "2010-03-14 00:00:00 2010-02-12 00:00:00\n",
            "30 days, 0:00:00\n",
            "2010-05-13 00:00:00 2010-04-13 00:00:00\n",
            "30 days, 0:00:00\n",
            "2010-07-12 00:00:00 2010-06-12 00:00:00\n",
            "30 days, 0:00:00\n",
            "2010-09-10 00:00:00 2010-08-11 00:00:00\n",
            "30 days, 0:00:00\n",
            "2010-11-09 00:00:00 2010-10-10 00:00:00\n",
            "30 days, 0:00:00\n",
            "2011-01-08 00:00:00 2010-12-09 00:00:00\n",
            "30 days, 0:00:00\n",
            "2011-03-09 00:00:00 2011-02-07 00:00:00\n",
            "30 days, 0:00:00\n",
            "2011-05-08 00:00:00 2011-04-08 00:00:00\n",
            "30 days, 0:00:00\n",
            "2011-07-07 00:00:00 2011-06-07 00:00:00\n",
            "30 days, 0:00:00\n",
            "2011-09-05 00:00:00 2011-08-06 00:00:00\n",
            "30 days, 0:00:00\n",
            "2011-10-04 00:00:00 2011-10-05 00:00:00\n",
            "-1 day, 0:00:00\n",
            "2011-12-03 00:00:00 2011-11-03 00:00:00\n",
            "30 days, 0:00:00\n",
            "2012-02-01 00:00:00 2012-01-02 00:00:00\n",
            "30 days, 0:00:00\n",
            "2012-04-01 00:00:00 2012-03-02 00:00:00\n",
            "30 days, 0:00:00\n",
            "2012-05-31 00:00:00 2012-05-01 00:00:00\n",
            "30 days, 0:00:00\n",
            "2012-07-30 00:00:00 2012-06-30 00:00:00\n",
            "30 days, 0:00:00\n",
            "2012-09-28 00:00:00 2012-08-29 00:00:00\n",
            "30 days, 0:00:00\n",
            "2012-11-27 00:00:00 2012-10-28 00:00:00\n",
            "30 days, 0:00:00\n",
            "2013-01-26 00:00:00 2012-12-27 00:00:00\n",
            "30 days, 0:00:00\n",
            "2013-03-27 00:00:00 2013-02-25 00:00:00\n",
            "30 days, 0:00:00\n",
            "2013-05-26 00:00:00 2013-04-26 00:00:00\n",
            "30 days, 0:00:00\n",
            "2013-07-25 00:00:00 2013-06-25 00:00:00\n",
            "30 days, 0:00:00\n",
            "2013-09-23 00:00:00 2013-08-24 00:00:00\n",
            "30 days, 0:00:00\n",
            "2013-11-22 00:00:00 2013-10-23 00:00:00\n",
            "30 days, 0:00:00\n"
          ],
          "name": "stdout"
        }
      ]
    },
    {
      "cell_type": "code",
      "metadata": {
        "colab": {
          "base_uri": "https://localhost:8080/"
        },
        "id": "i3GOuuGHOWzT",
        "outputId": "df699d50-4330-4bb9-90d2-5775a02bf520"
      },
      "source": [
        "!pip install pendulum\n",
        "### PENDULUM LIBRARY"
      ],
      "execution_count": 3,
      "outputs": [
        {
          "output_type": "stream",
          "text": [
            "Requirement already satisfied: pendulum in /usr/local/lib/python3.7/dist-packages (2.1.2)\n",
            "Requirement already satisfied: pytzdata>=2020.1 in /usr/local/lib/python3.7/dist-packages (from pendulum) (2020.1)\n",
            "Requirement already satisfied: python-dateutil<3.0,>=2.6 in /usr/local/lib/python3.7/dist-packages (from pendulum) (2.8.1)\n",
            "Requirement already satisfied: six>=1.5 in /usr/local/lib/python3.7/dist-packages (from python-dateutil<3.0,>=2.6->pendulum) (1.15.0)\n"
          ],
          "name": "stdout"
        }
      ]
    },
    {
      "cell_type": "code",
      "metadata": {
        "colab": {
          "base_uri": "https://localhost:8080/"
        },
        "id": "QQZA2XJFwmQC",
        "outputId": "ff8a43db-8a3c-4c81-9dea-0face51e9172"
      },
      "source": [
        "# Import the pendulum module\n",
        "import pendulum as p\n",
        "\n",
        "# Create a now datetime for Tokyo: tokyo_dt\n",
        "tokyo_dt = p.now(\"Asia/Tokyo\")\n",
        "\n",
        "# Covert the tokyo_dt to Los Angeles: la_dt\n",
        "la_dt = tokyo_dt.in_timezone(\"America/Los_Angeles\")\n",
        "\n",
        "# Print the ISO 8601 string of la_dt\n",
        "print(la_dt.to_iso8601_string())"
      ],
      "execution_count": 4,
      "outputs": [
        {
          "output_type": "stream",
          "text": [
            "2021-05-08T09:15:36.913105-07:00\n"
          ],
          "name": "stdout"
        }
      ]
    },
    {
      "cell_type": "code",
      "metadata": {
        "colab": {
          "base_uri": "https://localhost:8080/"
        },
        "id": "C37baZo5wzHF",
        "outputId": "2efcf0e4-37bb-4618-bc06-906711742a55"
      },
      "source": [
        "import pendulum as p\n",
        "\n",
        "d1 = [\"2001-01-30\", \"2001-03-31\",\"2001-05-30\" ,\"2001-07-29\" ,\"2001-09-27\" ,\"2001-11-26\" ,\"2002-01-25\" ,\"2002-03-26\" ,\"2002-05-25\" ,\"2002-07-24\" ,\"2002-09-22\" ,\"2002-11-21\" ,\"2003-01-20\" ,\"2003-03-21\" ,\"2003-05-20\" ,\"2003-07-19\" ,\"2003-09-17\" ,\"2003-11-16\" ,\"2004-01-15\" ,\"2004-03-15\" ,\"2004-05-14\" ,\"2004-07-13\" ,\"2004-09-11\" ,\"2004-11-10\" ,\"2005-01-09\" ,\"2005-03-10\" ,\"2005-05-09\" ,\"2005-07-08\" ,\"2005-09-06\" ,\"2005-11-05\" ,\"2006-01-04\" ,\"2006-03-05\" ,\"2006-05-04\" ,\"2006-07-03\" ,\"2006-09-01\" ,\"2006-10-31\" ,\"2006-12-30\" ,\"2007-02-28\" ,\"2007-04-29\" ,\"2007-06-28\" ,\"2007-08-27\" ,\"2007-10-26\" ,\"2007-12-25\" ,\"2008-02-23\" ,\"2008-04-23\" ,\"2008-06-22\" ,\"2008-08-21\" ,\"2008-10-20\" ,\"2008-12-19\" ,\"2009-02-17\" ,\"2009-04-18\" ,\"2009-06-17\" ,\"2009-08-16\" ,\"2009-10-15\" ,\"2009-12-14\" ,\"2010-02-12\" ,\"2010-04-13\" ,\"2010-06-12\" ,\"2010-08-11\" ,\"2010-10-10\" ,\"2010-12-09\" ,\"2011-02-07\" ,\"2011-04-08\" ,\"2011-06-07\" ,\"2011-08-06\" ,\"2011-10-05\" ,\"2011-11-03\" ,\"2012-01-02\" ,\"2012-03-02\",\"2012-05-01\" ,\"2012-06-30\" ,\"2012-08-29\" ,\"2012-10-28\" ,\"2012-12-27\" ,\"2013-02-25\" ,\"2013-04-26\" ,\"2013-06-25\" ,\"2013-08-24\" ,\"2013-10-23\" ]\n",
        "d2 = [\"2001-03-01\" ,\"2001-04-30\" ,\"2001-06-29\" ,\"2001-08-28\" ,\"2001-10-27\" ,\"2001-12-26\" ,\"2002-02-24\" ,\"2002-04-25\" ,\"2002-06-24\" ,\"2002-08-23\" ,\"2002-10-22\" ,\"2002-12-21\" ,\"2003-02-19\" ,\"2003-04-20\" ,\"2003-06-19\" ,\"2003-08-18\" ,\"2003-10-17\" ,\"2003-12-16\" ,\"2004-02-14\" ,\"2004-04-14\" ,\"2004-06-13\" ,\"2004-08-12\" ,\"2004-10-11\" ,\"2004-12-10\" ,\"2005-02-08\" ,\"2005-04-09\" ,\"2005-06-08\" ,\"2005-08-07\" ,\"2005-10-06\" ,\"2005-12-05\" ,\"2006-02-03\" ,\"2006-04-04\" ,\"2006-06-03\" ,\"2006-08-02\" ,\"2006-10-01\" ,\"2006-11-30\" ,\"2007-01-29\" ,\"2007-03-30\" ,\"2007-05-29\" ,\"2007-07-28\" ,\"2007-09-26\" ,\"2007-11-25\" ,\"2008-01-24\" ,\"2008-03-24\" ,\"2008-05-23\" ,\"2008-07-22\" ,\"2008-09-20\" ,\"2008-11-19\" ,\"2009-01-18\" ,\"2009-03-19\" ,\"2009-05-18\" ,\"2009-07-17\" ,\"2009-09-15\" ,\"2009-11-14\" ,\"2010-01-13\" ,\"2010-03-14\" ,\"2010-05-13\" ,\"2010-07-12\" ,\"2010-09-10\" ,\"2010-11-09\" ,\"2011-01-08\" ,\"2011-03-09\" ,\"2011-05-08\" ,\"2011-07-07\" ,\"2011-09-05\" ,\"2011-10-04\" ,\"2011-12-03\" ,\"2012-02-01\" ,\"2012-04-01\" ,\"2012-05-31\" ,\"2012-07-30\" ,\"2012-09-28\" ,\"2012-11-27\" ,\"2013-01-26\" ,\"2013-03-27\" ,\"2013-05-26\" ,\"2013-07-25\" ,\"2013-09-23\" ,\"2013-11-22\" ]\n",
        "date_ranges=zip(d1, d2)\n",
        "# Iterate over date_ranges\n",
        "for start_date, end_date in date_ranges:\n",
        "\n",
        "    # Convert the start_date string to a pendulum date: start_dt \n",
        "    start_dt = p.parse(start_date, strict=False)\n",
        "    \n",
        "    # Convert the end_date string to a pendulum date: end_dt \n",
        "    end_dt = p.parse(end_date, strict=False)\n",
        "    \n",
        "    # Print the End and Start Date\n",
        "    print(end_dt, start_dt)\n",
        "    \n",
        "    # Calculate the difference between end_dt and start_dt: diff_period\n",
        "    diff_period = end_dt - start_dt\n",
        "    \n",
        "    # Print the difference in days\n",
        "    print(diff_period.in_days())\n"
      ],
      "execution_count": 12,
      "outputs": [
        {
          "output_type": "stream",
          "text": [
            "2001-03-01T00:00:00+00:00 2001-01-30T00:00:00+00:00\n",
            "30\n",
            "2001-04-30T00:00:00+00:00 2001-03-31T00:00:00+00:00\n",
            "30\n",
            "2001-06-29T00:00:00+00:00 2001-05-30T00:00:00+00:00\n",
            "30\n",
            "2001-08-28T00:00:00+00:00 2001-07-29T00:00:00+00:00\n",
            "30\n",
            "2001-10-27T00:00:00+00:00 2001-09-27T00:00:00+00:00\n",
            "30\n",
            "2001-12-26T00:00:00+00:00 2001-11-26T00:00:00+00:00\n",
            "30\n",
            "2002-02-24T00:00:00+00:00 2002-01-25T00:00:00+00:00\n",
            "30\n",
            "2002-04-25T00:00:00+00:00 2002-03-26T00:00:00+00:00\n",
            "30\n",
            "2002-06-24T00:00:00+00:00 2002-05-25T00:00:00+00:00\n",
            "30\n",
            "2002-08-23T00:00:00+00:00 2002-07-24T00:00:00+00:00\n",
            "30\n",
            "2002-10-22T00:00:00+00:00 2002-09-22T00:00:00+00:00\n",
            "30\n",
            "2002-12-21T00:00:00+00:00 2002-11-21T00:00:00+00:00\n",
            "30\n",
            "2003-02-19T00:00:00+00:00 2003-01-20T00:00:00+00:00\n",
            "30\n",
            "2003-04-20T00:00:00+00:00 2003-03-21T00:00:00+00:00\n",
            "30\n",
            "2003-06-19T00:00:00+00:00 2003-05-20T00:00:00+00:00\n",
            "30\n",
            "2003-08-18T00:00:00+00:00 2003-07-19T00:00:00+00:00\n",
            "30\n",
            "2003-10-17T00:00:00+00:00 2003-09-17T00:00:00+00:00\n",
            "30\n",
            "2003-12-16T00:00:00+00:00 2003-11-16T00:00:00+00:00\n",
            "30\n",
            "2004-02-14T00:00:00+00:00 2004-01-15T00:00:00+00:00\n",
            "30\n",
            "2004-04-14T00:00:00+00:00 2004-03-15T00:00:00+00:00\n",
            "30\n",
            "2004-06-13T00:00:00+00:00 2004-05-14T00:00:00+00:00\n",
            "30\n",
            "2004-08-12T00:00:00+00:00 2004-07-13T00:00:00+00:00\n",
            "30\n",
            "2004-10-11T00:00:00+00:00 2004-09-11T00:00:00+00:00\n",
            "30\n",
            "2004-12-10T00:00:00+00:00 2004-11-10T00:00:00+00:00\n",
            "30\n",
            "2005-02-08T00:00:00+00:00 2005-01-09T00:00:00+00:00\n",
            "30\n",
            "2005-04-09T00:00:00+00:00 2005-03-10T00:00:00+00:00\n",
            "30\n",
            "2005-06-08T00:00:00+00:00 2005-05-09T00:00:00+00:00\n",
            "30\n",
            "2005-08-07T00:00:00+00:00 2005-07-08T00:00:00+00:00\n",
            "30\n",
            "2005-10-06T00:00:00+00:00 2005-09-06T00:00:00+00:00\n",
            "30\n",
            "2005-12-05T00:00:00+00:00 2005-11-05T00:00:00+00:00\n",
            "30\n",
            "2006-02-03T00:00:00+00:00 2006-01-04T00:00:00+00:00\n",
            "30\n",
            "2006-04-04T00:00:00+00:00 2006-03-05T00:00:00+00:00\n",
            "30\n",
            "2006-06-03T00:00:00+00:00 2006-05-04T00:00:00+00:00\n",
            "30\n",
            "2006-08-02T00:00:00+00:00 2006-07-03T00:00:00+00:00\n",
            "30\n",
            "2006-10-01T00:00:00+00:00 2006-09-01T00:00:00+00:00\n",
            "30\n",
            "2006-11-30T00:00:00+00:00 2006-10-31T00:00:00+00:00\n",
            "30\n",
            "2007-01-29T00:00:00+00:00 2006-12-30T00:00:00+00:00\n",
            "30\n",
            "2007-03-30T00:00:00+00:00 2007-02-28T00:00:00+00:00\n",
            "30\n",
            "2007-05-29T00:00:00+00:00 2007-04-29T00:00:00+00:00\n",
            "30\n",
            "2007-07-28T00:00:00+00:00 2007-06-28T00:00:00+00:00\n",
            "30\n",
            "2007-09-26T00:00:00+00:00 2007-08-27T00:00:00+00:00\n",
            "30\n",
            "2007-11-25T00:00:00+00:00 2007-10-26T00:00:00+00:00\n",
            "30\n",
            "2008-01-24T00:00:00+00:00 2007-12-25T00:00:00+00:00\n",
            "30\n",
            "2008-03-24T00:00:00+00:00 2008-02-23T00:00:00+00:00\n",
            "30\n",
            "2008-05-23T00:00:00+00:00 2008-04-23T00:00:00+00:00\n",
            "30\n",
            "2008-07-22T00:00:00+00:00 2008-06-22T00:00:00+00:00\n",
            "30\n",
            "2008-09-20T00:00:00+00:00 2008-08-21T00:00:00+00:00\n",
            "30\n",
            "2008-11-19T00:00:00+00:00 2008-10-20T00:00:00+00:00\n",
            "30\n",
            "2009-01-18T00:00:00+00:00 2008-12-19T00:00:00+00:00\n",
            "30\n",
            "2009-03-19T00:00:00+00:00 2009-02-17T00:00:00+00:00\n",
            "30\n",
            "2009-05-18T00:00:00+00:00 2009-04-18T00:00:00+00:00\n",
            "30\n",
            "2009-07-17T00:00:00+00:00 2009-06-17T00:00:00+00:00\n",
            "30\n",
            "2009-09-15T00:00:00+00:00 2009-08-16T00:00:00+00:00\n",
            "30\n",
            "2009-11-14T00:00:00+00:00 2009-10-15T00:00:00+00:00\n",
            "30\n",
            "2010-01-13T00:00:00+00:00 2009-12-14T00:00:00+00:00\n",
            "30\n",
            "2010-03-14T00:00:00+00:00 2010-02-12T00:00:00+00:00\n",
            "30\n",
            "2010-05-13T00:00:00+00:00 2010-04-13T00:00:00+00:00\n",
            "30\n",
            "2010-07-12T00:00:00+00:00 2010-06-12T00:00:00+00:00\n",
            "30\n",
            "2010-09-10T00:00:00+00:00 2010-08-11T00:00:00+00:00\n",
            "30\n",
            "2010-11-09T00:00:00+00:00 2010-10-10T00:00:00+00:00\n",
            "30\n",
            "2011-01-08T00:00:00+00:00 2010-12-09T00:00:00+00:00\n",
            "30\n",
            "2011-03-09T00:00:00+00:00 2011-02-07T00:00:00+00:00\n",
            "30\n",
            "2011-05-08T00:00:00+00:00 2011-04-08T00:00:00+00:00\n",
            "30\n",
            "2011-07-07T00:00:00+00:00 2011-06-07T00:00:00+00:00\n",
            "30\n",
            "2011-09-05T00:00:00+00:00 2011-08-06T00:00:00+00:00\n",
            "30\n",
            "2011-10-04T00:00:00+00:00 2011-10-05T00:00:00+00:00\n",
            "-1\n",
            "2011-12-03T00:00:00+00:00 2011-11-03T00:00:00+00:00\n",
            "30\n",
            "2012-02-01T00:00:00+00:00 2012-01-02T00:00:00+00:00\n",
            "30\n",
            "2012-04-01T00:00:00+00:00 2012-03-02T00:00:00+00:00\n",
            "30\n",
            "2012-05-31T00:00:00+00:00 2012-05-01T00:00:00+00:00\n",
            "30\n",
            "2012-07-30T00:00:00+00:00 2012-06-30T00:00:00+00:00\n",
            "30\n",
            "2012-09-28T00:00:00+00:00 2012-08-29T00:00:00+00:00\n",
            "30\n",
            "2012-11-27T00:00:00+00:00 2012-10-28T00:00:00+00:00\n",
            "30\n",
            "2013-01-26T00:00:00+00:00 2012-12-27T00:00:00+00:00\n",
            "30\n",
            "2013-03-27T00:00:00+00:00 2013-02-25T00:00:00+00:00\n",
            "30\n",
            "2013-05-26T00:00:00+00:00 2013-04-26T00:00:00+00:00\n",
            "30\n",
            "2013-07-25T00:00:00+00:00 2013-06-25T00:00:00+00:00\n",
            "30\n",
            "2013-09-23T00:00:00+00:00 2013-08-24T00:00:00+00:00\n",
            "30\n",
            "2013-11-22T00:00:00+00:00 2013-10-23T00:00:00+00:00\n",
            "30\n"
          ],
          "name": "stdout"
        }
      ]
    },
    {
      "cell_type": "code",
      "metadata": {
        "colab": {
          "base_uri": "https://localhost:8080/"
        },
        "id": "ZWaeaXMJyJs_",
        "outputId": "f82d3581-89a9-4625-8c73-e5dbce79e4f4"
      },
      "source": [
        "### Case Study Chicago Crime Data\n",
        "import csv\n",
        "from collections import Counter, defaultdict\n",
        "from datetime import datetime\n",
        "\n",
        "# Create the file object: csvfile\n",
        "csvfile = open(\"crime_sampler.csv\", \"r\")\n",
        "\n",
        "# Create an empty list: crime_data\n",
        "crime_data = []\n",
        "\n",
        "# crime_sampler.csv contains the date (1st column), block where it occurred (2nd column), primary type of the crime (3rd), description of the crime (4th), description of the location (5th), if an arrest was made (6th), was it a domestic case (7th), and city district (8th).\n",
        "# Here, however, you'll focus only 4 columns: The date (0), type of crime (2), location(4), and whether or not the crime resulted in an arrest (5).\n",
        "\n",
        "\n",
        "# Loop over a csv reader on the file object\n",
        "for row in csv.reader(csvfile):\n",
        "\n",
        "    # Append the date, type of crime, location description, and arrest\n",
        "    crime_data.append((row[0], row[2], row[4], row[5]))\n",
        "    \n",
        "# Remove the first element from crime_data\n",
        "crime_data.pop(0)\n",
        "\n",
        "# Print the first 10 records\n",
        "print(crime_data[:10])\n",
        "\n",
        "\n",
        "# Create a Counter Object: crimes_by_month\n",
        "crimes_by_month = Counter()\n",
        "\n",
        "# Loop over the crime_data list\n",
        "for i in crime_data:\n",
        "    \n",
        "    # Convert the first element of each item into a Python Datetime Object: date\n",
        "    date = datetime.strptime(i[0], '%m/%d/%Y %I:%M:%S %p')\n",
        "    \n",
        "    # Increment the counter for the month of the row by one\n",
        "    crimes_by_month[date.month] += 1\n",
        "    \n",
        "# Print the 3 most common months for crime\n",
        "print(crimes_by_month.most_common(3))\n",
        "\n",
        "# สร้างข้อมูล crime_data ใหม่ให้เหมือนกับโจทย์\n",
        "crime_data = []\n",
        "csvfile = open(\"crime_sampler.csv\", \"r\")\n",
        "for row in csv.reader(csvfile):\n",
        "    # Append the date, type of crime, location description, and arrest\n",
        "    crime_data.append(row)\n",
        "crime_data.pop(0)\n",
        "# Create a dictionary that defaults to a list: locations_by_month\n",
        "locations_by_month = defaultdict(list)\n",
        "\n",
        "# Loop over the crime_data list\n",
        "for row in crime_data:\n",
        "    # Convert the first element to a date object\n",
        "    date = datetime.strptime(row[0], '%m/%d/%Y %I:%M:%S %p')\n",
        "    \n",
        "    # If the year is 2016 \n",
        "    if date.year == 2016:\n",
        "        # Set the dictionary key to the month and append the location (fifth element) to the values list\n",
        "        locations_by_month[date.month].append(row[4])\n",
        "    \n",
        "# Print the dictionary\n",
        "print(locations_by_month)\n",
        "\n",
        "# Loop over the items from locations_by_month using tuple expansion of the month and locations\n",
        "for month, locations in locations_by_month.items():\n",
        "    # Make a Counter of the locations\n",
        "    location_count = Counter(locations)\n",
        "    # Print the month \n",
        "    print(month)\n",
        "    # Print the most common location\n",
        "    print(location_count.most_common(5))"
      ],
      "execution_count": 29,
      "outputs": [
        {
          "output_type": "stream",
          "text": [
            "[('05/23/2016 05:35:00 PM', 'ASSAULT', 'STREET', 'false'), ('03/26/2016 08:20:00 PM', 'BURGLARY', 'SMALL RETAIL STORE', 'false'), ('04/25/2016 03:05:00 PM', 'THEFT', 'DEPARTMENT STORE', 'true'), ('04/26/2016 05:30:00 PM', 'BATTERY', 'SIDEWALK', 'false'), ('06/19/2016 01:15:00 AM', 'BATTERY', 'SIDEWALK', 'false'), ('05/28/2016 08:00:00 PM', 'BATTERY', 'GAS STATION', 'false'), ('07/03/2016 03:43:00 PM', 'THEFT', 'OTHER', 'false'), ('06/11/2016 06:55:00 PM', 'PUBLIC PEACE VIOLATION', 'STREET', 'true'), ('10/04/2016 10:20:00 AM', 'BATTERY', 'STREET', 'true'), ('02/14/2017 09:00:00 PM', 'CRIMINAL DAMAGE', 'PARK PROPERTY', 'false')]\n",
            "[(1, 1948), (2, 1862), (7, 1257)]\n",
            "defaultdict(<class 'list'>, {5: ['STREET', 'GAS STATION', '', 'PARKING LOT/GARAGE(NON.RESID.)', 'RESIDENCE', 'STREET', 'RESTAURANT', 'SMALL RETAIL STORE', 'STREET', 'APARTMENT', 'SIDEWALK', 'PARKING LOT/GARAGE(NON.RESID.)', 'DEPARTMENT STORE', 'PARKING LOT/GARAGE(NON.RESID.)', 'SMALL RETAIL STORE', 'RESIDENCE', 'STREET', 'RESIDENCE', 'APARTMENT', 'RESIDENCE-GARAGE', 'APARTMENT', 'ALLEY', 'HIGHWAY/EXPRESSWAY', 'SIDEWALK', 'POLICE FACILITY/VEH PARKING LOT', 'RESIDENCE', 'STREET', 'APARTMENT', 'RESIDENCE PORCH/HALLWAY', 'STREET', 'RESIDENCE', 'SMALL RETAIL STORE', 'SCHOOL, PUBLIC, BUILDING', 'SIDEWALK', 'SCHOOL, PUBLIC, BUILDING', 'STREET', 'APARTMENT', 'STREET', 'SIDEWALK', 'SMALL RETAIL STORE', 'ALLEY', 'OTHER', 'APARTMENT', 'STREET', 'RESIDENCE', 'GROCERY FOOD STORE', 'SIDEWALK', 'SCHOOL, PUBLIC, BUILDING', 'APARTMENT', 'APARTMENT', 'PARKING LOT/GARAGE(NON.RESID.)', 'RESIDENCE', 'STREET', 'APARTMENT', 'APARTMENT', 'CURRENCY EXCHANGE', 'RESIDENTIAL YARD (FRONT/BACK)', 'ALLEY', 'CTA TRAIN', 'RESIDENCE', 'RESTAURANT', 'OTHER', 'STREET', 'RESIDENCE', 'RESIDENCE PORCH/HALLWAY', 'APARTMENT', 'GAS STATION', 'SCHOOL, PUBLIC, GROUNDS', 'SIDEWALK', 'STREET', 'RESIDENCE-GARAGE', 'RESIDENCE', 'RESIDENCE-GARAGE', 'RESIDENCE', 'OTHER', 'APARTMENT', 'SIDEWALK', 'SCHOOL, PRIVATE, BUILDING', 'RESIDENCE', 'STREET', 'ALLEY', 'RESIDENCE', 'HOTEL/MOTEL', 'SIDEWALK', 'RESIDENCE PORCH/HALLWAY', 'SIDEWALK', 'ALLEY', 'SIDEWALK', 'ALLEY', 'ALLEY', 'RESIDENCE', 'ALLEY', 'CTA BUS', 'DEPARTMENT STORE', 'RESTAURANT', 'RESIDENCE', 'STREET', 'SIDEWALK', 'DEPARTMENT STORE', 'OTHER', 'APARTMENT', 'RESIDENTIAL YARD (FRONT/BACK)', 'HOTEL/MOTEL', 'BAR OR TAVERN', 'APARTMENT', 'STREET', 'STREET', 'APARTMENT', 'OTHER', 'SCHOOL, PRIVATE, BUILDING', 'ABANDONED BUILDING', 'GAS STATION', 'APARTMENT', 'BANK', 'STREET', 'RESIDENCE', 'SMALL RETAIL STORE', 'APARTMENT', 'STREET', 'RESIDENCE', 'STREET', 'STREET', 'RESIDENCE', 'APARTMENT', 'RESTAURANT', 'APARTMENT', 'STREET', 'STREET', 'RESIDENCE', 'ABANDONED BUILDING', 'RESIDENCE', 'AIRPORT TERMINAL UPPER LEVEL - SECURE AREA', 'PARKING LOT/GARAGE(NON.RESID.)', 'SIDEWALK', 'RESIDENCE', 'RESIDENCE', 'RESIDENCE', 'STREET', 'STREET', 'SCHOOL, PUBLIC, BUILDING', 'RESIDENCE', 'STREET', 'SIDEWALK', 'RESIDENTIAL YARD (FRONT/BACK)', 'SMALL RETAIL STORE', 'RESIDENCE', 'PARKING LOT/GARAGE(NON.RESID.)', 'BANK', 'RESIDENCE', 'ALLEY', 'RESTAURANT', 'APARTMENT', 'STREET', 'RESIDENCE PORCH/HALLWAY', 'SIDEWALK', 'DEPARTMENT STORE', 'GAS STATION', 'PARKING LOT/GARAGE(NON.RESID.)', 'PARK PROPERTY', 'RESIDENTIAL YARD (FRONT/BACK)', 'VEHICLE NON-COMMERCIAL', 'STREET', 'STREET', 'SIDEWALK', 'STREET', 'RESIDENCE', 'STREET', 'APARTMENT', 'ATM (AUTOMATIC TELLER MACHINE)', 'STREET', 'SCHOOL, PUBLIC, BUILDING', 'GAS STATION', 'CTA BUS', 'RESIDENCE', 'STREET', 'DEPARTMENT STORE', 'SIDEWALK', 'SIDEWALK', 'STREET', 'RESIDENCE', 'STREET', 'SIDEWALK', 'ALLEY', 'SIDEWALK', 'STREET', 'RESIDENCE', 'APARTMENT', 'ALLEY', 'SIDEWALK', 'STREET', 'STREET', 'OTHER', 'RESIDENCE', 'RESIDENCE', 'SCHOOL, PUBLIC, BUILDING', 'PARKING LOT/GARAGE(NON.RESID.)', 'RESIDENCE', 'ALLEY', 'STREET', 'APARTMENT', '', 'SCHOOL, PUBLIC, BUILDING', 'STREET', 'APARTMENT', 'GROCERY FOOD STORE', 'RESIDENCE', 'STREET', 'GROCERY FOOD STORE', 'APARTMENT', 'STREET', 'STREET', 'APARTMENT', 'STREET', 'STREET', 'RESTAURANT', 'STREET', 'STREET', 'SCHOOL, PUBLIC, GROUNDS', 'SIDEWALK', 'APARTMENT', 'OTHER', 'OTHER', '', 'SIDEWALK', 'STREET', 'STREET', 'STREET', 'SIDEWALK', 'SIDEWALK', 'CURRENCY EXCHANGE', 'SIDEWALK', 'APARTMENT', 'ALLEY', 'STREET', 'RESIDENCE', 'APARTMENT', 'APARTMENT', 'STREET', 'STREET', 'RESIDENCE', 'CTA STATION', 'STREET', 'STREET', 'RESIDENCE', 'GAS STATION', 'RESIDENCE', 'APARTMENT', 'STREET', 'RESIDENCE', 'STREET', 'STREET', 'STREET', 'DEPARTMENT STORE', 'RESIDENCE', 'ALLEY', 'DRUG STORE', 'STREET', 'STREET', 'SCHOOL, PUBLIC, BUILDING', 'RESIDENCE', 'STREET', 'SIDEWALK', 'DEPARTMENT STORE', 'RESIDENCE', 'STREET', 'APARTMENT', 'PARK PROPERTY', 'VEHICLE NON-COMMERCIAL', 'RESIDENCE', 'VEHICLE NON-COMMERCIAL', 'OTHER', 'RESIDENCE', 'APARTMENT', 'RESIDENCE PORCH/HALLWAY', 'RESIDENCE', 'ALLEY', 'RESIDENCE', 'APARTMENT', 'BANK', 'RESIDENTIAL YARD (FRONT/BACK)', 'SMALL RETAIL STORE', 'SMALL RETAIL STORE', 'APARTMENT', 'RESIDENCE', 'APARTMENT', 'SIDEWALK', 'APARTMENT', 'RESIDENCE-GARAGE', 'RESIDENCE', 'STREET', 'SIDEWALK', 'SCHOOL, PUBLIC, BUILDING', 'APARTMENT', 'STREET', 'CTA STATION', 'OTHER', 'RESIDENCE PORCH/HALLWAY', 'SIDEWALK', 'OTHER', 'SCHOOL, PUBLIC, BUILDING', 'STREET', 'STREET', 'STREET', 'OTHER', 'OTHER', 'STREET', 'SIDEWALK', 'STREET', 'AIRPORT VENDING ESTABLISHMENT', 'STREET', 'PARK PROPERTY', 'STREET', 'CONSTRUCTION SITE', 'RESIDENCE-GARAGE', 'RESIDENCE', 'STREET', 'VEHICLE NON-COMMERCIAL', 'STREET', 'RESIDENCE PORCH/HALLWAY', 'RESIDENCE', 'VEHICLE NON-COMMERCIAL', 'SIDEWALK', 'STREET', 'RESIDENCE', 'RESIDENCE', 'PARK PROPERTY', 'APARTMENT', 'STREET', 'RESIDENCE', 'CTA TRAIN', 'SCHOOL, PUBLIC, BUILDING', 'GAS STATION', 'RESIDENCE', 'ABANDONED BUILDING', 'OTHER', 'STREET', 'STREET', 'GAS STATION', 'RESIDENCE', 'STREET', 'APARTMENT', 'OTHER COMMERCIAL TRANSPORTATION', 'ALLEY', 'APARTMENT', 'PARKING LOT/GARAGE(NON.RESID.)', 'VEHICLE NON-COMMERCIAL', 'ALLEY', 'RESIDENCE', 'CTA TRAIN', 'APARTMENT', 'STREET', 'RESIDENCE', 'RESIDENCE', 'VEHICLE NON-COMMERCIAL', 'STREET', 'RESIDENCE', 'STREET', 'CTA TRAIN', 'GROCERY FOOD STORE', 'CTA BUS STOP', 'STREET', 'SMALL RETAIL STORE', 'APARTMENT', 'PARKING LOT/GARAGE(NON.RESID.)', 'RESIDENTIAL YARD (FRONT/BACK)', 'STREET', 'SIDEWALK', 'SCHOOL, PUBLIC, BUILDING', 'STREET', 'RESTAURANT', 'CTA STATION', 'APARTMENT', 'STREET', 'RESIDENCE', 'RESIDENCE', 'STREET', 'RESIDENCE', 'SMALL RETAIL STORE', 'SCHOOL, PUBLIC, GROUNDS', 'RESIDENCE-GARAGE', 'GAS STATION', 'OTHER', 'RESIDENCE', 'HOTEL/MOTEL', 'RESIDENCE-GARAGE', 'PARKING LOT/GARAGE(NON.RESID.)', 'GROCERY FOOD STORE', 'RESIDENCE', 'PARKING LOT/GARAGE(NON.RESID.)', 'STREET', 'STREET', 'RESIDENCE', 'STREET', 'STREET', 'STREET', 'RESIDENCE', 'OTHER', 'PARKING LOT/GARAGE(NON.RESID.)', 'STREET', 'VEHICLE NON-COMMERCIAL', 'RESIDENCE', 'STREET', 'APARTMENT', 'HOTEL/MOTEL', 'APARTMENT', 'STREET', 'APARTMENT', 'STREET', 'APARTMENT', 'APARTMENT', 'RESIDENCE', 'APARTMENT', 'STREET', 'STREET', 'STREET', 'STREET', 'APARTMENT', 'APARTMENT', 'OTHER', 'STREET', 'PARK PROPERTY', 'OTHER', 'RESIDENCE', 'GAS STATION', 'SIDEWALK', 'RESTAURANT', 'RESIDENCE', 'STREET', 'RESIDENTIAL YARD (FRONT/BACK)', 'STREET', 'RESIDENCE', 'RESIDENCE', 'TAXICAB', 'RESIDENCE', 'CTA STATION', 'STREET', 'POLICE FACILITY/VEH PARKING LOT', 'RESIDENCE', 'STREET', 'STREET', 'SIDEWALK', 'SIDEWALK', 'APARTMENT', 'ALLEY', 'STREET', 'SIDEWALK', 'GAS STATION', 'APARTMENT', 'RESIDENCE', 'CTA TRAIN', 'STREET', 'STREET', 'RESIDENCE', 'CTA TRAIN', 'OTHER', 'VEHICLE NON-COMMERCIAL', 'STREET', 'GAS STATION', 'APARTMENT', 'SIDEWALK', 'APARTMENT', 'RESIDENCE', 'RESIDENCE', 'BAR OR TAVERN', 'STREET', 'COMMERCIAL / BUSINESS OFFICE', 'PARK PROPERTY', 'STREET', 'STREET', 'OTHER', 'RESIDENCE', 'PARKING LOT/GARAGE(NON.RESID.)', 'OTHER', 'ALLEY', 'SCHOOL, PUBLIC, BUILDING', 'STREET', 'GROCERY FOOD STORE', 'SIDEWALK', 'RESTAURANT', 'STREET', 'SIDEWALK', 'STREET', 'APARTMENT', 'VEHICLE NON-COMMERCIAL', 'STREET', 'APARTMENT', 'SIDEWALK', 'RESIDENCE', 'RESIDENCE-GARAGE', 'APARTMENT', 'GROCERY FOOD STORE', 'RESIDENCE', 'SIDEWALK', 'APARTMENT', 'RESIDENCE', 'STREET', 'APARTMENT', 'STREET', 'RESIDENCE-GARAGE', 'OTHER', 'STREET', 'CHA PARKING LOT/GROUNDS', 'SIDEWALK', 'SIDEWALK', 'RESIDENCE', 'RESIDENTIAL YARD (FRONT/BACK)', 'STREET', 'ALLEY', 'STREET', 'SIDEWALK', 'APARTMENT', 'STREET', 'RESIDENCE', 'ABANDONED BUILDING', 'DEPARTMENT STORE', 'RESIDENCE', 'RESIDENTIAL YARD (FRONT/BACK)', 'OTHER', 'POLICE FACILITY/VEH PARKING LOT', 'RESIDENCE-GARAGE', 'RESIDENCE', 'DRUG STORE', 'TAVERN/LIQUOR STORE', 'APARTMENT', 'STREET', 'OTHER', 'STREET', 'SCHOOL, PUBLIC, BUILDING', 'STREET', 'OTHER', 'RESTAURANT', 'APARTMENT', 'STREET', 'GROCERY FOOD STORE', 'PARK PROPERTY', 'ALLEY', 'APARTMENT', 'ALLEY', 'PARKING LOT/GARAGE(NON.RESID.)', 'APARTMENT', 'STREET', 'STREET', 'APARTMENT', 'SIDEWALK', 'STREET', 'RESIDENCE', 'STREET', 'SIDEWALK', 'RESIDENCE', 'APARTMENT', 'PARKING LOT/GARAGE(NON.RESID.)', 'SIDEWALK', 'SCHOOL, PUBLIC, BUILDING', 'CONVENIENCE STORE', 'RESIDENCE', 'APARTMENT', 'SIDEWALK', 'ALLEY', 'STREET', 'SIDEWALK', 'PARKING LOT/GARAGE(NON.RESID.)', 'RESIDENCE-GARAGE', 'APARTMENT', 'APARTMENT', 'SMALL RETAIL STORE', 'STREET', 'STREET', 'RESIDENCE', 'APARTMENT', 'RESIDENCE', 'RESIDENCE', 'RESIDENCE', '', 'RESIDENCE', 'RESIDENCE', 'OTHER', 'RESIDENCE', 'RESTAURANT', 'COMMERCIAL / BUSINESS OFFICE', 'GOVERNMENT BUILDING/PROPERTY', 'STREET', 'RESIDENCE', 'STREET', 'STREET', 'RESIDENCE', 'ALLEY', 'STREET', 'STREET', 'STREET', 'VEHICLE NON-COMMERCIAL', 'ALLEY', 'PARK PROPERTY', 'STREET', 'RESIDENCE-GARAGE', 'DEPARTMENT STORE', 'RESIDENCE', 'RESIDENCE', 'DRUG STORE', 'SIDEWALK', 'APARTMENT', 'RESIDENCE', 'SIDEWALK', 'PARK PROPERTY', 'RESIDENCE', 'GROCERY FOOD STORE', 'RESIDENCE PORCH/HALLWAY', 'GAS STATION', 'SIDEWALK', 'GROCERY FOOD STORE', 'RESIDENCE', 'RESIDENCE', 'RESIDENTIAL YARD (FRONT/BACK)', 'RESIDENCE', 'OTHER', 'APARTMENT', 'SCHOOL, PRIVATE, BUILDING', 'APARTMENT', 'PARK PROPERTY', 'APARTMENT', 'VEHICLE NON-COMMERCIAL', 'DAY CARE CENTER', 'DEPARTMENT STORE', 'SIDEWALK', 'OTHER', 'PARKING LOT/GARAGE(NON.RESID.)', 'SMALL RETAIL STORE', 'RESIDENCE', 'APARTMENT', 'RESIDENCE', 'RESIDENCE PORCH/HALLWAY', 'RESIDENCE', 'STREET', 'RESIDENCE', 'DEPARTMENT STORE', 'STREET', 'APARTMENT', 'SIDEWALK', 'RESIDENTIAL YARD (FRONT/BACK)', 'STREET', 'STREET', 'STREET', '', 'RESIDENTIAL YARD (FRONT/BACK)', 'RESIDENCE', 'RESIDENCE', 'STREET', 'APARTMENT', 'APARTMENT', 'STREET', 'ALLEY', 'SIDEWALK', 'STREET', 'RESIDENCE', 'STREET', 'SIDEWALK', 'RESIDENTIAL YARD (FRONT/BACK)', 'RESIDENCE-GARAGE', 'RESTAURANT', 'PARKING LOT/GARAGE(NON.RESID.)', 'STREET', 'STREET', 'APARTMENT', 'SIDEWALK', 'RESIDENCE', 'STREET', 'RESIDENCE', 'RESIDENCE', 'SIDEWALK', 'SIDEWALK', 'CTA STATION', 'GROCERY FOOD STORE', 'STREET', 'STREET', 'RESIDENCE-GARAGE', 'SIDEWALK', 'CTA BUS STOP', 'SIDEWALK', 'RESIDENCE', 'GROCERY FOOD STORE', 'RESIDENCE', 'CAR WASH', 'RESIDENCE', 'VEHICLE NON-COMMERCIAL', 'SCHOOL, PUBLIC, BUILDING', 'APARTMENT', 'VEHICLE NON-COMMERCIAL', 'PARKING LOT/GARAGE(NON.RESID.)', 'RESIDENCE', 'STREET', 'SMALL RETAIL STORE', 'STREET', 'RESIDENCE-GARAGE', 'VEHICLE NON-COMMERCIAL', 'STREET', 'ALLEY', 'PARK PROPERTY', 'RESIDENCE', 'STREET', 'RESIDENCE', 'RESIDENCE', 'STREET', 'RESIDENCE PORCH/HALLWAY', 'PARKING LOT/GARAGE(NON.RESID.)', 'DEPARTMENT STORE', 'SIDEWALK', 'SIDEWALK', 'VEHICLE NON-COMMERCIAL', 'DRUG STORE', 'CTA BUS', 'STREET', 'AIRPORT PARKING LOT', 'APARTMENT', 'STREET', 'STREET', 'PARK PROPERTY', 'VEHICLE NON-COMMERCIAL', 'SIDEWALK', 'COLLEGE/UNIVERSITY RESIDENCE HALL', 'STREET', 'APARTMENT', 'VEHICLE NON-COMMERCIAL', 'SIDEWALK', 'PARKING LOT/GARAGE(NON.RESID.)', 'RESIDENTIAL YARD (FRONT/BACK)', 'VACANT LOT/LAND', 'RESIDENTIAL YARD (FRONT/BACK)', 'RESIDENCE', 'STREET', 'RESIDENCE-GARAGE', 'RESIDENCE-GARAGE', 'STREET', 'ATHLETIC CLUB', 'RESIDENCE', 'ALLEY', 'DRUG STORE', 'RESIDENCE', 'PARKING LOT/GARAGE(NON.RESID.)', 'CHA APARTMENT', 'STREET', 'SIDEWALK', 'CTA STATION', 'OTHER', 'SIDEWALK', 'SIDEWALK', 'STREET', 'STREET', 'SCHOOL, PUBLIC, BUILDING', 'STREET', 'STREET', 'SCHOOL, PUBLIC, GROUNDS', 'RESIDENCE', 'RESTAURANT', 'STREET', 'VACANT LOT/LAND', 'STREET', 'RESIDENCE PORCH/HALLWAY', 'RESIDENCE', 'APARTMENT', 'ALLEY', 'APARTMENT', 'RESIDENCE', 'ALLEY', 'RESIDENCE', 'RESIDENCE PORCH/HALLWAY', 'STREET', 'STREET', 'APARTMENT', 'STREET', 'ANIMAL HOSPITAL', 'VEHICLE NON-COMMERCIAL', 'STREET', 'STREET', 'RESTAURANT', 'STREET', 'ATM (AUTOMATIC TELLER MACHINE)', 'STREET', 'APARTMENT', 'RESIDENCE PORCH/HALLWAY', 'STREET', 'STREET', 'STREET', 'OTHER', 'RESIDENCE-GARAGE', 'VEHICLE NON-COMMERCIAL', 'STREET', 'VEHICLE NON-COMMERCIAL', 'RESIDENCE', 'RESIDENCE', 'SMALL RETAIL STORE', 'SIDEWALK', 'APARTMENT', 'OTHER', 'RESIDENTIAL YARD (FRONT/BACK)', 'SIDEWALK', 'RESIDENCE', 'VEHICLE NON-COMMERCIAL', 'GAS STATION', 'SIDEWALK', 'OTHER', 'APARTMENT', 'APARTMENT', 'PARKING LOT/GARAGE(NON.RESID.)', 'RESIDENCE-GARAGE', 'GROCERY FOOD STORE', 'RESIDENCE', 'SIDEWALK', 'RESIDENCE-GARAGE', 'CHA PARKING LOT/GROUNDS', 'VEHICLE NON-COMMERCIAL', 'RESIDENCE PORCH/HALLWAY', 'RESIDENCE', 'RESTAURANT', 'APARTMENT', 'SIDEWALK', 'STREET', 'STREET', 'STREET', 'RESIDENCE-GARAGE', 'SIDEWALK', 'GAS STATION', 'SIDEWALK', 'APARTMENT', 'STREET', 'APARTMENT', 'GAS STATION', 'STREET', 'STREET', 'APARTMENT', 'STREET', 'RESIDENCE', 'OTHER', 'SIDEWALK', 'STREET', 'RESIDENCE', 'RESIDENTIAL YARD (FRONT/BACK)', 'SIDEWALK', 'STREET', 'STREET', 'APARTMENT', 'RESIDENCE', 'RESIDENCE-GARAGE', 'RESIDENCE', 'STREET', 'ABANDONED BUILDING', 'APARTMENT', 'CTA TRAIN', 'SIDEWALK', 'CTA TRAIN', 'RESIDENCE', 'APARTMENT', 'STREET', 'APARTMENT', 'RESIDENCE', 'OTHER', 'RESIDENCE', 'SIDEWALK', 'STREET', 'RESIDENCE', 'RESIDENCE', 'LIBRARY', 'RESIDENCE', 'RESIDENCE-GARAGE', 'RESIDENCE', 'STREET', 'STREET', 'APARTMENT', 'RESIDENCE PORCH/HALLWAY', 'SIDEWALK', 'APARTMENT', 'RESIDENCE PORCH/HALLWAY', 'APARTMENT', 'CHA PARKING LOT/GROUNDS', 'RESIDENCE', 'SIDEWALK', 'PARKING LOT/GARAGE(NON.RESID.)', 'STREET', 'STREET', 'STREET', 'SIDEWALK', 'PARKING LOT/GARAGE(NON.RESID.)', 'RESIDENCE', 'STREET', 'APARTMENT', 'SIDEWALK', 'APARTMENT', 'STREET', 'COMMERCIAL / BUSINESS OFFICE', 'STREET', 'COMMERCIAL / BUSINESS OFFICE', 'OTHER', 'RESIDENCE', 'ABANDONED BUILDING', 'RESIDENCE', 'STREET', 'SIDEWALK', 'APARTMENT', 'STREET', 'SIDEWALK', 'GROCERY FOOD STORE', 'DRUG STORE', 'SIDEWALK', 'RESIDENCE', 'DRUG STORE', 'OTHER', 'RESIDENCE', 'SIDEWALK', 'STREET', 'RESIDENCE', 'RESIDENCE', 'STREET', 'RESIDENCE', 'SIDEWALK', 'RESIDENCE', 'SIDEWALK', 'RESIDENCE PORCH/HALLWAY', 'APARTMENT', 'APARTMENT', 'SIDEWALK', 'APARTMENT', 'COMMERCIAL / BUSINESS OFFICE', 'RESIDENCE', 'SIDEWALK', 'GROCERY FOOD STORE', 'CONVENIENCE STORE', 'STREET', 'PARK PROPERTY', 'CTA STATION', 'RESIDENCE', 'ATM (AUTOMATIC TELLER MACHINE)', 'SCHOOL, PUBLIC, GROUNDS', 'SCHOOL, PUBLIC, BUILDING', 'OTHER', 'STREET', 'SIDEWALK', 'SIDEWALK', 'STREET', 'ALLEY', 'STREET', 'RESIDENCE', 'ALLEY', 'STREET', 'OTHER', 'RESIDENCE-GARAGE', 'SIDEWALK', 'PARKING LOT/GARAGE(NON.RESID.)', 'APARTMENT', 'PARKING LOT/GARAGE(NON.RESID.)', 'SIDEWALK', 'SIDEWALK', 'APARTMENT', 'SIDEWALK', 'APARTMENT', 'STREET', 'RESIDENCE', 'STREET', 'OTHER', 'DEPARTMENT STORE', 'AIRPORT TERMINAL MEZZANINE - NON-SECURE AREA', 'RESIDENCE', 'CURRENCY EXCHANGE', 'APARTMENT', 'SIDEWALK', 'RESIDENCE', 'SIDEWALK', 'STREET', 'APARTMENT', 'AIRPORT TERMINAL LOWER LEVEL - NON-SECURE AREA', 'STREET', 'STREET', 'STREET', 'RESIDENCE', 'APARTMENT', 'STREET', 'STREET', 'OTHER', 'STREET', 'RESIDENCE-GARAGE', 'COMMERCIAL / BUSINESS OFFICE', 'SMALL RETAIL STORE', 'APARTMENT', 'SIDEWALK', 'RESIDENCE', 'STREET', 'STREET', 'APARTMENT', 'SIDEWALK', 'RESIDENTIAL YARD (FRONT/BACK)', 'RESIDENTIAL YARD (FRONT/BACK)', 'APARTMENT', 'RESTAURANT', 'ALLEY', 'STREET', 'RESIDENTIAL YARD (FRONT/BACK)', 'DRIVEWAY - RESIDENTIAL', 'ALLEY', 'RESIDENCE', 'RESTAURANT', 'SIDEWALK', 'RESIDENCE-GARAGE', 'AIRPORT TERMINAL LOWER LEVEL - NON-SECURE AREA', 'STREET', 'STREET', 'PARKING LOT/GARAGE(NON.RESID.)', 'RESIDENTIAL YARD (FRONT/BACK)', 'RESIDENCE', 'AIRPORT TERMINAL MEZZANINE - NON-SECURE AREA', 'SCHOOL, PUBLIC, BUILDING', 'APARTMENT', 'GROCERY FOOD STORE', 'SIDEWALK', 'RESTAURANT', 'OTHER', 'SMALL RETAIL STORE', 'RESIDENCE', 'APARTMENT', 'RESIDENCE', 'APARTMENT', 'STREET', 'CONSTRUCTION SITE', 'SIDEWALK', 'STREET', 'RESIDENCE', 'APARTMENT', 'SIDEWALK', 'CTA TRAIN', 'STREET', 'SIDEWALK', 'APARTMENT', 'STREET', 'PARKING LOT/GARAGE(NON.RESID.)', 'APPLIANCE STORE', 'APARTMENT', 'APARTMENT', 'TAVERN/LIQUOR STORE', 'RESIDENCE', 'RESIDENCE', 'RESIDENTIAL YARD (FRONT/BACK)', 'RESIDENTIAL YARD (FRONT/BACK)', 'STREET', 'RESIDENCE', 'STREET', 'CHA PARKING LOT/GROUNDS', 'RESIDENCE', 'DRIVEWAY - RESIDENTIAL', 'SCHOOL, PRIVATE, GROUNDS', 'RESIDENCE-GARAGE', 'SIDEWALK', 'VACANT LOT/LAND', 'SIDEWALK', 'APARTMENT', 'RESIDENTIAL YARD (FRONT/BACK)', 'GAS STATION', 'STREET', 'ALLEY', 'APARTMENT', 'VEHICLE NON-COMMERCIAL', 'CTA GARAGE / OTHER PROPERTY', 'PARKING LOT/GARAGE(NON.RESID.)', 'CHA APARTMENT', 'SMALL RETAIL STORE', 'RESIDENCE', 'RESIDENCE', 'STREET', 'SCHOOL, PUBLIC, BUILDING', 'RESIDENCE PORCH/HALLWAY', 'SIDEWALK', 'GAS STATION', 'CTA TRAIN', 'CTA PLATFORM', 'COMMERCIAL / BUSINESS OFFICE', 'STREET', 'RESIDENCE', 'DEPARTMENT STORE', 'SIDEWALK', 'APARTMENT', 'STREET', 'DEPARTMENT STORE', 'RESIDENCE-GARAGE', 'RESIDENTIAL YARD (FRONT/BACK)', 'RESIDENTIAL YARD (FRONT/BACK)', 'STREET', 'RESTAURANT', 'STREET', 'STREET', 'SMALL RETAIL STORE', 'SCHOOL, PUBLIC, GROUNDS', 'CTA STATION', 'SIDEWALK', 'APARTMENT', 'RESIDENTIAL YARD (FRONT/BACK)', 'STREET', 'RESTAURANT'], 3: ['SMALL RETAIL STORE', 'RESIDENCE', 'STREET', 'APARTMENT', 'CTA TRAIN', 'SCHOOL, PUBLIC, BUILDING', 'RESIDENTIAL YARD (FRONT/BACK)', 'SIDEWALK', 'RESIDENCE', 'STREET', 'RESIDENCE', 'APARTMENT', 'GROCERY FOOD STORE', 'DEPARTMENT STORE', 'RESTAURANT', 'DEPARTMENT STORE', 'STREET', 'SCHOOL, PUBLIC, BUILDING', 'RESIDENTIAL YARD (FRONT/BACK)', 'RESIDENCE', 'ALLEY', 'APARTMENT', 'STREET', 'RESIDENCE', 'STREET', 'RESIDENCE PORCH/HALLWAY', 'RESIDENCE', 'STREET', 'RESIDENTIAL YARD (FRONT/BACK)', 'STREET', 'STREET', 'ALLEY', 'ATHLETIC CLUB', 'SIDEWALK', 'STREET', 'STREET', 'STREET', 'RESIDENCE', 'OTHER', 'APARTMENT', 'RESIDENCE', 'RESIDENCE', 'SIDEWALK', 'OTHER', 'BAR OR TAVERN', 'DEPARTMENT STORE', 'STREET', 'APARTMENT', 'RESIDENCE-GARAGE', 'SIDEWALK', 'CTA GARAGE / OTHER PROPERTY', 'APARTMENT', 'SIDEWALK', 'SCHOOL, PUBLIC, BUILDING', 'ALLEY', 'RESIDENCE', 'RESIDENCE', 'GAS STATION', 'APARTMENT', '', 'GOVERNMENT BUILDING/PROPERTY', 'SIDEWALK', 'SIDEWALK', 'SIDEWALK', 'OTHER', 'STREET', 'APARTMENT', 'APARTMENT', 'HOTEL/MOTEL', 'RESIDENCE', 'STREET', 'SCHOOL, PUBLIC, BUILDING', 'ALLEY', 'STREET', 'STREET', 'APARTMENT', 'STREET', 'APARTMENT', 'CHA APARTMENT', 'RESIDENCE', 'RESIDENTIAL YARD (FRONT/BACK)', 'SCHOOL, PUBLIC, GROUNDS', 'SIDEWALK', 'APARTMENT', 'SIDEWALK', 'OTHER', 'STREET', 'RESIDENCE', 'STREET', 'OTHER', 'STREET', 'SIDEWALK', 'RESIDENCE', 'STREET', 'SIDEWALK', 'CTA BUS STOP', 'SIDEWALK', 'SMALL RETAIL STORE', 'SIDEWALK', 'STREET', 'GAS STATION', 'BARBERSHOP', 'SIDEWALK', 'APARTMENT', 'STREET', 'OTHER', 'STREET', 'SIDEWALK', 'RESIDENCE', 'SCHOOL, PRIVATE, BUILDING', 'STREET', 'RESIDENCE PORCH/HALLWAY', 'RESIDENCE', 'COMMERCIAL / BUSINESS OFFICE', 'COMMERCIAL / BUSINESS OFFICE', 'STREET', 'SIDEWALK', 'VEHICLE NON-COMMERCIAL', 'AIRPORT VENDING ESTABLISHMENT', 'APARTMENT', 'APARTMENT', 'OTHER', 'APARTMENT', 'STREET', 'DEPARTMENT STORE', 'APARTMENT', 'VEHICLE NON-COMMERCIAL', 'RESIDENCE', 'PARK PROPERTY', 'APARTMENT', 'RESIDENTIAL YARD (FRONT/BACK)', 'SIDEWALK', 'APARTMENT', 'OTHER', 'CURRENCY EXCHANGE', 'APARTMENT', 'RESIDENCE', 'SIDEWALK', 'RESIDENCE', 'STREET', 'BAR OR TAVERN', 'RESIDENCE', 'APARTMENT', 'SIDEWALK', 'APARTMENT', 'RESIDENCE PORCH/HALLWAY', 'RESIDENCE', 'STREET', 'RESIDENCE-GARAGE', 'CONVENIENCE STORE', 'RESIDENCE', 'RESIDENCE', 'STREET', 'STREET', 'RESIDENCE', 'VEHICLE NON-COMMERCIAL', 'OTHER', 'BANK', 'SIDEWALK', 'STREET', 'AIRPORT BUILDING NON-TERMINAL - SECURE AREA', 'APARTMENT', 'OTHER', 'STREET', 'STREET', 'APARTMENT', 'RESIDENCE PORCH/HALLWAY', 'COLLEGE/UNIVERSITY RESIDENCE HALL', 'RESIDENCE PORCH/HALLWAY', 'SIDEWALK', 'OTHER', 'STREET', 'PARKING LOT/GARAGE(NON.RESID.)', 'RESIDENCE', 'APARTMENT', 'VEHICLE NON-COMMERCIAL', 'VEHICLE NON-COMMERCIAL', 'CTA GARAGE / OTHER PROPERTY', 'PARK PROPERTY', 'SIDEWALK', 'RESTAURANT', 'STREET', 'SCHOOL, PRIVATE, BUILDING', 'PARK PROPERTY', 'NURSING HOME/RETIREMENT HOME', 'SIDEWALK', 'SIDEWALK', 'RESIDENCE', 'APARTMENT', 'RESIDENCE', 'COMMERCIAL / BUSINESS OFFICE', 'STREET', 'STREET', 'STREET', 'ALLEY', 'RESIDENCE', 'RESIDENCE', 'STREET', 'STREET', 'STREET', 'SIDEWALK', 'APARTMENT', 'APARTMENT', 'SMALL RETAIL STORE', 'SIDEWALK', 'APARTMENT', 'STREET', 'HOSPITAL BUILDING/GROUNDS', 'RESIDENCE', 'APARTMENT', 'SIDEWALK', 'RESIDENCE', 'STREET', 'CTA BUS', 'STREET', 'STREET', 'STREET', 'APARTMENT', 'OTHER', 'STREET', 'STREET', 'ALLEY', 'OTHER', 'SIDEWALK', 'OTHER', 'RESIDENCE', 'STREET', 'APARTMENT', 'STREET', 'DEPARTMENT STORE', 'RESIDENCE-GARAGE', 'RESIDENCE', 'RESIDENCE', 'POLICE FACILITY/VEH PARKING LOT', 'STREET', 'STREET', 'SIDEWALK', 'APARTMENT', 'STREET', 'APARTMENT', 'RESIDENCE', 'SMALL RETAIL STORE', 'SIDEWALK', 'SCHOOL, PUBLIC, BUILDING', 'APARTMENT', 'STREET', 'SPORTS ARENA/STADIUM', 'APARTMENT', 'APARTMENT', 'RESIDENCE PORCH/HALLWAY', 'STREET', 'SIDEWALK', 'STREET', 'SIDEWALK', 'APARTMENT', 'VEHICLE NON-COMMERCIAL', 'COMMERCIAL / BUSINESS OFFICE', 'SCHOOL, PUBLIC, BUILDING', 'HIGHWAY/EXPRESSWAY', 'STREET', 'CTA GARAGE / OTHER PROPERTY', 'APARTMENT', 'RESIDENCE PORCH/HALLWAY', 'GAS STATION', 'APARTMENT', 'SIDEWALK', 'AIRPORT TERMINAL UPPER LEVEL - NON-SECURE AREA', 'RESIDENCE', 'STREET', 'RESIDENCE', 'RESIDENCE', 'SMALL RETAIL STORE', 'SIDEWALK', 'PARKING LOT/GARAGE(NON.RESID.)', 'APARTMENT', 'VEHICLE NON-COMMERCIAL', 'OTHER', '', 'RESIDENCE', 'COMMERCIAL / BUSINESS OFFICE', 'STREET', 'ALLEY', 'STREET', 'STREET', 'CTA PLATFORM', 'STREET', 'STREET', 'AIRCRAFT', 'RESTAURANT', 'APARTMENT', 'RESIDENCE', 'RESIDENCE', 'RESIDENCE', 'VEHICLE NON-COMMERCIAL', 'STREET', 'VEHICLE NON-COMMERCIAL', 'SMALL RETAIL STORE', 'VEHICLE NON-COMMERCIAL', 'OTHER', 'STREET', 'SIDEWALK', 'SMALL RETAIL STORE', 'APARTMENT', 'STREET', 'SIDEWALK', 'OTHER', 'APARTMENT', 'ALLEY', 'SIDEWALK', 'STREET', 'CTA TRAIN', 'RESIDENCE', 'STREET', 'RESIDENCE', 'STREET', 'STREET', 'APARTMENT', 'APARTMENT', 'STREET', 'APARTMENT', 'RESIDENCE', 'RESTAURANT', 'RESIDENCE', 'APARTMENT', 'SCHOOL, PRIVATE, BUILDING', 'WAREHOUSE', 'APARTMENT', 'SMALL RETAIL STORE', 'RESIDENCE', 'SIDEWALK', 'RESIDENCE', 'STREET', 'APARTMENT', 'RESIDENCE', 'OTHER', 'RESIDENCE', 'GROCERY FOOD STORE', 'RESIDENCE-GARAGE', 'APARTMENT', 'PARKING LOT/GARAGE(NON.RESID.)', 'GROCERY FOOD STORE', 'VEHICLE NON-COMMERCIAL', 'APARTMENT', 'POLICE FACILITY/VEH PARKING LOT', 'RESIDENCE', 'OTHER', 'STREET', 'APARTMENT', 'RESIDENCE', 'RESIDENCE', 'STREET', 'RESTAURANT', 'GROCERY FOOD STORE', 'STREET', 'RESIDENCE', 'RESIDENCE', 'STREET', 'RESIDENCE', 'SIDEWALK', 'AIRPORT TERMINAL LOWER LEVEL - SECURE AREA', 'COMMERCIAL / BUSINESS OFFICE', 'APARTMENT', 'STREET', 'POLICE FACILITY/VEH PARKING LOT', 'VEHICLE-COMMERCIAL', 'SIDEWALK', 'STREET', 'RESTAURANT', 'OTHER', 'STREET', 'STREET', 'RESIDENCE', 'RESIDENCE', 'PARKING LOT/GARAGE(NON.RESID.)', 'RESIDENCE', 'SIDEWALK', 'SCHOOL, PUBLIC, BUILDING', 'RESIDENCE', 'APARTMENT', 'STREET', 'PARKING LOT/GARAGE(NON.RESID.)', 'SMALL RETAIL STORE', 'STREET', 'DEPARTMENT STORE', 'RESIDENCE', 'STREET', 'RESIDENCE', 'STREET', 'PARKING LOT/GARAGE(NON.RESID.)', 'MEDICAL/DENTAL OFFICE', 'STREET', 'RESIDENCE PORCH/HALLWAY', 'OTHER', 'RESIDENCE PORCH/HALLWAY', 'STREET', 'APARTMENT', 'STREET', 'RESIDENCE', 'GAS STATION', 'STREET', 'RESIDENCE', 'RESIDENTIAL YARD (FRONT/BACK)', 'RESIDENCE', 'APARTMENT', 'SIDEWALK', 'RESIDENCE', 'HOTEL/MOTEL', 'STREET', 'SIDEWALK', 'STREET', 'RESTAURANT', 'RESIDENCE', 'RESIDENCE', 'STREET', 'APARTMENT', 'STREET', 'STREET', 'CTA BUS', 'RESTAURANT', 'SIDEWALK', 'STREET', 'APARTMENT', 'OTHER', 'RESIDENCE', 'APARTMENT', 'APARTMENT', 'ALLEY', 'OTHER', 'SMALL RETAIL STORE', '', 'DEPARTMENT STORE', 'STREET', 'STREET', 'DEPARTMENT STORE', 'CTA STATION', 'APARTMENT', 'SIDEWALK', 'RESIDENCE', 'APARTMENT', 'RESTAURANT', 'SIDEWALK', 'STREET', 'SMALL RETAIL STORE', 'PARKING LOT/GARAGE(NON.RESID.)', 'DRUG STORE', 'ATM (AUTOMATIC TELLER MACHINE)', 'STREET', 'SIDEWALK', 'APARTMENT', 'GROCERY FOOD STORE', 'RESIDENCE', 'RESIDENCE', 'APARTMENT', 'STREET', 'COMMERCIAL / BUSINESS OFFICE', 'OTHER', 'RESIDENTIAL YARD (FRONT/BACK)', 'RESIDENCE', 'STREET', 'STREET', 'BANK', 'STREET', 'ABANDONED BUILDING', 'STREET', 'APARTMENT', 'APARTMENT', 'SIDEWALK', 'OTHER', 'RESIDENCE', 'STREET', 'STREET', 'GAS STATION', 'STREET', 'SMALL RETAIL STORE', 'RESIDENCE', 'CONVENIENCE STORE', 'BOWLING ALLEY', 'RESIDENCE', 'CTA PLATFORM', 'RESIDENCE', 'RESIDENTIAL YARD (FRONT/BACK)', 'BAR OR TAVERN', 'STREET', 'APARTMENT', 'APARTMENT', 'DEPARTMENT STORE', 'RESTAURANT', 'STREET', 'RESIDENCE PORCH/HALLWAY', 'APARTMENT', 'RESIDENCE', 'SCHOOL, PUBLIC, BUILDING', 'RESIDENCE-GARAGE', 'RESIDENCE', 'STREET', 'OTHER', 'RESIDENCE', 'RESIDENCE', 'WAREHOUSE', 'RESIDENCE', 'PARK PROPERTY', 'HOTEL/MOTEL', 'RESIDENCE', 'STREET', 'STREET', 'ATM (AUTOMATIC TELLER MACHINE)', 'GROCERY FOOD STORE', 'STREET', 'DEPARTMENT STORE', 'STREET', 'ALLEY', 'STREET', 'DEPARTMENT STORE', 'RESIDENCE', 'APARTMENT', 'SMALL RETAIL STORE', 'DEPARTMENT STORE', 'STREET', 'SCHOOL, PUBLIC, BUILDING', 'STREET', 'OTHER', 'SCHOOL, PUBLIC, BUILDING', 'OTHER', 'RESIDENCE', 'PARKING LOT/GARAGE(NON.RESID.)', 'RESIDENCE', 'DEPARTMENT STORE', 'HOSPITAL BUILDING/GROUNDS', 'OTHER', 'OTHER', 'SCHOOL, PUBLIC, BUILDING', 'STREET', 'RESIDENCE', 'DEPARTMENT STORE', 'SMALL RETAIL STORE', 'DRUG STORE', 'AIRPORT TERMINAL UPPER LEVEL - SECURE AREA', 'STREET', 'RESIDENCE', 'RESIDENCE', 'APARTMENT', 'RESIDENCE', 'PARKING LOT/GARAGE(NON.RESID.)', 'STREET', 'DEPARTMENT STORE', 'RESIDENCE', 'SMALL RETAIL STORE', 'HOSPITAL BUILDING/GROUNDS', 'SCHOOL, PUBLIC, GROUNDS', 'RESIDENCE PORCH/HALLWAY', 'RESIDENCE', 'WAREHOUSE', 'APARTMENT', 'RESIDENCE', 'STREET', 'STREET', 'RESIDENCE PORCH/HALLWAY', 'RESIDENCE', 'OTHER', 'VEHICLE NON-COMMERCIAL', 'RESIDENCE', 'SMALL RETAIL STORE', 'SIDEWALK', 'RESIDENCE-GARAGE', 'RESIDENCE', 'STREET', 'SMALL RETAIL STORE', 'RESIDENCE', 'SIDEWALK', 'COMMERCIAL / BUSINESS OFFICE', 'OTHER', 'RESIDENCE', 'RESIDENCE', 'STREET', 'RESTAURANT', 'STREET', 'STREET', 'RESIDENCE', 'HOSPITAL BUILDING/GROUNDS', 'RESIDENCE', 'SIDEWALK', 'DEPARTMENT STORE', 'SMALL RETAIL STORE', 'STREET', 'SIDEWALK', 'SIDEWALK', 'APARTMENT', 'SMALL RETAIL STORE', 'SIDEWALK', 'STREET', 'APARTMENT', 'SMALL RETAIL STORE', 'RESTAURANT', 'COMMERCIAL / BUSINESS OFFICE', 'SIDEWALK', 'STREET', 'STREET', 'CTA BUS', 'OTHER', 'RESTAURANT', 'VEHICLE NON-COMMERCIAL', 'SCHOOL, PUBLIC, BUILDING', 'APARTMENT', 'RESIDENCE', 'PARKING LOT/GARAGE(NON.RESID.)', 'RESIDENCE', 'SMALL RETAIL STORE', 'STREET', 'SIDEWALK', 'SMALL RETAIL STORE', 'RESIDENCE', 'ALLEY', 'SMALL RETAIL STORE', 'SIDEWALK', 'STREET', 'BAR OR TAVERN', 'SIDEWALK', 'RESIDENCE', 'RESIDENCE', 'RESIDENCE', 'RESIDENCE', 'STREET', 'STREET', 'RESIDENCE', 'RESIDENCE PORCH/HALLWAY', 'STREET', 'RESIDENCE', 'HOTEL/MOTEL', 'STREET', 'APARTMENT', 'RESIDENCE', 'STREET', 'RESIDENCE-GARAGE', 'NURSING HOME/RETIREMENT HOME', 'RESIDENCE', 'OTHER', 'STREET', 'STREET', 'STREET', 'STREET', 'STREET', 'SMALL RETAIL STORE', 'APARTMENT', 'COMMERCIAL / BUSINESS OFFICE', 'RESIDENCE', 'OTHER', 'HOTEL/MOTEL', 'STREET', 'RESTAURANT', 'SCHOOL, PUBLIC, BUILDING', 'STREET', 'SIDEWALK', 'DRUG STORE', 'APARTMENT', 'STREET', 'VEHICLE NON-COMMERCIAL', 'STREET', 'RESIDENTIAL YARD (FRONT/BACK)', 'RESIDENCE', 'RESIDENCE', 'GROCERY FOOD STORE', 'RESIDENCE', 'APARTMENT', 'FOREST PRESERVE', 'SIDEWALK', 'APARTMENT', 'STREET', 'SIDEWALK', 'SIDEWALK', 'STREET', 'SCHOOL, PUBLIC, BUILDING', 'SIDEWALK', 'APARTMENT', 'ALLEY', 'RESIDENCE', 'RESIDENCE', 'SIDEWALK', 'RESIDENTIAL YARD (FRONT/BACK)', 'SIDEWALK', 'RESIDENCE', 'RESIDENCE', 'RESIDENCE', 'RESIDENCE', 'PARKING LOT/GARAGE(NON.RESID.)', 'PARKING LOT/GARAGE(NON.RESID.)', 'STREET', 'RESIDENCE', 'ALLEY', 'RESIDENCE', 'RESIDENCE', 'OTHER', 'APARTMENT', 'RESIDENCE', 'ALLEY', 'PARKING LOT/GARAGE(NON.RESID.)', 'STREET', 'APARTMENT', 'PARKING LOT/GARAGE(NON.RESID.)', 'CTA STATION', 'APARTMENT', 'HOTEL/MOTEL', 'STREET', 'VEHICLE NON-COMMERCIAL', 'RESIDENCE', 'STREET', 'STREET', 'STREET', 'RESIDENCE PORCH/HALLWAY', 'STREET', 'RESIDENCE', 'OTHER', 'STREET', 'GAS STATION', 'PARKING LOT/GARAGE(NON.RESID.)', 'CTA BUS', 'STREET', 'PARKING LOT/GARAGE(NON.RESID.)', 'PARKING LOT/GARAGE(NON.RESID.)', 'PARKING LOT/GARAGE(NON.RESID.)', 'RESIDENCE', 'RESIDENCE-GARAGE', 'STREET', 'BAR OR TAVERN', 'OTHER', 'RESIDENCE', 'SCHOOL, PRIVATE, BUILDING', 'RESIDENCE-GARAGE', 'VEHICLE NON-COMMERCIAL', 'SIDEWALK', 'APARTMENT', 'PARKING LOT/GARAGE(NON.RESID.)', 'RESIDENCE', 'STREET', 'STREET', 'RESIDENTIAL YARD (FRONT/BACK)', 'RESIDENCE-GARAGE', 'STREET', 'STREET', 'COMMERCIAL / BUSINESS OFFICE', 'RESIDENCE', 'STREET', 'VEHICLE NON-COMMERCIAL', 'SCHOOL, PUBLIC, GROUNDS', 'SIDEWALK', 'STREET', 'APARTMENT', 'APARTMENT', 'SIDEWALK', 'SIDEWALK', 'APARTMENT', 'GOVERNMENT BUILDING/PROPERTY', 'SIDEWALK', 'RESIDENCE', 'RESTAURANT', 'TAXICAB', 'VEHICLE NON-COMMERCIAL', 'APARTMENT', 'STREET', 'DRUG STORE', 'STREET', 'APARTMENT', 'APARTMENT', 'STREET', 'RESIDENCE', 'RESIDENCE', 'PARKING LOT/GARAGE(NON.RESID.)', 'SCHOOL, PUBLIC, GROUNDS', 'APARTMENT', 'APARTMENT', 'STREET', 'PARKING LOT/GARAGE(NON.RESID.)', 'OTHER', 'STREET', 'COMMERCIAL / BUSINESS OFFICE', 'SIDEWALK', 'DRIVEWAY - RESIDENTIAL', 'RESIDENCE', 'OTHER', 'RESIDENCE', 'RESIDENCE', 'STREET', 'STREET', 'APARTMENT', 'CONVENIENCE STORE', 'APARTMENT', 'RESIDENCE', 'RESIDENCE', 'APARTMENT', 'APARTMENT', 'RESIDENTIAL YARD (FRONT/BACK)', 'RESIDENCE', 'RESIDENCE', 'STREET', 'RESIDENCE', 'APARTMENT', 'STREET', 'APARTMENT', 'RESIDENCE', 'RESIDENCE', 'SPORTS ARENA/STADIUM', 'CHURCH/SYNAGOGUE/PLACE OF WORSHIP', 'RESIDENCE', 'PARKING LOT/GARAGE(NON.RESID.)', 'STREET', 'SCHOOL, PUBLIC, BUILDING', 'CTA GARAGE / OTHER PROPERTY', 'SCHOOL, PUBLIC, BUILDING', 'SIDEWALK', 'RESIDENCE', 'BAR OR TAVERN', 'RESTAURANT', 'SMALL RETAIL STORE', 'STREET', 'OTHER', 'SIDEWALK', 'RESIDENCE', 'STREET', 'RESIDENCE', 'STREET', 'STREET', 'RESIDENCE', 'STREET', 'DEPARTMENT STORE', 'SIDEWALK', 'SCHOOL, PUBLIC, BUILDING', 'COMMERCIAL / BUSINESS OFFICE', 'APARTMENT', 'STREET', 'VEHICLE NON-COMMERCIAL', 'STREET', 'APARTMENT', 'APARTMENT', 'VEHICLE - DELIVERY TRUCK', 'STREET', 'SCHOOL, PUBLIC, BUILDING', 'RESIDENCE PORCH/HALLWAY', 'SCHOOL, PUBLIC, BUILDING', 'STREET', 'VEHICLE NON-COMMERCIAL', 'RESIDENCE', 'STREET', 'STREET', 'APARTMENT', 'SIDEWALK', 'STREET', 'APARTMENT', 'SPORTS ARENA/STADIUM', 'APARTMENT', 'APARTMENT', 'APARTMENT', 'STREET', 'RESIDENCE', 'SCHOOL, PUBLIC, GROUNDS', 'APARTMENT', 'RESIDENCE', 'PARKING LOT/GARAGE(NON.RESID.)', 'APARTMENT', 'APARTMENT', 'STREET', 'RESIDENCE', 'PARKING LOT/GARAGE(NON.RESID.)', 'ALLEY', 'STREET', 'SIDEWALK', 'OTHER', 'RESIDENCE', 'RESIDENCE', 'APARTMENT', 'APARTMENT', 'RESIDENCE', 'GROCERY FOOD STORE', 'ALLEY', 'ABANDONED BUILDING', 'VACANT LOT/LAND', 'STREET', 'APARTMENT', 'STREET', 'STREET', 'RESIDENCE', 'SCHOOL, PUBLIC, BUILDING', 'STREET', 'STREET', 'APARTMENT', 'STREET', 'RESIDENCE PORCH/HALLWAY', 'RESTAURANT', 'APARTMENT', 'STREET', 'DEPARTMENT STORE', 'STREET', 'RESIDENCE PORCH/HALLWAY', 'RESIDENCE', 'RESIDENCE', 'VEHICLE NON-COMMERCIAL', 'RESIDENCE', 'STREET', 'STREET', 'SIDEWALK', 'APARTMENT', 'STREET', 'SIDEWALK', 'STREET', 'RESIDENCE', 'DEPARTMENT STORE', 'GROCERY FOOD STORE', 'COMMERCIAL / BUSINESS OFFICE', 'SCHOOL, PUBLIC, BUILDING', 'GROCERY FOOD STORE', 'STREET', 'DRUG STORE', 'OTHER', 'RESIDENCE', 'APARTMENT', 'RESIDENCE', 'SIDEWALK', 'OTHER', 'RESIDENCE', 'RESTAURANT', 'SMALL RETAIL STORE', 'RESIDENCE', 'CONVENIENCE STORE', 'STREET', 'DEPARTMENT STORE', 'STREET', 'SMALL RETAIL STORE', 'SIDEWALK', 'OTHER', 'STREET', 'STREET', 'SIDEWALK', 'SMALL RETAIL STORE', 'SMALL RETAIL STORE', 'STREET', 'RESIDENCE', 'RESIDENCE PORCH/HALLWAY', 'STREET', 'STREET', 'SIDEWALK', 'RESTAURANT', 'SIDEWALK', 'STREET', 'SCHOOL, PUBLIC, GROUNDS', 'BANK', 'STREET', 'APARTMENT', 'SMALL RETAIL STORE', 'SMALL RETAIL STORE', 'STREET', 'STREET', 'STREET', 'STREET', 'RESIDENCE', 'STREET', 'SIDEWALK', 'STREET', 'SIDEWALK', 'STREET', 'CTA TRAIN', 'RESIDENCE', 'SCHOOL, PUBLIC, BUILDING', 'RESIDENCE', 'APARTMENT', 'SIDEWALK', 'APARTMENT', 'APARTMENT', 'BANK', 'RESIDENCE', 'SIDEWALK', 'APARTMENT', 'BANK', 'STREET', 'PARKING LOT/GARAGE(NON.RESID.)', 'SMALL RETAIL STORE', 'SIDEWALK', 'STREET', 'APARTMENT', 'APARTMENT', 'RESTAURANT', 'RESTAURANT', 'RESIDENCE', 'OTHER', 'STREET', 'STREET', 'DEPARTMENT STORE', 'HOTEL/MOTEL', 'OTHER', 'CTA BUS', 'STREET', 'PARKING LOT/GARAGE(NON.RESID.)', 'STREET', 'RESIDENCE-GARAGE', 'APARTMENT', 'APARTMENT', 'RESIDENCE', 'DEPARTMENT STORE', 'OTHER', 'APARTMENT', 'LIBRARY', 'STREET', 'OTHER', 'APARTMENT', 'SIDEWALK', 'SIDEWALK', 'RESIDENCE', 'STREET', 'APARTMENT', 'RESIDENCE', 'RESIDENCE', 'APARTMENT', 'RESIDENCE', 'STREET', 'APARTMENT', 'RESIDENCE', 'VEHICLE NON-COMMERCIAL', 'STREET', 'STREET', 'STREET', 'SIDEWALK', 'APARTMENT', 'RESIDENCE', 'SIDEWALK', 'SIDEWALK', 'CTA BUS', 'STREET', 'CONVENIENCE STORE', 'OTHER', 'APARTMENT', 'RESIDENCE', 'AIRPORT TERMINAL UPPER LEVEL - SECURE AREA', 'APARTMENT', 'SIDEWALK', 'PARKING LOT/GARAGE(NON.RESID.)', 'RESIDENTIAL YARD (FRONT/BACK)', 'CTA STATION', 'RESIDENCE', 'STREET', 'GROCERY FOOD STORE', 'RESIDENCE', 'RESIDENCE-GARAGE', 'STREET', 'STREET', 'DRIVEWAY - RESIDENTIAL', 'DAY CARE CENTER', 'CTA BUS', 'VEHICLE NON-COMMERCIAL', 'RESIDENCE', 'DEPARTMENT STORE', 'GROCERY FOOD STORE', 'RESIDENCE-GARAGE', 'RESIDENCE', 'RESIDENCE', 'OTHER', 'RESIDENCE PORCH/HALLWAY', 'SIDEWALK', 'SIDEWALK', 'STREET', 'GOVERNMENT BUILDING/PROPERTY', 'SIDEWALK', 'VEHICLE NON-COMMERCIAL', 'OTHER', 'RESIDENTIAL YARD (FRONT/BACK)', 'HOSPITAL BUILDING/GROUNDS', 'APARTMENT', 'APARTMENT', 'RESIDENCE', 'RESIDENCE', 'CHA PARKING LOT/GROUNDS', 'APARTMENT', 'APARTMENT', 'BAR OR TAVERN', 'VEHICLE NON-COMMERCIAL', 'SIDEWALK', 'STREET', 'RESIDENCE', 'STREET', 'STREET', 'STREET', 'RESIDENCE', 'RESIDENCE-GARAGE', 'STREET'], 4: ['DEPARTMENT STORE', 'SIDEWALK', 'VEHICLE NON-COMMERCIAL', 'PARKING LOT/GARAGE(NON.RESID.)', 'GAS STATION', 'HOTEL/MOTEL', 'APARTMENT', 'ALLEY', 'RESIDENCE', 'APARTMENT', 'CTA STATION', 'APARTMENT', 'CTA TRAIN', 'RESIDENTIAL YARD (FRONT/BACK)', 'APARTMENT', 'TAVERN/LIQUOR STORE', 'RESIDENCE PORCH/HALLWAY', 'RESIDENCE', 'ALLEY', 'APARTMENT', 'STREET', 'STREET', 'STREET', 'STREET', 'STREET', 'RESIDENCE', 'APARTMENT', 'APARTMENT', 'ALLEY', 'OTHER', 'NURSING HOME/RETIREMENT HOME', 'SIDEWALK', 'SIDEWALK', 'STREET', 'APARTMENT', 'OTHER', 'STREET', 'STREET', 'STREET', 'STREET', 'STREET', 'STREET', 'STREET', 'STREET', 'STREET', 'RESIDENCE', 'SIDEWALK', 'OTHER COMMERCIAL TRANSPORTATION', 'PARKING LOT/GARAGE(NON.RESID.)', 'RESIDENTIAL YARD (FRONT/BACK)', 'APARTMENT', 'APARTMENT', 'OTHER', 'WAREHOUSE', 'STREET', 'DRUG STORE', 'STREET', 'SIDEWALK', 'APARTMENT', 'PARKING LOT/GARAGE(NON.RESID.)', 'RESIDENCE', 'STREET', 'RESIDENCE PORCH/HALLWAY', 'CHA APARTMENT', 'CONVENIENCE STORE', 'RESIDENCE', 'APARTMENT', 'OTHER', 'GROCERY FOOD STORE', 'RESIDENCE', 'SIDEWALK', 'RESIDENCE', 'STREET', 'PARKING LOT/GARAGE(NON.RESID.)', 'STREET', 'STREET', 'APARTMENT', 'RESIDENTIAL YARD (FRONT/BACK)', 'HOSPITAL BUILDING/GROUNDS', 'BANK', 'OTHER', 'RESTAURANT', 'APARTMENT', 'RESIDENCE', 'APARTMENT', 'STREET', 'RESIDENCE', 'STREET', 'APARTMENT', 'ALLEY', 'APARTMENT', 'OTHER', 'APARTMENT', 'RESIDENCE', 'STREET', 'STREET', 'SMALL RETAIL STORE', 'APARTMENT', 'CTA BUS', 'COMMERCIAL / BUSINESS OFFICE', 'APARTMENT', 'PARKING LOT/GARAGE(NON.RESID.)', 'STREET', 'GROCERY FOOD STORE', 'APARTMENT', 'RESTAURANT', '', 'CTA TRAIN', 'SMALL RETAIL STORE', 'STREET', 'SIDEWALK', 'STREET', 'RESIDENCE PORCH/HALLWAY', 'HOSPITAL BUILDING/GROUNDS', 'STREET', 'RESIDENCE', 'RESIDENCE', 'RESIDENCE', 'GROCERY FOOD STORE', 'STREET', 'SIDEWALK', 'STREET', 'SIDEWALK', 'STREET', '', 'APARTMENT', 'RESIDENCE', 'RESTAURANT', 'BANK', 'CONVENIENCE STORE', 'STREET', 'SIDEWALK', 'APARTMENT', 'STREET', 'AIRPORT/AIRCRAFT', 'APARTMENT', 'SIDEWALK', 'GROCERY FOOD STORE', 'STREET', 'CTA STATION', 'SIDEWALK', 'SCHOOL, PUBLIC, BUILDING', '', 'APARTMENT', 'STREET', 'RESIDENCE', 'RESIDENCE PORCH/HALLWAY', 'SIDEWALK', 'SIDEWALK', 'SCHOOL, PUBLIC, BUILDING', 'RESIDENCE', 'SPORTS ARENA/STADIUM', 'STREET', 'PARKING LOT/GARAGE(NON.RESID.)', 'CTA BUS STOP', 'STREET', 'CHA APARTMENT', 'SIDEWALK', 'CONVENIENCE STORE', 'PARKING LOT/GARAGE(NON.RESID.)', 'STREET', '', 'SIDEWALK', 'STREET', 'STREET', 'RESIDENTIAL YARD (FRONT/BACK)', 'SIDEWALK', 'STREET', 'BANK', 'GROCERY FOOD STORE', 'SMALL RETAIL STORE', 'RESIDENCE PORCH/HALLWAY', 'STREET', 'OTHER', 'APARTMENT', 'SIDEWALK', 'ATM (AUTOMATIC TELLER MACHINE)', 'RESIDENCE PORCH/HALLWAY', 'SMALL RETAIL STORE', 'APARTMENT', 'RESIDENCE', 'RESIDENCE', 'RESIDENCE', 'APARTMENT', 'RESIDENCE', 'APARTMENT', 'APARTMENT', 'CURRENCY EXCHANGE', 'STREET', 'DEPARTMENT STORE', 'HOSPITAL BUILDING/GROUNDS', 'DRUG STORE', 'DEPARTMENT STORE', 'ALLEY', 'APARTMENT', 'OTHER', 'SIDEWALK', 'STREET', 'STREET', 'DEPARTMENT STORE', 'APARTMENT', 'RESIDENCE', 'STREET', 'RESIDENCE', 'STREET', 'STREET', 'STREET', 'STREET', 'STREET', 'RESIDENCE PORCH/HALLWAY', 'CURRENCY EXCHANGE', 'APARTMENT', 'APARTMENT', 'STREET', 'APARTMENT', 'STREET', 'SCHOOL, PUBLIC, GROUNDS', 'CONVENIENCE STORE', 'STREET', 'BAR OR TAVERN', 'RESIDENTIAL YARD (FRONT/BACK)', 'CURRENCY EXCHANGE', 'RESIDENTIAL YARD (FRONT/BACK)', 'RESIDENCE-GARAGE', 'DEPARTMENT STORE', 'RESIDENCE', 'STREET', 'OTHER', 'APARTMENT', 'OTHER', 'RESIDENCE', 'RESIDENCE', 'SMALL RETAIL STORE', 'APARTMENT', 'ALLEY', 'SIDEWALK', 'APARTMENT', 'STREET', 'STREET', 'RESIDENCE', 'BARBERSHOP', 'RESIDENCE', 'STREET', 'SIDEWALK', 'SIDEWALK', 'COLLEGE/UNIVERSITY GROUNDS', 'STREET', 'HOTEL/MOTEL', 'APARTMENT', 'RESIDENCE', 'GAS STATION', 'STREET', 'SMALL RETAIL STORE', 'APARTMENT', 'PARKING LOT/GARAGE(NON.RESID.)', 'SMALL RETAIL STORE', 'PARKING LOT/GARAGE(NON.RESID.)', 'STREET', 'STREET', 'RESIDENCE', 'RESIDENCE', 'RESIDENCE', 'STREET', 'SIDEWALK', 'OTHER', 'STREET', 'VEHICLE NON-COMMERCIAL', 'APARTMENT', 'STREET', 'SMALL RETAIL STORE', 'SCHOOL, PUBLIC, BUILDING', 'RESIDENCE', 'STREET', 'APARTMENT', 'DRIVEWAY - RESIDENTIAL', 'SMALL RETAIL STORE', 'RESIDENCE PORCH/HALLWAY', 'APARTMENT', 'SCHOOL, PRIVATE, BUILDING', 'RESIDENCE', 'APARTMENT', 'STREET', 'STREET', 'MEDICAL/DENTAL OFFICE', 'SIDEWALK', 'TAXICAB', 'STREET', 'RESIDENCE', 'AIRPORT TERMINAL UPPER LEVEL - SECURE AREA', 'STREET', 'RESIDENCE', 'RESIDENCE', 'OTHER', 'STREET', 'STREET', 'POLICE FACILITY/VEH PARKING LOT', 'STREET', 'APARTMENT', 'STREET', 'RESIDENCE', 'STREET', 'OTHER', 'SCHOOL, PRIVATE, GROUNDS', 'STREET', 'STREET', 'APARTMENT', 'SIDEWALK', 'STREET', 'AIRPORT TERMINAL LOWER LEVEL - NON-SECURE AREA', 'APARTMENT', 'SIDEWALK', 'CHA HALLWAY/STAIRWELL/ELEVATOR', 'RESIDENCE', 'PARKING LOT/GARAGE(NON.RESID.)', 'POLICE FACILITY/VEH PARKING LOT', 'STREET', 'RESIDENCE', 'OTHER', 'SIDEWALK', 'RESTAURANT', 'BAR OR TAVERN', 'STREET', 'FEDERAL BUILDING', 'RESIDENCE', 'RESIDENCE', 'RESIDENCE', 'OTHER', 'ALLEY', 'SMALL RETAIL STORE', 'RESIDENCE', 'GOVERNMENT BUILDING/PROPERTY', 'CHA PARKING LOT/GROUNDS', 'SIDEWALK', 'STREET', 'SIDEWALK', 'RESIDENCE', 'MEDICAL/DENTAL OFFICE', 'SMALL RETAIL STORE', 'RESIDENCE', 'COMMERCIAL / BUSINESS OFFICE', 'SIDEWALK', 'DRIVEWAY - RESIDENTIAL', 'SCHOOL, PUBLIC, BUILDING', 'RESIDENCE', 'STREET', 'SIDEWALK', 'HOTEL/MOTEL', 'ABANDONED BUILDING', 'ALLEY', 'PARKING LOT/GARAGE(NON.RESID.)', 'RESIDENCE PORCH/HALLWAY', 'APARTMENT', 'SCHOOL, PUBLIC, BUILDING', 'STREET', 'ATHLETIC CLUB', 'ALLEY', 'RESIDENCE-GARAGE', 'APARTMENT', 'RESIDENCE', 'RESIDENCE', 'STREET', 'RESIDENCE', 'RESIDENCE PORCH/HALLWAY', 'SMALL RETAIL STORE', 'AIRPORT TERMINAL UPPER LEVEL - NON-SECURE AREA', 'CTA TRAIN', 'DRUG STORE', 'CTA STATION', 'SIDEWALK', 'SCHOOL, PUBLIC, BUILDING', 'RESIDENCE', 'APARTMENT', 'GROCERY FOOD STORE', 'STREET', 'SIDEWALK', 'DEPARTMENT STORE', 'RESIDENCE', 'RESIDENCE', 'RESIDENCE', 'APARTMENT', 'RESIDENCE', 'STREET', 'APARTMENT', 'APARTMENT', 'APARTMENT', 'STREET', 'STREET', 'VEHICLE NON-COMMERCIAL', 'RESIDENCE PORCH/HALLWAY', 'RESIDENCE', 'OTHER', 'STREET', 'APARTMENT', 'STREET', 'APARTMENT', 'DEPARTMENT STORE', 'RESIDENCE', 'VACANT LOT/LAND', 'STREET', 'SMALL RETAIL STORE', 'APARTMENT', 'CTA BUS', 'RESTAURANT', 'APARTMENT', 'SIDEWALK', 'CTA BUS STOP', 'APARTMENT', 'APARTMENT', 'DEPARTMENT STORE', 'APARTMENT', 'RESIDENCE', 'PARK PROPERTY', 'APARTMENT', 'HOTEL/MOTEL', 'SMALL RETAIL STORE', 'STREET', 'SIDEWALK', 'RESIDENCE', 'ATHLETIC CLUB', 'RESIDENCE-GARAGE', 'STREET', 'RESIDENCE', 'SCHOOL, PUBLIC, BUILDING', 'STREET', 'APARTMENT', 'STREET', 'STREET', 'APARTMENT', 'STREET', 'APARTMENT', 'VEHICLE NON-COMMERCIAL', 'APARTMENT', 'STREET', 'RESIDENCE', 'APARTMENT', 'SIDEWALK', 'APARTMENT', 'STREET', 'RESTAURANT', 'OTHER COMMERCIAL TRANSPORTATION', 'OTHER', 'STREET', 'VEHICLE NON-COMMERCIAL', 'APARTMENT', 'APARTMENT', 'RESIDENTIAL YARD (FRONT/BACK)', 'STREET', 'APARTMENT', 'RESIDENCE', 'CHA PARKING LOT/GROUNDS', 'RESIDENCE', 'APARTMENT', 'APARTMENT', 'STREET', 'OTHER', 'APARTMENT', 'STREET', 'ATHLETIC CLUB', 'RESIDENCE', 'SIDEWALK', 'STREET', 'RESIDENCE', 'SIDEWALK', 'STREET', 'CTA STATION', 'RESIDENTIAL YARD (FRONT/BACK)', 'PARKING LOT/GARAGE(NON.RESID.)', 'SMALL RETAIL STORE', 'STREET', 'RESIDENCE', 'BAR OR TAVERN', 'RESIDENCE', 'VACANT LOT/LAND', 'DEPARTMENT STORE', 'RESIDENCE', 'DEPARTMENT STORE', 'SMALL RETAIL STORE', 'ALLEY', 'APARTMENT', 'PARKING LOT/GARAGE(NON.RESID.)', 'CHA PARKING LOT/GROUNDS', 'STREET', 'STREET', 'SIDEWALK', 'STREET', 'SIDEWALK', 'RESIDENCE', 'APARTMENT', 'VEHICLE NON-COMMERCIAL', 'RESIDENCE', 'RESIDENCE', 'CTA BUS STOP', 'APARTMENT', 'APARTMENT', 'APARTMENT', 'STREET', 'SIDEWALK', 'STREET', 'STREET', 'APARTMENT', 'APARTMENT', 'RESIDENCE-GARAGE', 'SIDEWALK', 'RESIDENCE', 'DEPARTMENT STORE', 'STREET', 'RESIDENCE-GARAGE', 'APARTMENT', 'STREET', 'PARK PROPERTY', 'STREET', 'STREET', 'BAR OR TAVERN', 'CTA TRAIN', 'STREET', 'RESIDENCE', 'APARTMENT', 'SIDEWALK', 'APARTMENT', 'SCHOOL, PUBLIC, GROUNDS', 'RESTAURANT', 'SIDEWALK', 'CHA APARTMENT', 'HOTEL/MOTEL', 'PARKING LOT/GARAGE(NON.RESID.)', 'RESIDENCE PORCH/HALLWAY', 'ALLEY', 'STREET', 'APARTMENT', 'SMALL RETAIL STORE', 'APARTMENT', 'STREET', 'POLICE FACILITY/VEH PARKING LOT', 'ALLEY', 'GROCERY FOOD STORE', 'APARTMENT', 'APARTMENT', 'RESIDENCE', 'SCHOOL, PUBLIC, BUILDING', 'RESIDENCE', 'CTA PLATFORM', 'RESIDENCE', 'SIDEWALK', 'DEPARTMENT STORE', 'OTHER', 'RESIDENCE', 'APARTMENT', 'GAS STATION', 'SMALL RETAIL STORE', 'STREET', 'RESTAURANT', 'POOL ROOM', 'APARTMENT', 'OTHER', 'SIDEWALK', 'STREET', 'SMALL RETAIL STORE', 'RESIDENTIAL YARD (FRONT/BACK)', 'SMALL RETAIL STORE', 'STREET', 'SIDEWALK', 'STREET', 'RESIDENCE', 'RESIDENCE', 'RESIDENCE', 'CONSTRUCTION SITE', 'RESIDENCE', 'DEPARTMENT STORE', 'RESIDENCE', 'STREET', 'GAS STATION', 'STREET', 'SIDEWALK', 'STREET', 'RESIDENCE', 'BANK', 'RESIDENCE', 'SIDEWALK', 'APARTMENT', 'STREET', 'RESIDENTIAL YARD (FRONT/BACK)', 'ALLEY', 'RESIDENCE-GARAGE', 'STREET', 'RESIDENCE', 'RESIDENCE', 'SMALL RETAIL STORE', 'APARTMENT', 'RESIDENCE', 'CTA PLATFORM', 'SIDEWALK', 'RESIDENCE', 'STREET', 'APARTMENT', 'STREET', 'STREET', 'APARTMENT', 'SMALL RETAIL STORE', 'PARKING LOT/GARAGE(NON.RESID.)', 'PARKING LOT/GARAGE(NON.RESID.)', 'STREET', 'STREET', 'RESIDENCE', 'STREET', 'SIDEWALK', 'GROCERY FOOD STORE', 'PARKING LOT/GARAGE(NON.RESID.)', 'STREET', 'RESIDENCE', 'RESIDENCE', 'STREET', 'STREET', 'COMMERCIAL / BUSINESS OFFICE', 'DRUG STORE', 'APARTMENT', 'RESIDENCE-GARAGE', 'APARTMENT', 'RESIDENCE', 'SCHOOL, PUBLIC, GROUNDS', 'APARTMENT', 'RESIDENCE', 'SIDEWALK', 'STREET', 'RESTAURANT', 'VACANT LOT/LAND', 'SCHOOL, PUBLIC, GROUNDS', 'ALLEY', 'STREET', 'SMALL RETAIL STORE', 'STREET', 'SMALL RETAIL STORE', 'BRIDGE', 'RESTAURANT', 'OTHER', 'GAS STATION', 'RESIDENCE', 'SCHOOL, PUBLIC, BUILDING', 'RESIDENCE', 'VEHICLE NON-COMMERCIAL', 'SIDEWALK', 'RESIDENCE PORCH/HALLWAY', 'RESIDENCE', 'RESIDENCE PORCH/HALLWAY', 'RESIDENCE', 'STREET', 'SIDEWALK', 'RESIDENCE', 'ALLEY', 'RESIDENCE', 'OTHER', 'RESIDENCE', 'STREET', 'STREET', 'RESIDENCE-GARAGE', 'ATM (AUTOMATIC TELLER MACHINE)', 'STREET', 'OTHER', 'APARTMENT', 'APARTMENT', 'STREET', 'RESIDENCE', 'APARTMENT', 'STREET', 'RESIDENCE', 'RESIDENCE', 'SIDEWALK', 'APARTMENT', 'RESIDENCE', 'RESIDENCE', 'RESIDENTIAL YARD (FRONT/BACK)', 'RESIDENTIAL YARD (FRONT/BACK)', 'RESIDENCE', 'APARTMENT', 'ALLEY', 'PARKING LOT/GARAGE(NON.RESID.)', 'APARTMENT', 'ALLEY', 'STREET', 'RESIDENCE', 'STREET', 'APARTMENT', 'SIDEWALK', 'RESIDENCE-GARAGE', 'STREET', 'SCHOOL, PUBLIC, GROUNDS', 'STREET', 'SIDEWALK', 'APARTMENT', 'GOVERNMENT BUILDING/PROPERTY', 'DRIVEWAY - RESIDENTIAL', 'STREET', 'OTHER', 'RESTAURANT', 'STREET', 'PARKING LOT/GARAGE(NON.RESID.)', 'RESIDENCE', 'SMALL RETAIL STORE', 'STREET', 'APARTMENT', 'SMALL RETAIL STORE', 'COMMERCIAL / BUSINESS OFFICE', 'STREET', 'CTA STATION', 'SCHOOL, PUBLIC, BUILDING', 'APARTMENT', 'SCHOOL, PRIVATE, BUILDING', 'SIDEWALK', 'STREET', 'RESIDENCE PORCH/HALLWAY', 'RESIDENCE', 'SCHOOL, PUBLIC, BUILDING', 'STREET', 'RESIDENCE-GARAGE', 'APARTMENT', 'SMALL RETAIL STORE', 'SIDEWALK', 'PARKING LOT/GARAGE(NON.RESID.)', 'RESIDENCE', 'HOTEL/MOTEL', 'RESIDENCE', 'SCHOOL, PUBLIC, BUILDING', 'GROCERY FOOD STORE', 'RESIDENCE', 'APARTMENT', 'STREET', 'BARBERSHOP', 'SIDEWALK', 'CHURCH/SYNAGOGUE/PLACE OF WORSHIP', 'APARTMENT', 'RESIDENCE-GARAGE', 'DEPARTMENT STORE', 'SCHOOL, PRIVATE, BUILDING', 'VEHICLE NON-COMMERCIAL', 'RESIDENCE', 'STREET', 'RESTAURANT', 'RESIDENCE', 'POLICE FACILITY/VEH PARKING LOT', 'SIDEWALK', 'VEHICLE NON-COMMERCIAL', 'STREET', 'STREET', 'STREET', 'STREET', 'ALLEY', 'SMALL RETAIL STORE', 'APARTMENT', 'STREET', 'APARTMENT', 'SMALL RETAIL STORE', 'RESIDENCE-GARAGE', 'STREET', 'RESIDENCE', 'RESIDENTIAL YARD (FRONT/BACK)', 'RESIDENCE', 'RESIDENCE', 'STREET', 'GAS STATION', 'STREET', 'SIDEWALK', 'STREET', 'STREET', 'ABANDONED BUILDING', 'RESTAURANT', 'WAREHOUSE', 'SIDEWALK', 'APARTMENT', 'RESIDENTIAL YARD (FRONT/BACK)', 'APARTMENT', 'STREET', 'RESIDENCE', 'RESIDENCE', 'STREET', 'VEHICLE NON-COMMERCIAL', 'APARTMENT', 'SIDEWALK', 'RESIDENCE', 'SIDEWALK', 'STREET', 'SIDEWALK', 'APARTMENT', 'BAR OR TAVERN', 'CTA BUS', 'DEPARTMENT STORE', 'APARTMENT', 'ALLEY', 'RESIDENCE', 'APARTMENT', 'SCHOOL, PRIVATE, BUILDING', 'RESIDENCE', 'SIDEWALK', 'HOTEL/MOTEL', 'OTHER', 'STREET', 'AIRPORT/AIRCRAFT', 'CHA PARKING LOT/GROUNDS', 'SCHOOL, PRIVATE, BUILDING', 'APARTMENT', 'DRUG STORE', 'PARKING LOT/GARAGE(NON.RESID.)', 'CHA PARKING LOT/GROUNDS', 'RESIDENCE', 'COLLEGE/UNIVERSITY GROUNDS', 'RESIDENCE', 'RESIDENCE', 'RESIDENCE PORCH/HALLWAY', 'RESIDENCE', 'RESIDENCE', 'RESIDENCE PORCH/HALLWAY', 'STREET', 'RESIDENCE', 'SIDEWALK', 'SIDEWALK', 'CTA STATION', 'VEHICLE NON-COMMERCIAL', 'GAS STATION', 'SIDEWALK', 'OTHER', 'STREET', 'RESIDENCE', 'SIDEWALK', 'ALLEY', 'RESIDENCE PORCH/HALLWAY', 'STREET', 'RESIDENCE', 'NURSING HOME/RETIREMENT HOME', 'APARTMENT', 'VEHICLE NON-COMMERCIAL', 'OTHER', 'STREET', 'STREET', 'RESIDENCE', 'STREET', 'VEHICLE NON-COMMERCIAL', 'DEPARTMENT STORE', 'STREET', 'RESIDENCE PORCH/HALLWAY', 'SIDEWALK', 'SIDEWALK', 'OTHER', 'APARTMENT', 'STREET', 'VEHICLE NON-COMMERCIAL', 'RESIDENCE', 'CHA PARKING LOT/GROUNDS', 'RESIDENCE', 'OTHER', 'RESIDENCE', 'OTHER', 'AIRPORT TERMINAL LOWER LEVEL - NON-SECURE AREA', 'RESIDENCE', 'OTHER', 'BAR OR TAVERN', 'RESIDENCE', 'SIDEWALK', 'RESIDENTIAL YARD (FRONT/BACK)', 'SIDEWALK', 'ALLEY', 'STREET', 'SMALL RETAIL STORE', 'COMMERCIAL / BUSINESS OFFICE', 'RESIDENCE', 'APARTMENT', 'SIDEWALK', 'STREET', 'SMALL RETAIL STORE', 'RESIDENTIAL YARD (FRONT/BACK)', 'CONVENIENCE STORE', 'SIDEWALK', 'RESIDENCE', 'SIDEWALK', 'APARTMENT', 'RESIDENCE', 'STREET', 'STREET', 'COMMERCIAL / BUSINESS OFFICE', 'RESIDENCE', 'SIDEWALK', 'APARTMENT', 'FACTORY/MANUFACTURING BUILDING', 'RESIDENCE', 'VEHICLE NON-COMMERCIAL', 'PARKING LOT/GARAGE(NON.RESID.)', 'RESIDENCE', 'RESIDENCE', 'STREET', 'APARTMENT', 'APARTMENT', 'RESIDENCE', 'STREET', 'STREET', 'DEPARTMENT STORE', 'APARTMENT', 'ALLEY', 'CTA PLATFORM', 'STREET', 'DRIVEWAY - RESIDENTIAL', 'STREET', 'APARTMENT', 'DEPARTMENT STORE', 'RESIDENCE', 'APARTMENT', 'SIDEWALK', 'RESIDENCE-GARAGE', 'RESTAURANT', 'HOTEL/MOTEL', 'STREET', 'RESIDENCE', 'SIDEWALK', 'OTHER', 'RESIDENCE', 'APARTMENT', 'RESIDENTIAL YARD (FRONT/BACK)', 'GROCERY FOOD STORE', 'STREET', 'RESIDENCE PORCH/HALLWAY', 'APARTMENT', 'STREET', 'APARTMENT', 'APARTMENT', 'STREET', 'APARTMENT', 'APARTMENT', 'OTHER', 'RESIDENCE', 'DEPARTMENT STORE', 'SIDEWALK', 'APARTMENT', 'COMMERCIAL / BUSINESS OFFICE', 'APARTMENT', 'RESIDENCE-GARAGE', 'CONSTRUCTION SITE', 'OTHER', 'APARTMENT', 'CTA PLATFORM', 'APARTMENT', 'BAR OR TAVERN', 'STREET', 'STREET', 'STREET', 'SIDEWALK', 'RESIDENCE', 'RESIDENCE', 'STREET', 'SIDEWALK', 'SIDEWALK', 'APARTMENT', 'RESIDENTIAL YARD (FRONT/BACK)', 'APARTMENT', 'SIDEWALK', 'AIRPORT BUILDING NON-TERMINAL - SECURE AREA', 'RESIDENCE', 'APARTMENT', 'STREET', 'OTHER', 'BAR OR TAVERN', 'APARTMENT', 'RESIDENCE', 'APARTMENT', 'RESIDENCE', 'SIDEWALK', 'OTHER', 'OTHER', 'SIDEWALK', 'CONSTRUCTION SITE', 'TAXICAB', 'APARTMENT', 'CTA TRAIN', 'RESIDENCE', 'ALLEY', 'APARTMENT', 'CHURCH/SYNAGOGUE/PLACE OF WORSHIP', 'PARKING LOT/GARAGE(NON.RESID.)', 'STREET', 'SIDEWALK', 'STREET', 'APARTMENT', 'STREET', 'CTA GARAGE / OTHER PROPERTY', 'RESIDENCE', 'TAXICAB', 'CTA GARAGE / OTHER PROPERTY', 'STREET', 'RESIDENCE', 'SIDEWALK', 'STREET', 'RESIDENCE', 'STREET', 'STREET', 'RESIDENCE', 'APARTMENT', 'STREET', 'APARTMENT', 'RESIDENCE', 'RESIDENCE', 'HOSPITAL BUILDING/GROUNDS', 'SIDEWALK', 'RESIDENCE PORCH/HALLWAY', 'AIRPORT TERMINAL LOWER LEVEL - NON-SECURE AREA', 'SCHOOL, PUBLIC, BUILDING', 'STREET', 'COMMERCIAL / BUSINESS OFFICE', 'APARTMENT', 'OTHER', 'RESIDENCE', 'ALLEY', 'RESIDENCE', 'GROCERY FOOD STORE', 'STREET', 'RESIDENCE', 'APARTMENT', 'RESIDENCE', 'STREET', 'RESIDENCE', 'STREET', 'SCHOOL, PUBLIC, GROUNDS', 'RESIDENCE PORCH/HALLWAY', 'OTHER', 'DEPARTMENT STORE', 'SIDEWALK', 'RESIDENCE', 'RESIDENCE', 'RESIDENCE', 'SIDEWALK', 'RESIDENCE', 'OTHER', 'VEHICLE NON-COMMERCIAL', 'SIDEWALK', 'RESTAURANT', 'SIDEWALK', 'RESIDENCE', 'STREET', 'APARTMENT', 'SIDEWALK', 'STREET', 'RESIDENCE'], 6: ['SIDEWALK', 'STREET', 'BAR OR TAVERN', 'SCHOOL, PUBLIC, GROUNDS', 'STREET', 'RESIDENCE', 'APARTMENT', 'RESIDENCE', 'RESIDENCE', 'SIDEWALK', 'SIDEWALK', 'RESIDENCE', 'VACANT LOT/LAND', 'APARTMENT', 'STREET', 'RESTAURANT', 'STREET', 'RESIDENCE', 'RESTAURANT', 'APARTMENT', 'APARTMENT', 'RESIDENTIAL YARD (FRONT/BACK)', 'STREET', 'STREET', 'PARKING LOT/GARAGE(NON.RESID.)', 'SIDEWALK', 'APARTMENT', '', 'STREET', 'COMMERCIAL / BUSINESS OFFICE', 'APARTMENT', 'RESIDENCE', 'STREET', 'ALLEY', 'APARTMENT', 'PARKING LOT/GARAGE(NON.RESID.)', 'SIDEWALK', 'APARTMENT', 'GROCERY FOOD STORE', 'STREET', 'RESIDENCE', 'RESIDENCE PORCH/HALLWAY', 'ALLEY', 'SIDEWALK', 'OTHER', 'RESTAURANT', 'STREET', 'STREET', 'RESIDENCE', 'APARTMENT', 'STREET', 'RESIDENCE', 'OTHER', 'STREET', 'CONVENIENCE STORE', 'RESIDENCE', 'STREET', 'APARTMENT', 'STREET', 'PARK PROPERTY', 'CONVENIENCE STORE', 'SIDEWALK', 'SMALL RETAIL STORE', 'STREET', 'SCHOOL, PRIVATE, BUILDING', 'APARTMENT', 'SIDEWALK', 'STREET', 'RESIDENCE', 'RESTAURANT', 'RESIDENCE PORCH/HALLWAY', 'SIDEWALK', 'PARK PROPERTY', 'STREET', 'RESIDENCE', 'GAS STATION', 'ALLEY', 'ABANDONED BUILDING', 'RESIDENTIAL YARD (FRONT/BACK)', 'STREET', 'STREET', 'RESIDENCE', 'STREET', 'APARTMENT', 'STREET', 'APARTMENT', 'RESIDENTIAL YARD (FRONT/BACK)', 'RESIDENCE', 'RESIDENCE', 'STREET', 'VACANT LOT/LAND', 'BAR OR TAVERN', 'APARTMENT', 'DEPARTMENT STORE', 'RESIDENCE', 'POLICE FACILITY/VEH PARKING LOT', 'RESIDENCE', 'APARTMENT', 'STREET', 'STREET', 'CONVENIENCE STORE', 'RESIDENCE', 'RESIDENCE', 'RESIDENCE', 'APARTMENT', 'SCHOOL, PUBLIC, BUILDING', 'RESIDENCE', 'ALLEY', 'RESIDENCE', 'STREET', 'RESIDENTIAL YARD (FRONT/BACK)', 'SCHOOL, PUBLIC, GROUNDS', 'RESIDENTIAL YARD (FRONT/BACK)', 'PARK PROPERTY', 'APARTMENT', 'CTA STATION', 'PARKING LOT/GARAGE(NON.RESID.)', 'APARTMENT', 'RESIDENCE', 'STREET', 'SIDEWALK', 'APARTMENT', 'RESIDENCE', 'OTHER', 'SIDEWALK', 'RESIDENCE', 'RESIDENCE', 'OTHER', 'CTA TRAIN', 'ALLEY', 'OTHER', 'PARKING LOT/GARAGE(NON.RESID.)', 'TAXICAB', 'RESIDENTIAL YARD (FRONT/BACK)', 'STREET', 'DEPARTMENT STORE', 'APARTMENT', 'APARTMENT', 'PARKING LOT/GARAGE(NON.RESID.)', 'APARTMENT', 'STREET', 'RESIDENCE', 'OTHER', 'APARTMENT', 'OTHER', 'SIDEWALK', 'STREET', 'TAXICAB', 'STREET', 'RESIDENCE', 'STREET', 'APARTMENT', 'RESIDENCE', 'COMMERCIAL / BUSINESS OFFICE', 'RESIDENCE', 'VACANT LOT/LAND', 'STREET', 'APARTMENT', 'RESIDENCE', 'RESIDENTIAL YARD (FRONT/BACK)', 'STREET', 'APARTMENT', 'RESIDENCE', 'APARTMENT', 'STREET', 'SIDEWALK', 'STREET', 'VEHICLE NON-COMMERCIAL', 'STREET', 'STREET', 'DRIVEWAY - RESIDENTIAL', 'STREET', 'SIDEWALK', 'SMALL RETAIL STORE', 'RESIDENTIAL YARD (FRONT/BACK)', 'RESIDENCE', 'SIDEWALK', 'SMALL RETAIL STORE', 'HOTEL/MOTEL', 'APARTMENT', 'STREET', 'RESTAURANT', 'STREET', 'RESIDENCE', 'GAS STATION', 'STREET', 'NURSING HOME/RETIREMENT HOME', 'RESIDENCE', 'APARTMENT', 'RESIDENCE', 'APARTMENT', 'SIDEWALK', 'RESIDENCE', 'STREET', 'STREET', 'SIDEWALK', 'APARTMENT', 'APARTMENT', 'MEDICAL/DENTAL OFFICE', 'CTA PLATFORM', 'VEHICLE NON-COMMERCIAL', 'CONVENIENCE STORE', 'HOTEL/MOTEL', 'HOSPITAL BUILDING/GROUNDS', 'BARBERSHOP', 'STREET', 'SIDEWALK', 'SIDEWALK', 'RESIDENCE', 'STREET', 'NURSING HOME/RETIREMENT HOME', 'PARKING LOT/GARAGE(NON.RESID.)', 'STREET', 'APARTMENT', 'SIDEWALK', 'AIRPORT BUILDING NON-TERMINAL - NON-SECURE AREA', 'STREET', 'STREET', 'OTHER', 'AIRPORT VENDING ESTABLISHMENT', 'RESIDENTIAL YARD (FRONT/BACK)', 'RESIDENCE', 'APARTMENT', 'STREET', 'RESIDENCE PORCH/HALLWAY', 'RESIDENCE', 'COMMERCIAL / BUSINESS OFFICE', 'STREET', 'SIDEWALK', 'HOTEL/MOTEL', 'SCHOOL, PUBLIC, BUILDING', 'CONVENIENCE STORE', 'OTHER', 'SIDEWALK', 'OTHER', 'SIDEWALK', 'VACANT LOT/LAND', 'SIDEWALK', 'STREET', 'STREET', 'STREET', 'STREET', 'STREET', 'CTA TRAIN', 'RESIDENCE-GARAGE', 'RESIDENCE', 'ALLEY', 'RESIDENCE', 'APARTMENT', 'STREET', 'RESIDENCE', 'AIRPORT PARKING LOT', 'APARTMENT', 'APARTMENT', 'APARTMENT', 'RESTAURANT', 'STREET', 'ALLEY', 'SMALL RETAIL STORE', 'ALLEY', 'SMALL RETAIL STORE', 'APARTMENT', 'PARKING LOT/GARAGE(NON.RESID.)', 'APARTMENT', 'PARKING LOT/GARAGE(NON.RESID.)', 'RESIDENCE', 'RESTAURANT', 'STREET', 'PARKING LOT/GARAGE(NON.RESID.)', 'APARTMENT', 'STREET', 'ABANDONED BUILDING', 'STREET', 'RESIDENCE', 'RESIDENCE', 'APARTMENT', 'APARTMENT', 'STREET', 'SIDEWALK', 'APARTMENT', 'SIDEWALK', 'GOVERNMENT BUILDING/PROPERTY', 'ABANDONED BUILDING', 'APARTMENT', 'OTHER', 'PARKING LOT/GARAGE(NON.RESID.)', 'RESIDENCE', 'CONVENIENCE STORE', 'HOTEL/MOTEL', 'RESIDENCE', 'VACANT LOT/LAND', 'STREET', 'CTA STATION', 'RESTAURANT', 'APARTMENT', 'RESIDENCE', 'APARTMENT', 'STREET', 'SIDEWALK', 'RESIDENCE', 'APARTMENT', 'RESIDENCE', 'HOSPITAL BUILDING/GROUNDS', 'STREET', 'OTHER', 'RESIDENCE', 'BAR OR TAVERN', 'SIDEWALK', 'SIDEWALK', 'SIDEWALK', 'RESIDENCE', 'APARTMENT', 'SIDEWALK', 'SCHOOL, PUBLIC, BUILDING', 'RESIDENCE', 'TAVERN/LIQUOR STORE', 'STREET', 'STREET', 'OTHER', 'CONVENIENCE STORE', 'SIDEWALK', 'SIDEWALK', 'STREET', 'STREET', 'RESIDENCE', 'LAKEFRONT/WATERFRONT/RIVERBANK', 'BAR OR TAVERN', 'APARTMENT', 'STREET', 'DEPARTMENT STORE', 'SIDEWALK', 'STREET', 'SMALL RETAIL STORE', 'RESIDENCE', 'CHA APARTMENT', 'STREET', 'STREET', 'STREET', 'OTHER', 'CTA TRAIN', 'STREET', 'RESIDENCE', 'NURSING HOME/RETIREMENT HOME', 'PARKING LOT/GARAGE(NON.RESID.)', 'STREET', 'RESIDENCE', 'STREET', 'SMALL RETAIL STORE', 'RESIDENCE', 'RESIDENCE', 'OTHER', 'POLICE FACILITY/VEH PARKING LOT', 'VEHICLE NON-COMMERCIAL', 'SIDEWALK', 'STREET', 'ALLEY', 'SIDEWALK', 'STREET', 'APARTMENT', 'RESIDENCE', 'SMALL RETAIL STORE', 'STREET', 'AIRCRAFT', 'PARK PROPERTY', 'APARTMENT', 'STREET', 'SMALL RETAIL STORE', 'RESIDENCE', 'APARTMENT', 'PARK PROPERTY', 'RESIDENCE-GARAGE', 'APARTMENT', 'RESIDENCE', 'STREET', 'STREET', 'APARTMENT', 'SCHOOL, PRIVATE, BUILDING', 'HOTEL/MOTEL', 'SIDEWALK', 'STREET', 'STREET', 'STREET', 'OTHER', 'STREET', 'RESIDENCE', 'APARTMENT', 'APARTMENT', 'RESIDENTIAL YARD (FRONT/BACK)', 'RESIDENCE-GARAGE', 'SIDEWALK', 'STREET', 'RESTAURANT', 'CTA BUS', 'HOSPITAL BUILDING/GROUNDS', 'VEHICLE NON-COMMERCIAL', 'VEHICLE NON-COMMERCIAL', 'STREET', 'PARKING LOT/GARAGE(NON.RESID.)', 'OTHER', 'SMALL RETAIL STORE', 'DEPARTMENT STORE', 'ALLEY', 'STREET', 'GAS STATION', 'RESIDENCE', 'SIDEWALK', 'RESIDENCE', 'SMALL RETAIL STORE', 'RESIDENCE', 'STREET', 'BANK', 'RESIDENCE PORCH/HALLWAY', 'RESIDENCE-GARAGE', 'SIDEWALK', 'SMALL RETAIL STORE', 'RESIDENCE', 'STREET', 'CTA BUS', 'DEPARTMENT STORE', 'STREET', 'OTHER', 'STREET', 'STREET', 'SIDEWALK', 'STREET', 'OTHER', 'RESIDENCE', 'APARTMENT', 'PARKING LOT/GARAGE(NON.RESID.)', 'STREET', 'APARTMENT', 'STREET', 'STREET', 'STREET', 'SIDEWALK', 'OTHER', 'RESIDENCE', 'OTHER', 'APARTMENT', 'SCHOOL, PUBLIC, GROUNDS', 'DEPARTMENT STORE', 'PARKING LOT/GARAGE(NON.RESID.)', 'PARKING LOT/GARAGE(NON.RESID.)', 'RESIDENTIAL YARD (FRONT/BACK)', 'APARTMENT', 'ALLEY', 'PARKING LOT/GARAGE(NON.RESID.)', 'RESIDENCE', 'RESIDENCE', 'HOTEL/MOTEL', '', 'STREET', 'AIRPORT TERMINAL LOWER LEVEL - NON-SECURE AREA', 'RESIDENCE', 'PARKING LOT/GARAGE(NON.RESID.)', 'CURRENCY EXCHANGE', 'SIDEWALK', 'CHURCH/SYNAGOGUE/PLACE OF WORSHIP', 'STREET', 'OTHER', 'RESIDENCE', 'OTHER', 'RESIDENTIAL YARD (FRONT/BACK)', 'STREET', 'STREET', 'STREET', 'STREET', 'RESIDENCE', 'SIDEWALK', 'APARTMENT', 'OTHER', 'RESIDENCE', 'APARTMENT', 'APARTMENT', 'RESIDENTIAL YARD (FRONT/BACK)', 'SIDEWALK', 'PARK PROPERTY', 'PARKING LOT/GARAGE(NON.RESID.)', 'CTA STATION', 'PARKING LOT/GARAGE(NON.RESID.)', 'APARTMENT', 'SIDEWALK', 'STREET', 'STREET', 'VEHICLE NON-COMMERCIAL', 'STREET', 'STREET', 'STREET', 'RESIDENCE', 'OTHER', 'PARKING LOT/GARAGE(NON.RESID.)', 'ALLEY', 'MEDICAL/DENTAL OFFICE', 'STREET', 'SIDEWALK', 'STREET', 'RESIDENCE-GARAGE', 'VACANT LOT/LAND', 'CONVENIENCE STORE', 'STREET', 'STREET', 'SIDEWALK', 'RESIDENCE', 'STREET', 'STREET', 'RESIDENCE', 'RESIDENCE', 'RESIDENCE PORCH/HALLWAY', 'SIDEWALK', 'ALLEY', 'STREET', 'STREET', 'VACANT LOT/LAND', 'APARTMENT', 'OTHER', 'CHA PARKING LOT/GROUNDS', 'RESIDENCE', 'SCHOOL, PRIVATE, BUILDING', 'PARK PROPERTY', 'STREET', 'APARTMENT', 'SIDEWALK', 'ALLEY', 'RESIDENCE-GARAGE', 'STREET', 'APARTMENT', 'OTHER', 'SIDEWALK', 'OTHER', 'SMALL RETAIL STORE', 'APARTMENT', 'VEHICLE-COMMERCIAL', 'RESIDENCE', 'RESIDENCE-GARAGE', 'APARTMENT', 'APARTMENT', 'STREET', 'STREET', 'SCHOOL, PUBLIC, GROUNDS', 'PARKING LOT/GARAGE(NON.RESID.)', 'SIDEWALK', 'VACANT LOT/LAND', 'PARKING LOT/GARAGE(NON.RESID.)', 'STREET', 'SIDEWALK', 'RESIDENCE', 'RESIDENCE', 'SCHOOL, PUBLIC, GROUNDS', 'RESIDENCE PORCH/HALLWAY', 'SIDEWALK', 'SIDEWALK', 'SIDEWALK', 'SCHOOL, PUBLIC, BUILDING', 'APARTMENT', 'RESIDENCE', 'RESIDENCE', 'STREET', 'APARTMENT', 'ABANDONED BUILDING', 'RESIDENCE', 'RESIDENCE PORCH/HALLWAY', 'CONVENIENCE STORE', 'RESIDENCE PORCH/HALLWAY', 'APARTMENT', 'PARKING LOT/GARAGE(NON.RESID.)', 'CTA TRAIN', 'STREET', 'STREET', 'PARKING LOT/GARAGE(NON.RESID.)', 'ALLEY', 'STREET', 'VEHICLE NON-COMMERCIAL', 'SIDEWALK', 'RESIDENCE PORCH/HALLWAY', 'PARKING LOT/GARAGE(NON.RESID.)', 'STREET', 'APARTMENT', 'STREET', 'APARTMENT', 'RESIDENCE-GARAGE', 'APARTMENT', 'SIDEWALK', 'STREET', 'BANK', 'APARTMENT', 'RESIDENCE', 'RESIDENCE', 'RESIDENCE', 'STREET', 'STREET', 'RESIDENCE', 'APARTMENT', 'STREET', 'SIDEWALK', 'STREET', 'DRUG STORE', 'HOSPITAL BUILDING/GROUNDS', 'APARTMENT', 'OTHER', 'CTA BUS STOP', 'APARTMENT', 'PARK PROPERTY', 'OTHER', 'RESIDENCE', 'STREET', 'RESIDENCE', 'STREET', 'STREET', 'RESIDENCE', 'RESIDENCE', 'STREET', 'APARTMENT', 'SIDEWALK', 'SIDEWALK', 'RESIDENCE', 'SIDEWALK', 'APARTMENT', 'PARKING LOT/GARAGE(NON.RESID.)', 'STREET', 'SCHOOL, PUBLIC, BUILDING', 'STREET', 'ALLEY', 'RESIDENCE', '', 'RESIDENCE', 'CTA TRAIN', 'SIDEWALK', 'APARTMENT', 'CONVENIENCE STORE', 'SIDEWALK', 'VEHICLE NON-COMMERCIAL', 'RESIDENCE', 'SIDEWALK', 'RESIDENCE', 'JAIL / LOCK-UP FACILITY', 'RESIDENCE PORCH/HALLWAY', 'SIDEWALK', 'SIDEWALK', 'APARTMENT', 'RESIDENCE', 'CTA STATION', 'STREET', 'RESIDENCE', 'APARTMENT', 'POLICE FACILITY/VEH PARKING LOT', 'SCHOOL, PUBLIC, GROUNDS', 'APARTMENT', 'SIDEWALK', 'SIDEWALK', 'APARTMENT', 'RESIDENCE', 'SIDEWALK', 'SCHOOL, PUBLIC, BUILDING', 'PARK PROPERTY', 'APARTMENT', 'SIDEWALK', 'RESIDENCE', 'APARTMENT', 'APARTMENT', 'STREET', 'APARTMENT', 'RESIDENTIAL YARD (FRONT/BACK)', 'APARTMENT', 'STREET', 'SCHOOL, PUBLIC, GROUNDS', 'STREET', 'RESIDENCE', 'SIDEWALK', 'WAREHOUSE', 'PARKING LOT/GARAGE(NON.RESID.)', 'CTA BUS STOP', 'APARTMENT', 'CTA BUS', 'SIDEWALK', 'STREET', 'SIDEWALK', 'RESIDENCE-GARAGE', 'SIDEWALK', 'OTHER', 'PARKING LOT/GARAGE(NON.RESID.)', 'RESIDENCE', 'CHA APARTMENT', 'RESIDENTIAL YARD (FRONT/BACK)', 'PARK PROPERTY', 'APARTMENT', 'SIDEWALK', 'STREET', 'RESIDENCE', 'OTHER RAILROAD PROP / TRAIN DEPOT', 'STREET', 'STREET', 'APARTMENT', 'STREET', 'BANK', 'APARTMENT', 'STREET', 'RESIDENCE-GARAGE', 'PARKING LOT/GARAGE(NON.RESID.)', 'APARTMENT', 'STREET', 'RESIDENCE', 'STREET', 'APARTMENT', 'PARKING LOT/GARAGE(NON.RESID.)', 'RESIDENCE-GARAGE', 'APARTMENT', 'SIDEWALK', 'BANK', 'RESIDENCE', 'APARTMENT', 'STREET', 'STREET', 'ALLEY', 'RESIDENTIAL YARD (FRONT/BACK)', 'STREET', 'APARTMENT', 'STREET', 'APARTMENT', 'STREET', 'STREET', 'PARK PROPERTY', 'GOVERNMENT BUILDING/PROPERTY', 'RESIDENCE', 'STREET', 'STREET', 'RESIDENCE', 'ALLEY', 'STREET', 'BAR OR TAVERN', 'STREET', 'VEHICLE NON-COMMERCIAL', 'FIRE STATION', 'SIDEWALK', 'APARTMENT', 'STREET', 'RESIDENCE PORCH/HALLWAY', 'APARTMENT', 'STREET', 'JAIL / LOCK-UP FACILITY', 'RESIDENCE', 'STREET', 'APARTMENT', 'STREET', 'APARTMENT', 'DEPARTMENT STORE', 'PARK PROPERTY', 'GROCERY FOOD STORE', 'SCHOOL, PUBLIC, BUILDING', 'RESIDENCE', 'STREET', 'RESIDENCE', 'APARTMENT', 'GOVERNMENT BUILDING/PROPERTY', 'SCHOOL, PUBLIC, GROUNDS', 'RESIDENTIAL YARD (FRONT/BACK)', 'CTA BUS', 'APARTMENT', 'RESIDENCE', 'PARKING LOT/GARAGE(NON.RESID.)', 'RESIDENTIAL YARD (FRONT/BACK)', 'SIDEWALK', 'COMMERCIAL / BUSINESS OFFICE', 'SCHOOL, PUBLIC, BUILDING', 'ATHLETIC CLUB', 'SMALL RETAIL STORE', 'HOSPITAL BUILDING/GROUNDS', 'COMMERCIAL / BUSINESS OFFICE', 'PARKING LOT/GARAGE(NON.RESID.)', 'SIDEWALK', 'HOSPITAL BUILDING/GROUNDS', 'CTA TRAIN', 'RESIDENTIAL YARD (FRONT/BACK)', 'STREET', 'RESIDENCE', 'OTHER', 'SIDEWALK', 'SMALL RETAIL STORE', 'ALLEY', 'APARTMENT', 'GAS STATION', 'CTA PLATFORM', 'RESIDENCE', 'PARK PROPERTY', 'APARTMENT', 'STREET', 'PARK PROPERTY', 'SIDEWALK', 'SIDEWALK', 'VEHICLE NON-COMMERCIAL', 'APARTMENT', 'SIDEWALK', 'STREET', 'BAR OR TAVERN', 'BARBERSHOP', 'APARTMENT', 'OTHER', 'APARTMENT', 'SIDEWALK', 'SMALL RETAIL STORE', 'RESIDENTIAL YARD (FRONT/BACK)', 'RESIDENTIAL YARD (FRONT/BACK)', 'RESIDENCE', 'SIDEWALK', 'RESIDENCE', 'APARTMENT', 'SIDEWALK', 'RESTAURANT', 'STREET', 'STREET', 'APARTMENT', 'VEHICLE NON-COMMERCIAL', 'STREET', 'SIDEWALK', 'GROCERY FOOD STORE', 'OTHER', 'STREET', 'STREET', 'SIDEWALK', 'VEHICLE NON-COMMERCIAL', 'RESIDENCE', 'APARTMENT', 'STREET', 'STREET', 'SCHOOL, PUBLIC, GROUNDS', 'RESIDENTIAL YARD (FRONT/BACK)', 'RESIDENCE', 'STREET', 'STREET', 'ALLEY', 'APARTMENT', 'APARTMENT', 'DEPARTMENT STORE', 'OTHER', 'STREET', 'STREET', 'STREET', 'OTHER', 'RESIDENCE', 'APARTMENT', 'OTHER RAILROAD PROP / TRAIN DEPOT', 'STREET', 'STREET', 'RESIDENCE', 'CTA TRAIN', 'STREET', 'APARTMENT', 'CTA STATION', 'SIDEWALK', 'RESIDENTIAL YARD (FRONT/BACK)', 'STREET', 'APARTMENT', 'PARKING LOT/GARAGE(NON.RESID.)', 'SCHOOL, PUBLIC, GROUNDS', 'SMALL RETAIL STORE', 'APARTMENT', 'SIDEWALK', 'HIGHWAY/EXPRESSWAY', 'APARTMENT', 'APARTMENT', 'APARTMENT', 'PARKING LOT/GARAGE(NON.RESID.)', 'RESIDENTIAL YARD (FRONT/BACK)', 'APARTMENT', 'RESIDENCE-GARAGE', 'STREET', 'PARK PROPERTY', 'RESIDENCE', 'APARTMENT', 'ALLEY', 'APARTMENT', 'SMALL RETAIL STORE', 'SIDEWALK', 'RESIDENCE', 'RESIDENTIAL YARD (FRONT/BACK)', 'STREET', '', 'STREET', 'SIDEWALK', 'STREET', 'APARTMENT', 'SIDEWALK', 'RESIDENCE', 'RESIDENCE', 'APARTMENT', 'OTHER', 'SIDEWALK', 'RESIDENCE', 'STREET', 'ALLEY', 'RESIDENTIAL YARD (FRONT/BACK)', 'APARTMENT', 'SIDEWALK', 'APARTMENT', 'STREET', 'RESIDENCE PORCH/HALLWAY', 'RESIDENTIAL YARD (FRONT/BACK)', 'RESIDENCE', 'RESIDENTIAL YARD (FRONT/BACK)', 'GAS STATION', 'SIDEWALK', 'APARTMENT', 'RESIDENCE-GARAGE', 'APARTMENT', 'RESIDENCE', 'SIDEWALK', 'SCHOOL, PUBLIC, BUILDING', 'RESIDENCE', 'APARTMENT', 'SIDEWALK', 'STREET', 'SIDEWALK', 'PARKING LOT/GARAGE(NON.RESID.)', 'APARTMENT', 'AIRPORT BUILDING NON-TERMINAL - NON-SECURE AREA', 'SIDEWALK', 'APARTMENT', 'ALLEY', 'STREET', 'RESTAURANT', 'APARTMENT', 'STREET', 'STREET', 'APARTMENT', 'RESIDENCE', 'STREET', 'VEHICLE NON-COMMERCIAL', 'DEPARTMENT STORE', 'PARKING LOT/GARAGE(NON.RESID.)', 'RESIDENCE', 'SIDEWALK', 'SIDEWALK', 'CONVENIENCE STORE', 'STREET', 'DEPARTMENT STORE', 'CTA TRAIN', 'SIDEWALK', 'DEPARTMENT STORE', 'RESIDENCE', 'STREET', 'STREET', 'SIDEWALK', 'RESIDENCE', 'APARTMENT', 'STREET', 'RESIDENCE', 'SCHOOL, PUBLIC, BUILDING', 'SIDEWALK', 'RESTAURANT', 'STREET', 'RESTAURANT', 'RESIDENCE', 'SIDEWALK', 'OTHER', 'ALLEY', 'STREET', 'PARKING LOT/GARAGE(NON.RESID.)', 'STREET', 'SIDEWALK', 'RESIDENCE', 'SIDEWALK', 'STREET', 'STREET', 'VEHICLE NON-COMMERCIAL', 'SMALL RETAIL STORE', 'STREET', 'BANK', 'SIDEWALK', 'RESTAURANT', 'SMALL RETAIL STORE', 'APARTMENT', 'SIDEWALK', 'OTHER', 'ALLEY', 'RESIDENCE', 'APARTMENT', 'SMALL RETAIL STORE', 'CTA BUS STOP', 'GROCERY FOOD STORE', 'RESIDENTIAL YARD (FRONT/BACK)', 'RESIDENCE', 'CTA STATION', 'PARK PROPERTY', 'VEHICLE NON-COMMERCIAL', 'CTA STATION', 'PARKING LOT/GARAGE(NON.RESID.)', 'DRIVEWAY - RESIDENTIAL', 'ALLEY', 'RESTAURANT', 'STREET', 'STREET', 'OTHER', 'PARK PROPERTY', 'RESIDENCE', 'APARTMENT', 'RESIDENCE', 'APARTMENT', 'ATHLETIC CLUB', 'RESIDENCE PORCH/HALLWAY', 'RESIDENTIAL YARD (FRONT/BACK)', 'RESIDENCE', 'SIDEWALK', 'ATHLETIC CLUB', 'CTA TRAIN', 'SCHOOL, PUBLIC, BUILDING', 'HOTEL/MOTEL', 'CTA PLATFORM', 'SIDEWALK', 'RESIDENCE', 'SCHOOL, PUBLIC, BUILDING', 'PARKING LOT/GARAGE(NON.RESID.)', 'STREET', 'ALLEY', 'SIDEWALK', 'SMALL RETAIL STORE', 'RESIDENCE', 'PARK PROPERTY', 'STREET', 'PARK PROPERTY', 'STREET', 'STREET', 'OTHER', 'STREET', 'CONVENIENCE STORE', 'STREET', 'PARKING LOT/GARAGE(NON.RESID.)', 'HOTEL/MOTEL', 'STREET', 'APARTMENT', 'PARKING LOT/GARAGE(NON.RESID.)', 'RESTAURANT', 'RESIDENCE', 'STREET', 'APARTMENT', 'SIDEWALK', 'GROCERY FOOD STORE', 'PARK PROPERTY', 'STREET', 'STREET', 'OTHER', 'APARTMENT', 'RESIDENCE', 'RESIDENCE', 'STREET', 'STREET', 'RESIDENCE', 'APARTMENT', 'RESIDENCE-GARAGE', 'STREET', 'STREET', 'APARTMENT', 'SIDEWALK', 'SCHOOL, PUBLIC, BUILDING', 'GAS STATION', 'STREET', 'SCHOOL, PUBLIC, BUILDING', 'SIDEWALK', 'RESIDENCE', 'STREET', 'PARKING LOT/GARAGE(NON.RESID.)', 'STREET', 'STREET', 'RESIDENCE', 'OTHER', 'SMALL RETAIL STORE', 'STREET', 'RESIDENCE PORCH/HALLWAY', 'SMALL RETAIL STORE', 'STREET', 'APARTMENT', 'RESIDENCE-GARAGE', 'SCHOOL, PUBLIC, BUILDING', 'RESIDENCE PORCH/HALLWAY', 'ALLEY', 'COMMERCIAL / BUSINESS OFFICE', 'STREET', 'SCHOOL, PUBLIC, BUILDING', 'RESIDENCE', 'RESIDENCE', 'RESIDENCE', 'RESIDENCE-GARAGE', 'SCHOOL, PUBLIC, BUILDING', 'HOUSE', 'CTA TRAIN', 'SIDEWALK', 'STREET', 'RESIDENCE', 'STREET', 'RESIDENCE', 'GROCERY FOOD STORE', 'PARKING LOT/GARAGE(NON.RESID.)', 'RESIDENCE', 'SIDEWALK', 'SIDEWALK', 'STREET', 'STREET', 'RESIDENCE', 'PARKING LOT/GARAGE(NON.RESID.)', 'STREET', 'RESIDENTIAL YARD (FRONT/BACK)', 'APARTMENT', 'GROCERY FOOD STORE', 'STREET', 'RESIDENCE', 'APARTMENT', 'DEPARTMENT STORE', 'APARTMENT', 'APARTMENT', 'RESIDENCE', 'DEPARTMENT STORE', 'SMALL RETAIL STORE', 'STREET', 'RESIDENCE', 'STREET', 'RESIDENTIAL YARD (FRONT/BACK)', 'RESIDENCE PORCH/HALLWAY', 'STREET', 'SCHOOL, PRIVATE, BUILDING', 'SIDEWALK', 'SIDEWALK', 'RESIDENCE', 'STREET', 'STREET', 'CHA HALLWAY/STAIRWELL/ELEVATOR', 'GROCERY FOOD STORE', 'APARTMENT', 'RESIDENCE', 'APARTMENT', 'APARTMENT', 'STREET', 'APARTMENT', 'RESIDENCE', 'SIDEWALK', 'RESIDENTIAL YARD (FRONT/BACK)', 'STREET', 'SCHOOL, PUBLIC, BUILDING', 'STREET'], 7: ['OTHER', 'PARKING LOT/GARAGE(NON.RESID.)', 'APARTMENT', 'STREET', 'STREET', 'APARTMENT', 'RESIDENCE', 'STREET', 'CHA PARKING LOT/GROUNDS', 'PARKING LOT/GARAGE(NON.RESID.)', 'PARKING LOT/GARAGE(NON.RESID.)', 'APARTMENT', 'STREET', 'OTHER', 'SIDEWALK', 'APARTMENT', 'STREET', 'DEPARTMENT STORE', 'BAR OR TAVERN', 'APARTMENT', 'RESIDENCE-GARAGE', 'STREET', 'VEHICLE NON-COMMERCIAL', 'SIDEWALK', 'GROCERY FOOD STORE', 'STREET', 'ALLEY', 'OTHER', 'STREET', 'PARKING LOT/GARAGE(NON.RESID.)', 'STREET', 'SIDEWALK', 'STREET', 'DRUG STORE', 'STREET', 'STREET', 'OTHER', 'STREET', 'OTHER', 'PARKING LOT/GARAGE(NON.RESID.)', 'VEHICLE NON-COMMERCIAL', 'CHA APARTMENT', 'RESIDENCE', 'APARTMENT', 'PARKING LOT/GARAGE(NON.RESID.)', 'STREET', 'RESIDENCE', 'RESIDENCE', 'APARTMENT', 'RESIDENCE', 'STREET', 'DEPARTMENT STORE', 'CTA TRAIN', 'STREET', 'RESIDENCE', 'PARKING LOT/GARAGE(NON.RESID.)', 'RESIDENCE', 'RESIDENCE', 'STREET', 'PARK PROPERTY', 'RESIDENCE', 'OTHER', 'SIDEWALK', 'RESIDENCE', 'RESIDENCE PORCH/HALLWAY', 'PARKING LOT/GARAGE(NON.RESID.)', 'APARTMENT', 'GROCERY FOOD STORE', 'RESIDENCE-GARAGE', 'APARTMENT', 'STREET', 'VACANT LOT/LAND', 'SIDEWALK', 'STREET', 'STREET', 'RESIDENCE', 'STREET', 'SIDEWALK', 'RESIDENCE', 'RESIDENCE', 'STREET', 'SIDEWALK', 'SIDEWALK', 'STREET', 'RESIDENCE', 'GROCERY FOOD STORE', 'PARKING LOT/GARAGE(NON.RESID.)', 'STREET', 'PARK PROPERTY', 'RESIDENCE', 'SIDEWALK', 'APARTMENT', 'RESIDENCE', 'SMALL RETAIL STORE', 'ALLEY', 'STREET', 'RESIDENTIAL YARD (FRONT/BACK)', 'RESIDENTIAL YARD (FRONT/BACK)', 'OTHER', 'SIDEWALK', 'SIDEWALK', 'STREET', 'OTHER', 'ALLEY', 'OTHER', 'STREET', 'ATM (AUTOMATIC TELLER MACHINE)', 'VEHICLE NON-COMMERCIAL', 'APARTMENT', 'SIDEWALK', 'CTA BUS', 'APARTMENT', 'APARTMENT', 'RESIDENCE-GARAGE', 'STREET', 'STREET', 'RESIDENTIAL YARD (FRONT/BACK)', 'APARTMENT', 'RESIDENCE', 'STREET', 'RESIDENCE', 'RESIDENCE', 'RESIDENCE', 'STREET', 'RESIDENCE', 'RESIDENCE PORCH/HALLWAY', 'SIDEWALK', 'STREET', 'PARKING LOT/GARAGE(NON.RESID.)', 'SIDEWALK', 'STREET', 'STREET', 'RESIDENCE', 'STREET', 'POLICE FACILITY/VEH PARKING LOT', 'RESIDENCE', 'RESIDENCE', 'APARTMENT', 'AUTO', 'APARTMENT', 'STREET', 'STREET', 'RESIDENCE', 'APARTMENT', 'ATHLETIC CLUB', 'PARKING LOT/GARAGE(NON.RESID.)', 'STREET', 'CHA PARKING LOT/GROUNDS', 'STREET', 'STREET', 'SIDEWALK', 'SCHOOL, PRIVATE, GROUNDS', 'CHA APARTMENT', 'SIDEWALK', 'STREET', 'RESIDENCE', 'RESTAURANT', 'STREET', 'STREET', 'APARTMENT', 'VEHICLE - OTHER RIDE SERVICE', 'CHA PARKING LOT/GROUNDS', 'STREET', 'APARTMENT', 'SMALL RETAIL STORE', 'CHURCH/SYNAGOGUE/PLACE OF WORSHIP', 'OTHER', 'SIDEWALK', 'RESIDENCE', 'STREET', 'RESIDENCE', 'SIDEWALK', 'APARTMENT', 'CTA STATION', 'DRIVEWAY - RESIDENTIAL', 'STREET', 'RESIDENCE-GARAGE', 'DRUG STORE', 'STREET', 'CTA PLATFORM', 'RESTAURANT', 'RESIDENCE PORCH/HALLWAY', 'SMALL RETAIL STORE', 'GAS STATION', 'STREET', 'RESIDENCE', 'RESIDENTIAL YARD (FRONT/BACK)', 'BANK', 'OTHER', 'APARTMENT', 'RESIDENCE', 'STREET', 'APARTMENT', 'SIDEWALK', 'RESIDENTIAL YARD (FRONT/BACK)', 'STREET', 'VEHICLE NON-COMMERCIAL', 'CHA APARTMENT', 'RESIDENTIAL YARD (FRONT/BACK)', 'OTHER', 'APARTMENT', 'RESIDENCE PORCH/HALLWAY', 'APARTMENT', 'CHURCH/SYNAGOGUE/PLACE OF WORSHIP', 'APARTMENT', 'APARTMENT', 'DRUG STORE', 'RESIDENTIAL YARD (FRONT/BACK)', 'STREET', 'APARTMENT', 'RESTAURANT', 'PARKING LOT/GARAGE(NON.RESID.)', 'SIDEWALK', 'RESIDENCE', 'STREET', 'APARTMENT', 'STREET', 'STREET', 'STREET', 'RESIDENCE', 'CONSTRUCTION SITE', 'VEHICLE NON-COMMERCIAL', 'PARK PROPERTY', 'APARTMENT', 'SCHOOL, PUBLIC, BUILDING', 'APARTMENT', 'SIDEWALK', 'BAR OR TAVERN', 'APARTMENT', 'RESIDENCE', 'SIDEWALK', 'PARKING LOT/GARAGE(NON.RESID.)', 'HOSPITAL BUILDING/GROUNDS', 'STREET', 'STREET', 'RESIDENCE', 'RESIDENCE', 'CHA APARTMENT', 'STREET', 'STREET', 'VEHICLE NON-COMMERCIAL', 'STREET', 'VEHICLE NON-COMMERCIAL', 'STREET', 'STREET', 'VEHICLE NON-COMMERCIAL', 'DEPARTMENT STORE', 'STREET', 'STREET', 'RESIDENCE', 'POLICE FACILITY/VEH PARKING LOT', 'APARTMENT', 'BANK', 'RESIDENCE', 'APARTMENT', 'STREET', 'RESIDENCE-GARAGE', 'TAVERN/LIQUOR STORE', 'RESIDENCE-GARAGE', 'DEPARTMENT STORE', 'APARTMENT', 'SIDEWALK', 'SIDEWALK', 'STREET', 'RESTAURANT', 'RESIDENCE', 'RESIDENCE', 'STREET', 'RESIDENCE', 'RESIDENCE', 'DEPARTMENT STORE', 'STREET', 'PARKING LOT/GARAGE(NON.RESID.)', 'RESIDENCE', 'APARTMENT', 'STREET', 'SIDEWALK', 'SIDEWALK', 'RESIDENCE', 'OTHER', 'RESIDENCE', 'RESTAURANT', 'RESIDENCE', 'STREET', 'SMALL RETAIL STORE', 'RESIDENTIAL YARD (FRONT/BACK)', 'STREET', 'STREET', 'DRIVEWAY - RESIDENTIAL', 'STREET', 'STREET', 'PARKING LOT/GARAGE(NON.RESID.)', 'RESIDENTIAL YARD (FRONT/BACK)', 'STREET', 'RESTAURANT', 'OTHER', 'OTHER', 'BAR OR TAVERN', 'RESIDENCE', 'STREET', 'STREET', 'STREET', 'SIDEWALK', 'RESIDENCE-GARAGE', 'RESIDENCE', 'STREET', 'STREET', 'STREET', 'PARKING LOT/GARAGE(NON.RESID.)', 'STREET', 'OTHER', 'SIDEWALK', 'SIDEWALK', 'STREET', 'OTHER', 'SIDEWALK', 'OTHER', 'STREET', 'STREET', 'STREET', 'RESIDENCE-GARAGE', 'RESIDENCE-GARAGE', 'BAR OR TAVERN', 'STREET', 'RESIDENCE', 'RESIDENCE', 'STREET', 'SIDEWALK', 'OTHER', 'APARTMENT', 'STREET', 'SMALL RETAIL STORE', 'PARKING LOT/GARAGE(NON.RESID.)', 'STREET', 'RESIDENCE', 'APARTMENT', 'OTHER', 'STREET', 'RESIDENCE', 'APARTMENT', 'RESIDENCE', 'APARTMENT', 'APARTMENT', 'APARTMENT', 'STREET', 'DEPARTMENT STORE', 'RESIDENCE', 'SMALL RETAIL STORE', 'RESIDENTIAL YARD (FRONT/BACK)', 'RESIDENCE', 'RESIDENCE', 'SIDEWALK', 'STREET', 'SCHOOL, PUBLIC, GROUNDS', 'APARTMENT', 'RESIDENTIAL YARD (FRONT/BACK)', 'PARKING LOT/GARAGE(NON.RESID.)', 'STREET', 'SIDEWALK', 'RESIDENCE', 'SIDEWALK', 'SIDEWALK', 'APARTMENT', 'STREET', 'ATM (AUTOMATIC TELLER MACHINE)', 'STREET', 'SMALL RETAIL STORE', 'STREET', 'PARKING LOT/GARAGE(NON.RESID.)', 'STREET', 'APARTMENT', 'STREET', 'STREET', 'RESIDENCE-GARAGE', 'STREET', 'APARTMENT', 'SIDEWALK', 'RESTAURANT', 'SIDEWALK', 'SIDEWALK', 'PARKING LOT/GARAGE(NON.RESID.)', 'SCHOOL, PUBLIC, GROUNDS', 'RESIDENCE', 'STREET', 'STREET', 'RESIDENCE', 'STREET', 'RESIDENCE', 'DRUG STORE', 'GOVERNMENT BUILDING/PROPERTY', 'VEHICLE NON-COMMERCIAL', 'GROCERY FOOD STORE', 'APARTMENT', 'PARK PROPERTY', 'STREET', 'SIDEWALK', 'STREET', 'PARK PROPERTY', 'APARTMENT', 'OTHER', 'CHA PARKING LOT/GROUNDS', 'GAS STATION', 'RESIDENCE', 'RESIDENTIAL YARD (FRONT/BACK)', 'SIDEWALK', 'HOSPITAL BUILDING/GROUNDS', 'DEPARTMENT STORE', 'APARTMENT', 'APARTMENT', 'RESIDENCE', 'PARK PROPERTY', 'SIDEWALK', 'APARTMENT', 'STREET', 'SIDEWALK', 'VACANT LOT/LAND', 'OTHER', 'STREET', 'PARK PROPERTY', 'RESIDENCE', 'SIDEWALK', 'RESIDENCE PORCH/HALLWAY', 'RESIDENCE-GARAGE', 'STREET', 'STREET', 'SIDEWALK', 'APARTMENT', 'SIDEWALK', 'RESIDENCE', 'RESIDENCE', 'STREET', 'SMALL RETAIL STORE', 'ALLEY', 'HOSPITAL BUILDING/GROUNDS', 'OTHER', 'STREET', 'APARTMENT', 'RESIDENCE', 'APARTMENT', 'STREET', 'SIDEWALK', 'BAR OR TAVERN', 'APARTMENT', 'SMALL RETAIL STORE', 'STREET', 'PARK PROPERTY', 'APARTMENT', 'RESIDENCE', 'STREET', 'CTA BUS STOP', 'SIDEWALK', 'SIDEWALK', 'STREET', 'RESIDENTIAL YARD (FRONT/BACK)', 'STREET', 'DRUG STORE', 'ALLEY', 'SIDEWALK', 'SIDEWALK', 'SIDEWALK', 'SIDEWALK', 'APARTMENT', 'PARKING LOT/GARAGE(NON.RESID.)', 'SIDEWALK', 'STREET', 'SIDEWALK', 'RESIDENTIAL YARD (FRONT/BACK)', 'GOVERNMENT BUILDING/PROPERTY', 'RESIDENCE-GARAGE', 'STREET', 'RESIDENCE', 'RESIDENCE', 'RESIDENCE', 'STREET', 'STREET', 'SMALL RETAIL STORE', 'FACTORY/MANUFACTURING BUILDING', 'AIRPORT/AIRCRAFT', 'RESIDENCE', 'ALLEY', 'DRIVEWAY - RESIDENTIAL', 'SIDEWALK', 'STREET', 'RESIDENCE', 'OTHER', 'CTA BUS', 'RESIDENCE', 'RESIDENCE', 'RESIDENCE', 'STREET', 'RESIDENTIAL YARD (FRONT/BACK)', 'APARTMENT', 'GROCERY FOOD STORE', 'VEHICLE NON-COMMERCIAL', 'RESIDENCE', 'APARTMENT', 'STREET', 'SIDEWALK', 'STREET', 'STREET', 'SIDEWALK', 'CONVENIENCE STORE', 'APARTMENT', 'SIDEWALK', 'RESIDENCE', 'RESIDENCE', 'APARTMENT', 'STREET', 'PARKING LOT/GARAGE(NON.RESID.)', 'SIDEWALK', 'OTHER', 'GAS STATION', 'STREET', 'CONSTRUCTION SITE', 'STREET', 'RESIDENCE', 'RESIDENTIAL YARD (FRONT/BACK)', 'PARK PROPERTY', 'STREET', 'RESIDENCE', 'SMALL RETAIL STORE', 'STREET', 'SIDEWALK', 'RESIDENCE PORCH/HALLWAY', 'OTHER', 'STREET', 'SIDEWALK', 'STREET', 'RESIDENCE', 'RESTAURANT', 'RESIDENCE', 'RESIDENCE', 'BANK', 'STREET', 'COMMERCIAL / BUSINESS OFFICE', 'RESIDENCE', 'APARTMENT', 'APARTMENT', 'APARTMENT', 'DRIVEWAY - RESIDENTIAL', 'ALLEY', 'APARTMENT', 'DEPARTMENT STORE', 'STREET', 'NURSING HOME/RETIREMENT HOME', 'SIDEWALK', 'VACANT LOT/LAND', 'APARTMENT', 'RESIDENCE', 'BAR OR TAVERN', 'STREET', 'RESIDENCE', 'APARTMENT', 'GAS STATION', 'RESIDENCE', 'RESIDENCE', 'PARK PROPERTY', 'RESIDENCE', 'STREET', 'DEPARTMENT STORE', 'PARK PROPERTY', 'STREET', 'STREET', 'OTHER', 'OTHER', 'SIDEWALK', 'STREET', 'STREET', 'SIDEWALK', 'STREET', 'STREET', 'GROCERY FOOD STORE', 'RESTAURANT', 'STREET', 'RESTAURANT', 'STREET', 'STREET', 'DEPARTMENT STORE', 'STREET', 'STREET', 'APPLIANCE STORE', 'RESIDENCE', 'PARKING LOT/GARAGE(NON.RESID.)', 'PARKING LOT/GARAGE(NON.RESID.)', 'STREET', 'SIDEWALK', 'GAS STATION', 'SCHOOL, PRIVATE, GROUNDS', 'RESIDENCE-GARAGE', 'STREET', 'STREET', 'RESIDENCE', 'STREET', 'CONVENIENCE STORE', 'APARTMENT', 'RESTAURANT', 'STREET', 'STREET', 'STREET', 'NURSING HOME/RETIREMENT HOME', 'STREET', 'RESIDENCE', 'STREET', 'STREET', 'BAR OR TAVERN', 'STREET', 'STREET', 'RESIDENCE', 'PARKING LOT/GARAGE(NON.RESID.)', 'SIDEWALK', 'ALLEY', 'SIDEWALK', 'HOTEL/MOTEL', 'STREET', 'RESIDENCE', 'STREET', 'PARKING LOT/GARAGE(NON.RESID.)', 'RESIDENCE-GARAGE', 'RESTAURANT', 'SIDEWALK', 'APARTMENT', 'STREET', 'RESIDENCE', 'ALLEY', 'STREET', 'RESIDENCE', 'APARTMENT', 'SIDEWALK', 'APARTMENT', 'RESTAURANT', 'OTHER', 'RESIDENCE', 'STREET', '', 'STREET', 'OTHER', 'SIDEWALK', 'RESIDENCE', 'RESIDENCE', 'RESIDENCE-GARAGE', 'RESIDENCE', 'CONVENIENCE STORE', 'ALLEY', 'RESIDENCE', 'STREET', 'SIDEWALK', 'APARTMENT', 'RESIDENCE-GARAGE', 'STREET', 'RESIDENCE', 'RESIDENCE', 'RESIDENTIAL YARD (FRONT/BACK)', 'RESIDENCE', 'RESIDENCE', 'STREET', 'RESIDENCE', 'ABANDONED BUILDING', 'RESIDENCE', 'SMALL RETAIL STORE', 'APARTMENT', 'CTA BUS', 'STREET', 'RESIDENCE-GARAGE', 'PARKING LOT/GARAGE(NON.RESID.)', 'RESIDENCE', 'AIRPORT TERMINAL UPPER LEVEL - SECURE AREA', 'RESIDENTIAL YARD (FRONT/BACK)', 'STREET', 'CHA PARKING LOT/GROUNDS', 'APARTMENT', 'STREET', 'COMMERCIAL / BUSINESS OFFICE', 'APARTMENT', 'APARTMENT', 'BAR OR TAVERN', 'STREET', 'OTHER', 'CHURCH/SYNAGOGUE/PLACE OF WORSHIP', 'RESIDENCE', 'RESIDENCE', 'APARTMENT', 'BANK', 'STREET', 'CAR WASH', 'STREET', 'RESIDENCE', 'HOSPITAL BUILDING/GROUNDS', 'SIDEWALK', 'RESIDENCE', 'STREET', 'SIDEWALK', 'ALLEY', 'VEHICLE NON-COMMERCIAL', 'APARTMENT', 'RESTAURANT', 'STREET', 'RESIDENCE', 'PARK PROPERTY', 'SMALL RETAIL STORE', 'VEHICLE NON-COMMERCIAL', 'STREET', 'MOVIE HOUSE/THEATER', 'STREET', 'STREET', 'APARTMENT', 'SIDEWALK', 'PARKING LOT/GARAGE(NON.RESID.)', 'APARTMENT', 'STREET', 'SMALL RETAIL STORE', 'BAR OR TAVERN', 'SIDEWALK', 'STREET', 'STREET', 'VACANT LOT/LAND', 'APARTMENT', 'RESIDENCE', 'STREET', 'RESIDENCE-GARAGE', 'STREET', 'STREET', 'RESIDENCE', 'RESIDENCE', 'SIDEWALK', 'PARKING LOT/GARAGE(NON.RESID.)', 'RESIDENCE', 'RESIDENCE', 'RESIDENCE', 'RESIDENCE', 'OTHER', 'APARTMENT', 'ATHLETIC CLUB', 'RESIDENCE', 'APARTMENT', 'CHA PARKING LOT/GROUNDS', 'PARKING LOT/GARAGE(NON.RESID.)', 'RESIDENTIAL YARD (FRONT/BACK)', 'PARKING LOT/GARAGE(NON.RESID.)', 'VEHICLE NON-COMMERCIAL', 'STREET', 'SIDEWALK', 'STREET', 'RESIDENCE', 'STREET', 'STREET', 'COMMERCIAL / BUSINESS OFFICE', 'NURSING HOME/RETIREMENT HOME', 'STREET', 'RESIDENCE', 'APARTMENT', 'SIDEWALK', 'DEPARTMENT STORE', 'RESTAURANT', 'OTHER', 'CHA PARKING LOT/GROUNDS', 'STREET', 'RESIDENCE', 'STREET', 'STREET', 'APARTMENT', 'RESIDENCE', 'SIDEWALK', 'RESIDENCE PORCH/HALLWAY', 'STREET', 'OTHER', 'STREET', 'SIDEWALK', 'CTA TRAIN', 'SMALL RETAIL STORE', 'APARTMENT', 'TAXICAB', 'STREET', 'APARTMENT', 'APARTMENT', 'RESIDENCE', 'BAR OR TAVERN', 'APARTMENT', 'RESIDENTIAL YARD (FRONT/BACK)', 'APARTMENT', 'STREET', 'STREET', 'RESIDENCE PORCH/HALLWAY', 'STREET', 'STREET', 'STREET', 'VEHICLE NON-COMMERCIAL', 'DEPARTMENT STORE', 'STREET', 'APARTMENT', 'CTA STATION', 'APARTMENT', 'DRUG STORE', 'PARK PROPERTY', 'CHURCH/SYNAGOGUE/PLACE OF WORSHIP', 'APARTMENT', 'RESIDENCE', 'APARTMENT', 'RESIDENCE', 'SIDEWALK', 'RESIDENCE', 'RESIDENCE-GARAGE', 'APARTMENT', 'GAS STATION', 'ALLEY', 'STREET', 'STREET', 'STREET', 'CTA TRAIN', 'STREET', 'STREET', 'APARTMENT', 'DEPARTMENT STORE', 'RESIDENCE', 'RESIDENCE', 'STREET', 'STREET', 'SPORTS ARENA/STADIUM', 'APARTMENT', 'STREET', 'RESTAURANT', 'RESIDENCE-GARAGE', 'SIDEWALK', 'APARTMENT', 'STREET', 'PARK PROPERTY', 'APARTMENT', 'ATM (AUTOMATIC TELLER MACHINE)', 'OTHER', 'STREET', 'APARTMENT', 'SIDEWALK', 'RESIDENCE', 'APARTMENT', 'APARTMENT', 'CONVENIENCE STORE', 'CTA TRAIN', 'OTHER', 'DEPARTMENT STORE', 'ALLEY', 'PARK PROPERTY', 'GROCERY FOOD STORE', 'STREET', 'STREET', '', 'RESIDENCE', 'STREET', 'CTA TRAIN', 'RESIDENTIAL YARD (FRONT/BACK)', 'SMALL RETAIL STORE', 'APARTMENT', 'APARTMENT', 'SCHOOL, PUBLIC, BUILDING', 'STREET', 'CONVENIENCE STORE', 'APARTMENT', 'SMALL RETAIL STORE', 'RESIDENCE-GARAGE', 'GROCERY FOOD STORE', 'HOTEL/MOTEL', 'BANK', 'APARTMENT', 'STREET', 'APARTMENT', 'ALLEY', 'STREET', 'STREET', 'PARKING LOT/GARAGE(NON.RESID.)', 'APARTMENT', 'CTA GARAGE / OTHER PROPERTY', 'RESIDENCE', 'STREET', 'STREET', 'APARTMENT', 'CTA STATION', 'PAWN SHOP', 'SIDEWALK', 'STREET', 'STREET', 'GAS STATION', 'STREET', 'RESIDENTIAL YARD (FRONT/BACK)', 'STREET', 'APARTMENT', 'OTHER', 'RESIDENCE', 'STREET', 'OTHER', 'RESIDENCE', 'APARTMENT', 'SIDEWALK', 'SIDEWALK', 'APARTMENT', 'SMALL RETAIL STORE', 'SIDEWALK', 'STREET', 'RESIDENCE', 'ALLEY', 'CONVENIENCE STORE', 'PARKING LOT/GARAGE(NON.RESID.)', 'DEPARTMENT STORE', 'RESIDENCE', 'STREET', 'ALLEY', 'APARTMENT', 'STREET', 'RESIDENCE', 'STREET', '', 'STREET', 'STREET', 'PARKING LOT/GARAGE(NON.RESID.)', 'RESIDENCE', 'PARKING LOT/GARAGE(NON.RESID.)', 'APARTMENT', 'RESTAURANT', 'APARTMENT', 'PARK PROPERTY', 'PARK PROPERTY', 'RESTAURANT', 'HOSPITAL BUILDING/GROUNDS', 'APARTMENT', 'RESIDENCE', 'APARTMENT', 'STREET', 'RESIDENTIAL YARD (FRONT/BACK)', 'STREET', 'SMALL RETAIL STORE', 'GAS STATION', 'SIDEWALK', 'OTHER', 'APARTMENT', 'RESIDENCE', 'DEPARTMENT STORE', 'STREET', 'SIDEWALK', 'DRUG STORE', 'SIDEWALK', 'GAS STATION', 'PARKING LOT/GARAGE(NON.RESID.)', 'APARTMENT', 'SIDEWALK', 'STREET', 'APARTMENT', 'DEPARTMENT STORE', 'CHA PARKING LOT/GROUNDS', 'STREET', 'APARTMENT', 'APARTMENT', 'RESIDENCE', 'APARTMENT', 'APARTMENT', 'APARTMENT', 'APARTMENT', 'PARKING LOT/GARAGE(NON.RESID.)', 'STREET', 'STREET', 'OTHER', 'STREET', 'RESIDENCE', 'PARKING LOT/GARAGE(NON.RESID.)', 'APARTMENT', 'RESIDENCE', 'APARTMENT', 'SMALL RETAIL STORE', 'RESIDENCE', 'RESIDENCE', 'STREET', 'APARTMENT', 'APARTMENT', 'APARTMENT', 'SIDEWALK', 'RESIDENTIAL YARD (FRONT/BACK)', 'DEPARTMENT STORE', '', 'APARTMENT', 'GAS STATION', 'AIRCRAFT', '', 'HOTEL/MOTEL', 'APARTMENT', 'APARTMENT', 'SIDEWALK', 'STREET', 'STREET', 'STREET', 'DRUG STORE', 'RESIDENCE', 'VEHICLE NON-COMMERCIAL', 'OTHER', 'OTHER', 'SIDEWALK', 'SIDEWALK', 'RESIDENCE', 'CHA PARKING LOT/GROUNDS', 'STREET', 'CHA APARTMENT', 'RESIDENCE', 'SIDEWALK', 'ALLEY', 'STREET', 'RESIDENCE', 'GROCERY FOOD STORE', 'CTA TRAIN', 'SIDEWALK', 'BAR OR TAVERN', 'APARTMENT', 'ALLEY', 'RESIDENCE', 'DEPARTMENT STORE', 'APARTMENT', 'BAR OR TAVERN', 'ALLEY', 'STREET', 'RESIDENCE', 'APARTMENT', 'DEPARTMENT STORE', 'RESIDENCE', 'SIDEWALK', 'AIRPORT TRANSPORTATION SYSTEM (ATS)', 'APARTMENT', 'RESTAURANT', 'SIDEWALK', 'SIDEWALK', 'STREET', 'STREET', 'RESIDENCE', 'AIRPORT EXTERIOR - NON-SECURE AREA', 'APARTMENT', 'STREET', 'SIDEWALK', 'ABANDONED BUILDING', 'STREET', 'PARK PROPERTY', 'SMALL RETAIL STORE', 'RESIDENCE', 'RESIDENCE', 'BAR OR TAVERN', 'APARTMENT', 'BAR OR TAVERN', 'STREET', 'STREET', 'STREET', 'LAKEFRONT/WATERFRONT/RIVERBANK', 'APARTMENT', 'GOVERNMENT BUILDING/PROPERTY', 'STREET', 'APARTMENT', 'APARTMENT', 'RESIDENCE', 'RESIDENCE', 'APARTMENT', 'RESIDENTIAL YARD (FRONT/BACK)', 'SIDEWALK', 'SIDEWALK', 'STREET', 'APARTMENT', 'STREET', 'DRUG STORE', 'RESIDENCE', 'STREET', 'STREET', 'RESTAURANT', 'SIDEWALK', 'RESIDENCE', 'STREET', 'SPORTS ARENA/STADIUM', 'VEHICLE NON-COMMERCIAL', 'ALLEY', 'SIDEWALK', 'GROCERY FOOD STORE', 'STREET', 'SIDEWALK', 'SIDEWALK', 'APARTMENT', 'STREET', 'RESIDENCE-GARAGE', 'VEHICLE-COMMERCIAL', 'STREET', 'SIDEWALK', 'STREET', 'STREET', 'STREET', 'PARKING LOT/GARAGE(NON.RESID.)', 'APARTMENT', 'STREET', 'RESIDENCE', 'JAIL / LOCK-UP FACILITY', 'BANK', 'SIDEWALK', 'SMALL RETAIL STORE', 'RESIDENCE', 'STREET', 'CTA BUS STOP', 'PARKING LOT/GARAGE(NON.RESID.)', 'OTHER', 'PARKING LOT/GARAGE(NON.RESID.)', 'APARTMENT', 'APARTMENT', 'RESIDENTIAL YARD (FRONT/BACK)', 'RESIDENTIAL YARD (FRONT/BACK)', 'SIDEWALK', 'RESIDENCE', 'APARTMENT', 'APARTMENT', 'PARKING LOT/GARAGE(NON.RESID.)', 'SIDEWALK', 'DEPARTMENT STORE', 'APARTMENT', 'APARTMENT', 'ALLEY', '', 'RESTAURANT', 'STREET', 'RESIDENCE', 'APARTMENT', 'RESIDENCE', 'APARTMENT', 'STREET', 'SIDEWALK', 'APARTMENT', 'APARTMENT', 'STREET', 'STREET', 'SIDEWALK', 'SMALL RETAIL STORE', 'STREET', 'VEHICLE NON-COMMERCIAL', 'AIRPORT TERMINAL UPPER LEVEL - NON-SECURE AREA', 'RESIDENCE', 'STREET', 'STREET', 'STREET', 'STREET', 'TAVERN/LIQUOR STORE', 'PARK PROPERTY', 'STREET', 'RESTAURANT', 'STREET', 'SMALL RETAIL STORE', 'VEHICLE NON-COMMERCIAL', 'PARK PROPERTY', 'RESTAURANT', 'APARTMENT', 'RESIDENCE', 'RESIDENCE', 'VEHICLE NON-COMMERCIAL', 'ALLEY', 'STREET', 'RESIDENTIAL YARD (FRONT/BACK)', 'BAR OR TAVERN', 'RESIDENCE PORCH/HALLWAY', 'ALLEY', 'RESIDENCE', 'APARTMENT', 'SIDEWALK', 'STREET', 'SIDEWALK', 'STREET', 'SIDEWALK', 'HOTEL/MOTEL', 'SIDEWALK', 'STREET', 'SMALL RETAIL STORE', 'STREET', 'CTA BUS STOP', 'WAREHOUSE', 'APARTMENT', 'RESIDENCE', 'PARK PROPERTY', 'STREET', 'RESIDENCE', 'TAXICAB', 'STREET', 'STREET', 'STREET', 'SIDEWALK', 'RESIDENCE', 'FEDERAL BUILDING', 'SIDEWALK', 'CHA APARTMENT', 'RESIDENCE PORCH/HALLWAY', 'DEPARTMENT STORE', 'RESTAURANT', 'VEHICLE NON-COMMERCIAL', 'STREET', 'SIDEWALK', 'STREET', 'STREET', 'STREET', 'RESIDENCE-GARAGE', 'ATM (AUTOMATIC TELLER MACHINE)', 'SCHOOL, PRIVATE, BUILDING', 'STREET', 'APARTMENT', 'SIDEWALK', 'STREET', 'APARTMENT', 'STREET', 'VACANT LOT/LAND', 'STREET', 'STREET', 'APARTMENT', 'ANIMAL HOSPITAL', 'TAXICAB', 'STREET', 'STREET', 'RESIDENCE', 'OTHER', 'PARKING LOT/GARAGE(NON.RESID.)', 'STREET', 'PARKING LOT/GARAGE(NON.RESID.)', 'PARKING LOT/GARAGE(NON.RESID.)', 'RESIDENCE-GARAGE', 'RESIDENCE', 'VEHICLE NON-COMMERCIAL', 'SIDEWALK', 'VEHICLE NON-COMMERCIAL', 'PARK PROPERTY', 'RESTAURANT', 'SIDEWALK', 'SMALL RETAIL STORE', 'OTHER', 'OTHER', 'RESTAURANT', 'RESIDENCE', 'RESIDENCE PORCH/HALLWAY', 'VEHICLE NON-COMMERCIAL', 'HIGHWAY/EXPRESSWAY', 'SMALL RETAIL STORE', 'APARTMENT', 'GAS STATION', 'STREET', 'RESIDENTIAL YARD (FRONT/BACK)', 'STREET', 'STREET', 'RESIDENCE-GARAGE', 'STREET', 'VEHICLE NON-COMMERCIAL', 'STREET', 'APARTMENT', 'STREET', 'RESIDENCE', 'PARKING LOT/GARAGE(NON.RESID.)', 'SMALL RETAIL STORE', 'SIDEWALK', 'SIDEWALK', 'PARKING LOT/GARAGE(NON.RESID.)', 'RESIDENCE', 'OTHER', 'APARTMENT', 'DEPARTMENT STORE', 'STREET', 'CURRENCY EXCHANGE', 'STREET', 'RESIDENCE PORCH/HALLWAY', 'APARTMENT', 'ALLEY'], 10: ['STREET', 'NURSING HOME/RETIREMENT HOME', 'CTA PLATFORM', 'GAS STATION', 'RESIDENCE', 'APARTMENT', 'RESIDENTIAL YARD (FRONT/BACK)', 'RESIDENCE', 'GROCERY FOOD STORE', 'STREET', 'RESIDENCE', 'SIDEWALK', 'OTHER', 'ATHLETIC CLUB', 'PARKING LOT/GARAGE(NON.RESID.)', 'STREET', 'RESIDENCE', 'RESIDENCE-GARAGE', 'STREET', 'RESIDENTIAL YARD (FRONT/BACK)', 'SIDEWALK', 'RESTAURANT', 'RESIDENCE', 'APARTMENT', 'GROCERY FOOD STORE', 'APARTMENT', 'STREET', 'STREET', 'GAS STATION', 'JAIL / LOCK-UP FACILITY', 'STREET', 'STREET', 'CTA STATION', 'RESIDENCE', 'ALLEY', 'RESIDENCE', 'APARTMENT', 'ALLEY', 'ATHLETIC CLUB', 'APARTMENT', 'PARKING LOT/GARAGE(NON.RESID.)', 'CTA BUS', 'VEHICLE NON-COMMERCIAL', 'SMALL RETAIL STORE', 'RESIDENCE', 'STREET', 'ALLEY', 'STREET', 'OTHER', 'SMALL RETAIL STORE', 'APARTMENT', 'RESIDENCE', 'PARKING LOT/GARAGE(NON.RESID.)', 'STREET', 'OTHER', 'GAS STATION', 'SIDEWALK', 'STREET', 'APARTMENT', 'STREET', 'RESTAURANT', 'GROCERY FOOD STORE', 'PARKING LOT/GARAGE(NON.RESID.)', 'VEHICLE NON-COMMERCIAL', 'PARKING LOT/GARAGE(NON.RESID.)', 'RESIDENCE', 'RESIDENCE', 'RESIDENCE-GARAGE', 'GROCERY FOOD STORE', 'APARTMENT', 'STREET', 'SIDEWALK', 'PARK PROPERTY', 'STREET', 'PARKING LOT/GARAGE(NON.RESID.)', 'AIRCRAFT', 'RESTAURANT', 'CTA TRAIN', 'RESIDENCE', 'RESIDENTIAL YARD (FRONT/BACK)', 'COMMERCIAL / BUSINESS OFFICE', 'STREET', 'SIDEWALK', 'STREET', 'STREET', 'SIDEWALK', 'STREET', 'SIDEWALK', 'RESIDENCE', 'APARTMENT', 'RESIDENCE', 'RESIDENCE', 'DRUG STORE', 'APARTMENT', 'RESIDENCE', 'SPORTS ARENA/STADIUM', 'PARKING LOT/GARAGE(NON.RESID.)', 'RESIDENTIAL YARD (FRONT/BACK)', 'STREET', 'SIDEWALK', 'SIDEWALK', 'SIDEWALK', 'STREET', 'APARTMENT', 'RESIDENCE', 'RESIDENTIAL YARD (FRONT/BACK)', 'RESIDENCE', 'STREET', 'RESIDENCE', 'STREET', 'STREET', 'SIDEWALK', 'RESIDENCE', 'SIDEWALK', 'SIDEWALK', 'STREET', 'STREET', 'APARTMENT', 'RESIDENCE PORCH/HALLWAY', 'STREET', 'RESIDENCE', 'CTA STATION', 'RESTAURANT', 'RESIDENCE', 'STREET', 'CTA STATION', 'RESTAURANT', 'OTHER', 'STREET', 'SIDEWALK', 'SIDEWALK', 'STREET', 'STREET', 'APARTMENT', 'PARKING LOT/GARAGE(NON.RESID.)', 'STREET', 'RESIDENCE', 'GROCERY FOOD STORE', 'STREET', 'OTHER', 'RESIDENCE', 'APARTMENT', 'STREET', 'RESIDENTIAL YARD (FRONT/BACK)', 'SIDEWALK', 'STREET', 'OTHER', 'RESIDENCE', 'BAR OR TAVERN', 'OTHER', 'RESIDENCE', 'RESIDENCE', 'RESIDENCE', 'STREET', 'RESIDENTIAL YARD (FRONT/BACK)', 'RESTAURANT', 'RESIDENCE', 'STREET', 'RESIDENCE', 'RESIDENCE-GARAGE', 'STREET', 'STREET', 'SIDEWALK', 'STREET', 'PARKING LOT/GARAGE(NON.RESID.)', 'ALLEY', 'RESIDENCE', 'APARTMENT', 'ALLEY', 'STREET', 'APARTMENT', 'RESIDENCE', 'RESIDENTIAL YARD (FRONT/BACK)', 'RESIDENCE-GARAGE', 'PARKING LOT/GARAGE(NON.RESID.)', 'STREET', 'STREET', 'RESIDENCE', 'RESIDENCE', 'RESIDENCE', 'DEPARTMENT STORE', 'RESIDENCE', 'OTHER', 'SIDEWALK', 'SIDEWALK', 'RESIDENCE', 'APARTMENT', 'CTA STATION', 'DEPARTMENT STORE', 'APARTMENT', 'STREET', 'RESIDENTIAL YARD (FRONT/BACK)', 'BAR OR TAVERN', 'STREET', 'RESIDENTIAL YARD (FRONT/BACK)', 'SMALL RETAIL STORE', 'RESIDENCE', 'STREET', 'PARKING LOT/GARAGE(NON.RESID.)', 'APARTMENT', 'STREET', 'STREET', 'SIDEWALK', 'SIDEWALK', 'RESIDENCE', 'STREET', 'SCHOOL, PRIVATE, BUILDING', 'SMALL RETAIL STORE', 'PARKING LOT/GARAGE(NON.RESID.)', 'OTHER', 'APARTMENT', 'BAR OR TAVERN', 'STREET', 'RESIDENCE', 'RESIDENCE', 'STREET', 'APARTMENT', 'CHA APARTMENT', 'STREET', 'CTA BUS STOP', 'PARKING LOT/GARAGE(NON.RESID.)', 'SIDEWALK', 'APARTMENT', 'RESIDENCE', 'STREET', 'STREET', 'ALLEY', 'RESIDENCE', 'RESIDENCE', 'ALLEY', 'STREET', 'RESIDENCE', 'SCHOOL, PUBLIC, BUILDING', 'ATM (AUTOMATIC TELLER MACHINE)', 'DEPARTMENT STORE', 'RESIDENCE-GARAGE', 'STREET', 'RESIDENCE', 'RESIDENCE PORCH/HALLWAY', 'GAS STATION', 'APARTMENT', 'APARTMENT', 'RESIDENCE', 'STREET', 'STREET', 'SIDEWALK', 'RESIDENCE', 'STREET', 'STREET', 'PARKING LOT/GARAGE(NON.RESID.)', 'SCHOOL, PUBLIC, GROUNDS', 'RESIDENCE', 'RESIDENCE', 'OTHER', 'STREET', 'STREET', 'STREET', 'APARTMENT', 'VEHICLE NON-COMMERCIAL', 'CONVENIENCE STORE', 'RESIDENCE', 'APARTMENT', 'STREET', 'HOSPITAL BUILDING/GROUNDS', 'RESIDENTIAL YARD (FRONT/BACK)', 'OTHER', 'CHA APARTMENT', 'SIDEWALK', 'SIDEWALK', 'APARTMENT', 'STREET', 'HOSPITAL BUILDING/GROUNDS', 'SIDEWALK', 'RESIDENCE', 'APARTMENT', 'OTHER', 'CONVENIENCE STORE', 'STREET', 'RESTAURANT', 'PARKING LOT/GARAGE(NON.RESID.)', 'GROCERY FOOD STORE', 'STREET', 'STREET', 'RESIDENCE', 'APARTMENT', 'STREET', 'RESIDENCE', 'STREET', 'RESIDENCE', 'STREET', 'OTHER', 'RESIDENTIAL YARD (FRONT/BACK)', 'SMALL RETAIL STORE', 'RESIDENCE', 'GROCERY FOOD STORE', 'RESIDENCE', 'RESIDENCE-GARAGE', 'BAR OR TAVERN', 'PAWN SHOP', 'RESIDENCE', 'PARKING LOT/GARAGE(NON.RESID.)', 'SIDEWALK', 'RESIDENCE', 'ALLEY', 'RESIDENTIAL YARD (FRONT/BACK)', 'PARKING LOT/GARAGE(NON.RESID.)', 'STREET', 'CTA TRAIN', 'RESIDENCE', 'RESIDENCE', 'PARK PROPERTY', 'APARTMENT', 'STREET', 'SCHOOL, PUBLIC, BUILDING', 'GAS STATION', 'SIDEWALK', 'PARKING LOT/GARAGE(NON.RESID.)', 'OTHER', 'RESIDENTIAL YARD (FRONT/BACK)', 'SCHOOL, PUBLIC, GROUNDS', 'VEHICLE NON-COMMERCIAL', 'STREET', 'DEPARTMENT STORE', 'APARTMENT', 'PARKING LOT/GARAGE(NON.RESID.)', 'RESIDENCE', 'RESIDENCE', 'CHA HALLWAY/STAIRWELL/ELEVATOR', 'RESIDENCE PORCH/HALLWAY', 'RESIDENCE', 'STREET', 'RESIDENCE', 'SIDEWALK', 'RESTAURANT', 'RESIDENCE', 'STREET', 'RESTAURANT', 'RESIDENCE', 'STREET', 'SCHOOL, PUBLIC, GROUNDS', 'RESTAURANT', 'SIDEWALK', 'SIDEWALK', 'APARTMENT', 'STREET', 'APARTMENT', 'RESIDENCE', 'ATHLETIC CLUB', 'RESIDENCE', 'SIDEWALK', 'RESTAURANT', 'APARTMENT', 'RESIDENCE', 'RESTAURANT', 'CHURCH/SYNAGOGUE/PLACE OF WORSHIP', 'SIDEWALK', 'OTHER', 'APARTMENT', 'RESIDENCE', 'OTHER', 'OTHER', 'APARTMENT', 'RESIDENCE', 'RESIDENCE', 'STREET', 'APARTMENT', 'RESIDENCE', 'VEHICLE NON-COMMERCIAL', 'STREET', 'SIDEWALK', 'APARTMENT', 'STREET', 'RESTAURANT', 'RESIDENCE', 'STREET', 'APARTMENT', 'STREET', 'DRUG STORE', 'ALLEY', 'STREET', 'GAS STATION', 'RESIDENCE', 'STREET', 'APARTMENT', 'STREET', 'SIDEWALK', 'SMALL RETAIL STORE', 'APARTMENT', 'OTHER', 'RESIDENCE', 'APARTMENT', 'RESIDENTIAL YARD (FRONT/BACK)', 'APARTMENT', 'RESIDENCE-GARAGE', 'RESIDENCE', 'STREET', 'APARTMENT', 'CONVENIENCE STORE', 'STREET', 'RESIDENCE', 'RESIDENCE', 'AIRPORT TERMINAL UPPER LEVEL - SECURE AREA', 'SIDEWALK', 'GAS STATION', 'RESIDENCE', 'RESIDENCE', 'APARTMENT', 'APARTMENT', 'RESIDENCE', 'SMALL RETAIL STORE', 'COMMERCIAL / BUSINESS OFFICE', 'APARTMENT', 'PARKING LOT/GARAGE(NON.RESID.)', 'RESIDENCE', 'DEPARTMENT STORE', 'RESIDENCE', 'BOAT/WATERCRAFT', 'GAS STATION', 'APARTMENT', 'SCHOOL, PUBLIC, BUILDING', 'ALLEY', 'STREET', 'RESIDENCE', 'RESIDENCE-GARAGE', 'RESIDENTIAL YARD (FRONT/BACK)', 'CHURCH/SYNAGOGUE/PLACE OF WORSHIP', 'STREET', 'STREET', 'RESIDENCE', 'STREET', 'RESIDENCE', 'SCHOOL, PUBLIC, GROUNDS', 'PARK PROPERTY', 'RESIDENCE', 'APARTMENT', 'ABANDONED BUILDING', 'SMALL RETAIL STORE', 'VEHICLE NON-COMMERCIAL', 'GROCERY FOOD STORE', 'VEHICLE NON-COMMERCIAL', 'STREET', 'STREET', 'RESIDENCE', 'RESIDENCE', 'OTHER', 'RESIDENCE', 'APARTMENT', 'STREET', 'RESIDENCE-GARAGE', 'APARTMENT', 'ALLEY', 'APARTMENT', 'SIDEWALK', 'PARK PROPERTY', 'MEDICAL/DENTAL OFFICE', 'APARTMENT', 'RESIDENCE', 'OTHER', 'SIDEWALK', 'SMALL RETAIL STORE', 'APARTMENT', 'SCHOOL, PUBLIC, BUILDING', 'SIDEWALK', 'SIDEWALK', 'APARTMENT', 'RESIDENCE', 'APARTMENT', 'RESIDENCE PORCH/HALLWAY', 'STREET', 'STREET', 'STREET', 'DEPARTMENT STORE', 'STREET', 'CTA TRAIN', 'STREET', 'APARTMENT', 'APARTMENT', 'RESIDENCE', 'OTHER', 'COMMERCIAL / BUSINESS OFFICE', 'STREET', 'OTHER', 'PARKING LOT/GARAGE(NON.RESID.)', 'APARTMENT', 'STREET', 'OTHER', 'SIDEWALK', 'SMALL RETAIL STORE', 'APARTMENT', 'RESIDENCE', 'GROCERY FOOD STORE', 'RESIDENCE-GARAGE', 'TAXICAB', 'BAR OR TAVERN', 'STREET', 'RESIDENCE', 'STREET', 'RESIDENCE', 'RESIDENCE', 'STREET', 'SIDEWALK', 'STREET', 'DEPARTMENT STORE', 'OTHER', 'APARTMENT', 'SMALL RETAIL STORE', 'STREET', 'SIDEWALK', 'APARTMENT', 'PARKING LOT/GARAGE(NON.RESID.)', 'STREET', 'OTHER', 'RESIDENCE', 'RESIDENCE', 'POLICE FACILITY/VEH PARKING LOT', 'APARTMENT', 'SCHOOL, PUBLIC, GROUNDS', 'RESIDENCE', 'RESIDENCE', 'CTA TRAIN', 'DEPARTMENT STORE', 'STREET', 'ALLEY', 'STREET', 'CTA GARAGE / OTHER PROPERTY', 'HOTEL/MOTEL', 'APARTMENT', 'APARTMENT', 'PARKING LOT/GARAGE(NON.RESID.)', 'APARTMENT', 'OTHER', 'STREET', 'RESIDENTIAL YARD (FRONT/BACK)', 'RESIDENCE', 'STREET', 'STREET', 'RESIDENCE', 'STREET', 'STREET', 'RESIDENCE', 'APARTMENT', 'BANK', 'DEPARTMENT STORE', 'AIRPORT TRANSPORTATION SYSTEM (ATS)', 'RESIDENCE', 'RESIDENCE', 'SIDEWALK', 'CTA PLATFORM', 'ALLEY', 'SCHOOL, PUBLIC, BUILDING', 'GAS STATION', 'RESIDENCE', 'RESIDENCE', 'APARTMENT', 'SIDEWALK', 'RESIDENCE', 'GAS STATION', 'MEDICAL/DENTAL OFFICE', 'OTHER', 'SIDEWALK', 'RESIDENTIAL YARD (FRONT/BACK)', 'SIDEWALK', 'RESIDENCE', 'SCHOOL, PUBLIC, BUILDING', 'STREET', 'RESIDENCE', 'RESIDENCE-GARAGE', 'STREET', 'RESIDENCE-GARAGE', 'APARTMENT', 'STREET', 'OTHER', 'RESIDENCE PORCH/HALLWAY', 'RESTAURANT', 'STREET', 'RESIDENCE', 'SIDEWALK', 'RESIDENCE', 'VACANT LOT/LAND', 'RESIDENCE', 'GAS STATION', 'STREET', 'STREET', 'DRIVEWAY - RESIDENTIAL', 'APARTMENT', 'SIDEWALK', 'CTA PLATFORM', 'APARTMENT', 'SIDEWALK', 'JAIL / LOCK-UP FACILITY', 'STREET', 'RESTAURANT', 'RESIDENCE PORCH/HALLWAY', 'RESIDENCE', 'OTHER', 'RESIDENCE', 'STREET', 'STREET', 'STREET', 'RESIDENCE', 'PARKING LOT/GARAGE(NON.RESID.)', 'STREET', 'APARTMENT', 'STREET', 'APARTMENT', 'HOSPITAL BUILDING/GROUNDS', 'RESIDENCE', 'RESIDENTIAL YARD (FRONT/BACK)', 'STREET', 'STREET', 'BANK', 'RESIDENCE', 'APARTMENT', 'GAS STATION', 'STREET', 'RESIDENCE PORCH/HALLWAY', 'RESIDENTIAL YARD (FRONT/BACK)', 'STREET', 'CHA HALLWAY/STAIRWELL/ELEVATOR', 'ALLEY', 'STREET', 'STREET', 'HOSPITAL BUILDING/GROUNDS', 'RESIDENCE', 'STREET', 'STREET', 'STREET', 'GAS STATION', 'RESIDENCE', 'STREET', 'RESIDENTIAL YARD (FRONT/BACK)', 'OTHER RAILROAD PROP / TRAIN DEPOT', 'SIDEWALK', 'ALLEY', 'RESIDENCE-GARAGE', 'SMALL RETAIL STORE', 'RESIDENCE', 'OTHER', 'PARKING LOT/GARAGE(NON.RESID.)', 'RESIDENCE PORCH/HALLWAY', 'PARKING LOT/GARAGE(NON.RESID.)', 'APARTMENT', 'APARTMENT', 'STREET', 'RESIDENCE', 'CTA BUS STOP', 'RESIDENTIAL YARD (FRONT/BACK)', 'CHURCH/SYNAGOGUE/PLACE OF WORSHIP', 'SIDEWALK', 'STREET', 'STREET', 'SIDEWALK', 'RESIDENCE', 'RESIDENCE', 'STREET', 'VEHICLE NON-COMMERCIAL', 'ALLEY', 'STREET', 'DRIVEWAY - RESIDENTIAL', 'SMALL RETAIL STORE', 'RESIDENTIAL YARD (FRONT/BACK)', 'STREET', 'STREET', 'STREET', 'RESIDENCE', 'SIDEWALK', 'CONVENIENCE STORE', 'STREET', 'STREET', 'STREET', 'RESIDENCE', 'ATM (AUTOMATIC TELLER MACHINE)', 'STREET', 'SIDEWALK', 'RESIDENCE', 'STREET', 'GROCERY FOOD STORE', 'RESIDENCE', 'STREET', 'SIDEWALK', 'SIDEWALK', 'RESIDENCE-GARAGE', 'RESIDENCE', 'OTHER', 'RESIDENCE', 'RESIDENCE', 'DEPARTMENT STORE', 'SIDEWALK', 'ALLEY', 'STREET', 'SPORTS ARENA/STADIUM', 'STREET', 'PARKING LOT/GARAGE(NON.RESID.)', 'STREET', '', 'APARTMENT', 'OTHER', 'STREET', 'STREET', 'RESIDENCE', 'RESIDENCE', 'APARTMENT', 'STREET', 'ATM (AUTOMATIC TELLER MACHINE)', 'RESIDENTIAL YARD (FRONT/BACK)', 'DEPARTMENT STORE', 'SCHOOL, PUBLIC, BUILDING', 'DEPARTMENT STORE', 'STREET', 'APARTMENT', 'SCHOOL, PUBLIC, BUILDING', 'OTHER', 'RESIDENCE', 'APARTMENT', 'SCHOOL, PUBLIC, BUILDING', 'RESIDENCE', 'CTA TRAIN', 'RESIDENCE', 'RESIDENCE', 'PARKING LOT/GARAGE(NON.RESID.)', 'STREET', 'ALLEY', 'RESIDENCE', 'SIDEWALK', 'RESIDENCE PORCH/HALLWAY', 'STREET', 'STREET', 'SMALL RETAIL STORE', 'STREET', 'OTHER', 'DEPARTMENT STORE', 'STREET', 'RESIDENCE-GARAGE', 'NURSING HOME/RETIREMENT HOME', 'CTA TRAIN', 'APARTMENT', 'APARTMENT', 'GAS STATION', 'SMALL RETAIL STORE', 'APARTMENT', 'STREET', 'ALLEY', 'PARKING LOT/GARAGE(NON.RESID.)', 'RESIDENCE', 'OTHER', 'CTA TRAIN', 'RESIDENTIAL YARD (FRONT/BACK)', 'RESIDENCE', 'CONVENIENCE STORE', 'STREET', 'RESIDENCE', 'GROCERY FOOD STORE', 'GAS STATION', 'RESIDENCE', 'STREET', 'OTHER', 'APARTMENT', 'APARTMENT', 'ALLEY', 'SIDEWALK', 'CHA APARTMENT', 'APARTMENT', 'ATM (AUTOMATIC TELLER MACHINE)', 'AIRPORT TERMINAL LOWER LEVEL - NON-SECURE AREA', 'BAR OR TAVERN', 'RESIDENCE', 'APARTMENT', 'PARKING LOT/GARAGE(NON.RESID.)', 'STREET', 'RESIDENCE', 'RESIDENCE', 'ALLEY', 'SMALL RETAIL STORE', 'OTHER', 'RESIDENCE', 'RESIDENCE', 'RESIDENCE', 'RESIDENCE-GARAGE', 'STREET', 'STREET', 'RESIDENCE', 'SCHOOL, PUBLIC, BUILDING', 'APARTMENT', 'SIDEWALK', 'RESIDENCE', 'RESIDENTIAL YARD (FRONT/BACK)', 'STREET', 'OTHER', 'OTHER', 'STREET', 'RESTAURANT', 'CONVENIENCE STORE', 'STREET', 'RESIDENCE', 'RESIDENCE', 'RESIDENCE-GARAGE', 'RESIDENCE', 'RESIDENCE', 'CTA TRAIN', 'OTHER', 'APARTMENT', 'APARTMENT', 'VEHICLE NON-COMMERCIAL', 'SCHOOL, PUBLIC, BUILDING', 'STREET', 'APARTMENT', 'RESIDENTIAL YARD (FRONT/BACK)', 'RESIDENCE-GARAGE', 'STREET', 'DEPARTMENT STORE', 'CTA TRAIN', 'RESIDENCE', 'SIDEWALK', 'RESIDENCE', '', 'STREET', 'HOSPITAL BUILDING/GROUNDS', 'STREET', 'RESIDENCE', 'DRIVEWAY - RESIDENTIAL', 'CHA PARKING LOT/GROUNDS', 'OTHER', 'CTA BUS STOP', 'RESIDENTIAL YARD (FRONT/BACK)', 'RESIDENCE', 'CONSTRUCTION SITE', 'RESIDENCE', 'STREET', 'STREET', 'STREET', 'OTHER', 'RESTAURANT', 'APARTMENT', 'APARTMENT', 'RESIDENCE', 'RESIDENCE', 'COLLEGE/UNIVERSITY RESIDENCE HALL', 'APARTMENT', 'SIDEWALK', 'SIDEWALK', 'APARTMENT', 'RESIDENCE PORCH/HALLWAY', 'PARKING LOT/GARAGE(NON.RESID.)', 'STREET', 'CONSTRUCTION SITE', 'OTHER', 'STREET', 'DEPARTMENT STORE', 'STREET', 'OTHER', 'PARKING LOT/GARAGE(NON.RESID.)', 'STREET', 'SIDEWALK', 'APARTMENT', 'APARTMENT', 'APARTMENT', 'RESIDENCE', 'RESIDENTIAL YARD (FRONT/BACK)', 'STREET', 'RESTAURANT', 'STREET', 'STREET', 'GAS STATION', 'CTA TRAIN', 'APARTMENT', 'SIDEWALK', 'RESIDENCE', 'SMALL RETAIL STORE', 'APARTMENT', 'RESIDENCE', 'RESIDENCE', 'RESIDENTIAL YARD (FRONT/BACK)', 'PARKING LOT/GARAGE(NON.RESID.)', 'RESIDENCE PORCH/HALLWAY', 'APARTMENT', 'APARTMENT', 'STREET', 'CTA TRACKS - RIGHT OF WAY', 'SCHOOL, PRIVATE, BUILDING', 'STREET', 'ATM (AUTOMATIC TELLER MACHINE)', 'RESIDENCE', 'OTHER', 'COMMERCIAL / BUSINESS OFFICE', 'OTHER', 'RESIDENCE', 'SMALL RETAIL STORE', 'PARKING LOT/GARAGE(NON.RESID.)', 'OTHER', 'STREET', 'APARTMENT', 'RESIDENCE', 'APARTMENT', 'STREET', 'STREET', 'HOSPITAL BUILDING/GROUNDS', 'STREET', 'GROCERY FOOD STORE', 'GAS STATION', 'OTHER', 'APARTMENT', 'STREET', 'OTHER', 'STREET', 'PAWN SHOP', 'RESIDENCE PORCH/HALLWAY', 'STREET', 'SIDEWALK', 'OTHER', 'RESIDENCE-GARAGE', 'STREET', 'DRIVEWAY - RESIDENTIAL', 'VEHICLE NON-COMMERCIAL', 'APARTMENT', 'RESIDENCE', 'STREET', 'STREET', 'SIDEWALK', 'APARTMENT', 'APARTMENT', 'BARBERSHOP', 'STREET', 'STREET', 'RESIDENCE', 'OTHER', 'SIDEWALK', 'OTHER', 'RESTAURANT', 'STREET', 'OTHER', 'RESIDENCE', 'STREET', 'CHURCH/SYNAGOGUE/PLACE OF WORSHIP', 'RESIDENCE', 'APARTMENT', 'RESIDENCE', 'COMMERCIAL / BUSINESS OFFICE', 'SIDEWALK', 'STREET', 'APARTMENT', 'APARTMENT', 'COMMERCIAL / BUSINESS OFFICE', 'STREET', 'BAR OR TAVERN', 'RESIDENCE', 'STREET', 'STREET', 'RESIDENCE', 'STREET', 'CTA TRAIN', 'OTHER', 'ANIMAL HOSPITAL', 'STREET', 'RESIDENCE', 'STREET', 'APARTMENT', 'BAR OR TAVERN', 'RESIDENTIAL YARD (FRONT/BACK)', 'STREET', 'PARKING LOT/GARAGE(NON.RESID.)', 'STREET', 'GROCERY FOOD STORE', 'STREET', 'APARTMENT', 'RESIDENCE', 'SIDEWALK', 'STREET', 'STREET', 'STREET', 'SIDEWALK', 'APARTMENT', 'OTHER', 'PARK PROPERTY', 'APARTMENT', 'STREET', 'SIDEWALK', 'RESIDENCE', 'APARTMENT', 'SIDEWALK', 'STREET', 'RESIDENCE', 'RESIDENCE', 'RESIDENTIAL YARD (FRONT/BACK)', 'SIDEWALK', 'CTA PLATFORM', 'STREET', 'STREET', 'RESIDENCE', 'STREET', 'RESIDENCE', 'RESIDENCE-GARAGE', 'SMALL RETAIL STORE', 'RESIDENCE', 'STREET', 'SIDEWALK', 'STREET', 'SMALL RETAIL STORE', 'OTHER', 'APARTMENT', 'RESIDENTIAL YARD (FRONT/BACK)', 'APARTMENT', 'GAS STATION', 'BANK', 'ALLEY', 'RESIDENCE', 'HOTEL/MOTEL', 'GAS STATION', 'STREET', 'RESIDENCE', 'STREET', 'OTHER', 'SIDEWALK', 'SIDEWALK', 'STREET', 'COMMERCIAL / BUSINESS OFFICE', 'RESIDENCE', 'GAS STATION', 'GAS STATION', 'STREET', '', 'GROCERY FOOD STORE', 'OTHER', 'SIDEWALK', 'CTA TRACKS - RIGHT OF WAY', 'SIDEWALK', 'STREET', 'CHURCH/SYNAGOGUE/PLACE OF WORSHIP', 'STREET', 'CONVENIENCE STORE', 'STREET', 'APARTMENT', 'SIDEWALK', 'APARTMENT', 'RESIDENCE', 'STREET', 'SIDEWALK', 'STREET', 'VEHICLE NON-COMMERCIAL', 'STREET', 'STREET', 'ATHLETIC CLUB', 'STREET', 'SMALL RETAIL STORE', 'RESIDENCE-GARAGE', 'RESTAURANT', 'SCHOOL, PRIVATE, BUILDING', 'RESTAURANT', 'RESIDENCE', 'STREET', 'POLICE FACILITY/VEH PARKING LOT', 'OTHER', 'SIDEWALK', 'ALLEY', 'SIDEWALK', 'RESIDENCE', 'PARKING LOT/GARAGE(NON.RESID.)', 'RESIDENCE', 'GAS STATION', 'VEHICLE NON-COMMERCIAL', 'RESIDENCE', 'RESIDENCE', 'CTA GARAGE / OTHER PROPERTY', 'SMALL RETAIL STORE', 'STREET', 'SMALL RETAIL STORE', 'STREET', 'STREET', 'SIDEWALK', 'PARKING LOT/GARAGE(NON.RESID.)', 'RESIDENCE-GARAGE', 'SIDEWALK', 'STREET', 'SIDEWALK', 'SCHOOL, PUBLIC, BUILDING', 'RESIDENCE', 'PARK PROPERTY', 'RESIDENCE', 'RESIDENCE', 'RESIDENCE', 'RESIDENCE', 'DEPARTMENT STORE', 'RESIDENCE', 'NURSING HOME/RETIREMENT HOME', 'APARTMENT', 'CHA APARTMENT', 'RESIDENCE', 'ALLEY', 'OTHER RAILROAD PROP / TRAIN DEPOT', 'GAS STATION', 'ALLEY', 'CONVENIENCE STORE', 'SIDEWALK', 'STREET', 'STREET', 'OTHER', 'OTHER', 'RESIDENTIAL YARD (FRONT/BACK)', 'RESIDENCE', 'PARKING LOT/GARAGE(NON.RESID.)', 'STREET', 'SIDEWALK', 'RESIDENCE', 'CHURCH/SYNAGOGUE/PLACE OF WORSHIP', 'STREET', 'SIDEWALK', 'SMALL RETAIL STORE', 'STREET', 'GROCERY FOOD STORE', 'SMALL RETAIL STORE', 'PARKING LOT/GARAGE(NON.RESID.)', 'APARTMENT', 'SIDEWALK', 'RESIDENCE', 'SMALL RETAIL STORE', 'PARKING LOT/GARAGE(NON.RESID.)', 'RESIDENCE PORCH/HALLWAY', 'SIDEWALK', 'STREET', 'STREET', 'STREET', 'RESTAURANT', 'GOVERNMENT BUILDING/PROPERTY', 'CHA APARTMENT', 'RESIDENTIAL YARD (FRONT/BACK)', 'OTHER', 'DEPARTMENT STORE', 'RESIDENCE', 'STREET'], 12: ['APARTMENT', 'STREET', 'RESIDENCE', 'CONSTRUCTION SITE', 'APARTMENT', 'STREET', 'VEHICLE NON-COMMERCIAL', 'STREET', 'APARTMENT', 'STREET', 'OTHER', 'SMALL RETAIL STORE', 'VEHICLE NON-COMMERCIAL', 'APARTMENT', 'SMALL RETAIL STORE', 'STREET', 'OTHER', 'DEPARTMENT STORE', 'APARTMENT', 'RESIDENCE', 'RESIDENCE', 'STREET', 'PARKING LOT/GARAGE(NON.RESID.)', 'RESIDENCE', 'APARTMENT', 'DEPARTMENT STORE', 'APARTMENT', 'STREET', 'CHURCH/SYNAGOGUE/PLACE OF WORSHIP', 'SIDEWALK', 'STREET', 'APARTMENT', 'SIDEWALK', 'CHURCH/SYNAGOGUE/PLACE OF WORSHIP', 'APARTMENT', 'CTA PLATFORM', 'CONVENIENCE STORE', 'GROCERY FOOD STORE', 'DEPARTMENT STORE', 'RESIDENCE PORCH/HALLWAY', 'RESIDENCE', 'SCHOOL, PUBLIC, BUILDING', 'STREET', 'SCHOOL, PUBLIC, BUILDING', 'RESIDENCE', 'CONVENIENCE STORE', 'STREET', 'RESIDENCE PORCH/HALLWAY', 'RESIDENCE', 'STREET', 'STREET', 'RESTAURANT', 'OTHER', 'RESIDENCE-GARAGE', 'CTA PLATFORM', 'STREET', 'BAR OR TAVERN', 'RESIDENCE', 'STREET', 'STREET', 'SIDEWALK', 'RESIDENCE', 'APARTMENT', 'STREET', 'RESIDENTIAL YARD (FRONT/BACK)', 'BANK', 'COMMERCIAL / BUSINESS OFFICE', 'SCHOOL, PUBLIC, BUILDING', 'STREET', 'GAS STATION', 'STREET', 'APARTMENT', 'STREET', 'ALLEY', 'RESIDENCE PORCH/HALLWAY', 'RESIDENCE', 'APARTMENT', 'HOUSE', 'OTHER', 'RESIDENCE PORCH/HALLWAY', 'PARKING LOT/GARAGE(NON.RESID.)', 'DEPARTMENT STORE', 'CONVENIENCE STORE', 'RESIDENCE', 'STREET', 'VEHICLE NON-COMMERCIAL', 'SIDEWALK', 'RESTAURANT', 'RESIDENCE', 'APARTMENT', 'SMALL RETAIL STORE', 'SMALL RETAIL STORE', 'STREET', 'CTA BUS', 'STREET', 'RESTAURANT', 'APARTMENT', 'APARTMENT', 'OTHER', 'STREET', 'APARTMENT', 'OTHER', 'APARTMENT', 'APARTMENT', 'APARTMENT', 'ABANDONED BUILDING', 'STREET', 'APARTMENT', 'STREET', 'SMALL RETAIL STORE', 'RESTAURANT', 'STREET', 'STREET', 'APARTMENT', 'DEPARTMENT STORE', 'STREET', 'RESIDENCE', 'STREET', 'GAS STATION', 'STREET', 'OTHER', 'RESIDENCE', 'OTHER', 'SCHOOL, PUBLIC, BUILDING', 'DEPARTMENT STORE', 'STREET', 'DEPARTMENT STORE', 'RESIDENCE PORCH/HALLWAY', 'RESIDENCE PORCH/HALLWAY', 'RESIDENTIAL YARD (FRONT/BACK)', 'DRIVEWAY - RESIDENTIAL', 'OTHER', 'SCHOOL, PUBLIC, BUILDING', 'VEHICLE NON-COMMERCIAL', 'APARTMENT', 'PARKING LOT/GARAGE(NON.RESID.)', 'STREET', 'STREET', 'STREET', 'SCHOOL, PUBLIC, BUILDING', 'PARKING LOT/GARAGE(NON.RESID.)', 'VEHICLE NON-COMMERCIAL', 'STREET', 'RESIDENTIAL YARD (FRONT/BACK)', 'CTA PLATFORM', 'APARTMENT', 'PARKING LOT/GARAGE(NON.RESID.)', 'RESIDENCE', 'DEPARTMENT STORE', 'STREET', 'ALLEY', 'ATM (AUTOMATIC TELLER MACHINE)', 'STREET', 'RESIDENCE', 'SMALL RETAIL STORE', 'OTHER', 'APARTMENT', 'RESTAURANT', 'STREET', 'ALLEY', 'PARKING LOT/GARAGE(NON.RESID.)', '', 'RESIDENCE', 'STREET', 'STREET', 'DEPARTMENT STORE', 'GROCERY FOOD STORE', 'GROCERY FOOD STORE', 'STREET', 'SMALL RETAIL STORE', 'OTHER', 'STREET', 'CHA APARTMENT', 'GOVERNMENT BUILDING/PROPERTY', 'APARTMENT', 'STREET', 'APARTMENT', 'APARTMENT', 'ALLEY', 'OTHER', 'COMMERCIAL / BUSINESS OFFICE', 'SIDEWALK', 'STREET', 'STREET', 'APARTMENT', 'APARTMENT', 'RESTAURANT', 'DEPARTMENT STORE', 'RESIDENCE', 'STREET', 'GROCERY FOOD STORE', 'RESIDENCE', 'STREET', 'CTA TRAIN', 'APARTMENT', 'RESTAURANT', 'SIDEWALK', 'POLICE FACILITY/VEH PARKING LOT', 'STREET', 'RESIDENCE', 'APARTMENT', 'RESIDENCE-GARAGE', 'STREET', 'OTHER', 'RESIDENCE', 'STREET', 'STREET', 'GAS STATION', 'APARTMENT', 'STREET', 'RESIDENCE', 'STREET', 'RESIDENCE', 'VEHICLE - OTHER RIDE SERVICE', 'RESIDENTIAL YARD (FRONT/BACK)', 'RESIDENCE', 'RESIDENCE', 'STREET', 'APPLIANCE STORE', 'SIDEWALK', 'HOTEL/MOTEL', 'RESIDENCE', 'RESIDENCE', 'APARTMENT', 'RESIDENCE', 'APARTMENT', 'ALLEY', 'GAS STATION', 'STREET', 'STREET', 'RESIDENTIAL YARD (FRONT/BACK)', 'RESIDENCE', 'RESIDENCE', 'STREET', 'OTHER', 'RESIDENCE', 'APARTMENT', 'ALLEY', 'APARTMENT', 'PARKING LOT/GARAGE(NON.RESID.)', 'STREET', 'ALLEY', 'RESIDENCE', 'VEHICLE NON-COMMERCIAL', 'SIDEWALK', 'RESIDENCE', 'STREET', 'STREET', 'APARTMENT', 'RESIDENCE', 'RESTAURANT', 'GROCERY FOOD STORE', 'STREET', 'RESIDENCE', 'APARTMENT', 'APARTMENT', 'SMALL RETAIL STORE', 'RESIDENCE', 'RESIDENCE', 'STREET', 'STREET', 'HOTEL/MOTEL', 'STREET', 'PARKING LOT/GARAGE(NON.RESID.)', 'OTHER', 'RESIDENTIAL YARD (FRONT/BACK)', 'CLEANING STORE', 'STREET', 'PARKING LOT/GARAGE(NON.RESID.)', 'PARKING LOT/GARAGE(NON.RESID.)', 'COMMERCIAL / BUSINESS OFFICE', 'STREET', 'SIDEWALK', 'APARTMENT', 'APARTMENT', 'STREET', 'RESIDENCE', 'STREET', 'SIDEWALK', 'RESIDENCE', 'RESIDENCE', 'STREET', 'DEPARTMENT STORE', 'STREET', 'SIDEWALK', 'RESIDENTIAL YARD (FRONT/BACK)', 'STREET', 'GROCERY FOOD STORE', 'PARKING LOT/GARAGE(NON.RESID.)', 'RESTAURANT', 'CONVENIENCE STORE', 'RESIDENCE', 'BAR OR TAVERN', 'STREET', 'DEPARTMENT STORE', 'SIDEWALK', 'ALLEY', 'STREET', 'STREET', 'SIDEWALK', 'SMALL RETAIL STORE', 'APARTMENT', 'RESIDENCE-GARAGE', 'STREET', 'SMALL RETAIL STORE', 'SIDEWALK', 'ALLEY', 'RESIDENCE', 'RESTAURANT', 'RESIDENCE', 'RESIDENCE', 'BARBERSHOP', 'SMALL RETAIL STORE', 'RESIDENCE', 'STREET', 'SIDEWALK', 'RESIDENCE', 'WAREHOUSE', 'STREET', 'APARTMENT', 'RESTAURANT', 'RESIDENCE', 'STREET', 'RESIDENCE-GARAGE', 'PARKING LOT/GARAGE(NON.RESID.)', 'RESIDENTIAL YARD (FRONT/BACK)', 'DEPARTMENT STORE', 'RESIDENCE', 'STREET', 'WAREHOUSE', 'CTA TRAIN', 'PARKING LOT/GARAGE(NON.RESID.)', 'STREET', 'PARKING LOT/GARAGE(NON.RESID.)', 'APARTMENT', 'RESTAURANT', 'SIDEWALK', 'OTHER', 'HOSPITAL BUILDING/GROUNDS', 'RESIDENCE', 'STREET', 'RESIDENCE', 'PARKING LOT/GARAGE(NON.RESID.)', 'OTHER', 'STREET', 'STREET', 'STREET', 'RESIDENCE', 'VACANT LOT/LAND', 'RESIDENCE', 'RESIDENCE', 'SCHOOL, PUBLIC, BUILDING', 'STREET', 'STREET', 'RESIDENCE', 'RESTAURANT', 'APARTMENT', 'RESIDENCE', 'RESIDENCE', 'APARTMENT', 'STREET', 'HOSPITAL BUILDING/GROUNDS', 'STREET', 'GAS STATION', 'DEPARTMENT STORE', 'RESIDENCE-GARAGE', 'STREET', 'APARTMENT', 'RESIDENCE', 'STREET', 'GAS STATION', 'SIDEWALK', 'WAREHOUSE', 'RESIDENCE', 'STREET', 'STREET', 'DEPARTMENT STORE', 'RESIDENCE', 'RESIDENCE-GARAGE', 'RESIDENCE', 'DRIVEWAY - RESIDENTIAL', 'PARKING LOT/GARAGE(NON.RESID.)', 'STREET', 'APARTMENT', 'OTHER', 'PARK PROPERTY', 'STREET', 'APARTMENT', 'OTHER', '', 'SIDEWALK', 'APARTMENT', 'APARTMENT', 'RESIDENTIAL YARD (FRONT/BACK)', 'RESIDENCE', 'STREET', 'RESIDENCE', 'STREET', 'APARTMENT', 'CTA BUS STOP', 'RESIDENCE', 'OTHER', 'STREET', 'RESIDENCE', 'STREET', 'STREET', 'STREET', 'RESIDENCE', 'RESIDENCE PORCH/HALLWAY', 'COMMERCIAL / BUSINESS OFFICE', 'RESIDENCE', 'SCHOOL, PUBLIC, GROUNDS', 'STREET', 'RESIDENTIAL YARD (FRONT/BACK)', 'PARKING LOT/GARAGE(NON.RESID.)', 'SMALL RETAIL STORE', 'RESTAURANT', 'RESIDENCE', 'APARTMENT', 'RESIDENCE PORCH/HALLWAY', 'SCHOOL, PUBLIC, BUILDING', 'OTHER', 'APARTMENT', 'RESIDENCE', 'RESIDENCE', 'RESIDENCE', 'ATHLETIC CLUB', 'SCHOOL, PUBLIC, BUILDING', 'APARTMENT', 'RESTAURANT', 'APARTMENT', 'RESIDENCE PORCH/HALLWAY', 'APARTMENT', 'RESIDENCE', 'STREET', 'STREET', 'RESIDENCE PORCH/HALLWAY', 'APARTMENT', 'RESIDENCE', 'STREET', 'APARTMENT', 'CHA APARTMENT', 'OTHER', 'SMALL RETAIL STORE', 'STREET', 'BANK', 'RESIDENCE', 'RESIDENCE', 'STREET', 'RESIDENCE', 'SCHOOL, PUBLIC, BUILDING', 'RESIDENCE', 'TAXICAB', 'SIDEWALK', 'APARTMENT', 'CURRENCY EXCHANGE', 'OTHER', 'ATHLETIC CLUB', 'RESIDENCE', 'RESIDENCE', 'CAR WASH', 'RESIDENCE', 'APARTMENT', 'SCHOOL, PUBLIC, BUILDING', 'PARK PROPERTY', 'RESIDENCE', 'STREET', 'STREET', 'STREET', 'STREET', 'OFFICE', 'RESIDENCE', 'DEPARTMENT STORE', 'COMMERCIAL / BUSINESS OFFICE', 'APARTMENT', 'STREET', 'RESIDENCE', 'STREET', 'STREET', 'APARTMENT', 'STREET', 'STREET', 'SIDEWALK', 'SMALL RETAIL STORE', 'STREET', 'OTHER', 'STREET', 'GAS STATION', 'APARTMENT', 'RESIDENCE', 'SIDEWALK', 'SIDEWALK', 'FIRE STATION', 'STREET', 'STREET', 'OTHER', 'VEHICLE NON-COMMERCIAL', 'SIDEWALK', 'APARTMENT', 'STREET', 'SIDEWALK', 'CONVENIENCE STORE', 'RESIDENCE', 'STREET', 'STREET', 'VEHICLE NON-COMMERCIAL', 'APARTMENT', 'STREET', 'APARTMENT', 'RESIDENCE', 'OTHER', 'APARTMENT', 'VEHICLE NON-COMMERCIAL', 'STREET', 'RESTAURANT', 'GROCERY FOOD STORE', 'APARTMENT', 'STREET', 'RESIDENCE', 'POLICE FACILITY/VEH PARKING LOT', 'OTHER', 'APARTMENT', 'RESIDENCE', 'CLEANING STORE', 'OTHER', 'AIRPORT TERMINAL UPPER LEVEL - SECURE AREA', 'RESTAURANT', 'BAR OR TAVERN', 'RESIDENCE', 'SCHOOL, PUBLIC, BUILDING', 'SMALL RETAIL STORE', 'CTA TRAIN', 'CONVENIENCE STORE', 'BAR OR TAVERN', 'RESIDENCE', 'RESIDENCE', 'VEHICLE NON-COMMERCIAL', 'SIDEWALK', 'STREET', 'STREET', 'RESIDENCE', 'APARTMENT', 'RESIDENCE', 'STREET', 'STREET', 'STREET', 'SIDEWALK', 'ALLEY', 'RESIDENTIAL YARD (FRONT/BACK)', 'GROCERY FOOD STORE', 'SMALL RETAIL STORE', 'RESTAURANT', 'RESIDENCE', 'VACANT LOT/LAND', 'STREET', 'APARTMENT', 'STREET', 'APARTMENT', 'APARTMENT', 'RESTAURANT', 'APARTMENT', 'CTA TRAIN', 'AIRPORT TERMINAL UPPER LEVEL - SECURE AREA', 'RESIDENCE', 'APARTMENT', 'BAR OR TAVERN', 'RESIDENCE', 'RESIDENCE PORCH/HALLWAY', 'OTHER', 'GROCERY FOOD STORE', 'GAS STATION', 'RESIDENCE', 'STREET', 'TAXICAB', 'SIDEWALK', 'STREET', 'APARTMENT', 'SIDEWALK', 'OTHER', 'RESIDENCE', 'APARTMENT', 'STREET', 'RESIDENCE-GARAGE', 'APARTMENT', 'STREET', 'RESIDENCE', 'APARTMENT', 'APARTMENT', 'RESIDENCE', 'APARTMENT', 'STREET', 'RESTAURANT', 'STREET', 'APARTMENT', 'SMALL RETAIL STORE', 'APARTMENT', 'STREET', 'RESIDENCE', 'RESIDENCE', 'STREET', 'SCHOOL, PUBLIC, BUILDING', 'ATM (AUTOMATIC TELLER MACHINE)', 'APARTMENT', 'HOTEL/MOTEL', 'SCHOOL, PRIVATE, BUILDING', 'APARTMENT', 'CHURCH/SYNAGOGUE/PLACE OF WORSHIP', 'RESIDENCE PORCH/HALLWAY', 'APARTMENT', 'FIRE STATION', 'VEHICLE NON-COMMERCIAL', 'SIDEWALK', '', 'SIDEWALK', 'STREET', 'STREET', 'RESIDENCE', 'RESIDENCE', 'SMALL RETAIL STORE', 'RESIDENCE', 'STREET', 'RESIDENCE PORCH/HALLWAY', 'ALLEY', 'APARTMENT', 'RESTAURANT', 'STREET', 'RESIDENCE', 'APARTMENT', 'CTA BUS', 'RESIDENCE', 'STREET', 'APARTMENT', 'RESIDENCE', 'RESTAURANT', 'RESIDENCE', 'RESTAURANT', 'TAVERN/LIQUOR STORE', 'STREET', 'SIDEWALK', 'RESTAURANT', 'STREET', 'CTA BUS', 'STREET', 'RESIDENCE', 'RESIDENCE-GARAGE', 'SCHOOL, PUBLIC, GROUNDS', 'RESIDENCE', 'SCHOOL, PUBLIC, BUILDING', 'SCHOOL, PRIVATE, BUILDING', 'APARTMENT', 'APARTMENT', 'APARTMENT', 'OTHER', 'STREET', 'STREET', 'SIDEWALK', 'PARKING LOT/GARAGE(NON.RESID.)', 'RESIDENCE', 'RESIDENCE', 'STREET', 'RESIDENCE', 'RESIDENCE', 'APARTMENT', 'RESTAURANT', 'RESIDENCE', 'APARTMENT', 'APARTMENT', 'APARTMENT', 'SIDEWALK', 'SMALL RETAIL STORE', 'APARTMENT', 'VEHICLE NON-COMMERCIAL', 'RESTAURANT', 'APARTMENT', 'RESIDENCE', 'PARKING LOT/GARAGE(NON.RESID.)', 'APARTMENT', 'RESIDENCE', 'RESIDENCE', 'APARTMENT', 'APARTMENT', 'STREET', 'STREET', 'VEHICLE - OTHER RIDE SERVICE', 'STREET', 'STREET', 'PARKING LOT/GARAGE(NON.RESID.)', 'RESIDENCE', 'SIDEWALK', 'RESIDENCE-GARAGE', 'PARKING LOT/GARAGE(NON.RESID.)', 'VEHICLE NON-COMMERCIAL', 'RESIDENCE PORCH/HALLWAY', 'APARTMENT', 'APARTMENT', 'RESIDENCE', 'APARTMENT', 'RESIDENCE-GARAGE', 'RESIDENCE', 'RESIDENCE', 'DRUG STORE', 'SIDEWALK', 'APARTMENT', 'APARTMENT', 'STREET', 'APARTMENT', 'SIDEWALK', 'STREET', 'STREET', 'APARTMENT', 'STREET', 'SMALL RETAIL STORE', 'RESIDENCE-GARAGE', 'SMALL RETAIL STORE', 'SMALL RETAIL STORE', 'SCHOOL, PUBLIC, BUILDING', 'OTHER', 'OTHER', 'SMALL RETAIL STORE', 'RESIDENCE', 'RESIDENCE', 'RESIDENCE', 'RESIDENCE', 'RESTAURANT', 'STREET', 'SCHOOL, PUBLIC, GROUNDS', 'RESIDENCE PORCH/HALLWAY', 'OTHER', 'RESIDENCE', 'PARKING LOT/GARAGE(NON.RESID.)', 'APARTMENT', 'STREET', 'RESIDENCE PORCH/HALLWAY', 'DEPARTMENT STORE', 'RESIDENCE', 'RESIDENCE PORCH/HALLWAY', 'APARTMENT', 'OTHER', 'STREET', 'STREET', 'SCHOOL, PUBLIC, BUILDING', 'SCHOOL, PUBLIC, BUILDING', 'SMALL RETAIL STORE', 'APARTMENT', 'RESTAURANT', 'OTHER', 'PARKING LOT/GARAGE(NON.RESID.)', 'STREET', 'STREET', 'APARTMENT', 'CHURCH/SYNAGOGUE/PLACE OF WORSHIP', 'RESIDENCE', 'APARTMENT', 'DEPARTMENT STORE', 'STREET', 'STREET', 'RESIDENCE', 'STREET', 'SCHOOL, PUBLIC, BUILDING', 'STREET', 'RESTAURANT', 'RESIDENCE PORCH/HALLWAY', 'STREET', 'APARTMENT', 'APARTMENT', 'OTHER', 'STREET', 'CLEANING STORE', 'SIDEWALK', 'STREET', '', 'VEHICLE NON-COMMERCIAL', 'STREET', 'PARKING LOT/GARAGE(NON.RESID.)', 'SCHOOL, PUBLIC, BUILDING', 'RESIDENCE', 'PARKING LOT/GARAGE(NON.RESID.)', 'STREET', 'PARKING LOT/GARAGE(NON.RESID.)', 'STREET', 'RESIDENCE PORCH/HALLWAY', 'RESIDENCE', 'STREET', 'APARTMENT', 'COMMERCIAL / BUSINESS OFFICE', 'SIDEWALK', 'APARTMENT', 'RESIDENCE PORCH/HALLWAY', 'OTHER', 'VACANT LOT/LAND', 'VEHICLE NON-COMMERCIAL', 'RESIDENCE', 'APARTMENT', 'RESIDENCE-GARAGE', 'GAS STATION', 'STREET', 'STREET', 'RESIDENCE', 'RESIDENCE', 'GAS STATION', 'RESIDENCE', 'STREET', 'SIDEWALK', 'APARTMENT', 'PARKING LOT/GARAGE(NON.RESID.)', 'SIDEWALK', 'STREET', 'SMALL RETAIL STORE', 'SIDEWALK', 'STREET', 'FIRE STATION', 'APARTMENT', 'SIDEWALK', 'RESTAURANT', 'STREET', 'RESIDENCE', 'STREET', 'POLICE FACILITY/VEH PARKING LOT', 'STREET', 'RESIDENCE', 'OTHER', 'STREET', 'STREET', 'STREET', 'APARTMENT', 'STREET', 'RESIDENCE PORCH/HALLWAY', 'STREET', 'COMMERCIAL / BUSINESS OFFICE', 'APARTMENT', 'RESIDENCE', 'STREET', 'RESIDENCE-GARAGE', 'SIDEWALK', 'CONSTRUCTION SITE', 'RESIDENTIAL YARD (FRONT/BACK)', 'SIDEWALK', 'RESIDENCE-GARAGE', 'STREET', 'APARTMENT', 'APARTMENT', 'HOTEL/MOTEL', 'OTHER', 'RESIDENCE', 'BANK', 'RESIDENCE', 'RESTAURANT', 'RESIDENCE-GARAGE', 'STREET', 'APARTMENT', 'RESIDENCE', 'RESIDENCE', 'OTHER', 'RESIDENCE', 'SCHOOL, PUBLIC, BUILDING', 'RESIDENCE', 'APARTMENT', 'APARTMENT', 'STREET', 'STREET', 'CHA PARKING LOT/GROUNDS', 'STREET', 'RESTAURANT', 'STREET', 'OTHER', 'OTHER', 'APARTMENT', 'RESIDENCE', 'RESIDENCE PORCH/HALLWAY', 'STREET', 'APARTMENT', 'PARKING LOT/GARAGE(NON.RESID.)', 'STREET', 'RESIDENTIAL YARD (FRONT/BACK)', 'RESIDENCE', 'PARKING LOT/GARAGE(NON.RESID.)', 'OTHER', 'STREET', 'OTHER', 'STREET', 'RESIDENCE', 'SCHOOL, PUBLIC, BUILDING', 'RESIDENCE', 'COMMERCIAL / BUSINESS OFFICE', 'RESIDENCE', 'APARTMENT', 'DEPARTMENT STORE', 'OTHER', 'RESTAURANT', 'RESIDENCE', 'STREET', 'STREET', 'SIDEWALK', 'STREET', 'RESIDENCE', 'HOSPITAL BUILDING/GROUNDS', 'RESIDENCE', 'APARTMENT', 'RESIDENCE', 'OTHER', 'VEHICLE NON-COMMERCIAL', 'RESIDENCE-GARAGE', 'AIRPORT TERMINAL LOWER LEVEL - NON-SECURE AREA', 'STREET', 'APARTMENT', 'SMALL RETAIL STORE', 'DEPARTMENT STORE', 'ALLEY', 'GAS STATION', 'RESIDENCE', 'GROCERY FOOD STORE', 'CTA BUS', 'STREET', 'RESIDENCE', 'APARTMENT', '', 'APARTMENT', 'RESIDENCE', 'PARKING LOT/GARAGE(NON.RESID.)', 'RESIDENCE', 'APARTMENT', 'MEDICAL/DENTAL OFFICE', 'STREET', 'SMALL RETAIL STORE', 'BANK', 'STREET', 'CONVENIENCE STORE', 'SIDEWALK'], 1: ['BAR OR TAVERN', 'TAVERN/LIQUOR STORE', 'CLEANING STORE', 'APARTMENT', 'STREET', 'RESIDENCE', 'SIDEWALK', 'OTHER', 'SIDEWALK', 'STREET', 'PARKING LOT/GARAGE(NON.RESID.)', 'PARKING LOT/GARAGE(NON.RESID.)', 'HOTEL/MOTEL', 'RESIDENTIAL YARD (FRONT/BACK)', 'APARTMENT', 'APARTMENT', 'PARKING LOT/GARAGE(NON.RESID.)', 'PARKING LOT/GARAGE(NON.RESID.)', 'RESIDENCE', 'APARTMENT', 'RESIDENCE', 'CHA APARTMENT', 'STREET', 'SMALL RETAIL STORE', 'PARKING LOT/GARAGE(NON.RESID.)', 'RESIDENCE', 'PARKING LOT/GARAGE(NON.RESID.)', 'APARTMENT', 'RESIDENCE', 'SMALL RETAIL STORE', 'CONVENIENCE STORE', 'RESIDENCE', 'STREET', 'APARTMENT', 'RESIDENCE', 'APARTMENT', 'RESTAURANT', 'APARTMENT', 'GOVERNMENT BUILDING/PROPERTY', 'AIRPORT TERMINAL LOWER LEVEL - NON-SECURE AREA', 'PARKING LOT/GARAGE(NON.RESID.)', 'GAS STATION', 'STREET', 'APARTMENT', 'STREET', 'SMALL RETAIL STORE', 'APARTMENT', 'SCHOOL, PUBLIC, GROUNDS', 'APARTMENT', 'STREET', 'ATHLETIC CLUB', 'RESIDENCE-GARAGE', 'APARTMENT', 'SIDEWALK', 'APARTMENT', 'STREET', 'STREET', 'STREET', 'VEHICLE NON-COMMERCIAL', 'RESIDENCE', 'RESIDENCE', 'RESIDENCE', 'SCHOOL, PUBLIC, GROUNDS', 'RESIDENTIAL YARD (FRONT/BACK)', 'RESIDENCE PORCH/HALLWAY', 'PAWN SHOP', 'STREET', 'PARKING LOT/GARAGE(NON.RESID.)', 'STREET', 'STREET', 'STREET', 'GROCERY FOOD STORE', 'TAVERN/LIQUOR STORE', 'APARTMENT', 'STREET', 'STREET', 'SIDEWALK', 'ATHLETIC CLUB', 'APARTMENT', 'RESIDENCE', 'SCHOOL, PUBLIC, GROUNDS', 'RESIDENCE', 'RESIDENCE', 'RESIDENCE', 'TAVERN/LIQUOR STORE', 'RESTAURANT', 'RESIDENCE', 'APARTMENT', 'APARTMENT', 'STREET', 'GAS STATION', 'ALLEY', 'BAR OR TAVERN', 'TAXICAB', 'OTHER', 'CTA PLATFORM', 'RESIDENCE', 'STREET', 'STREET', 'SMALL RETAIL STORE', 'SCHOOL, PUBLIC, BUILDING', 'OTHER', 'SIDEWALK', 'STREET', 'DEPARTMENT STORE', 'APARTMENT', 'RESIDENCE', 'ALLEY', 'SIDEWALK', 'APARTMENT', 'SIDEWALK', 'STREET', 'APARTMENT', 'RESIDENCE', 'RESIDENCE', 'RESIDENCE PORCH/HALLWAY', 'RESIDENTIAL YARD (FRONT/BACK)', 'RESIDENCE', 'RESIDENCE', 'STREET', 'STREET', 'SIDEWALK', 'STREET', 'RESIDENCE', 'APARTMENT', 'STREET', 'SIDEWALK', 'STREET', 'STREET', 'PARKING LOT/GARAGE(NON.RESID.)', 'RESIDENCE-GARAGE', 'VEHICLE NON-COMMERCIAL', 'APARTMENT', 'COMMERCIAL / BUSINESS OFFICE', 'STREET', 'SCHOOL, PUBLIC, GROUNDS', 'CTA BUS', 'SIDEWALK', 'SIDEWALK', 'APARTMENT', 'RESIDENCE', 'RESTAURANT', 'ALLEY', 'APARTMENT', 'SIDEWALK', 'RESIDENCE', 'STREET', 'OTHER', 'APARTMENT', 'STREET', 'RESIDENCE', 'SIDEWALK', 'APARTMENT', 'SMALL RETAIL STORE', 'CTA PLATFORM', 'GROCERY FOOD STORE', 'DEPARTMENT STORE', 'RESIDENCE PORCH/HALLWAY', 'OTHER', 'RESTAURANT', 'APARTMENT', 'RESIDENCE', 'APARTMENT', 'RESIDENCE', 'RESIDENCE PORCH/HALLWAY', 'RESIDENCE', 'STREET', 'VEHICLE NON-COMMERCIAL', 'CTA TRAIN', 'STREET', 'RESIDENTIAL YARD (FRONT/BACK)', 'OTHER', 'APARTMENT', 'PARKING LOT/GARAGE(NON.RESID.)', 'STREET', 'STREET', 'STREET', 'SIDEWALK', 'RESIDENCE', 'RESIDENTIAL YARD (FRONT/BACK)', 'STREET', 'APARTMENT', 'APARTMENT', 'STREET', 'SIDEWALK', 'VEHICLE NON-COMMERCIAL', 'CHA APARTMENT', 'RESTAURANT', 'CTA BUS STOP', 'RESIDENCE', 'RESIDENCE', 'STREET', 'ALLEY', 'DEPARTMENT STORE', 'PARKING LOT/GARAGE(NON.RESID.)', 'SIDEWALK', 'CTA PLATFORM', 'RESIDENCE', 'PARKING LOT/GARAGE(NON.RESID.)', 'STREET', 'APARTMENT', 'SIDEWALK', 'AIRPORT TERMINAL LOWER LEVEL - NON-SECURE AREA', 'CTA TRAIN', 'APARTMENT', 'APARTMENT', 'ABANDONED BUILDING', 'RESIDENCE', 'RESIDENCE', 'RESIDENCE', 'APARTMENT', 'OTHER', 'RESIDENCE PORCH/HALLWAY', 'RESIDENCE', 'STREET', 'SCHOOL, PUBLIC, BUILDING', 'RESIDENCE', 'RESTAURANT', 'OTHER', 'APARTMENT', 'APARTMENT', 'STREET', 'PARKING LOT/GARAGE(NON.RESID.)', 'APARTMENT', 'SMALL RETAIL STORE', 'RESIDENCE', 'STREET', 'RESIDENCE', 'SIDEWALK', 'RESTAURANT', 'RESIDENCE', 'RESIDENTIAL YARD (FRONT/BACK)', 'RESIDENCE', 'STREET', 'STREET', 'SIDEWALK', 'APARTMENT', 'STREET', 'STREET', 'RESIDENCE', 'VEHICLE NON-COMMERCIAL', 'APARTMENT', 'RESIDENCE', 'STREET', 'CONVENIENCE STORE', 'RESIDENCE', 'APARTMENT', 'SIDEWALK', 'HOTEL/MOTEL', 'RESIDENCE', 'GROCERY FOOD STORE', 'APARTMENT', 'DEPARTMENT STORE', 'RESIDENCE', 'RESIDENCE', 'RESIDENCE', 'RESIDENCE-GARAGE', 'OTHER', 'RESIDENCE-GARAGE', 'DEPARTMENT STORE', 'APARTMENT', 'APARTMENT', 'VEHICLE NON-COMMERCIAL', 'SIDEWALK', 'DRUG STORE', 'RESIDENCE', 'APARTMENT', 'APARTMENT', 'CONVENIENCE STORE', 'STREET', 'RESTAURANT', 'APARTMENT', 'RESIDENCE', 'OTHER', 'STREET', 'STREET', 'SIDEWALK', 'SCHOOL, PUBLIC, BUILDING', 'STREET', 'DEPARTMENT STORE', 'STREET', 'RESIDENCE', 'APARTMENT', 'NURSING HOME/RETIREMENT HOME', 'STREET', 'STREET', 'CHA APARTMENT', 'SIDEWALK', 'OTHER', 'STREET', 'PARKING LOT/GARAGE(NON.RESID.)', 'SCHOOL, PUBLIC, BUILDING', 'STREET', 'BAR OR TAVERN', 'SIDEWALK', 'SCHOOL, PUBLIC, GROUNDS', 'RESIDENCE PORCH/HALLWAY', 'STREET', 'STREET', 'RESIDENCE', 'SIDEWALK', 'PARKING LOT/GARAGE(NON.RESID.)', 'RESIDENCE', 'SMALL RETAIL STORE', 'RESIDENCE', 'RESIDENCE', 'APARTMENT', 'SMALL RETAIL STORE', 'RESTAURANT', 'STREET', 'SIDEWALK', 'STREET', 'HOUSE', 'APARTMENT', 'STREET', 'RESIDENCE', 'APARTMENT', 'SIDEWALK', 'STREET', 'RESIDENCE', 'GROCERY FOOD STORE', 'CTA BUS', 'RESIDENCE', 'STREET', 'HOTEL/MOTEL', 'APARTMENT', 'APARTMENT', 'STREET', 'APARTMENT', 'STREET', 'APARTMENT', 'STREET', 'TAVERN/LIQUOR STORE', 'SMALL RETAIL STORE', 'RESIDENCE', 'RESTAURANT', 'APARTMENT', 'RESIDENCE', 'OTHER', 'AIRPORT TERMINAL UPPER LEVEL - SECURE AREA', 'RESIDENCE PORCH/HALLWAY', 'APARTMENT', 'STREET', 'RESIDENCE', 'OTHER', 'SCHOOL, PUBLIC, BUILDING', 'STREET', 'RESIDENCE', 'RESIDENCE', 'SIDEWALK', 'RESIDENCE', 'STREET', 'STREET', 'STREET', 'RESIDENCE', 'GROCERY FOOD STORE', 'APARTMENT', 'RESIDENCE', 'RESTAURANT', 'RESIDENCE', 'ALLEY', 'STREET', 'STREET', 'VEHICLE NON-COMMERCIAL', 'SCHOOL, PUBLIC, BUILDING', 'STREET', 'GAS STATION', 'APARTMENT', 'STREET', 'RESIDENCE', 'SCHOOL, PUBLIC, BUILDING', 'APARTMENT', 'STREET', 'APARTMENT', 'SIDEWALK', 'STREET', 'STREET', 'SIDEWALK', 'CURRENCY EXCHANGE', 'MEDICAL/DENTAL OFFICE', 'APARTMENT', 'OTHER', 'SMALL RETAIL STORE', 'SCHOOL, PUBLIC, BUILDING', 'APARTMENT', 'HOTEL/MOTEL', 'STREET', 'STREET', 'APARTMENT', 'STREET', 'RESIDENCE', 'ALLEY', 'RESIDENCE-GARAGE', 'SIDEWALK', 'APARTMENT', 'OTHER', 'SIDEWALK', 'APARTMENT', 'STREET', 'PARKING LOT/GARAGE(NON.RESID.)', 'STREET', 'STREET', 'STREET', 'RESTAURANT', 'PARKING LOT/GARAGE(NON.RESID.)', 'RESIDENCE', 'SCHOOL, PUBLIC, BUILDING', 'RESIDENTIAL YARD (FRONT/BACK)', 'CTA PLATFORM', 'RESIDENCE', 'BAR OR TAVERN', 'APARTMENT', 'STREET', 'RESIDENCE', 'STREET', 'RESIDENCE', 'TAVERN/LIQUOR STORE', 'HOTEL/MOTEL', 'APARTMENT', 'STREET', 'STREET', 'CONSTRUCTION SITE', 'SMALL RETAIL STORE', 'VEHICLE NON-COMMERCIAL', 'STREET', 'SIDEWALK', 'POOL ROOM', 'STREET', 'STREET', 'GROCERY FOOD STORE', 'SCHOOL, PUBLIC, BUILDING', 'STREET', 'RESIDENCE', 'SIDEWALK', 'CONVENIENCE STORE', 'RESIDENCE-GARAGE', 'GAS STATION', 'STREET', 'APARTMENT', 'CTA STATION', 'APARTMENT', 'RESIDENCE', 'STREET', 'APARTMENT', 'STREET', 'STREET', 'STREET', 'APARTMENT', 'STREET', 'RESIDENCE', 'APARTMENT', 'ALLEY', 'DEPARTMENT STORE', 'CAR WASH', 'RESIDENCE', 'STREET', '', 'APARTMENT', 'STREET', 'STREET', 'OTHER', 'RESIDENCE', 'APARTMENT', 'APARTMENT', 'RESIDENCE', 'APARTMENT', 'RESIDENCE', 'DEPARTMENT STORE', 'AUTO', 'RESTAURANT', 'STREET', 'APARTMENT', 'RESTAURANT', 'COMMERCIAL / BUSINESS OFFICE', 'STREET', 'GROCERY FOOD STORE', 'RESTAURANT', 'RESIDENCE', 'RESIDENCE', 'RESTAURANT', 'ALLEY', 'SIDEWALK', 'APARTMENT', 'APARTMENT', 'STREET', 'RESIDENCE-GARAGE', 'CTA PLATFORM', 'SCHOOL, PUBLIC, GROUNDS', 'APARTMENT', 'APARTMENT', 'RESTAURANT', 'PARKING LOT/GARAGE(NON.RESID.)', 'MOVIE HOUSE/THEATER', 'RESTAURANT', 'CTA PLATFORM', 'RESIDENCE', 'GAS STATION', 'SIDEWALK', 'APARTMENT', 'SIDEWALK', 'RESIDENCE PORCH/HALLWAY', 'RESIDENCE', 'STREET', 'RESIDENCE', 'RESIDENTIAL YARD (FRONT/BACK)', 'APARTMENT', 'STREET', 'APARTMENT', 'APARTMENT', 'APARTMENT', 'PARKING LOT/GARAGE(NON.RESID.)', 'HOSPITAL BUILDING/GROUNDS', 'RESIDENCE', 'RESIDENCE', 'APARTMENT', 'RESIDENCE PORCH/HALLWAY', 'ALLEY', 'STREET', 'APARTMENT', 'SCHOOL, PUBLIC, BUILDING', 'PARKING LOT/GARAGE(NON.RESID.)', 'ATHLETIC CLUB', 'OTHER', 'OTHER', 'STREET', 'RESIDENCE', 'PARKING LOT/GARAGE(NON.RESID.)', 'AIRPORT TERMINAL UPPER LEVEL - SECURE AREA', 'GAS STATION', 'APARTMENT', 'APARTMENT', 'DRIVEWAY - RESIDENTIAL', 'RESIDENCE', 'RESIDENCE', 'APARTMENT', 'PARKING LOT/GARAGE(NON.RESID.)', 'APARTMENT', 'STREET', 'PARKING LOT/GARAGE(NON.RESID.)', 'ATHLETIC CLUB', 'APARTMENT', 'OTHER', 'APARTMENT', 'PARKING LOT/GARAGE(NON.RESID.)', 'RESIDENCE', 'RESIDENCE', 'RESIDENTIAL YARD (FRONT/BACK)', 'GAS STATION', 'RESTAURANT', 'RESIDENCE', 'SIDEWALK', 'ALLEY', 'APARTMENT', 'SIDEWALK', 'GAS STATION', 'VEHICLE NON-COMMERCIAL', 'APARTMENT', 'VACANT LOT/LAND', 'OTHER', 'RESIDENCE', 'MEDICAL/DENTAL OFFICE', 'RESIDENCE', 'TAXICAB', 'STREET', 'RESIDENCE', 'APARTMENT', 'CONVENIENCE STORE', 'RESIDENCE', 'STREET', 'RESIDENCE', 'POLICE FACILITY/VEH PARKING LOT', 'RESIDENCE', 'PARKING LOT/GARAGE(NON.RESID.)', 'DRUG STORE', 'STREET', 'STREET', 'STREET', 'SIDEWALK', 'RESIDENCE', 'STREET', 'RESIDENCE', 'RESIDENCE', 'VEHICLE NON-COMMERCIAL', 'VEHICLE NON-COMMERCIAL', 'RESIDENCE', 'RESIDENCE', 'SIDEWALK', 'SIDEWALK', 'APARTMENT', 'RESIDENCE-GARAGE', 'PARK PROPERTY', 'STREET', 'STREET', 'BANK', 'BAR OR TAVERN', 'RESTAURANT', 'APARTMENT', 'ABANDONED BUILDING', 'SMALL RETAIL STORE', 'APARTMENT', 'APARTMENT', 'RESIDENCE', 'ALLEY', 'STREET', 'STREET', 'GAS STATION', 'RESIDENCE', 'RESIDENCE', 'PARKING LOT/GARAGE(NON.RESID.)', 'APARTMENT', 'RESIDENCE PORCH/HALLWAY', 'ALLEY', 'BAR OR TAVERN', 'STREET', 'ALLEY', 'RESIDENCE', 'SMALL RETAIL STORE', 'RESIDENCE-GARAGE', 'STREET', 'APARTMENT', 'RESIDENCE', 'OTHER', 'PARKING LOT/GARAGE(NON.RESID.)', 'RESIDENCE-GARAGE', 'STREET', 'OTHER', 'RESIDENCE', 'SIDEWALK', 'HOTEL/MOTEL', 'RESIDENCE', 'RESIDENCE PORCH/HALLWAY', 'PARKING LOT/GARAGE(NON.RESID.)', 'STREET', 'SMALL RETAIL STORE', 'DEPARTMENT STORE', 'RESIDENCE', 'RESIDENCE', 'RESIDENCE PORCH/HALLWAY', 'STREET', 'VEHICLE NON-COMMERCIAL', 'APARTMENT', 'RESIDENCE', 'CONVENIENCE STORE', 'STREET', 'CHA APARTMENT', 'CHURCH/SYNAGOGUE/PLACE OF WORSHIP', 'APARTMENT', 'STREET', 'SCHOOL, PUBLIC, BUILDING', 'APARTMENT', 'STREET', 'HOTEL/MOTEL', 'STREET', 'SMALL RETAIL STORE', 'CURRENCY EXCHANGE', 'APARTMENT', 'APARTMENT', 'VEHICLE NON-COMMERCIAL', 'PARKING LOT/GARAGE(NON.RESID.)', 'STREET', 'RESIDENCE', 'VEHICLE NON-COMMERCIAL', 'CTA STATION', 'SIDEWALK', 'RESIDENCE', 'COMMERCIAL / BUSINESS OFFICE', 'APARTMENT', 'APARTMENT', 'STREET', 'STREET', 'RESTAURANT', 'BAR OR TAVERN', 'STREET', 'SIDEWALK', 'RESIDENCE', 'SCHOOL, PUBLIC, BUILDING', 'DEPARTMENT STORE', 'APARTMENT', 'VEHICLE NON-COMMERCIAL', 'STREET', 'STREET', 'CONVENIENCE STORE', 'RESIDENCE', 'ALLEY', 'RESIDENCE', 'STREET', 'SCHOOL, PUBLIC, GROUNDS', 'SIDEWALK', 'SIDEWALK', 'APARTMENT', 'DEPARTMENT STORE', 'STREET', 'RESIDENCE', 'STREET', 'RESIDENCE-GARAGE', 'SCHOOL, PRIVATE, GROUNDS', 'COMMERCIAL / BUSINESS OFFICE', 'STREET', 'APARTMENT', 'STREET', 'RESIDENCE', 'RESIDENCE', 'PARKING LOT/GARAGE(NON.RESID.)', 'STREET', 'RESIDENCE', 'RESTAURANT', 'GOVERNMENT BUILDING/PROPERTY', 'SIDEWALK', 'RESIDENCE', 'OTHER', 'PARK PROPERTY', 'SIDEWALK', 'HOSPITAL BUILDING/GROUNDS', 'SCHOOL, PUBLIC, BUILDING', 'STREET', 'RESIDENCE', 'RESIDENCE-GARAGE', 'RESIDENCE', 'APARTMENT', 'PARKING LOT/GARAGE(NON.RESID.)', 'SMALL RETAIL STORE', 'STREET', 'RESIDENTIAL YARD (FRONT/BACK)', 'RESIDENCE', 'DEPARTMENT STORE', 'SIDEWALK', 'APARTMENT', 'APARTMENT', 'RESTAURANT', 'CTA BUS', 'APARTMENT', 'RESIDENCE', 'RESIDENCE', 'VACANT LOT/LAND', 'DEPARTMENT STORE', 'STREET', 'SIDEWALK', 'STREET', 'APARTMENT', 'APARTMENT', 'PARKING LOT/GARAGE(NON.RESID.)', 'STREET', 'SCHOOL, PUBLIC, BUILDING', '', 'PARKING LOT/GARAGE(NON.RESID.)', 'RESIDENCE', 'RESTAURANT', 'DEPARTMENT STORE', 'STREET', 'APARTMENT', 'CURRENCY EXCHANGE', 'CHA APARTMENT', 'RESIDENCE', 'STREET', 'STREET', 'RESTAURANT', 'APARTMENT', 'STREET', 'SIDEWALK', 'SIDEWALK', 'RESIDENCE-GARAGE', 'PARKING LOT/GARAGE(NON.RESID.)', 'STREET', 'RESIDENCE', 'APARTMENT', 'VACANT LOT/LAND', 'SMALL RETAIL STORE', 'CTA BUS', 'GAS STATION', 'STREET', 'DRIVEWAY - RESIDENTIAL', 'PARKING LOT/GARAGE(NON.RESID.)', 'STREET', 'STREET', 'RESTAURANT', 'APARTMENT', 'JAIL / LOCK-UP FACILITY', 'STREET', 'SIDEWALK', 'RESIDENCE', 'ALLEY', 'SIDEWALK', 'SIDEWALK', 'APARTMENT', 'STREET', 'APARTMENT', 'DAY CARE CENTER', 'PARKING LOT/GARAGE(NON.RESID.)', 'SIDEWALK', 'SIDEWALK', 'VEHICLE NON-COMMERCIAL', 'OTHER', 'RESIDENCE', 'SIDEWALK', 'APARTMENT', 'STREET', 'RESIDENCE', 'APARTMENT', 'APARTMENT', 'SIDEWALK', 'SMALL RETAIL STORE', 'RESIDENCE', 'STREET', 'SMALL RETAIL STORE', 'STREET', 'APARTMENT', 'STREET', 'OTHER', 'RESTAURANT', 'SIDEWALK', 'STREET', 'APARTMENT', 'SCHOOL, PUBLIC, BUILDING', 'STREET', 'PARKING LOT/GARAGE(NON.RESID.)', 'STREET', 'SCHOOL, PUBLIC, BUILDING', 'SIDEWALK', 'RESIDENCE', 'STREET', 'STREET', 'APARTMENT', 'STREET', 'APARTMENT', 'STREET', 'BANK', 'STREET', 'SIDEWALK', 'STREET', 'SCHOOL, PUBLIC, BUILDING', 'APARTMENT', 'RESIDENCE', 'OTHER', 'OTHER', 'RESIDENTIAL YARD (FRONT/BACK)', 'RESTAURANT', 'STREET', 'RESIDENCE', 'STREET', 'RESIDENCE-GARAGE', 'VEHICLE NON-COMMERCIAL', 'RESIDENCE', 'RESIDENCE', 'DRIVEWAY - RESIDENTIAL', 'STREET', 'GROCERY FOOD STORE', 'STREET', 'APARTMENT', 'APARTMENT', 'APARTMENT', 'RESIDENCE', 'VEHICLE NON-COMMERCIAL', 'RESIDENCE', 'RESIDENCE', 'PARKING LOT/GARAGE(NON.RESID.)', 'RESTAURANT', 'DRIVEWAY - RESIDENTIAL', 'STREET', 'CTA STATION', 'RESIDENTIAL YARD (FRONT/BACK)', 'RESIDENCE', 'STREET', 'APARTMENT', 'STREET', 'APARTMENT', 'STREET', 'SIDEWALK', 'APARTMENT', 'SIDEWALK', 'ALLEY', 'RESTAURANT', 'STREET', 'SMALL RETAIL STORE', 'SIDEWALK', 'RESIDENCE', '', 'PARKING LOT/GARAGE(NON.RESID.)', 'PARKING LOT/GARAGE(NON.RESID.)', 'DEPARTMENT STORE', 'SIDEWALK', 'BAR OR TAVERN', 'STREET', 'CTA BUS STOP', 'STREET', 'RESIDENCE', 'CHURCH/SYNAGOGUE/PLACE OF WORSHIP', 'STREET', 'GROCERY FOOD STORE', 'RESIDENCE', 'CONSTRUCTION SITE', 'STREET', 'STREET', 'CTA TRAIN', 'APARTMENT', 'SIDEWALK', 'CTA BUS', 'RESIDENCE', 'STREET', 'APARTMENT', 'STREET', 'APARTMENT', 'GAS STATION', 'HOSPITAL BUILDING/GROUNDS', 'RESIDENCE', 'SCHOOL, PUBLIC, BUILDING', 'RESIDENCE', 'CTA TRAIN', 'APARTMENT', 'BARBERSHOP', 'RESIDENCE', 'APARTMENT', 'RESIDENCE', 'APARTMENT', 'RESIDENCE', 'APARTMENT', 'APARTMENT', 'STREET', 'APARTMENT', 'RESIDENCE', 'RESIDENCE', 'STREET', 'STREET', 'STREET', 'SIDEWALK', 'GOVERNMENT BUILDING/PROPERTY', 'STREET', 'SCHOOL, PUBLIC, GROUNDS', 'PARKING LOT/GARAGE(NON.RESID.)', 'STREET', 'STREET', 'SIDEWALK', 'RESIDENCE', 'ABANDONED BUILDING', 'SIDEWALK', 'STREET', 'BAR OR TAVERN', 'APARTMENT', 'APARTMENT', 'APARTMENT', 'RESIDENTIAL YARD (FRONT/BACK)', 'RESIDENCE', 'OTHER', 'STREET', 'PARKING LOT/GARAGE(NON.RESID.)', 'RESIDENCE', 'OTHER', 'PARKING LOT/GARAGE(NON.RESID.)', '', 'OTHER', 'STREET', 'BANK', 'RESIDENCE', 'STREET', 'CHA PARKING LOT/GROUNDS', 'APARTMENT', 'SIDEWALK'], 9: ['RESIDENCE', 'DRIVEWAY - RESIDENTIAL', 'STREET', 'GAS STATION', 'STREET', 'RESIDENCE', 'WAREHOUSE', 'STREET', 'CTA BUS', 'APARTMENT', 'PARKING LOT/GARAGE(NON.RESID.)', 'STREET', 'OTHER', 'RESIDENCE', 'OTHER', 'ALLEY', 'VEHICLE NON-COMMERCIAL', 'STREET', 'STREET', '', 'APARTMENT', 'VEHICLE NON-COMMERCIAL', 'PARKING LOT/GARAGE(NON.RESID.)', 'GAS STATION', 'APARTMENT', 'SMALL RETAIL STORE', 'APARTMENT', 'SMALL RETAIL STORE', 'RESIDENTIAL YARD (FRONT/BACK)', 'STREET', 'STREET', 'SIDEWALK', 'RESTAURANT', 'RESIDENCE-GARAGE', 'RESIDENCE', 'CONSTRUCTION SITE', 'STREET', 'SMALL RETAIL STORE', 'DRIVEWAY - RESIDENTIAL', 'PARKING LOT/GARAGE(NON.RESID.)', 'CTA PLATFORM', 'SCHOOL, PUBLIC, GROUNDS', 'SMALL RETAIL STORE', 'HOSPITAL BUILDING/GROUNDS', 'APARTMENT', 'APARTMENT', 'CTA GARAGE / OTHER PROPERTY', 'STREET', 'SIDEWALK', 'SIDEWALK', 'PARKING LOT/GARAGE(NON.RESID.)', 'RESTAURANT', 'HOTEL/MOTEL', 'PARKING LOT/GARAGE(NON.RESID.)', 'CHA PARKING LOT/GROUNDS', 'APARTMENT', 'RESTAURANT', 'DRIVEWAY - RESIDENTIAL', 'SIDEWALK', 'RESIDENCE', 'SIDEWALK', 'STREET', 'STREET', 'RESTAURANT', 'OTHER', 'STREET', 'SIDEWALK', 'RESIDENCE', 'APARTMENT', 'STREET', 'RESIDENCE', 'STREET', 'APARTMENT', 'RESIDENCE', 'CTA BUS', 'STREET', 'RESIDENCE', 'SIDEWALK', 'STREET', 'STREET', 'RESIDENCE', 'RESIDENCE', 'STREET', 'APARTMENT', 'SIDEWALK', 'ATHLETIC CLUB', 'SIDEWALK', 'SIDEWALK', 'OTHER', 'PARK PROPERTY', 'DEPARTMENT STORE', 'RESIDENCE', 'SIDEWALK', 'RESIDENCE', 'RESIDENCE', 'RESIDENCE', 'APARTMENT', 'RESIDENCE', 'STREET', 'RESIDENCE', 'STREET', 'STREET', 'SIDEWALK', 'RESIDENCE', 'APARTMENT', 'CHA APARTMENT', 'STREET', 'STREET', 'APARTMENT', 'STREET', 'RESIDENCE', 'DEPARTMENT STORE', 'GAS STATION', 'CTA STATION', 'RESIDENCE', 'DEPARTMENT STORE', 'ABANDONED BUILDING', 'STREET', 'OTHER', 'RESIDENCE', 'OTHER', 'ALLEY', 'SMALL RETAIL STORE', 'BAR OR TAVERN', 'RESIDENCE', 'RESIDENCE', 'RESIDENCE', 'ATHLETIC CLUB', 'SIDEWALK', 'STREET', 'STREET', 'STREET', 'STREET', 'GROCERY FOOD STORE', 'STREET', 'APARTMENT', 'RESIDENCE', 'RESIDENCE PORCH/HALLWAY', 'COMMERCIAL / BUSINESS OFFICE', 'SIDEWALK', 'STREET', 'STREET', 'PARKING LOT/GARAGE(NON.RESID.)', 'OTHER', 'NURSING HOME/RETIREMENT HOME', 'STREET', 'STREET', 'STREET', 'RESIDENCE', 'GAS STATION', 'RESIDENCE PORCH/HALLWAY', 'STREET', 'SCHOOL, PUBLIC, BUILDING', 'RESIDENCE', 'SCHOOL, PUBLIC, BUILDING', 'RESIDENCE', 'COMMERCIAL / BUSINESS OFFICE', 'SCHOOL, PUBLIC, BUILDING', 'VEHICLE NON-COMMERCIAL', 'RESIDENCE', 'RESIDENCE', 'RESIDENCE-GARAGE', 'GROCERY FOOD STORE', 'PARKING LOT/GARAGE(NON.RESID.)', 'OTHER', 'APARTMENT', 'STREET', 'OTHER', 'RESIDENCE', 'STREET', 'APARTMENT', 'DAY CARE CENTER', 'STREET', 'VEHICLE NON-COMMERCIAL', 'RESIDENTIAL YARD (FRONT/BACK)', 'STREET', 'SIDEWALK', 'SIDEWALK', 'STREET', 'POLICE FACILITY/VEH PARKING LOT', 'RESIDENCE', 'RESIDENCE', 'STREET', 'PARKING LOT/GARAGE(NON.RESID.)', 'STREET', 'PARKING LOT/GARAGE(NON.RESID.)', 'RESIDENCE', 'RESIDENCE', 'STREET', 'SIDEWALK', 'RESIDENCE', 'RESIDENCE', 'DEPARTMENT STORE', 'STREET', 'PARK PROPERTY', 'SIDEWALK', 'STREET', 'VEHICLE NON-COMMERCIAL', 'APARTMENT', 'SIDEWALK', 'STREET', 'SIDEWALK', 'STREET', 'SIDEWALK', 'RESIDENCE-GARAGE', 'CONVENIENCE STORE', 'RESIDENCE PORCH/HALLWAY', 'STREET', 'RESIDENCE', 'STREET', 'APARTMENT', 'SIDEWALK', 'RESIDENCE', 'POLICE FACILITY/VEH PARKING LOT', 'APARTMENT', 'STREET', 'ALLEY', 'SPORTS ARENA/STADIUM', 'APARTMENT', 'APARTMENT', 'SIDEWALK', 'RESIDENCE', 'SIDEWALK', 'RESIDENCE PORCH/HALLWAY', 'RESIDENCE', 'STREET', 'VEHICLE NON-COMMERCIAL', 'GAS STATION', 'RESIDENCE-GARAGE', 'RESIDENCE', 'RESIDENTIAL YARD (FRONT/BACK)', 'SIDEWALK', 'SIDEWALK', 'PARKING LOT/GARAGE(NON.RESID.)', 'APARTMENT', 'STREET', 'SIDEWALK', 'STREET', 'SIDEWALK', 'RESIDENCE', 'STREET', 'SIDEWALK', 'SIDEWALK', 'RESTAURANT', 'APARTMENT', 'RESIDENCE', 'SIDEWALK', 'CHA HALLWAY/STAIRWELL/ELEVATOR', 'RESIDENCE', 'STREET', 'SIDEWALK', 'RESTAURANT', 'RESIDENTIAL YARD (FRONT/BACK)', 'STREET', 'RESIDENCE-GARAGE', 'CONSTRUCTION SITE', 'STREET', 'ALLEY', 'RESIDENTIAL YARD (FRONT/BACK)', 'SIDEWALK', 'APARTMENT', 'ALLEY', 'SCHOOL, PUBLIC, GROUNDS', 'PARKING LOT/GARAGE(NON.RESID.)', 'STREET', 'SIDEWALK', 'AIRPORT TERMINAL UPPER LEVEL - SECURE AREA', 'DRIVEWAY - RESIDENTIAL', 'RESIDENCE', 'RESIDENCE-GARAGE', 'RESIDENCE', 'TAVERN/LIQUOR STORE', 'SIDEWALK', 'STREET', 'CHA PARKING LOT/GROUNDS', 'SIDEWALK', 'RESIDENCE', 'OTHER', 'SMALL RETAIL STORE', 'STREET', 'STREET', 'RESIDENCE PORCH/HALLWAY', 'APARTMENT', 'SMALL RETAIL STORE', 'APARTMENT', 'APARTMENT', 'STREET', 'ALLEY', 'SIDEWALK', 'STREET', 'ALLEY', 'GAS STATION', 'SIDEWALK', 'GROCERY FOOD STORE', 'STREET', 'CTA TRAIN', 'RESIDENCE-GARAGE', 'APARTMENT', 'RESIDENCE', 'VEHICLE NON-COMMERCIAL', 'OTHER', 'STREET', 'STREET', 'SIDEWALK', 'APARTMENT', 'STREET', 'RESIDENCE', 'CTA STATION', 'STREET', 'STREET', 'OTHER', 'VEHICLE NON-COMMERCIAL', 'SCHOOL, PUBLIC, BUILDING', 'STREET', 'APARTMENT', 'RESTAURANT', 'STREET', 'BAR OR TAVERN', 'RESTAURANT', 'VEHICLE NON-COMMERCIAL', 'STREET', 'APARTMENT', 'APARTMENT', 'STREET', 'STREET', 'APARTMENT', 'SIDEWALK', 'GAS STATION', 'STREET', 'PARKING LOT/GARAGE(NON.RESID.)', 'VEHICLE NON-COMMERCIAL', 'COMMERCIAL / BUSINESS OFFICE', 'APARTMENT', 'OTHER', 'STREET', 'OTHER', 'APARTMENT', 'STREET', 'APARTMENT', 'RESIDENCE', 'CTA PLATFORM', 'STREET', 'CTA BUS', 'SMALL RETAIL STORE', 'SIDEWALK', 'OTHER', 'GAS STATION', 'BAR OR TAVERN', 'APARTMENT', 'PARK PROPERTY', 'STREET', 'APARTMENT', 'SIDEWALK', 'RESIDENCE', 'SIDEWALK', 'APARTMENT', 'RESIDENCE', 'VEHICLE NON-COMMERCIAL', 'STREET', 'NURSING HOME/RETIREMENT HOME', 'STREET', 'RESIDENCE', 'SIDEWALK', 'STREET', 'STREET', 'APARTMENT', 'APARTMENT', 'OTHER', 'SMALL RETAIL STORE', 'STREET', 'CTA GARAGE / OTHER PROPERTY', 'RESIDENCE PORCH/HALLWAY', 'RESIDENTIAL YARD (FRONT/BACK)', 'RESIDENCE-GARAGE', 'OTHER', 'APARTMENT', 'SIDEWALK', 'RESIDENCE', 'STREET', 'SIDEWALK', 'RESIDENCE', 'APARTMENT', 'RESIDENCE', 'RESIDENCE', 'RESIDENCE', 'SMALL RETAIL STORE', 'SIDEWALK', 'CTA BUS', 'STREET', 'DRUG STORE', 'ALLEY', 'RESIDENCE', 'STREET', 'STREET', 'RESIDENCE', 'SIDEWALK', 'STREET', 'STREET', 'PARKING LOT/GARAGE(NON.RESID.)', 'STREET', 'AIRPORT TERMINAL UPPER LEVEL - SECURE AREA', 'STREET', 'ALLEY', 'OTHER', 'STREET', 'HOTEL/MOTEL', 'HOSPITAL BUILDING/GROUNDS', 'PARK PROPERTY', 'APARTMENT', 'CTA BUS', 'SMALL RETAIL STORE', 'APARTMENT', 'RESIDENCE', 'PARKING LOT/GARAGE(NON.RESID.)', 'CTA BUS', 'STREET', 'COMMERCIAL / BUSINESS OFFICE', 'SIDEWALK', 'APARTMENT', 'RESIDENCE', 'STREET', 'RESIDENCE', 'RESIDENCE', 'ALLEY', 'RESTAURANT', 'SIDEWALK', 'PARKING LOT/GARAGE(NON.RESID.)', 'SIDEWALK', 'RESIDENCE-GARAGE', 'STREET', 'RESIDENCE', 'APARTMENT', 'SIDEWALK', 'STREET', 'STREET', 'RESIDENCE', 'OTHER', 'GROCERY FOOD STORE', 'APARTMENT', 'SMALL RETAIL STORE', 'SIDEWALK', 'COMMERCIAL / BUSINESS OFFICE', 'SCHOOL, PUBLIC, BUILDING', 'GAS STATION', 'LIBRARY', 'CHA APARTMENT', 'STREET', 'RESIDENCE', 'GROCERY FOOD STORE', 'RESIDENCE', 'STREET', 'RESIDENTIAL YARD (FRONT/BACK)', 'STREET', 'RESIDENCE', 'OTHER', 'DEPARTMENT STORE', 'SMALL RETAIL STORE', 'RESIDENCE', 'RESIDENCE-GARAGE', 'RESIDENCE', 'RESTAURANT', 'ATM (AUTOMATIC TELLER MACHINE)', 'APARTMENT', 'RESIDENCE', 'STREET', 'STREET', 'APARTMENT', 'SIDEWALK', 'GROCERY FOOD STORE', 'OTHER', 'STREET', 'VACANT LOT/LAND', 'SIDEWALK', 'RESIDENCE', 'APARTMENT', 'PARKING LOT/GARAGE(NON.RESID.)', 'RESIDENCE', 'RESIDENCE-GARAGE', 'COMMERCIAL / BUSINESS OFFICE', 'APARTMENT', 'APARTMENT', 'STREET', 'LIBRARY', 'STREET', 'RESIDENCE', 'OTHER', 'RESIDENCE', 'CHA APARTMENT', 'RESIDENCE', 'RESIDENCE', 'RESIDENCE', 'RESIDENCE', 'STREET', 'STREET', 'RESIDENCE', 'STREET', 'CTA TRAIN', 'APARTMENT', 'STREET', 'SMALL RETAIL STORE', 'STREET', 'APARTMENT', 'APARTMENT', 'DEPARTMENT STORE', 'SIDEWALK', 'STREET', 'WAREHOUSE', 'GAS STATION', 'STREET', 'VACANT LOT/LAND', 'SIDEWALK', 'PARKING LOT/GARAGE(NON.RESID.)', 'APARTMENT', 'ALLEY', 'PARKING LOT/GARAGE(NON.RESID.)', 'OTHER RAILROAD PROP / TRAIN DEPOT', 'STREET', 'APARTMENT', 'STREET', 'PARKING LOT/GARAGE(NON.RESID.)', 'PARKING LOT/GARAGE(NON.RESID.)', 'STREET', 'SIDEWALK', 'CTA PLATFORM', 'APARTMENT', 'AIRPORT TERMINAL UPPER LEVEL - NON-SECURE AREA', 'RESIDENCE', 'PARKING LOT/GARAGE(NON.RESID.)', 'OTHER', 'VEHICLE - OTHER RIDE SERVICE', 'ALLEY', 'RESIDENCE', 'RESTAURANT', 'RESIDENCE', 'GROCERY FOOD STORE', 'APARTMENT', 'APARTMENT', 'STREET', 'RESIDENCE', 'VEHICLE NON-COMMERCIAL', 'DEPARTMENT STORE', 'STREET', 'HOTEL/MOTEL', 'STREET', 'GAS STATION', 'RESIDENCE', 'STREET', 'STREET', 'STREET', 'SIDEWALK', 'RESIDENCE', 'STREET', 'STREET', 'PARKING LOT/GARAGE(NON.RESID.)', 'RESIDENTIAL YARD (FRONT/BACK)', 'APARTMENT', 'STREET', 'RESIDENCE', 'STREET', 'SMALL RETAIL STORE', 'RESIDENCE-GARAGE', 'CTA TRAIN', 'PARKING LOT/GARAGE(NON.RESID.)', 'STREET', 'STREET', 'RESIDENCE', 'APARTMENT', 'APARTMENT', 'RESIDENCE', 'APARTMENT', 'SMALL RETAIL STORE', 'CTA STATION', 'APARTMENT', 'STREET', 'STREET', 'RESIDENCE', 'STREET', 'RESIDENTIAL YARD (FRONT/BACK)', 'CHURCH/SYNAGOGUE/PLACE OF WORSHIP', 'RESIDENCE PORCH/HALLWAY', 'ATHLETIC CLUB', 'PARKING LOT/GARAGE(NON.RESID.)', 'SIDEWALK', 'SMALL RETAIL STORE', 'ALLEY', 'OTHER', 'SIDEWALK', 'PARKING LOT/GARAGE(NON.RESID.)', 'RESIDENCE', 'RESIDENTIAL YARD (FRONT/BACK)', 'STREET', 'RESIDENCE', 'RESTAURANT', 'RESIDENCE', 'RESIDENCE', 'BANK', 'RESIDENTIAL YARD (FRONT/BACK)', 'BAR OR TAVERN', 'STREET', 'SIDEWALK', 'SCHOOL, PUBLIC, BUILDING', 'DRUG STORE', 'SMALL RETAIL STORE', 'OTHER', 'SIDEWALK', 'RESIDENCE PORCH/HALLWAY', 'VEHICLE NON-COMMERCIAL', 'COMMERCIAL / BUSINESS OFFICE', 'SIDEWALK', 'VEHICLE NON-COMMERCIAL', 'APARTMENT', 'APARTMENT', 'SCHOOL, PUBLIC, BUILDING', 'SIDEWALK', 'COMMERCIAL / BUSINESS OFFICE', 'STREET', 'APARTMENT', 'RESIDENCE-GARAGE', 'STREET', 'SIDEWALK', 'SIDEWALK', 'APARTMENT', 'STREET', 'STREET', 'STREET', 'RESIDENCE', 'RESIDENCE', 'ALLEY', 'SIDEWALK', 'SCHOOL, PUBLIC, BUILDING', 'OTHER', 'STREET', 'SIDEWALK', 'STREET', 'STREET', 'STREET', 'STREET', 'SIDEWALK', 'STREET', 'STREET', 'STREET', 'ALLEY', 'STREET', 'RESIDENCE', 'APARTMENT', 'STREET', 'APARTMENT', 'STREET', 'APARTMENT', 'DEPARTMENT STORE', 'STREET', 'SIDEWALK', 'STREET', 'STREET', 'STREET', 'STREET', 'RESIDENCE', 'SMALL RETAIL STORE', 'STREET', 'RESIDENCE', 'BAR OR TAVERN', 'DEPARTMENT STORE', 'STREET', 'OTHER', 'OTHER', 'STREET', 'STREET', 'SMALL RETAIL STORE', 'LAKEFRONT/WATERFRONT/RIVERBANK', 'STREET', 'CONVENIENCE STORE', 'SIDEWALK', 'SIDEWALK', 'APARTMENT', 'STREET', 'PARKING LOT/GARAGE(NON.RESID.)', 'VEHICLE NON-COMMERCIAL', 'STREET', 'OTHER', 'SIDEWALK', 'STREET', 'BAR OR TAVERN', 'RESTAURANT', 'STREET', 'HOSPITAL BUILDING/GROUNDS', 'DRIVEWAY - RESIDENTIAL', 'ALLEY', 'CONVENIENCE STORE', 'PARKING LOT/GARAGE(NON.RESID.)', 'APARTMENT', 'BANK', 'RESIDENCE', 'SIDEWALK', 'APARTMENT', 'RESIDENCE', 'STREET', 'STREET', 'RESIDENCE PORCH/HALLWAY', 'VEHICLE NON-COMMERCIAL', 'RESIDENCE', 'STREET', 'RESIDENTIAL YARD (FRONT/BACK)', 'SIDEWALK', 'CHURCH/SYNAGOGUE/PLACE OF WORSHIP', 'RESIDENCE', 'RESIDENCE', 'APARTMENT', 'STREET', 'STREET', 'STREET', 'STREET', 'CTA PLATFORM', 'COMMERCIAL / BUSINESS OFFICE', 'STREET', 'DRIVEWAY - RESIDENTIAL', 'MEDICAL/DENTAL OFFICE', 'RESIDENCE', 'APARTMENT', 'GROCERY FOOD STORE', 'RESIDENCE', 'STREET', 'RESIDENCE-GARAGE', 'STREET', 'OTHER', 'APARTMENT', 'RESIDENCE PORCH/HALLWAY', 'STREET', 'SCHOOL, PUBLIC, GROUNDS', 'STREET', 'RESIDENCE', 'STREET', 'STREET', 'SIDEWALK', 'BAR OR TAVERN', 'SIDEWALK', 'STREET', 'STREET', 'RESIDENCE PORCH/HALLWAY', 'RESIDENTIAL YARD (FRONT/BACK)', 'STREET', 'APARTMENT', 'GAS STATION', 'APARTMENT', 'STREET', 'RESIDENCE', 'APARTMENT', 'DRUG STORE', 'PARKING LOT/GARAGE(NON.RESID.)', 'SMALL RETAIL STORE', 'STREET', 'STREET', 'APARTMENT', 'APARTMENT', 'GROCERY FOOD STORE', 'RESIDENCE-GARAGE', 'SIDEWALK', 'SMALL RETAIL STORE', 'POLICE FACILITY/VEH PARKING LOT', 'APARTMENT', 'SIDEWALK', 'STREET', 'GROCERY FOOD STORE', 'APARTMENT', 'SIDEWALK', 'RESTAURANT', 'RESIDENCE', 'RESIDENCE-GARAGE', 'ATHLETIC CLUB', 'ALLEY', 'PARKING LOT/GARAGE(NON.RESID.)', 'SIDEWALK', 'STREET', 'SIDEWALK', 'RESIDENTIAL YARD (FRONT/BACK)', 'RESIDENCE', 'SIDEWALK', 'RESIDENCE', 'ALLEY', 'APARTMENT', 'VEHICLE NON-COMMERCIAL', 'RESIDENCE', 'RESIDENCE', 'STREET', 'RESIDENCE', 'RESIDENCE', 'STREET', 'APARTMENT', 'APARTMENT', 'RESIDENCE', 'APARTMENT', 'STREET', 'APARTMENT', 'STREET', 'RESIDENCE PORCH/HALLWAY', 'ALLEY', 'APARTMENT', 'STREET', 'RESIDENCE', 'STREET', 'APARTMENT', 'STREET', 'APARTMENT', 'RESIDENCE', 'RESIDENCE', 'SIDEWALK', 'RESIDENCE', 'RESIDENCE', 'RESIDENCE', 'APARTMENT', 'STREET', 'SIDEWALK', 'APARTMENT', 'APARTMENT', 'STREET', 'SIDEWALK', 'FIRE STATION', 'STREET', 'STREET', 'APARTMENT', 'STREET', 'VACANT LOT/LAND', 'STREET', 'SCHOOL, PRIVATE, BUILDING', 'STREET', 'RESIDENCE PORCH/HALLWAY', 'SIDEWALK', 'RESIDENCE', 'OTHER', 'OTHER', 'SMALL RETAIL STORE', 'APARTMENT', 'APARTMENT', 'DEPARTMENT STORE', 'APARTMENT', 'RESTAURANT', 'STREET', 'CTA TRAIN', 'RESIDENCE-GARAGE', 'STREET', 'RESIDENTIAL YARD (FRONT/BACK)', 'RESIDENCE', 'STREET', 'GROCERY FOOD STORE', 'APARTMENT', 'STREET', 'STREET', 'RESTAURANT', 'APARTMENT', 'RESIDENCE PORCH/HALLWAY', 'RESIDENCE', 'PARKING LOT/GARAGE(NON.RESID.)', 'RESIDENCE', 'RESIDENCE', 'RESIDENCE', 'APARTMENT', 'OTHER', 'ALLEY', 'RESIDENCE', 'RESIDENCE', 'STREET', 'DRIVEWAY - RESIDENTIAL', 'RESIDENCE-GARAGE', 'ALLEY', 'STREET', 'APARTMENT', 'STREET', 'STREET', 'RESIDENCE', 'STREET', 'STREET', 'OTHER', 'POLICE FACILITY/VEH PARKING LOT', 'STREET', 'APARTMENT', 'STREET', 'STREET', 'STREET', 'SIDEWALK', 'SCHOOL, PUBLIC, BUILDING', 'APARTMENT', 'RESIDENCE', 'SIDEWALK', 'COMMERCIAL / BUSINESS OFFICE', 'RESIDENCE', 'RESIDENCE', 'LAKEFRONT/WATERFRONT/RIVERBANK', 'ALLEY', 'RESIDENCE PORCH/HALLWAY', 'SIDEWALK', 'APARTMENT', 'STREET', 'SMALL RETAIL STORE', 'RESIDENCE', 'SIDEWALK', 'GAS STATION', 'HOTEL/MOTEL', 'RESIDENCE', 'APARTMENT', 'CTA STATION', 'CTA BUS', 'SIDEWALK', 'RESIDENCE', 'RESIDENCE', 'OTHER', 'GAS STATION', 'STREET', 'POLICE FACILITY/VEH PARKING LOT', 'APARTMENT', 'SIDEWALK', 'BANK', 'APARTMENT', 'STREET', 'APARTMENT', 'STREET', 'RESIDENCE', 'BARBERSHOP', 'STREET', 'STREET', 'GROCERY FOOD STORE', 'CONVENIENCE STORE', 'RESIDENCE-GARAGE', 'SIDEWALK', 'SIDEWALK', 'OTHER', 'APARTMENT', 'STREET', 'STREET', 'STREET', 'APARTMENT', 'APARTMENT', 'RESIDENCE', 'SCHOOL, PUBLIC, GROUNDS', 'RESIDENCE', 'SIDEWALK', 'STREET', 'STREET', 'PARKING LOT/GARAGE(NON.RESID.)', 'STREET', 'AIRCRAFT', 'ALLEY', 'RESIDENCE', 'RESIDENCE', 'RESIDENCE', 'RESIDENCE', 'DRIVEWAY - RESIDENTIAL', 'STREET', 'RESIDENCE', 'RESIDENCE', 'STREET', 'STREET', 'SIDEWALK', 'PARKING LOT/GARAGE(NON.RESID.)', 'STREET', 'STREET', 'STREET', 'APARTMENT', 'SIDEWALK', 'STREET', 'SIDEWALK', 'SIDEWALK', 'FEDERAL BUILDING', 'HOTEL/MOTEL', 'SCHOOL, PUBLIC, GROUNDS', 'APARTMENT', 'RESIDENCE', 'HOTEL/MOTEL', 'STREET', 'RESIDENCE', 'STREET', 'SIDEWALK', 'APARTMENT', 'STREET', 'OTHER COMMERCIAL TRANSPORTATION', 'STREET', 'STREET', 'RESIDENCE', 'SIDEWALK', 'RESIDENCE', 'VEHICLE - DELIVERY TRUCK', 'STREET', 'COMMERCIAL / BUSINESS OFFICE', 'SMALL RETAIL STORE', 'APARTMENT', 'STREET', 'STREET', 'STREET', 'RESIDENCE', 'APARTMENT', 'RESIDENCE', 'RESIDENCE', 'APARTMENT', 'APARTMENT', 'STREET', 'APARTMENT', 'STREET', 'SIDEWALK', 'RESIDENCE', 'SIDEWALK', 'CHA PARKING LOT/GROUNDS', 'SMALL RETAIL STORE', 'SIDEWALK', 'STREET', 'GAS STATION', 'STREET', 'OTHER', 'RESIDENCE', 'RESIDENCE', 'RESIDENCE', 'RESIDENCE-GARAGE', 'STREET', 'SIDEWALK', 'APARTMENT', 'APARTMENT', 'RESIDENCE', 'APARTMENT', 'STREET', 'RESIDENCE', 'APARTMENT', 'CTA BUS', 'RESIDENCE', 'STREET', 'ALLEY', 'STREET', 'STREET', 'STREET', 'STREET', 'STREET', 'RESIDENCE', 'SIDEWALK', 'STREET', 'RESIDENCE', 'STREET', 'STREET', 'STREET', 'STREET', 'RESIDENCE', 'SIDEWALK', 'STREET', 'AIRPORT BUILDING NON-TERMINAL - SECURE AREA', 'APARTMENT', 'RESIDENCE-GARAGE', 'RESIDENCE-GARAGE', 'HOSPITAL BUILDING/GROUNDS', 'RESIDENCE', 'RESIDENCE', 'STREET', 'OTHER', 'POLICE FACILITY/VEH PARKING LOT', 'RESIDENCE', 'RESIDENCE', 'RESIDENCE', 'BAR OR TAVERN', 'APARTMENT', 'RESTAURANT', 'SIDEWALK', 'STREET', 'RESTAURANT', 'STREET', 'HOSPITAL BUILDING/GROUNDS', 'CTA BUS STOP', 'SIDEWALK', 'APARTMENT', 'SIDEWALK', 'SCHOOL, PRIVATE, GROUNDS', 'DRIVEWAY - RESIDENTIAL', 'SIDEWALK', 'BANK', 'STREET', 'STREET', 'APARTMENT', 'RESIDENCE', 'CTA TRAIN', 'DEPARTMENT STORE', 'STREET', 'SIDEWALK', 'SIDEWALK', 'RESTAURANT', 'SIDEWALK', 'CTA STATION', 'RESIDENCE', 'CTA TRAIN', 'DEPARTMENT STORE', 'RESIDENCE-GARAGE', 'STREET', 'APARTMENT', 'PARKING LOT/GARAGE(NON.RESID.)', 'SMALL RETAIL STORE', 'APARTMENT', 'RESIDENCE', 'RESIDENCE', 'VEHICLE NON-COMMERCIAL', 'APARTMENT', 'APARTMENT', 'APARTMENT', 'STREET', 'RESIDENCE-GARAGE', 'RESIDENCE', 'HOTEL/MOTEL', 'RESIDENTIAL YARD (FRONT/BACK)', 'RESIDENCE-GARAGE', 'FACTORY/MANUFACTURING BUILDING', 'STREET', 'VEHICLE NON-COMMERCIAL', 'APARTMENT', 'STREET', 'DRIVEWAY - RESIDENTIAL', 'APARTMENT', 'OTHER', 'STREET', 'RESIDENCE', 'RESIDENCE PORCH/HALLWAY', 'APARTMENT', 'ALLEY', 'PARKING LOT/GARAGE(NON.RESID.)', 'STREET', 'COMMERCIAL / BUSINESS OFFICE', 'APARTMENT', 'SCHOOL, PRIVATE, BUILDING', 'APARTMENT', 'RESIDENCE', 'GROCERY FOOD STORE', 'RESIDENCE', 'RESIDENCE-GARAGE', 'SIDEWALK', 'RESIDENCE', 'APARTMENT', 'STREET', 'CHA APARTMENT', 'SIDEWALK', 'APARTMENT', 'RESIDENCE', 'STREET', 'SCHOOL, PUBLIC, BUILDING', 'RESIDENCE', 'RESIDENCE', 'PARK PROPERTY', 'SIDEWALK', 'SIDEWALK', 'RESTAURANT', 'STREET', 'APARTMENT', 'PARKING LOT/GARAGE(NON.RESID.)', 'PARKING LOT/GARAGE(NON.RESID.)', 'STREET', 'SIDEWALK', 'STREET'], 11: ['RESIDENCE', 'RESIDENCE', 'VACANT LOT/LAND', 'APARTMENT', 'GROCERY FOOD STORE', 'APARTMENT', 'STREET', 'APARTMENT', 'RESIDENTIAL YARD (FRONT/BACK)', 'RESIDENCE', 'SIDEWALK', 'STREET', 'STREET', 'STREET', 'STREET', 'RESIDENCE', 'RESIDENCE', 'APARTMENT', 'STREET', 'RESIDENCE-GARAGE', 'SIDEWALK', 'SMALL RETAIL STORE', 'APARTMENT', 'APARTMENT', 'APARTMENT', 'APARTMENT', 'APARTMENT', 'VEHICLE NON-COMMERCIAL', 'STREET', 'OTHER RAILROAD PROP / TRAIN DEPOT', 'VEHICLE NON-COMMERCIAL', 'CTA TRAIN', 'STREET', 'CTA PLATFORM', 'SIDEWALK', 'SCHOOL, PUBLIC, BUILDING', 'RESTAURANT', 'RESIDENCE', 'APARTMENT', 'STREET', 'RESIDENCE', 'CTA BUS', 'APARTMENT', 'STREET', 'RESIDENCE', 'RESIDENCE', 'PARKING LOT/GARAGE(NON.RESID.)', 'CONVENIENCE STORE', 'DRUG STORE', 'PARKING LOT/GARAGE(NON.RESID.)', 'STREET', 'APARTMENT', 'STREET', 'RESIDENCE', 'STREET', 'STREET', 'APARTMENT', 'STREET', 'APARTMENT', 'SIDEWALK', 'SIDEWALK', 'STREET', 'APARTMENT', 'RESIDENTIAL YARD (FRONT/BACK)', 'RESIDENCE', 'STREET', 'APARTMENT', 'STREET', 'STREET', '', 'FACTORY/MANUFACTURING BUILDING', 'STREET', 'RESIDENCE', 'OTHER', 'VEHICLE NON-COMMERCIAL', 'APARTMENT', 'RESTAURANT', 'STREET', 'ALLEY', 'OTHER', 'CHA PARKING LOT/GROUNDS', 'ALLEY', 'SIDEWALK', 'STREET', 'APARTMENT', 'STREET', 'PARKING LOT/GARAGE(NON.RESID.)', 'PARK PROPERTY', 'DEPARTMENT STORE', 'RESIDENCE', 'SIDEWALK', 'RESIDENCE', 'SIDEWALK', 'STREET', 'STREET', 'RESIDENCE PORCH/HALLWAY', 'STREET', 'SCHOOL, PUBLIC, BUILDING', 'RESIDENCE-GARAGE', 'STREET', 'OTHER', 'APARTMENT', 'APARTMENT', 'ALLEY', 'RESIDENCE', 'APARTMENT', 'APARTMENT', 'RESIDENCE', 'APARTMENT', 'RESIDENCE', 'PARKING LOT/GARAGE(NON.RESID.)', 'SCHOOL, PUBLIC, BUILDING', 'GAS STATION', 'STREET', 'HOTEL/MOTEL', 'STREET', 'APARTMENT', 'STREET', 'RESIDENCE', 'RESIDENCE', 'RESIDENCE PORCH/HALLWAY', 'APARTMENT', 'APARTMENT', 'RESIDENCE', 'RESIDENCE', 'VEHICLE NON-COMMERCIAL', 'SMALL RETAIL STORE', 'APARTMENT', 'AIRCRAFT', 'PARKING LOT/GARAGE(NON.RESID.)', 'STREET', 'SIDEWALK', 'ALLEY', 'GAS STATION', 'APARTMENT', 'RESIDENCE', 'STREET', 'RESIDENCE-GARAGE', 'APARTMENT', 'SIDEWALK', 'RESIDENCE', 'SIDEWALK', 'SMALL RETAIL STORE', 'RESIDENCE', 'STREET', 'RESIDENCE', 'STREET', 'BAR OR TAVERN', 'STREET', 'SIDEWALK', 'PARKING LOT/GARAGE(NON.RESID.)', 'STREET', 'STREET', 'RESIDENCE-GARAGE', 'OTHER', 'HOTEL/MOTEL', 'PARKING LOT/GARAGE(NON.RESID.)', 'APARTMENT', 'STREET', 'RESIDENCE', 'RESIDENTIAL YARD (FRONT/BACK)', 'RESIDENCE', 'RESIDENTIAL YARD (FRONT/BACK)', 'APARTMENT', 'PARKING LOT/GARAGE(NON.RESID.)', 'APARTMENT', 'STREET', 'STREET', 'APARTMENT', 'SIDEWALK', 'RESIDENCE', 'RESIDENCE', 'STREET', 'RESIDENCE', 'CTA TRAIN', 'SMALL RETAIL STORE', 'APARTMENT', 'STREET', 'RESTAURANT', 'RESIDENCE', 'RESIDENCE-GARAGE', 'SMALL RETAIL STORE', 'RESIDENCE', 'RESIDENTIAL YARD (FRONT/BACK)', 'STREET', 'ALLEY', 'VACANT LOT/LAND', 'RESIDENTIAL YARD (FRONT/BACK)', 'ALLEY', 'SIDEWALK', 'RESIDENCE', 'APARTMENT', 'STREET', 'SIDEWALK', 'APARTMENT', 'SIDEWALK', 'BANK', 'APARTMENT', 'PARKING LOT/GARAGE(NON.RESID.)', 'APARTMENT', 'STREET', 'RESIDENCE', 'STREET', 'PARKING LOT/GARAGE(NON.RESID.)', 'TAXICAB', 'OTHER', 'PARKING LOT/GARAGE(NON.RESID.)', 'STREET', 'STREET', 'RESIDENCE', 'RESIDENCE', 'APARTMENT', 'APARTMENT', 'SCHOOL, PUBLIC, BUILDING', 'RESIDENCE', 'STREET', 'SIDEWALK', 'STREET', 'RESIDENCE', 'RESIDENCE', 'RESIDENCE', 'STREET', 'VEHICLE - DELIVERY TRUCK', 'RESIDENCE', 'RESIDENCE', 'APARTMENT', 'STREET', 'SIDEWALK', 'SMALL RETAIL STORE', 'RESIDENCE', 'RESIDENCE', 'APARTMENT', 'SCHOOL, PUBLIC, BUILDING', 'RESIDENCE', 'STREET', 'STREET', 'SIDEWALK', 'RESTAURANT', 'ABANDONED BUILDING', 'RESTAURANT', 'SMALL RETAIL STORE', 'RESIDENCE PORCH/HALLWAY', 'STREET', 'BAR OR TAVERN', 'RESIDENCE', 'APARTMENT', 'BAR OR TAVERN', 'SCHOOL, PUBLIC, BUILDING', 'STREET', 'RESIDENCE', 'SCHOOL, PUBLIC, BUILDING', 'STREET', 'HOTEL/MOTEL', 'OTHER', 'STREET', 'DEPARTMENT STORE', 'PARKING LOT/GARAGE(NON.RESID.)', 'ALLEY', 'SMALL RETAIL STORE', 'RESIDENCE', 'VEHICLE-COMMERCIAL', 'APARTMENT', 'CTA TRAIN', 'CTA BUS STOP', 'APARTMENT', 'STREET', 'VACANT LOT/LAND', 'STREET', 'OTHER', 'CTA STATION', 'APARTMENT', 'STREET', 'APARTMENT', 'APARTMENT', 'RESTAURANT', 'GAS STATION', 'APARTMENT', 'APARTMENT', 'DRUG STORE', 'APARTMENT', 'RESIDENCE-GARAGE', 'APARTMENT', 'APARTMENT', 'OTHER', 'HOTEL/MOTEL', 'SMALL RETAIL STORE', 'OTHER', 'RESIDENCE PORCH/HALLWAY', 'SIDEWALK', 'GOVERNMENT BUILDING/PROPERTY', 'STREET', 'RESIDENCE', 'RESIDENCE', 'RESTAURANT', 'RESIDENCE-GARAGE', 'CHA APARTMENT', 'PARKING LOT/GARAGE(NON.RESID.)', 'RESIDENCE', 'GROCERY FOOD STORE', 'STREET', 'DEPARTMENT STORE', 'RESIDENCE PORCH/HALLWAY', 'RESIDENCE', 'APARTMENT', 'RESIDENCE', 'STREET', 'DEPARTMENT STORE', 'GAS STATION', 'PARK PROPERTY', 'CTA TRAIN', 'VEHICLE NON-COMMERCIAL', 'RESIDENCE', 'STREET', 'OTHER', 'GAS STATION', 'RESIDENCE', 'STREET', 'OTHER', 'SIDEWALK', 'GAS STATION', 'OTHER', 'STREET', 'STREET', 'STREET', 'SMALL RETAIL STORE', 'STREET', 'APARTMENT', 'APARTMENT', 'STREET', 'RESIDENCE', 'HOTEL/MOTEL', 'SMALL RETAIL STORE', 'RESIDENCE', 'RESIDENCE', 'SMALL RETAIL STORE', 'APARTMENT', 'RESIDENCE', 'DEPARTMENT STORE', 'WAREHOUSE', 'STREET', 'APARTMENT', 'RESIDENCE', 'STREET', 'STREET', 'DRUG STORE', 'GROCERY FOOD STORE', 'RESIDENCE', 'RESIDENCE', 'PARKING LOT/GARAGE(NON.RESID.)', 'SIDEWALK', 'APARTMENT', 'SIDEWALK', 'APARTMENT', 'STREET', 'RESIDENCE', 'STREET', 'SCHOOL, PUBLIC, BUILDING', 'RESIDENCE', 'STREET', 'STREET', 'RESTAURANT', 'RESIDENCE', 'SIDEWALK', 'STREET', 'SIDEWALK', 'CTA TRAIN', 'CTA BUS STOP', 'STREET', 'PARKING LOT/GARAGE(NON.RESID.)', 'APARTMENT', 'SIDEWALK', 'APARTMENT', 'ALLEY', 'RESIDENCE', 'SMALL RETAIL STORE', 'RESIDENCE', 'SIDEWALK', 'STREET', 'ALLEY', 'OTHER', 'STREET', 'RESIDENCE', 'HOSPITAL BUILDING/GROUNDS', 'AIRPORT EXTERIOR - NON-SECURE AREA', 'SIDEWALK', 'STREET', 'GROCERY FOOD STORE', 'STREET', 'OTHER', 'GROCERY FOOD STORE', 'RESIDENCE-GARAGE', 'STREET', 'RESIDENCE', 'RESIDENCE', 'RESIDENCE PORCH/HALLWAY', 'STREET', 'STREET', 'HOTEL/MOTEL', 'STREET', 'STREET', 'BAR OR TAVERN', 'APARTMENT', 'ALLEY', 'DEPARTMENT STORE', 'APARTMENT', 'RESIDENCE', 'GAS STATION', 'APARTMENT', 'RESIDENCE', 'OTHER', 'APARTMENT', 'BANK', 'RESTAURANT', 'RESIDENCE', 'STREET', 'STREET', 'RESIDENCE', 'PARKING LOT/GARAGE(NON.RESID.)', 'APARTMENT', 'STREET', 'ALLEY', 'RESIDENCE', 'APARTMENT', 'SIDEWALK', 'RESIDENTIAL YARD (FRONT/BACK)', 'SIDEWALK', 'RESTAURANT', 'SCHOOL, PUBLIC, BUILDING', 'APARTMENT', 'OTHER', 'RESIDENCE', 'RESIDENCE-GARAGE', 'CTA BUS STOP', 'RESIDENCE', 'PARKING LOT/GARAGE(NON.RESID.)', 'CTA TRAIN', 'NURSING HOME/RETIREMENT HOME', 'RESIDENCE', 'APARTMENT', 'COMMERCIAL / BUSINESS OFFICE', 'LIBRARY', 'RESIDENCE PORCH/HALLWAY', 'ATM (AUTOMATIC TELLER MACHINE)', 'OTHER', 'OTHER', 'STREET', 'STREET', 'RESIDENCE PORCH/HALLWAY', 'STREET', 'APARTMENT', 'RESIDENCE', 'SCHOOL, PUBLIC, BUILDING', 'APARTMENT', 'STREET', 'DEPARTMENT STORE', 'STREET', 'RESIDENCE', 'STREET', 'STREET', 'ATHLETIC CLUB', 'SMALL RETAIL STORE', 'SIDEWALK', 'APARTMENT', 'STREET', 'APARTMENT', 'STREET', 'RESIDENCE', 'OTHER', 'RESIDENCE-GARAGE', 'RESIDENCE', 'SIDEWALK', 'STREET', 'AIRPORT TERMINAL UPPER LEVEL - SECURE AREA', 'APARTMENT', 'SMALL RETAIL STORE', 'APARTMENT', 'STREET', 'SIDEWALK', 'APARTMENT', 'RESIDENTIAL YARD (FRONT/BACK)', 'OTHER', 'RESTAURANT', 'RESIDENCE', 'RESIDENCE', 'GROCERY FOOD STORE', 'OTHER', 'RESIDENCE', 'RESIDENCE', 'SIDEWALK', 'OTHER', 'STREET', 'AUTO', 'APARTMENT', 'RESIDENTIAL YARD (FRONT/BACK)', 'SIDEWALK', 'CONVENIENCE STORE', 'GROCERY FOOD STORE', 'RESIDENCE', 'RESIDENCE-GARAGE', 'STREET', 'APARTMENT', 'STREET', 'RESIDENCE', 'ALLEY', 'STREET', 'RESTAURANT', 'RESIDENCE', 'STREET', '', 'STREET', 'STREET', 'SIDEWALK', 'GROCERY FOOD STORE', 'STREET', 'RESIDENCE-GARAGE', 'GAS STATION', 'CTA TRAIN', 'STREET', 'APARTMENT', 'GROCERY FOOD STORE', 'OTHER', 'STREET', 'CTA BUS', 'RESIDENCE', 'STREET', 'SIDEWALK', 'STREET', 'STREET', 'BAR OR TAVERN', 'COMMERCIAL / BUSINESS OFFICE', 'STREET', 'RESTAURANT', 'DEPARTMENT STORE', 'APARTMENT', 'STREET', 'RESIDENCE', 'APARTMENT', 'RESIDENCE', 'SIDEWALK', 'STREET', 'SIDEWALK', 'RESIDENCE', 'RESIDENCE', 'RESIDENCE', 'RESIDENCE', 'RESIDENCE', 'RESIDENCE', 'STREET', 'PARKING LOT/GARAGE(NON.RESID.)', 'CTA BUS', 'APARTMENT', 'HIGHWAY/EXPRESSWAY', 'APARTMENT', 'PARKING LOT/GARAGE(NON.RESID.)', 'SIDEWALK', 'APARTMENT', 'OTHER', 'APARTMENT', 'STREET', 'STREET', 'SIDEWALK', 'COMMERCIAL / BUSINESS OFFICE', 'STREET', 'RESTAURANT', 'PARKING LOT/GARAGE(NON.RESID.)', 'DEPARTMENT STORE', 'STREET', 'SCHOOL, PUBLIC, BUILDING', 'APARTMENT', 'APARTMENT', 'STREET', 'RESIDENCE', 'STREET', 'APARTMENT', 'STREET', 'APARTMENT', 'APARTMENT', 'STREET', 'STREET', 'STREET', 'APARTMENT', 'STREET', 'STREET', 'STREET', 'APARTMENT', 'STREET', 'STREET', 'RESIDENCE', 'STREET', 'STREET', 'SPORTS ARENA/STADIUM', 'RESTAURANT', 'APARTMENT', 'STREET', 'RESIDENCE', 'RESIDENCE', 'RESIDENCE-GARAGE', 'RESIDENCE', 'SIDEWALK', 'ALLEY', 'STREET', 'RESIDENCE', 'RESIDENCE', 'RESIDENCE', 'APARTMENT', 'AIRPORT PARKING LOT', 'RESIDENCE PORCH/HALLWAY', 'SCHOOL, PUBLIC, BUILDING', 'RESIDENCE', 'STREET', 'SMALL RETAIL STORE', 'APARTMENT', 'GROCERY FOOD STORE', 'POLICE FACILITY/VEH PARKING LOT', 'RESIDENCE', 'CTA STATION', 'STREET', 'APARTMENT', 'APARTMENT', 'DRUG STORE', 'RESIDENCE', 'PARKING LOT/GARAGE(NON.RESID.)', 'OTHER', 'DEPARTMENT STORE', 'RESIDENTIAL YARD (FRONT/BACK)', 'APARTMENT', 'RESIDENCE', 'PARKING LOT/GARAGE(NON.RESID.)', 'RESIDENTIAL YARD (FRONT/BACK)', 'STREET', 'APARTMENT', 'OTHER', 'PARKING LOT/GARAGE(NON.RESID.)', 'SIDEWALK', 'APARTMENT', 'STREET', 'RESIDENCE', 'APARTMENT', 'RESTAURANT', 'APARTMENT', 'ATHLETIC CLUB', 'APARTMENT', 'STREET', 'APARTMENT', 'APARTMENT', 'RESIDENCE', 'SMALL RETAIL STORE', 'SIDEWALK', 'SMALL RETAIL STORE', 'RESIDENCE', 'OTHER', 'STREET', 'STREET', 'COMMERCIAL / BUSINESS OFFICE', 'APARTMENT', 'APARTMENT', 'SIDEWALK', 'RESTAURANT', 'STREET', 'PARKING LOT/GARAGE(NON.RESID.)', 'STREET', 'ALLEY', 'STREET', 'RESIDENCE', 'APARTMENT', 'RESIDENCE', 'BAR OR TAVERN', 'RESIDENCE', 'STREET', 'HOUSE', 'STREET', 'RESIDENCE-GARAGE', 'RESIDENCE', 'RESIDENCE', 'APARTMENT', 'STREET', 'RESIDENCE PORCH/HALLWAY', 'PARKING LOT/GARAGE(NON.RESID.)', 'SIDEWALK', 'RESIDENCE', 'RESIDENCE', 'RESIDENCE-GARAGE', 'STREET', 'STREET', 'RESIDENCE', 'RESIDENCE-GARAGE', 'PARK PROPERTY', 'RESIDENCE', 'ALLEY', 'SIDEWALK', 'CTA BUS', 'STREET', 'APARTMENT', 'GAS STATION', 'RESIDENCE PORCH/HALLWAY', 'SIDEWALK', 'RESIDENCE', 'RESIDENCE-GARAGE', 'DRUG STORE', 'STREET', 'SIDEWALK', 'APARTMENT', 'APARTMENT', 'APARTMENT', 'SIDEWALK', 'CONVENIENCE STORE', 'DEPARTMENT STORE', 'APARTMENT', 'SMALL RETAIL STORE', 'STREET', 'APARTMENT', 'STREET', 'APARTMENT', 'BANK', 'STREET', 'RESIDENCE', 'PARKING LOT/GARAGE(NON.RESID.)', 'APARTMENT', 'STREET', 'SIDEWALK', 'STREET', 'APARTMENT', 'JAIL / LOCK-UP FACILITY', 'APARTMENT', 'APARTMENT', 'RESIDENCE', 'APARTMENT', 'STREET', 'PARKING LOT/GARAGE(NON.RESID.)', 'APARTMENT', 'STREET', 'LIBRARY', 'ALLEY', 'RESIDENCE', 'RESIDENCE', 'RESIDENCE', 'RESIDENCE', 'RESIDENCE', 'CONVENIENCE STORE', 'STREET', 'STREET', 'STREET', 'RESIDENCE', 'APARTMENT', 'AIRPORT PARKING LOT', 'STREET', 'SIDEWALK', 'CTA TRAIN', 'STREET', 'BAR OR TAVERN', 'RESIDENCE', 'PARKING LOT/GARAGE(NON.RESID.)', 'APARTMENT', 'VACANT LOT/LAND', 'STREET', 'SCHOOL, PUBLIC, BUILDING', 'SIDEWALK', 'RESIDENCE', 'SCHOOL, PRIVATE, BUILDING', 'APARTMENT', 'OTHER', 'STREET', 'RESIDENCE', 'RESIDENCE PORCH/HALLWAY', 'RESIDENCE', 'SCHOOL, PUBLIC, BUILDING', 'RESIDENTIAL YARD (FRONT/BACK)', 'CHA APARTMENT', 'VEHICLE NON-COMMERCIAL', 'GROCERY FOOD STORE', 'RESTAURANT', 'SIDEWALK', 'RESIDENCE', 'STREET', 'PARKING LOT/GARAGE(NON.RESID.)', 'DEPARTMENT STORE', 'STREET', 'APARTMENT', 'STREET', 'STREET', 'OTHER', 'STREET', 'COMMERCIAL / BUSINESS OFFICE', 'SIDEWALK', 'APARTMENT', 'RESIDENCE', 'RESIDENCE', 'MOVIE HOUSE/THEATER', 'RESIDENCE', 'RESTAURANT', 'STREET', 'RESIDENCE', 'DEPARTMENT STORE', 'CTA BUS', 'STREET', 'STREET', 'RESIDENCE', 'CTA STATION', 'APARTMENT', 'STREET', 'DAY CARE CENTER', 'RESIDENCE', 'MOVIE HOUSE/THEATER', 'MEDICAL/DENTAL OFFICE', 'OTHER', 'RESIDENTIAL YARD (FRONT/BACK)', 'SIDEWALK', 'RESIDENCE', 'STREET', 'STREET', 'OTHER', 'SIDEWALK', 'GAS STATION', 'DEPARTMENT STORE', 'STREET', 'STREET', 'PARKING LOT/GARAGE(NON.RESID.)', 'OTHER', 'CLEANING STORE', 'STREET', 'RESIDENCE', 'PARKING LOT/GARAGE(NON.RESID.)', 'STREET', 'STREET', 'STREET', 'SIDEWALK', 'OTHER', 'SIDEWALK', 'GAS STATION', 'SIDEWALK', 'PARKING LOT/GARAGE(NON.RESID.)', 'STREET', 'SMALL RETAIL STORE', 'STREET', 'RESIDENCE', 'CTA TRAIN', 'STREET', 'STREET', 'APARTMENT', 'APARTMENT', 'APARTMENT', 'PARKING LOT/GARAGE(NON.RESID.)', 'RESIDENCE', 'APARTMENT', 'SIDEWALK', 'STREET', 'GROCERY FOOD STORE', 'STREET', 'APARTMENT', 'APARTMENT', 'SIDEWALK', 'STREET', 'SIDEWALK', 'RESIDENCE', 'CTA BUS', 'VEHICLE NON-COMMERCIAL', 'ALLEY', 'APARTMENT', 'SIDEWALK', 'RESIDENCE', 'PARKING LOT/GARAGE(NON.RESID.)', 'APARTMENT', 'APARTMENT', 'STREET', 'RESTAURANT', 'STREET', 'SMALL RETAIL STORE', 'STREET', 'STREET', 'OTHER', 'STREET', 'SIDEWALK', 'RESIDENCE', 'SMALL RETAIL STORE', 'GAS STATION', 'APARTMENT', 'APARTMENT', 'STREET', 'RESIDENCE', 'RESIDENCE', 'PARKING LOT/GARAGE(NON.RESID.)', 'OTHER', 'SIDEWALK', 'AIRPORT VENDING ESTABLISHMENT', 'APARTMENT', 'RESIDENCE', 'SIDEWALK', 'RESIDENCE', 'SCHOOL, PUBLIC, GROUNDS', 'RESIDENCE', 'STREET', 'PARKING LOT/GARAGE(NON.RESID.)', 'RESIDENCE', 'OTHER', 'RESIDENCE', 'APARTMENT', 'STREET', 'RESIDENCE-GARAGE', 'APARTMENT', 'APARTMENT', 'ALLEY', 'STREET', 'SCHOOL, PUBLIC, BUILDING', 'SIDEWALK', 'RESIDENCE', 'PARKING LOT/GARAGE(NON.RESID.)', 'APARTMENT', 'RESIDENCE', 'GROCERY FOOD STORE', 'RESIDENCE', 'STREET', 'OTHER', 'STREET', 'RESIDENCE', 'APARTMENT', 'STREET', 'STREET', 'RESIDENCE', 'OTHER', 'STREET', 'SCHOOL, PUBLIC, GROUNDS', 'STREET', 'STREET', 'STREET', 'RESIDENCE', 'SIDEWALK', 'APARTMENT', 'RESTAURANT', 'RESIDENCE', 'SMALL RETAIL STORE', 'APARTMENT', 'RESIDENCE', 'STREET', 'OTHER', 'STREET', 'STREET', 'VEHICLE-COMMERCIAL', 'DEPARTMENT STORE', 'PARK PROPERTY', 'RESIDENCE', 'RESTAURANT', 'CTA STATION', 'RESIDENCE', 'STREET', 'RESIDENCE', 'RESIDENCE', 'RESIDENCE', 'HOTEL/MOTEL', 'APARTMENT', 'SCHOOL, PRIVATE, BUILDING', 'CTA BUS', 'RESTAURANT', 'GROCERY FOOD STORE', 'STREET', 'ABANDONED BUILDING', 'RESTAURANT', 'RESIDENCE', 'APARTMENT', 'GAS STATION', 'SIDEWALK', 'APARTMENT', 'STREET', 'SCHOOL, PUBLIC, BUILDING', 'OTHER', 'RESIDENCE', 'SIDEWALK', 'RESIDENCE PORCH/HALLWAY', 'STREET', 'RESIDENTIAL YARD (FRONT/BACK)', 'STREET', 'RESIDENCE', 'PARKING LOT/GARAGE(NON.RESID.)', 'COMMERCIAL / BUSINESS OFFICE', 'STREET', 'DEPARTMENT STORE', '', 'STREET', 'STREET', 'RESIDENCE', 'RESIDENCE', 'RESTAURANT', 'RESIDENCE', 'RESIDENCE', 'APARTMENT', 'STREET', 'STREET', 'STREET', 'SIDEWALK', 'DRIVEWAY - RESIDENTIAL', 'STREET', 'RESIDENCE', 'RESIDENCE', 'RESIDENCE', 'APARTMENT', 'APARTMENT', 'BAR OR TAVERN', 'STREET', 'SMALL RETAIL STORE', 'RESIDENCE PORCH/HALLWAY', 'STREET', 'RESIDENCE', 'RESIDENCE-GARAGE', 'STREET', 'STREET', 'RESIDENCE', 'STREET', 'PARKING LOT/GARAGE(NON.RESID.)', 'RESIDENCE', 'SMALL RETAIL STORE', 'OTHER', 'STREET', 'SCHOOL, PUBLIC, BUILDING', 'STREET', 'RESTAURANT', 'STREET', 'STREET', 'RESIDENCE-GARAGE', 'GROCERY FOOD STORE', 'STREET', 'CHA PARKING LOT/GROUNDS', 'RESTAURANT', 'SIDEWALK', 'SIDEWALK', 'PARKING LOT/GARAGE(NON.RESID.)', 'SIDEWALK', 'SCHOOL, PUBLIC, BUILDING'], 8: ['RESIDENCE', 'APARTMENT', 'PARKING LOT/GARAGE(NON.RESID.)', 'STREET', 'STREET', 'RESIDENCE', 'APARTMENT', 'STREET', 'STREET', 'APARTMENT', 'APARTMENT', 'SIDEWALK', 'CTA TRAIN', 'STREET', 'OTHER', 'VEHICLE NON-COMMERCIAL', 'VEHICLE NON-COMMERCIAL', 'BAR OR TAVERN', 'STREET', 'STREET', 'COMMERCIAL / BUSINESS OFFICE', 'STREET', 'SMALL RETAIL STORE', 'SCHOOL, PUBLIC, BUILDING', 'RESIDENCE', 'RESIDENCE', 'VEHICLE NON-COMMERCIAL', 'STREET', 'STREET', 'ATHLETIC CLUB', 'RESIDENCE', 'RESIDENTIAL YARD (FRONT/BACK)', 'OTHER', 'SCHOOL, PUBLIC, BUILDING', 'STREET', 'RESIDENCE', 'SMALL RETAIL STORE', 'RESIDENCE', 'RESIDENCE', 'RESIDENTIAL YARD (FRONT/BACK)', 'SIDEWALK', 'RESIDENCE', 'RESIDENTIAL YARD (FRONT/BACK)', 'STREET', 'RESIDENCE', 'APARTMENT', 'PARKING LOT/GARAGE(NON.RESID.)', 'STREET', 'RESIDENTIAL YARD (FRONT/BACK)', 'APARTMENT', 'RESIDENCE', 'OTHER', 'CTA TRAIN', 'SMALL RETAIL STORE', 'SIDEWALK', 'GROCERY FOOD STORE', 'GOVERNMENT BUILDING/PROPERTY', 'SIDEWALK', 'RESIDENCE', 'PARKING LOT/GARAGE(NON.RESID.)', 'CTA BUS STOP', 'APARTMENT', 'APARTMENT', 'STREET', 'RESIDENCE', 'STREET', 'SIDEWALK', 'APARTMENT', 'SIDEWALK', 'SMALL RETAIL STORE', 'STREET', 'RESIDENTIAL YARD (FRONT/BACK)', 'STREET', 'PARK PROPERTY', 'APARTMENT', 'RESIDENTIAL YARD (FRONT/BACK)', 'CONVENIENCE STORE', 'CTA TRAIN', 'VEHICLE - OTHER RIDE SERVICE', 'RESIDENCE', 'RESIDENCE', 'HOSPITAL BUILDING/GROUNDS', 'OTHER', 'GROCERY FOOD STORE', 'CTA STATION', '', 'STREET', 'COMMERCIAL / BUSINESS OFFICE', 'RESIDENCE', 'STREET', 'STREET', 'SIDEWALK', 'RESIDENCE', 'STREET', 'STREET', 'RESIDENTIAL YARD (FRONT/BACK)', 'RESIDENCE', 'RESIDENCE PORCH/HALLWAY', 'SIDEWALK', 'ALLEY', 'RESIDENCE', 'RESIDENTIAL YARD (FRONT/BACK)', 'STREET', 'SIDEWALK', 'RESIDENCE PORCH/HALLWAY', 'STREET', 'APARTMENT', 'APARTMENT', 'RESIDENCE', 'APARTMENT', 'RESIDENCE', 'RESIDENCE', 'STREET', 'RESTAURANT', 'PARKING LOT/GARAGE(NON.RESID.)', 'RESIDENCE', 'SIDEWALK', 'APARTMENT', 'RESIDENCE', 'DEPARTMENT STORE', 'SIDEWALK', 'RESIDENCE', 'PARK PROPERTY', 'RESIDENCE', 'STREET', 'RESIDENCE PORCH/HALLWAY', 'RESIDENTIAL YARD (FRONT/BACK)', 'RESIDENTIAL YARD (FRONT/BACK)', 'ALLEY', 'SIDEWALK', 'STREET', 'STREET', 'RESIDENTIAL YARD (FRONT/BACK)', 'STREET', 'SIDEWALK', 'RESIDENCE', 'DAY CARE CENTER', 'SIDEWALK', 'RESIDENTIAL YARD (FRONT/BACK)', 'RESIDENCE', 'APARTMENT', 'RESIDENCE', 'RESTAURANT', 'APARTMENT', 'RESIDENTIAL YARD (FRONT/BACK)', 'VEHICLE NON-COMMERCIAL', 'RESIDENCE', 'RESIDENCE', 'STREET', 'SIDEWALK', 'CHA APARTMENT', 'SIDEWALK', 'RESIDENCE', 'COMMERCIAL / BUSINESS OFFICE', 'HOSPITAL BUILDING/GROUNDS', 'DAY CARE CENTER', 'RESIDENCE', 'RESTAURANT', 'BARBERSHOP', 'APARTMENT', 'RESIDENCE', 'RESIDENCE-GARAGE', 'RESIDENCE', 'RESIDENCE', 'STREET', 'STREET', 'RESIDENCE', 'STREET', 'VEHICLE NON-COMMERCIAL', 'SIDEWALK', 'OTHER', 'APARTMENT', 'HOTEL/MOTEL', 'STREET', 'VEHICLE NON-COMMERCIAL', 'SIDEWALK', 'APARTMENT', 'OTHER', 'RESIDENCE', 'RESIDENCE', 'STREET', 'STREET', 'OTHER', 'CONVENIENCE STORE', 'SMALL RETAIL STORE', 'RESIDENCE-GARAGE', 'STREET', 'STREET', 'SMALL RETAIL STORE', 'RESIDENCE', 'STREET', 'RESIDENCE', 'RESIDENCE', 'SIDEWALK', 'SIDEWALK', 'COMMERCIAL / BUSINESS OFFICE', 'STREET', 'STREET', 'APARTMENT', 'RESIDENCE', 'APARTMENT', 'SIDEWALK', 'STREET', 'APARTMENT', 'SIDEWALK', 'SIDEWALK', 'OTHER', 'STREET', 'RESIDENCE', 'DRIVEWAY - RESIDENTIAL', 'SMALL RETAIL STORE', 'STREET', 'SCHOOL, PUBLIC, GROUNDS', 'RESIDENCE-GARAGE', 'HOSPITAL BUILDING/GROUNDS', 'STREET', 'RESIDENCE-GARAGE', 'RESIDENCE', 'HOSPITAL BUILDING/GROUNDS', 'RESIDENCE', 'STREET', 'ALLEY', 'STREET', 'STREET', 'APARTMENT', 'SIDEWALK', 'STREET', 'STREET', 'NURSING HOME/RETIREMENT HOME', 'RESIDENCE PORCH/HALLWAY', 'SIDEWALK', 'SIDEWALK', 'APARTMENT', 'RESIDENCE', 'STREET', 'RESIDENCE', 'OTHER', 'RESIDENCE', 'APARTMENT', 'SMALL RETAIL STORE', 'RESIDENCE', 'STREET', 'VEHICLE NON-COMMERCIAL', 'BAR OR TAVERN', 'RESIDENCE-GARAGE', 'DRUG STORE', 'VEHICLE NON-COMMERCIAL', 'STREET', 'STREET', 'VEHICLE NON-COMMERCIAL', 'STREET', 'GROCERY FOOD STORE', 'STREET', 'RESIDENCE-GARAGE', 'STREET', 'COIN OPERATED MACHINE', 'STREET', 'RESIDENCE', 'GROCERY FOOD STORE', 'RESIDENCE', 'RESTAURANT', 'RESIDENCE-GARAGE', 'APARTMENT', 'BANK', 'STREET', 'STREET', 'STREET', 'DEPARTMENT STORE', 'RESIDENCE', 'DRIVEWAY - RESIDENTIAL', 'OTHER', 'VEHICLE NON-COMMERCIAL', 'RESIDENCE', 'APARTMENT', 'CTA STATION', 'STREET', 'SIDEWALK', 'SIDEWALK', 'RESIDENCE', 'SIDEWALK', 'RESIDENCE-GARAGE', 'SMALL RETAIL STORE', 'RESIDENCE', 'RESIDENCE', 'SIDEWALK', 'GROCERY FOOD STORE', 'RESIDENCE', 'RESIDENCE', 'RESIDENCE', 'RESIDENCE', 'RESIDENTIAL YARD (FRONT/BACK)', 'BARBERSHOP', 'RESIDENCE', 'STREET', 'OTHER', 'STREET', 'STREET', 'RESIDENCE', 'GROCERY FOOD STORE', 'RESIDENCE', 'RESIDENCE PORCH/HALLWAY', 'PARKING LOT/GARAGE(NON.RESID.)', 'STREET', 'OTHER', 'RESIDENCE', 'GAS STATION', 'RESIDENCE PORCH/HALLWAY', 'RESIDENCE', 'RESIDENCE', 'BAR OR TAVERN', 'STREET', 'DEPARTMENT STORE', 'RESIDENCE-GARAGE', 'VEHICLE NON-COMMERCIAL', 'RESIDENCE', 'RESIDENCE-GARAGE', 'RESTAURANT', 'STREET', 'RESIDENCE', 'RESIDENCE', 'APARTMENT', 'APARTMENT', 'APARTMENT', 'RESTAURANT', 'RESIDENCE PORCH/HALLWAY', 'CLEANING STORE', 'HOSPITAL BUILDING/GROUNDS', 'RESIDENCE', 'SIDEWALK', 'PARK PROPERTY', 'STREET', 'STREET', 'RESIDENTIAL YARD (FRONT/BACK)', 'STREET', 'DEPARTMENT STORE', 'PARK PROPERTY', 'RESIDENCE', 'GAS STATION', 'APARTMENT', 'GAS STATION', 'RESIDENCE-GARAGE', 'SIDEWALK', 'STREET', 'RESIDENTIAL YARD (FRONT/BACK)', 'PARKING LOT/GARAGE(NON.RESID.)', 'RESIDENCE', 'ALLEY', 'RESIDENCE', 'CHA HALLWAY/STAIRWELL/ELEVATOR', 'SIDEWALK', 'OTHER RAILROAD PROP / TRAIN DEPOT', 'MEDICAL/DENTAL OFFICE', 'STREET', 'RESIDENCE', 'SIDEWALK', 'STREET', 'APARTMENT', 'RESIDENCE', 'SIDEWALK', 'STREET', 'STREET', 'OTHER', 'STREET', 'STREET', 'PARK PROPERTY', 'STREET', 'RESIDENCE', 'APARTMENT', 'STREET', 'STREET', 'APARTMENT', 'RESIDENCE', 'SIDEWALK', 'CTA STATION', 'SIDEWALK', 'STREET', 'RESIDENCE-GARAGE', 'RESIDENCE PORCH/HALLWAY', 'APARTMENT', 'OTHER', 'VEHICLE NON-COMMERCIAL', 'VEHICLE NON-COMMERCIAL', 'CURRENCY EXCHANGE', 'DAY CARE CENTER', 'APARTMENT', 'STREET', 'PAWN SHOP', 'VEHICLE NON-COMMERCIAL', 'ALLEY', 'OTHER', 'PARKING LOT/GARAGE(NON.RESID.)', 'APARTMENT', 'APARTMENT', 'STREET', 'GAS STATION', 'DRIVEWAY - RESIDENTIAL', 'PARKING LOT/GARAGE(NON.RESID.)', 'STREET', 'SIDEWALK', 'STREET', 'AIRPORT TERMINAL LOWER LEVEL - SECURE AREA', 'SIDEWALK', 'STREET', 'SIDEWALK', 'STREET', 'RESIDENCE', 'RESIDENCE', 'BAR OR TAVERN', 'APARTMENT', 'OTHER', 'STREET', 'RESIDENCE-GARAGE', 'PARKING LOT/GARAGE(NON.RESID.)', 'RESIDENCE-GARAGE', 'RESIDENCE', 'STREET', 'COMMERCIAL / BUSINESS OFFICE', 'STREET', 'SIDEWALK', 'SIDEWALK', 'STREET', 'RESIDENCE', 'RESIDENCE', 'VEHICLE NON-COMMERCIAL', 'COMMERCIAL / BUSINESS OFFICE', 'BANK', 'SIDEWALK', 'ALLEY', 'STREET', 'SMALL RETAIL STORE', 'APARTMENT', 'RESIDENTIAL YARD (FRONT/BACK)', 'TAXICAB', 'APARTMENT', 'OTHER', 'RESIDENCE', 'SIDEWALK', 'APARTMENT', 'CONVENIENCE STORE', 'DEPARTMENT STORE', 'RESIDENCE', 'APARTMENT', 'STREET', 'STREET', 'RESIDENCE', 'SIDEWALK', 'APARTMENT', 'OTHER', 'STREET', 'RESIDENCE', 'STREET', 'PARKING LOT/GARAGE(NON.RESID.)', 'RESIDENCE', 'RESTAURANT', 'APARTMENT', 'STREET', 'STREET', 'SIDEWALK', 'SIDEWALK', 'RESIDENCE-GARAGE', 'STREET', 'STREET', 'APARTMENT', 'APARTMENT', 'GAS STATION', 'STREET', 'STREET', 'RESIDENTIAL YARD (FRONT/BACK)', 'SIDEWALK', 'STREET', 'OTHER', 'RESIDENCE', 'RESIDENCE', 'SIDEWALK', 'SIDEWALK', 'RESIDENCE', 'RESIDENCE', 'DRUG STORE', 'STREET', 'STREET', 'APARTMENT', 'DAY CARE CENTER', 'OTHER', 'APARTMENT', 'GAS STATION', 'STREET', 'SIDEWALK', 'RESIDENTIAL YARD (FRONT/BACK)', 'OTHER', 'APARTMENT', 'STREET', 'RESIDENCE', 'RESIDENCE', 'SIDEWALK', 'RESIDENCE', 'BANK', 'RESIDENTIAL YARD (FRONT/BACK)', 'STREET', 'RESIDENCE', 'CHURCH/SYNAGOGUE/PLACE OF WORSHIP', 'RESIDENCE', 'SIDEWALK', 'RESIDENCE', 'SIDEWALK', 'STREET', 'PARKING LOT/GARAGE(NON.RESID.)', 'STREET', 'STREET', 'SCHOOL, PUBLIC, GROUNDS', 'RESIDENCE', 'PARKING LOT/GARAGE(NON.RESID.)', 'RESIDENCE', 'APARTMENT', 'RESTAURANT', 'PARKING LOT/GARAGE(NON.RESID.)', 'STREET', 'RESIDENCE', 'STREET', 'STREET', 'STREET', 'APARTMENT', 'SIDEWALK', 'RESIDENCE', 'RESIDENCE', 'RESIDENCE', 'STREET', 'APARTMENT', 'SIDEWALK', 'STREET', 'SCHOOL, PUBLIC, BUILDING', 'VEHICLE NON-COMMERCIAL', 'APARTMENT', 'SMALL RETAIL STORE', 'RESIDENCE', 'VACANT LOT/LAND', 'PARKING LOT/GARAGE(NON.RESID.)', 'DRUG STORE', 'DEPARTMENT STORE', 'RESIDENCE', 'STREET', 'STREET', 'DEPARTMENT STORE', 'RESIDENCE', 'SIDEWALK', 'CHA APARTMENT', 'APARTMENT', 'SIDEWALK', 'APARTMENT', 'RESIDENCE-GARAGE', 'PARK PROPERTY', 'APARTMENT', 'RESTAURANT', 'RESIDENCE', 'APARTMENT', 'STREET', 'OTHER', 'STREET', 'VEHICLE NON-COMMERCIAL', 'RESIDENCE', 'STREET', 'RESIDENCE-GARAGE', 'GAS STATION', 'PARKING LOT/GARAGE(NON.RESID.)', 'RESIDENCE-GARAGE', 'PARKING LOT/GARAGE(NON.RESID.)', 'PARK PROPERTY', 'SMALL RETAIL STORE', 'STREET', 'RESIDENCE', 'STREET', 'OTHER', 'OTHER', 'SIDEWALK', 'RESIDENCE', 'STREET', 'OTHER RAILROAD PROP / TRAIN DEPOT', 'STREET', 'OTHER', 'RESIDENTIAL YARD (FRONT/BACK)', 'CONVENIENCE STORE', 'RESTAURANT', 'STREET', 'RESIDENCE', 'VEHICLE NON-COMMERCIAL', 'BAR OR TAVERN', 'STREET', 'STREET', 'STREET', 'RESTAURANT', 'PARK PROPERTY', 'STREET', 'STREET', 'STREET', 'CONVENIENCE STORE', 'RESIDENTIAL YARD (FRONT/BACK)', 'STREET', 'APARTMENT', 'SIDEWALK', 'RESIDENCE', 'STREET', 'APARTMENT', 'STREET', 'STREET', 'VEHICLE NON-COMMERCIAL', 'RESIDENCE', 'SIDEWALK', 'SIDEWALK', 'RESIDENCE', '', 'STREET', 'RESTAURANT', 'SMALL RETAIL STORE', 'SPORTS ARENA/STADIUM', 'STREET', 'STREET', 'SIDEWALK', 'STREET', 'RESIDENCE PORCH/HALLWAY', 'STREET', 'SMALL RETAIL STORE', 'APARTMENT', 'CTA BUS', 'BAR OR TAVERN', 'SIDEWALK', 'SIDEWALK', 'GAS STATION', 'PARKING LOT/GARAGE(NON.RESID.)', 'APARTMENT', 'APARTMENT', 'RESTAURANT', 'STREET', 'APARTMENT', 'PARKING LOT/GARAGE(NON.RESID.)', 'APARTMENT', 'STREET', 'RESIDENCE', 'STREET', 'STREET', 'VEHICLE NON-COMMERCIAL', 'APARTMENT', 'STREET', 'APARTMENT', 'STREET', 'STREET', 'STREET', 'RESTAURANT', 'RESIDENCE', 'STREET', 'ALLEY', 'APARTMENT', 'RESIDENTIAL YARD (FRONT/BACK)', 'CHA APARTMENT', 'SIDEWALK', 'ALLEY', 'STREET', 'AIRPORT TERMINAL LOWER LEVEL - SECURE AREA', 'GAS STATION', 'APARTMENT', 'SIDEWALK', 'APARTMENT', 'STREET', 'PARK PROPERTY', 'RESIDENCE', 'OTHER', 'COMMERCIAL / BUSINESS OFFICE', 'RESIDENCE PORCH/HALLWAY', 'RESIDENCE', 'PARKING LOT/GARAGE(NON.RESID.)', 'STREET', 'APARTMENT', 'STREET', 'STREET', 'RESIDENCE', 'RESIDENCE', 'STREET', 'APARTMENT', 'RESIDENTIAL YARD (FRONT/BACK)', 'STREET', 'STREET', 'STREET', 'RESIDENCE', 'APARTMENT', 'SMALL RETAIL STORE', 'STREET', 'AIRPORT PARKING LOT', 'STREET', 'APARTMENT', 'APARTMENT', 'STREET', 'SIDEWALK', 'APARTMENT', 'RESIDENTIAL YARD (FRONT/BACK)', 'STREET', 'STREET', 'ABANDONED BUILDING', 'RESIDENCE', 'GAS STATION', 'SIDEWALK', 'RESIDENCE PORCH/HALLWAY', 'HOSPITAL BUILDING/GROUNDS', 'VEHICLE NON-COMMERCIAL', 'RESIDENCE', 'PARKING LOT/GARAGE(NON.RESID.)', 'RESIDENCE', 'COMMERCIAL / BUSINESS OFFICE', 'NURSING HOME/RETIREMENT HOME', 'PARK PROPERTY', 'STREET', 'PARK PROPERTY', 'RESIDENCE', 'SIDEWALK', 'SIDEWALK', 'ALLEY', 'STREET', 'DEPARTMENT STORE', 'TAXICAB', 'STREET', 'RESIDENCE', 'APARTMENT', 'RESIDENCE', 'GAS STATION', 'VEHICLE NON-COMMERCIAL', 'OTHER', 'PARKING LOT/GARAGE(NON.RESID.)', 'STREET', 'ALLEY', 'RESIDENTIAL YARD (FRONT/BACK)', 'SIDEWALK', 'OTHER', 'APARTMENT', 'OTHER', 'STREET', 'SIDEWALK', 'POLICE FACILITY/VEH PARKING LOT', 'GROCERY FOOD STORE', 'STREET', 'STREET', 'GROCERY FOOD STORE', 'STREET', 'RESIDENTIAL YARD (FRONT/BACK)', 'DEPARTMENT STORE', 'STREET', 'STREET', 'RESIDENCE', 'STREET', 'CTA PLATFORM', 'SMALL RETAIL STORE', 'RESIDENCE', 'GOVERNMENT BUILDING/PROPERTY', 'STREET', 'STREET', 'ALLEY', 'RESIDENCE', 'SMALL RETAIL STORE', 'STREET', 'PARK PROPERTY', 'RESIDENCE', 'RESIDENCE', 'OTHER', 'ALLEY', 'RESIDENTIAL YARD (FRONT/BACK)', 'STREET', 'GAS STATION', 'STREET', 'RESIDENCE', 'RESIDENTIAL YARD (FRONT/BACK)', 'APARTMENT', 'OTHER RAILROAD PROP / TRAIN DEPOT', 'STREET', 'GROCERY FOOD STORE', 'APARTMENT', 'OTHER', 'STREET', 'CURRENCY EXCHANGE', 'RESIDENCE', 'STREET', 'CTA TRAIN', 'RESIDENCE', 'WAREHOUSE', 'NURSING HOME/RETIREMENT HOME', 'PARKING LOT/GARAGE(NON.RESID.)', 'RESIDENTIAL YARD (FRONT/BACK)', 'STREET', 'STREET', 'RESIDENTIAL YARD (FRONT/BACK)', 'APARTMENT', 'STREET', 'RESIDENCE', 'RESIDENCE', 'ALLEY', 'STREET', 'SMALL RETAIL STORE', 'SIDEWALK', 'SMALL RETAIL STORE', 'ALLEY', 'APARTMENT', 'SIDEWALK', 'APARTMENT', 'RESIDENTIAL YARD (FRONT/BACK)', 'PARKING LOT/GARAGE(NON.RESID.)', 'STREET', 'STREET', 'OTHER', 'YARD', 'STREET', 'NURSING HOME/RETIREMENT HOME', 'DRUG STORE', 'RESIDENCE', 'STREET', 'RESIDENCE PORCH/HALLWAY', 'SIDEWALK', 'STREET', 'RESIDENCE', 'DEPARTMENT STORE', 'ALLEY', 'PARK PROPERTY', 'SMALL RETAIL STORE', 'BANK', 'STREET', 'RESIDENCE PORCH/HALLWAY', 'STREET', 'CHA PARKING LOT/GROUNDS', 'SIDEWALK', 'PARKING LOT/GARAGE(NON.RESID.)', 'RESIDENCE', 'RESIDENCE', 'PARKING LOT/GARAGE(NON.RESID.)', 'APARTMENT', 'SIDEWALK', 'APARTMENT', 'GAS STATION', 'SIDEWALK', 'OTHER', 'RESIDENCE', 'RESIDENCE', 'SMALL RETAIL STORE', 'RESIDENCE', 'STREET', 'STREET', 'APARTMENT', 'APARTMENT', 'ALLEY', 'STREET', 'RESTAURANT', 'STREET', 'RESIDENCE-GARAGE', 'STREET', 'STREET', 'APARTMENT', 'STREET', 'ALLEY', 'APARTMENT', 'ALLEY', 'RESIDENCE', 'RESIDENCE', 'APARTMENT', 'STREET', 'ALLEY', 'APARTMENT', 'VEHICLE NON-COMMERCIAL', 'RESIDENCE PORCH/HALLWAY', 'RESIDENTIAL YARD (FRONT/BACK)', 'OTHER', 'VACANT LOT/LAND', 'APARTMENT', 'APARTMENT', 'PARKING LOT/GARAGE(NON.RESID.)', 'STREET', 'OTHER', 'APARTMENT', 'RESIDENCE', 'RESIDENCE', 'STREET', 'STREET', 'RESIDENCE', 'RESIDENCE', 'RESIDENCE PORCH/HALLWAY', 'STREET', 'RESIDENCE-GARAGE', 'ALLEY', 'RESIDENCE', 'SIDEWALK', 'STREET', 'BANK', 'STREET', 'RESIDENCE-GARAGE', 'RESIDENCE', 'APARTMENT', 'RESTAURANT', 'APARTMENT', 'RESIDENCE', 'RESIDENCE', 'SIDEWALK', 'RESIDENCE-GARAGE', 'PARK PROPERTY', 'RESIDENCE', 'APARTMENT', 'APARTMENT', 'SIDEWALK', 'PARKING LOT/GARAGE(NON.RESID.)', 'APARTMENT', 'DEPARTMENT STORE', 'RESTAURANT', 'APARTMENT', 'STREET', 'OTHER', 'RESIDENCE', 'SIDEWALK', 'SIDEWALK', 'BAR OR TAVERN', 'SIDEWALK', 'STREET', 'SIDEWALK', 'APARTMENT', 'RESIDENCE-GARAGE', 'PARKING LOT/GARAGE(NON.RESID.)', 'CTA BUS', 'VEHICLE NON-COMMERCIAL', 'CHA PARKING LOT/GROUNDS', 'AIRPORT VENDING ESTABLISHMENT', 'PARKING LOT/GARAGE(NON.RESID.)', 'STREET', 'STREET', 'CONVENIENCE STORE', 'STREET', 'APARTMENT', 'RESIDENCE-GARAGE', 'STREET', 'RESIDENCE', 'OTHER', 'APARTMENT', 'PARK PROPERTY', 'APARTMENT', 'GROCERY FOOD STORE', 'STREET', 'STREET', 'RESTAURANT', 'RESIDENCE', 'STREET', 'SIDEWALK', 'FACTORY/MANUFACTURING BUILDING', 'APARTMENT', 'RESIDENCE-GARAGE', 'OTHER', 'GROCERY FOOD STORE', 'APARTMENT', 'CTA PLATFORM', 'RESIDENCE', 'RESIDENCE', 'PARKING LOT/GARAGE(NON.RESID.)', 'MEDICAL/DENTAL OFFICE', 'ATM (AUTOMATIC TELLER MACHINE)', 'RESIDENCE', 'STREET', 'SIDEWALK', 'BANK', 'STREET', 'APARTMENT', 'STREET', 'STREET', 'STREET', 'OTHER', 'RESIDENCE', 'SIDEWALK', 'CHA PARKING LOT/GROUNDS', 'STREET', 'RESIDENTIAL YARD (FRONT/BACK)', 'STREET', 'STREET', 'RESIDENCE', 'RESIDENCE', 'RESIDENCE', 'RESIDENCE', 'RESIDENCE', 'RESIDENCE', 'SIDEWALK', 'STREET', 'STREET', 'RESIDENCE', 'DEPARTMENT STORE', 'STREET', 'CONVENIENCE STORE', 'DRIVEWAY - RESIDENTIAL', 'DEPARTMENT STORE', 'STREET', 'STREET', 'APARTMENT', 'SIDEWALK', 'RESIDENCE', 'STREET', 'PARKING LOT/GARAGE(NON.RESID.)', 'RESIDENCE-GARAGE', 'RESIDENTIAL YARD (FRONT/BACK)', 'APARTMENT', 'OTHER', 'STREET', 'APARTMENT', 'RESIDENCE', 'CTA TRAIN', 'STREET', 'STREET', 'DRIVEWAY - RESIDENTIAL', 'HOTEL/MOTEL', 'RESIDENCE', 'GROCERY FOOD STORE', 'RESIDENCE', 'STREET', 'RESIDENCE PORCH/HALLWAY', 'RESIDENCE', 'BAR OR TAVERN', 'STREET', 'RESIDENCE-GARAGE', 'BANK', 'STREET', 'SIDEWALK', 'STREET', 'RESIDENCE', 'RESIDENTIAL YARD (FRONT/BACK)', 'APARTMENT', 'OTHER', 'BAR OR TAVERN', 'DRIVEWAY - RESIDENTIAL', 'APARTMENT', 'RESIDENTIAL YARD (FRONT/BACK)', 'RESIDENTIAL YARD (FRONT/BACK)', 'RESIDENTIAL YARD (FRONT/BACK)', 'ALLEY', 'SMALL RETAIL STORE', 'SCHOOL, PRIVATE, BUILDING', 'RESIDENCE', 'STREET', 'SIDEWALK', 'STREET', 'VACANT LOT/LAND', 'VEHICLE NON-COMMERCIAL', 'BAR OR TAVERN', 'APARTMENT', 'STREET', 'PARK PROPERTY', 'STREET', 'CONVENIENCE STORE', 'RESIDENCE PORCH/HALLWAY', 'SIDEWALK', 'APARTMENT', 'BAR OR TAVERN', 'OTHER', 'RESIDENCE', 'RESIDENCE', 'VACANT LOT/LAND', 'VEHICLE NON-COMMERCIAL', 'APARTMENT', 'APARTMENT', 'OTHER', 'CHA APARTMENT', 'STREET', 'BANK', 'RESIDENCE', 'SIDEWALK', 'RESTAURANT', 'PARK PROPERTY', 'RESIDENCE-GARAGE', 'STREET', 'DRIVEWAY - RESIDENTIAL', 'STREET', 'RESIDENCE-GARAGE', 'STREET', 'SMALL RETAIL STORE', 'RESIDENCE', 'APARTMENT', 'APARTMENT', 'APARTMENT', 'RESIDENCE', 'SIDEWALK', 'APARTMENT', 'RESIDENTIAL YARD (FRONT/BACK)', 'PARKING LOT/GARAGE(NON.RESID.)', 'PARKING LOT/GARAGE(NON.RESID.)', 'TAVERN/LIQUOR STORE', 'SIDEWALK', 'CURRENCY EXCHANGE', 'PARKING LOT/GARAGE(NON.RESID.)', 'RESIDENCE', 'SIDEWALK', 'STREET', 'STREET', 'STREET', 'APARTMENT', 'RESIDENCE PORCH/HALLWAY', 'RESIDENCE', 'APARTMENT', 'DEPARTMENT STORE', 'RESIDENCE', 'PARKING LOT/GARAGE(NON.RESID.)', 'OTHER', 'SIDEWALK', 'STREET', 'RESIDENCE', 'APARTMENT', 'PARKING LOT/GARAGE(NON.RESID.)', 'APARTMENT', 'OTHER', 'PARKING LOT/GARAGE(NON.RESID.)', 'RESIDENTIAL YARD (FRONT/BACK)', 'RESIDENCE', 'PARKING LOT/GARAGE(NON.RESID.)', 'RESTAURANT', 'RESIDENCE', 'STREET', 'DEPARTMENT STORE', 'DRIVEWAY - RESIDENTIAL', 'APARTMENT', 'SMALL RETAIL STORE', 'APARTMENT', 'STREET', 'RESIDENCE-GARAGE', 'STREET', 'APARTMENT', 'SIDEWALK', 'RESIDENCE', 'SIDEWALK', 'VEHICLE NON-COMMERCIAL', 'STREET', 'STREET', 'STREET', 'APARTMENT', 'RESIDENCE', 'RESIDENCE', 'STREET', 'SIDEWALK', 'APARTMENT', 'TAVERN/LIQUOR STORE', 'PARKING LOT/GARAGE(NON.RESID.)', 'OTHER', 'RESIDENTIAL YARD (FRONT/BACK)', 'SIDEWALK', 'SIDEWALK', 'SIDEWALK', 'VEHICLE NON-COMMERCIAL', 'STREET', 'SMALL RETAIL STORE', 'ALLEY', 'SIDEWALK', 'APARTMENT', 'APARTMENT', 'RESIDENCE', 'APARTMENT', 'STREET', 'STREET', 'GROCERY FOOD STORE', 'APARTMENT', 'BARBERSHOP', 'STREET', 'PARKING LOT/GARAGE(NON.RESID.)', 'STREET', 'APARTMENT', 'VEHICLE NON-COMMERCIAL', 'APARTMENT', 'RESIDENCE PORCH/HALLWAY', 'APARTMENT', 'GAS STATION', 'RESIDENCE', 'RESIDENCE', 'STREET', 'VEHICLE NON-COMMERCIAL', 'RESIDENCE', 'RESIDENCE', 'CURRENCY EXCHANGE', 'PARKING LOT/GARAGE(NON.RESID.)', 'RESIDENTIAL YARD (FRONT/BACK)', 'STREET', 'APARTMENT', 'STREET', 'SIDEWALK', 'CTA BUS', 'RESIDENCE-GARAGE', 'STREET', 'APARTMENT', 'RESTAURANT', 'RESIDENTIAL YARD (FRONT/BACK)', 'RESIDENCE-GARAGE', 'STREET', 'GROCERY FOOD STORE', 'RESTAURANT', 'STREET', 'STREET', 'APARTMENT', 'STREET', 'SIDEWALK', 'SMALL RETAIL STORE', 'SIDEWALK', 'CONVENIENCE STORE', 'STREET', 'APARTMENT', 'CTA TRAIN', 'APARTMENT', 'APARTMENT', 'RESIDENTIAL YARD (FRONT/BACK)', 'GAS STATION', 'FEDERAL BUILDING', 'RESIDENTIAL YARD (FRONT/BACK)', 'BAR OR TAVERN', 'STREET', 'OTHER', 'CTA PLATFORM', 'STREET', 'STREET', 'RESIDENCE', 'STREET', 'RESIDENCE', 'STREET', 'RESIDENCE', 'APARTMENT', 'HOTEL/MOTEL', 'APARTMENT', 'PARK PROPERTY', 'STREET', 'STREET', 'SMALL RETAIL STORE'], 2: ['SCHOOL, PUBLIC, BUILDING', 'RESIDENCE-GARAGE', 'CURRENCY EXCHANGE', 'CHA PARKING LOT/GROUNDS', 'STREET', 'RESIDENCE', 'RESIDENTIAL YARD (FRONT/BACK)', 'APARTMENT', 'SMALL RETAIL STORE', 'STREET', 'APARTMENT', 'STREET', 'STREET', 'STREET', 'RESIDENCE', 'APARTMENT', 'GAS STATION', 'SMALL RETAIL STORE', 'SIDEWALK', 'APARTMENT', 'RESIDENCE', 'STREET', 'STREET', 'SIDEWALK', 'STREET', 'SIDEWALK', 'STREET', 'SIDEWALK', 'RESIDENCE', 'APARTMENT', 'STREET', 'STREET', 'SIDEWALK', 'ALLEY', 'STREET', 'APARTMENT', 'RESIDENCE', 'STREET', 'PARKING LOT/GARAGE(NON.RESID.)', 'APARTMENT', 'RESIDENCE', 'STREET', 'RESIDENCE', 'SIDEWALK', 'STREET', 'SIDEWALK', 'STREET', 'STREET', 'TAVERN/LIQUOR STORE', 'STREET', 'RESIDENCE', 'RESIDENCE PORCH/HALLWAY', 'VEHICLE NON-COMMERCIAL', 'SIDEWALK', 'RESIDENCE', 'RESIDENCE', 'ALLEY', 'RESIDENCE', 'SIDEWALK', 'APARTMENT', 'SIDEWALK', 'STREET', 'APARTMENT', 'STREET', 'VEHICLE NON-COMMERCIAL', 'STREET', 'PARKING LOT/GARAGE(NON.RESID.)', 'STREET', 'RESIDENCE', 'GROCERY FOOD STORE', 'SIDEWALK', 'VEHICLE NON-COMMERCIAL', 'OTHER', 'APARTMENT', 'VEHICLE NON-COMMERCIAL', 'RESIDENCE', 'STREET', 'SCHOOL, PUBLIC, BUILDING', 'RESTAURANT', 'APARTMENT', 'STREET', 'SCHOOL, PUBLIC, BUILDING', 'STREET', 'PARKING LOT/GARAGE(NON.RESID.)', 'RESIDENCE', 'SIDEWALK', 'APARTMENT', 'SCHOOL, PUBLIC, BUILDING', 'PARKING LOT/GARAGE(NON.RESID.)', 'SIDEWALK', 'STREET', 'STREET', 'RESIDENCE', 'VEHICLE NON-COMMERCIAL', 'RESTAURANT', 'STREET', 'DEPARTMENT STORE', 'SIDEWALK', 'RESTAURANT', 'STREET', 'RESIDENCE', 'APARTMENT', 'OTHER', '', 'APARTMENT', 'STREET', 'SCHOOL, PUBLIC, GROUNDS', 'ALLEY', 'RESIDENCE', 'RESIDENCE-GARAGE', 'OTHER', 'RESIDENCE', 'SCHOOL, PUBLIC, BUILDING', 'APARTMENT', 'STREET', 'PARKING LOT/GARAGE(NON.RESID.)', 'RESIDENCE', 'RESIDENCE', 'GROCERY FOOD STORE', 'APARTMENT', 'STREET', 'APARTMENT', 'APARTMENT', 'APARTMENT', 'RESIDENCE', 'APARTMENT', 'APARTMENT', 'APARTMENT', 'RESIDENTIAL YARD (FRONT/BACK)', 'STREET', 'RESIDENCE', 'ATM (AUTOMATIC TELLER MACHINE)', 'STREET', 'PARKING LOT/GARAGE(NON.RESID.)', 'CTA BUS', 'RESIDENTIAL YARD (FRONT/BACK)', 'GAS STATION', 'OTHER', 'HOSPITAL BUILDING/GROUNDS', 'RESIDENCE PORCH/HALLWAY', 'APARTMENT', 'DEPARTMENT STORE', 'VACANT LOT/LAND', 'GROCERY FOOD STORE', 'RESIDENCE', 'GAS STATION', 'APARTMENT', 'MEDICAL/DENTAL OFFICE', 'STREET', 'APARTMENT', 'POLICE FACILITY/VEH PARKING LOT', 'PARKING LOT/GARAGE(NON.RESID.)', 'APARTMENT', 'PARK PROPERTY', 'APARTMENT', 'TAXICAB', 'RESIDENCE', 'PARK PROPERTY', 'RESIDENCE', 'RESIDENCE-GARAGE', 'STREET', 'APARTMENT', 'SMALL RETAIL STORE', 'APARTMENT', 'STREET', 'STREET', 'SIDEWALK', 'STREET', 'OTHER', 'PARKING LOT/GARAGE(NON.RESID.)', 'APARTMENT', 'STREET', 'RESIDENCE', 'RESIDENCE PORCH/HALLWAY', 'RESIDENCE', 'STREET', 'OTHER', 'STREET', 'RESIDENCE PORCH/HALLWAY', 'OTHER', 'RESIDENCE-GARAGE', 'RESIDENCE-GARAGE', 'RESIDENCE', 'RESIDENCE', 'CONSTRUCTION SITE', 'APARTMENT', 'TAXICAB', 'STREET', 'STREET', 'RESIDENCE', 'STREET', 'SIDEWALK', 'APARTMENT', 'APARTMENT', 'APARTMENT', 'RESIDENCE', 'RESIDENCE', 'SMALL RETAIL STORE', 'RESIDENCE', 'APARTMENT', 'APARTMENT', 'ABANDONED BUILDING', 'APARTMENT', 'SIDEWALK', 'PARKING LOT/GARAGE(NON.RESID.)', 'BAR OR TAVERN', 'APARTMENT', 'PARKING LOT/GARAGE(NON.RESID.)', 'DEPARTMENT STORE', 'STREET', 'APARTMENT', 'RESIDENCE', 'PARKING LOT/GARAGE(NON.RESID.)', 'APARTMENT', 'OTHER', 'SCHOOL, PUBLIC, BUILDING', 'STREET', 'RESIDENCE-GARAGE', 'VEHICLE - OTHER RIDE SERVICE', 'OTHER', 'ALLEY', 'TAVERN/LIQUOR STORE', 'RESIDENCE', 'APARTMENT', 'SIDEWALK', 'SIDEWALK', 'POOL ROOM', 'RESIDENCE', 'SIDEWALK', 'SIDEWALK', 'STREET', 'RESIDENCE', 'RESIDENCE', 'RESIDENCE', 'STREET', 'RESIDENTIAL YARD (FRONT/BACK)', 'APARTMENT', 'STREET', 'CHURCH/SYNAGOGUE/PLACE OF WORSHIP', 'PARKING LOT/GARAGE(NON.RESID.)', 'VACANT LOT/LAND', 'PARKING LOT/GARAGE(NON.RESID.)', 'SCHOOL, PUBLIC, BUILDING', 'STREET', 'STREET', 'PARKING LOT/GARAGE(NON.RESID.)', 'AIRPORT TERMINAL LOWER LEVEL - NON-SECURE AREA', 'STREET', 'OTHER', 'RESIDENCE PORCH/HALLWAY', 'APARTMENT', 'OTHER', 'RESIDENCE', 'VEHICLE NON-COMMERCIAL', 'SCHOOL, PUBLIC, BUILDING', 'RESIDENCE PORCH/HALLWAY', 'SIDEWALK', 'CHA APARTMENT', 'RESIDENTIAL YARD (FRONT/BACK)', 'HOTEL/MOTEL', 'STREET', 'STREET', 'HOUSE', 'STREET', 'TAVERN/LIQUOR STORE', 'SCHOOL, PUBLIC, BUILDING', 'ALLEY', 'APARTMENT', 'PARK PROPERTY', 'APARTMENT', 'SCHOOL, PUBLIC, BUILDING', 'APARTMENT', 'STREET', 'VEHICLE NON-COMMERCIAL', 'RESTAURANT', 'RESIDENCE', 'PARKING LOT/GARAGE(NON.RESID.)', 'STREET', 'RESTAURANT', 'RESIDENCE', 'GAS STATION', 'SMALL RETAIL STORE', 'SIDEWALK', 'SIDEWALK', 'APARTMENT', 'RESIDENCE PORCH/HALLWAY', 'SPORTS ARENA/STADIUM', 'SIDEWALK', 'APARTMENT', 'RESIDENCE', 'STREET', 'RESIDENCE', 'RESTAURANT', 'APARTMENT', 'RESIDENCE', 'STREET', 'RESIDENCE', 'RESIDENCE', 'RESIDENCE', 'STREET', 'APARTMENT', 'APARTMENT', 'RESIDENCE', 'VEHICLE-COMMERCIAL', 'STREET', 'RESTAURANT', 'RESIDENCE', 'APARTMENT', 'RESIDENCE', 'RESIDENCE', 'APARTMENT', 'APARTMENT', 'APARTMENT', 'RESIDENCE', 'STREET', 'RESIDENTIAL YARD (FRONT/BACK)', 'SCHOOL, PUBLIC, BUILDING', 'RESIDENTIAL YARD (FRONT/BACK)', 'RESIDENTIAL YARD (FRONT/BACK)', 'PARKING LOT/GARAGE(NON.RESID.)', 'RESIDENCE', 'RESIDENCE', 'AIRCRAFT', 'SMALL RETAIL STORE', 'RESIDENCE', 'BAR OR TAVERN', 'RESTAURANT', 'PARK PROPERTY', 'SIDEWALK', 'RESIDENCE', 'RESIDENCE-GARAGE', 'APARTMENT', 'ALLEY', 'OTHER', 'RESIDENCE', 'STREET', 'STREET', 'STREET', 'RESIDENCE', 'APARTMENT', 'RESIDENCE', 'STREET', 'STREET', 'RESIDENCE', 'STREET', 'SIDEWALK', 'PARKING LOT/GARAGE(NON.RESID.)', 'CTA BUS', 'APARTMENT', 'RESIDENCE', 'STREET', 'STREET', 'POLICE FACILITY/VEH PARKING LOT', 'RESIDENCE', 'SCHOOL, PUBLIC, BUILDING', 'APARTMENT', 'STREET', 'VEHICLE NON-COMMERCIAL', 'RESIDENCE', 'CONSTRUCTION SITE', 'STREET', 'APARTMENT', 'RESIDENCE', 'APARTMENT', 'APARTMENT', 'SCHOOL, PUBLIC, BUILDING', 'APARTMENT', 'CTA STATION', 'APARTMENT', 'STREET', 'RESIDENCE', 'APARTMENT', 'OTHER', 'STREET', 'SIDEWALK', 'APARTMENT', 'APARTMENT', 'APARTMENT', 'CTA TRAIN', 'RESIDENCE PORCH/HALLWAY', 'SIDEWALK', 'RESIDENCE', 'SCHOOL, PUBLIC, BUILDING', 'APARTMENT', 'STREET', 'STREET', 'BAR OR TAVERN', 'RESIDENCE', 'STREET', 'SIDEWALK', 'STREET', 'RESIDENCE', 'CURRENCY EXCHANGE', 'STREET', 'RESIDENCE', 'HIGHWAY/EXPRESSWAY', 'CHA APARTMENT', 'GROCERY FOOD STORE', 'DEPARTMENT STORE', 'ALLEY', 'RESTAURANT', 'RESIDENCE', 'APARTMENT', 'RESIDENCE', 'SMALL RETAIL STORE', 'SIDEWALK', 'POLICE FACILITY/VEH PARKING LOT', 'RESIDENCE', 'RESIDENCE', 'APARTMENT', 'ATHLETIC CLUB', 'RESIDENCE', 'STREET', 'RESTAURANT', 'STREET', 'SIDEWALK', 'RESIDENCE', 'STREET', 'APARTMENT', 'STREET', 'CLEANING STORE', 'SIDEWALK', 'PARKING LOT/GARAGE(NON.RESID.)', 'SIDEWALK', 'STREET', 'STREET', 'DEPARTMENT STORE', 'STREET', 'STREET', 'STREET', 'STREET', 'PARKING LOT/GARAGE(NON.RESID.)', 'OTHER', 'SMALL RETAIL STORE', 'DRUG STORE', 'STREET', 'RESTAURANT', 'OTHER', 'RESIDENCE PORCH/HALLWAY', 'OTHER', 'GAS STATION', 'STREET', 'CTA BUS STOP', 'RESIDENCE', 'RESIDENCE', 'APARTMENT', 'GROCERY FOOD STORE', 'PARKING LOT/GARAGE(NON.RESID.)', 'OTHER', 'APARTMENT', 'CTA BUS STOP', 'APARTMENT', 'APARTMENT', 'STREET', 'STREET', 'SIDEWALK', 'CONVENIENCE STORE', 'CHA PARKING LOT/GROUNDS', 'LIBRARY', 'APARTMENT', 'CHA APARTMENT', 'STREET', 'STREET', 'APARTMENT', 'STREET', 'RESIDENCE', 'RESIDENCE', 'RESIDENTIAL YARD (FRONT/BACK)', 'RESIDENCE', 'STREET', 'RESTAURANT', 'STREET', 'HOSPITAL BUILDING/GROUNDS', 'RESTAURANT', 'RESIDENCE', 'CTA STATION', 'STREET', 'RESIDENCE-GARAGE', 'RESIDENCE', 'STREET', 'RESIDENCE', 'STREET', 'RESIDENCE', 'SIDEWALK', 'RESIDENCE', 'CTA BUS STOP', 'RESIDENCE', 'RESIDENCE', 'STREET', 'PARKING LOT/GARAGE(NON.RESID.)', 'APARTMENT', 'SIDEWALK', 'STREET', 'DEPARTMENT STORE', 'RESTAURANT', 'APARTMENT', 'SMALL RETAIL STORE', 'RESIDENCE', 'RESIDENCE', 'SCHOOL, PUBLIC, GROUNDS', 'SIDEWALK', 'DEPARTMENT STORE', 'OTHER', 'APPLIANCE STORE', 'APARTMENT', 'RESIDENTIAL YARD (FRONT/BACK)', 'DRUG STORE', 'OTHER', 'SIDEWALK', 'STREET', 'APARTMENT', 'RESIDENCE PORCH/HALLWAY', 'OTHER', 'GROCERY FOOD STORE', 'RESIDENCE', 'POLICE FACILITY/VEH PARKING LOT', 'STREET', 'APARTMENT', 'SCHOOL, PUBLIC, BUILDING', 'STREET', 'STREET', 'RESIDENCE', 'SIDEWALK', 'VEHICLE NON-COMMERCIAL', 'RESIDENCE', 'RESIDENCE', 'STREET', 'RESIDENCE', 'APARTMENT', 'GROCERY FOOD STORE', 'APARTMENT', 'APARTMENT', 'RESTAURANT', 'STREET', 'APARTMENT', 'OTHER', 'RESIDENCE', 'CHA PARKING LOT/GROUNDS', 'SIDEWALK', 'RESIDENCE', 'RESIDENCE', 'STREET', 'GAS STATION', 'RESIDENTIAL YARD (FRONT/BACK)', 'STREET', 'STREET', 'RESIDENCE', 'SIDEWALK', 'RESTAURANT', 'CHURCH/SYNAGOGUE/PLACE OF WORSHIP', 'APARTMENT', 'STREET', 'APARTMENT', 'STREET', 'STREET', 'PARKING LOT/GARAGE(NON.RESID.)', 'HOSPITAL BUILDING/GROUNDS', 'RESIDENCE-GARAGE', 'STREET', 'SMALL RETAIL STORE', 'STREET', 'SIDEWALK', 'PARKING LOT/GARAGE(NON.RESID.)', '', 'APARTMENT', 'SIDEWALK', 'APARTMENT', 'APARTMENT', 'APARTMENT', 'APARTMENT', 'OTHER', 'RESIDENCE', 'DEPARTMENT STORE', 'STREET', 'APARTMENT', 'STREET', 'OTHER', 'APARTMENT', 'STREET', 'STREET', 'STREET', 'DEPARTMENT STORE', 'STREET', 'CTA GARAGE / OTHER PROPERTY', 'OTHER', 'RESIDENCE', 'SIDEWALK', 'RESIDENCE', 'STREET', 'STREET', 'AIRPORT TERMINAL UPPER LEVEL - SECURE AREA', 'DRUG STORE', 'RESIDENCE-GARAGE', 'RESIDENCE', 'APARTMENT', 'SCHOOL, PUBLIC, GROUNDS', 'STREET', 'STREET', 'SMALL RETAIL STORE', 'STREET', 'RESIDENCE', 'RESTAURANT', 'APARTMENT', 'RESIDENCE', 'STREET', 'STREET', 'RESIDENCE', 'RESIDENCE', 'RESIDENTIAL YARD (FRONT/BACK)', 'TAXICAB', 'RESIDENCE', 'STREET', 'RESIDENCE', 'SCHOOL, PUBLIC, BUILDING', 'STREET', 'DRIVEWAY - RESIDENTIAL', 'STREET', 'SIDEWALK', 'HOTEL/MOTEL', 'RESIDENCE', 'RESIDENCE', 'OTHER', 'APARTMENT', 'RESIDENCE', 'SIDEWALK', 'RESIDENCE PORCH/HALLWAY', 'PARKING LOT/GARAGE(NON.RESID.)', 'RESIDENCE', 'RESTAURANT', 'PARKING LOT/GARAGE(NON.RESID.)', 'STREET', 'STREET', 'RESIDENCE', 'RESIDENCE', 'PARKING LOT/GARAGE(NON.RESID.)', 'RESIDENCE', 'SIDEWALK', 'SCHOOL, PUBLIC, BUILDING', 'RESIDENCE', 'STREET', 'SMALL RETAIL STORE', 'RESIDENCE', 'APARTMENT', 'OTHER', 'BAR OR TAVERN', 'PARKING LOT/GARAGE(NON.RESID.)', 'AIRPORT EXTERIOR - NON-SECURE AREA', 'STREET', 'STREET', 'SIDEWALK', 'PARKING LOT/GARAGE(NON.RESID.)', 'CHA APARTMENT', 'SIDEWALK', 'VEHICLE NON-COMMERCIAL', 'APARTMENT', 'OTHER', 'APARTMENT', 'VEHICLE NON-COMMERCIAL', 'APARTMENT', 'OTHER', 'APARTMENT', 'APARTMENT', 'RESIDENCE', 'STREET', 'OTHER', 'OTHER', 'RESIDENCE', 'RESIDENCE', 'SIDEWALK', 'APARTMENT', 'OTHER', 'SMALL RETAIL STORE', 'APARTMENT', '', 'RESIDENCE', 'SCHOOL, PUBLIC, BUILDING', 'NURSING HOME/RETIREMENT HOME', 'APARTMENT', 'STREET', 'PARKING LOT/GARAGE(NON.RESID.)', 'OTHER', 'RESIDENCE', 'SIDEWALK', 'SIDEWALK', 'STREET', 'STREET', 'STREET', 'STREET', 'APARTMENT', 'RESIDENCE', 'POLICE FACILITY/VEH PARKING LOT', 'STREET', 'STREET', 'APARTMENT', 'APARTMENT', 'SCHOOL, PUBLIC, BUILDING', 'BANK', 'APARTMENT', 'APARTMENT', 'RESIDENCE-GARAGE', 'RESIDENCE', 'HOTEL/MOTEL', 'STREET', 'SIDEWALK', 'OTHER', 'GROCERY FOOD STORE', 'SIDEWALK', 'APARTMENT', 'RESIDENTIAL YARD (FRONT/BACK)', 'STREET', 'APARTMENT', 'SIDEWALK', 'APARTMENT', 'PARKING LOT/GARAGE(NON.RESID.)', 'GROCERY FOOD STORE', 'STREET', 'APARTMENT', 'CTA GARAGE / OTHER PROPERTY', 'STREET', '', 'APARTMENT', 'PARKING LOT/GARAGE(NON.RESID.)', 'SIDEWALK', 'BAR OR TAVERN', 'SIDEWALK', 'RESIDENCE', 'SIDEWALK', 'STREET', 'APARTMENT', 'APARTMENT', 'CAR WASH', 'SIDEWALK', 'GOVERNMENT BUILDING/PROPERTY', 'OTHER', 'SIDEWALK', 'GAS STATION', 'VACANT LOT/LAND', 'DEPARTMENT STORE', 'STREET', 'RESIDENCE', 'STREET', 'STREET', 'RESIDENCE', 'RESIDENCE', 'STREET', 'SIDEWALK', 'APARTMENT', 'APARTMENT', 'APARTMENT', 'OTHER', 'RESTAURANT', 'SMALL RETAIL STORE', 'STREET', 'RESIDENCE', 'NURSING HOME/RETIREMENT HOME', 'GAS STATION', 'SIDEWALK', 'CTA BUS', 'RESIDENCE-GARAGE', 'OTHER', 'GAS STATION', 'PARKING LOT/GARAGE(NON.RESID.)', 'STREET', 'CHA APARTMENT', 'CTA TRAIN', 'VEHICLE NON-COMMERCIAL', 'RESIDENCE', 'STREET', 'APARTMENT', 'ALLEY', 'APARTMENT', 'STREET', 'OTHER', 'APARTMENT', 'ATM (AUTOMATIC TELLER MACHINE)', 'SIDEWALK', 'STREET', 'STREET', 'STREET', 'SIDEWALK', 'RESTAURANT', 'APARTMENT', 'PARKING LOT/GARAGE(NON.RESID.)', 'STREET', 'BANK', 'APARTMENT', 'SCHOOL, PUBLIC, BUILDING', 'BANK', 'STREET', 'OTHER', 'DEPARTMENT STORE', 'STREET', 'GROCERY FOOD STORE', 'RESIDENCE', 'OTHER', 'RESIDENCE-GARAGE', 'RESIDENCE-GARAGE', 'RESIDENCE', 'STREET', 'APARTMENT', 'SIDEWALK', 'STREET', 'SCHOOL, PUBLIC, BUILDING', 'GROCERY FOOD STORE', 'APARTMENT', 'RESIDENCE-GARAGE', 'RESTAURANT', 'RESIDENCE', 'APARTMENT', 'RESIDENCE', 'RESIDENCE', 'STREET', 'RESIDENCE', 'PARK PROPERTY', 'STREET', 'AIRCRAFT', 'CTA PLATFORM', 'STREET', 'PARKING LOT/GARAGE(NON.RESID.)', 'RESIDENTIAL YARD (FRONT/BACK)', 'RESIDENCE', 'MEDICAL/DENTAL OFFICE', 'DRIVEWAY - RESIDENTIAL', 'RESIDENCE', 'ABANDONED BUILDING', 'APARTMENT', 'RESIDENCE', 'RESIDENCE', 'STREET', 'SIDEWALK', 'CONVENIENCE STORE', 'SMALL RETAIL STORE', 'APARTMENT', 'STREET', 'RESIDENCE', 'RESIDENCE', 'SIDEWALK', 'STREET', 'PARKING LOT/GARAGE(NON.RESID.)', 'RESIDENCE', 'STREET', 'GROCERY FOOD STORE', 'APARTMENT', 'STREET', 'OTHER', 'ALLEY', 'STREET', 'SCHOOL, PRIVATE, GROUNDS', 'RESIDENTIAL YARD (FRONT/BACK)', 'STREET', 'ALLEY', 'SCHOOL, PUBLIC, BUILDING', 'PARKING LOT/GARAGE(NON.RESID.)', 'PARKING LOT/GARAGE(NON.RESID.)', '', 'SIDEWALK', 'RESTAURANT', 'STREET', 'VEHICLE NON-COMMERCIAL', 'STREET', 'APARTMENT', 'RESIDENCE', 'AIRPORT/AIRCRAFT', 'RESIDENCE', 'GAS STATION', 'STREET', 'APARTMENT', 'CONVENIENCE STORE', 'APARTMENT', 'SMALL RETAIL STORE', 'RESTAURANT', 'RESIDENCE', 'RESIDENCE', 'SCHOOL, PUBLIC, BUILDING', 'RESIDENCE-GARAGE', 'SIDEWALK', 'SCHOOL, PRIVATE, BUILDING', 'RESIDENCE PORCH/HALLWAY', 'STREET', 'HOSPITAL BUILDING/GROUNDS', 'SIDEWALK', 'STREET', 'RESIDENCE PORCH/HALLWAY', 'STREET', 'RESIDENCE', 'RESTAURANT', 'RESIDENCE', 'SMALL RETAIL STORE', 'APARTMENT', 'VACANT LOT/LAND', 'RESIDENCE', 'GROCERY FOOD STORE', 'APARTMENT', 'SCHOOL, PUBLIC, BUILDING', 'SIDEWALK', 'ALLEY', 'RESIDENCE', 'SIDEWALK', 'RESIDENCE', 'RESIDENCE', 'STREET', 'RESIDENCE', 'POOL ROOM', 'SMALL RETAIL STORE', 'APARTMENT', 'STREET', 'APARTMENT', 'RESIDENCE', 'GROCERY FOOD STORE', 'CTA BUS', 'APARTMENT', 'AIRPORT TERMINAL LOWER LEVEL - NON-SECURE AREA', 'RESIDENCE', 'RESIDENCE', 'STREET', 'APARTMENT', 'STREET', 'RESIDENCE', 'APARTMENT']})\n",
            "5\n",
            "[('STREET', 241), ('RESIDENCE', 175), ('APARTMENT', 128), ('SIDEWALK', 111), ('OTHER', 41)]\n",
            "3\n",
            "[('STREET', 240), ('RESIDENCE', 190), ('APARTMENT', 139), ('SIDEWALK', 99), ('OTHER', 52)]\n",
            "4\n",
            "[('STREET', 213), ('RESIDENCE', 171), ('APARTMENT', 152), ('SIDEWALK', 96), ('OTHER', 40)]\n",
            "6\n",
            "[('STREET', 245), ('RESIDENCE', 164), ('APARTMENT', 159), ('SIDEWALK', 123), ('PARKING LOT/GARAGE(NON.RESID.)', 44)]\n",
            "7\n",
            "[('STREET', 309), ('RESIDENCE', 177), ('APARTMENT', 166), ('SIDEWALK', 125), ('OTHER', 47)]\n",
            "10\n",
            "[('STREET', 248), ('RESIDENCE', 206), ('APARTMENT', 122), ('SIDEWALK', 92), ('OTHER', 62)]\n",
            "12\n",
            "[('STREET', 207), ('RESIDENCE', 158), ('APARTMENT', 136), ('OTHER', 47), ('SIDEWALK', 46)]\n",
            "1\n",
            "[('STREET', 196), ('RESIDENCE', 160), ('APARTMENT', 153), ('SIDEWALK', 72), ('PARKING LOT/GARAGE(NON.RESID.)', 43)]\n",
            "9\n",
            "[('STREET', 279), ('RESIDENCE', 183), ('APARTMENT', 144), ('SIDEWALK', 121), ('OTHER', 39)]\n",
            "11\n",
            "[('STREET', 236), ('RESIDENCE', 182), ('APARTMENT', 154), ('SIDEWALK', 75), ('OTHER', 41)]\n",
            "8\n",
            "[('STREET', 280), ('RESIDENCE', 199), ('APARTMENT', 144), ('SIDEWALK', 109), ('OTHER', 47)]\n",
            "2\n",
            "[('STREET', 188), ('RESIDENCE', 159), ('APARTMENT', 144), ('SIDEWALK', 73), ('OTHER', 40)]\n"
          ],
          "name": "stdout"
        }
      ]
    },
    {
      "cell_type": "code",
      "metadata": {
        "colab": {
          "base_uri": "https://localhost:8080/"
        },
        "id": "heM6ygWD50BJ",
        "outputId": "f15c83e4-5676-488c-fb1c-4494942d68ee"
      },
      "source": [
        "import csv\n",
        "from collections import defaultdict, Counter\n",
        "# Create the CSV file: csvfile\n",
        "csvfile = open(\"crime_sampler.csv\", \"r\")\n",
        "# Create a dictionary that defaults to a list: crimes_by_district\n",
        "crimes_by_district = defaultdict(list)\n",
        "\n",
        "# Loop over a DictReader of the CSV file\n",
        "for row in csv.DictReader(csvfile):\n",
        "    # Pop the district from each row: district\n",
        "    district = row.pop(\"District\")\n",
        "    # Append the rest of the data to the list for proper district in crimes_by_district\n",
        "    crimes_by_district[district].append(row)\n",
        "\n",
        "# Loop over the crimes_by_district using expansion as district and crimes\n",
        "for district, crimes in crimes_by_district.items():\n",
        "    # Print the district\n",
        "    print(district)\n",
        "    \n",
        "    # Create an empty Counter object: year_count\n",
        "    year_count = Counter()\n",
        "    \n",
        "    # Loop over the crimes:\n",
        "    for crime in crimes:\n",
        "        # If there was an arrest\n",
        "        if crime['Arrest'] == 'true':\n",
        "            # Convert the Date to a datetime and get the year\n",
        "            year = datetime.strptime(crime['Date'], '%m/%d/%Y %I:%M:%S %p').year\n",
        "            # Increment the Counter for the year\n",
        "            year_count[year] += 1\n",
        "            \n",
        "    # Print the counter\n",
        "    print(year_count)"
      ],
      "execution_count": 37,
      "outputs": [
        {
          "output_type": "stream",
          "text": [
            "14\n",
            "Counter({2016: 59, 2017: 8})\n",
            "24\n",
            "Counter({2016: 51, 2017: 10})\n",
            "6\n",
            "Counter({2016: 157, 2017: 32})\n",
            "15\n",
            "Counter({2016: 154, 2017: 16})\n",
            "12\n",
            "Counter({2016: 72, 2017: 9})\n",
            "7\n",
            "Counter({2016: 181, 2017: 27})\n",
            "1\n",
            "Counter({2016: 124, 2017: 15})\n",
            "11\n",
            "Counter({2016: 275, 2017: 53})\n",
            "18\n",
            "Counter({2016: 92, 2017: 17})\n",
            "22\n",
            "Counter({2016: 78, 2017: 12})\n",
            "5\n",
            "Counter({2016: 149, 2017: 30})\n",
            "16\n",
            "Counter({2016: 66, 2017: 9})\n",
            "9\n",
            "Counter({2016: 116, 2017: 17})\n",
            "8\n",
            "Counter({2016: 124, 2017: 26})\n",
            "3\n",
            "Counter({2016: 98, 2017: 18})\n",
            "2\n",
            "Counter({2016: 84, 2017: 15})\n",
            "19\n",
            "Counter({2016: 88, 2017: 11})\n",
            "10\n",
            "Counter({2016: 144, 2017: 20})\n",
            "4\n",
            "Counter({2016: 134, 2017: 15})\n",
            "17\n",
            "Counter({2016: 38, 2017: 5})\n",
            "20\n",
            "Counter({2016: 27, 2017: 8})\n",
            "25\n",
            "Counter({2016: 150, 2017: 26})\n",
            "31\n",
            "Counter({2016: 1})\n"
          ],
          "name": "stdout"
        }
      ]
    },
    {
      "cell_type": "code",
      "metadata": {
        "colab": {
          "base_uri": "https://localhost:8080/"
        },
        "id": "wM3gR3vi9Gzm",
        "outputId": "8ca36dd3-c4de-4be0-a547-d235583b7540"
      },
      "source": [
        "from collections import defaultdict\n",
        "import pandas as pd \n",
        "\n",
        "# เตรียมข้อมูลเพื่อทำโจทย์\n",
        "df = pd.read_csv(\"crime_sampler.csv\")\n",
        "crimes_by_block = defaultdict(list)\n",
        "for i in range(len(df)):\n",
        "    crimes_by_block[df.iloc[i][\"Block\"]].append(df.iloc[i][\"Primary Type\"])\n",
        "\n",
        "# Create a unique list of crimes for the first block: n_state_st_crimes\n",
        "n_state_st_crimes = set(crimes_by_block['001XX N STATE ST'])\n",
        "\n",
        "# Print the list\n",
        "print(n_state_st_crimes)\n",
        "\n",
        "# Create a unique list of crimes for the second block: w_terminal_st_crimes\n",
        "w_terminal_st_crimes = set(crimes_by_block['0000X W TERMINAL ST'])\n",
        "\n",
        "# Print the list\n",
        "print(w_terminal_st_crimes)\n",
        "\n",
        "# Find the differences between the two blocks: crime_differences\n",
        "crime_differences = n_state_st_crimes.difference(w_terminal_st_crimes)\n",
        "\n",
        "# Print the differences\n",
        "print(crime_differences)\n",
        "\n"
      ],
      "execution_count": 9,
      "outputs": [
        {
          "output_type": "stream",
          "text": [
            "{'BATTERY', 'ASSAULT', 'CRIMINAL DAMAGE', 'DECEPTIVE PRACTICE', 'THEFT', 'ROBBERY', 'OTHER OFFENSE', 'CRIMINAL TRESPASS'}\n",
            "{'NARCOTICS', 'ASSAULT', 'CRIMINAL DAMAGE', 'DECEPTIVE PRACTICE', 'THEFT', 'OTHER OFFENSE', 'PUBLIC PEACE VIOLATION', 'CRIMINAL TRESPASS'}\n",
            "{'ROBBERY', 'BATTERY'}\n"
          ],
          "name": "stdout"
        }
      ]
    },
    {
      "cell_type": "code",
      "metadata": {
        "colab": {
          "base_uri": "https://localhost:8080/"
        },
        "id": "xbMnCOeZEwoO",
        "outputId": "f0e1116c-a5e6-4438-de6d-7cf6bb2bf5a5"
      },
      "source": [
        "len(crimes_by_block)"
      ],
      "execution_count": 10,
      "outputs": [
        {
          "output_type": "execute_result",
          "data": {
            "text/plain": [
              "9195"
            ]
          },
          "metadata": {
            "tags": []
          },
          "execution_count": 10
        }
      ]
    },
    {
      "cell_type": "code",
      "metadata": {
        "id": "bTR8YNDDhGCH"
      },
      "source": [
        ""
      ],
      "execution_count": null,
      "outputs": []
    }
  ]
}